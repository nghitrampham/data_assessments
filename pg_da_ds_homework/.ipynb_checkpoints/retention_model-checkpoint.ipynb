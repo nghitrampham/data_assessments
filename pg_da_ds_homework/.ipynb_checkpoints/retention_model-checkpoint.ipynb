{
 "cells": [
  {
   "cell_type": "code",
   "execution_count": 1,
   "id": "ea18cf96",
   "metadata": {},
   "outputs": [],
   "source": [
    "import pandas as pd\n",
    "\n",
    "### import extra package\n",
    "import matplotlib.pyplot as plt\n",
    "import seaborn as sns\n",
    "import numpy as np\n",
    "\n",
    "#### modelling package\n",
    "from statsmodels.graphics.mosaicplot import mosaic\n",
    "import statsmodels\n",
    "from statsmodels.formula.api import logit\n",
    "from sklearn.linear_model import LogisticRegression\n",
    "from sklearn.model_selection import train_test_split\n",
    "\n",
    "\n",
    "#### importing evaluation package \n",
    "from sklearn.metrics import f1_score, confusion_matrix, roc_auc_score, auc,\\\n",
    "precision_recall_curve, roc_curve, average_precision_score\n",
    "from sklearn import metrics"
   ]
  },
  {
   "cell_type": "markdown",
   "id": "cd1eab0c",
   "metadata": {},
   "source": [
    "### Helper functions"
   ]
  },
  {
   "cell_type": "code",
   "execution_count": 2,
   "id": "b513a41d",
   "metadata": {},
   "outputs": [],
   "source": [
    "def evaluation(y_true, y_pred, title = \"\"):\n",
    "    \"\"\"\n",
    "    This function is used to compute the confusion matrix \n",
    "    and other evaluation metrics.\n",
    "    \"\"\"\n",
    "    cm = confusion_matrix(y_true, y_pred)\n",
    "    print('Confusion Matrix for {}: \\n'.format(title), cm)\n",
    "    total = sum(sum(cm))\n",
    "    \n",
    "    print('=============')\n",
    "    accuracy = (cm[0,0] + cm[1,1]) /total\n",
    "    print ('Accuracy    : {}'.format(accuracy))\n",
    "    Specificity = cm[0,0] / (cm[0,0] + cm[0,1])\n",
    "    print('Specificity :  {}'.format(Specificity))\n",
    "    sensitivity = cm[1,1] / (cm[1,0] + cm[1,1])\n",
    "    print('Sensitivity :  {}'.format(sensitivity))\n",
    "    \n",
    "    \n",
    "def plot_swarm(x, y, df):\n",
    "    sns.set()\n",
    "    sns.swarmplot(x=x, y = y, data = df)\n",
    "    plt.xlabel(x)\n",
    "    plt.ylabel(y)\n",
    "    plt.show()\n",
    "    \n",
    "def ecdf(data):\n",
    "    n = len(data)\n",
    "    x = np.sort(data)\n",
    "    y = np.arange(1, n+1) / n\n",
    "    return x, y"
   ]
  },
  {
   "cell_type": "markdown",
   "id": "94e2a19d",
   "metadata": {},
   "source": [
    "### Global parameter "
   ]
  },
  {
   "cell_type": "code",
   "execution_count": 3,
   "id": "be80eab0",
   "metadata": {},
   "outputs": [],
   "source": [
    "look_back_days = 7"
   ]
  },
  {
   "cell_type": "markdown",
   "id": "fedc299d",
   "metadata": {},
   "source": [
    "## 1. Data Preparation "
   ]
  },
  {
   "cell_type": "code",
   "execution_count": 4,
   "id": "99319e14",
   "metadata": {},
   "outputs": [],
   "source": [
    "### load data \n",
    "user_df = pd.read_csv(\"users.csv\")\n",
    "sessions_df = pd.read_csv(\"sessions.csv\").drop_duplicates()\n",
    "iaps_df = pd.read_csv(\"iaps.csv\").drop_duplicates()\n",
    "spending_df = pd.read_csv(\"spendevents.csv\").drop_duplicates()\n",
    "\n",
    "### change to datetime format\n",
    "spending_df[\"date\"] = pd.to_datetime(spending_df[\"date\"])\n",
    "sessions_df[\"date\"] = pd.to_datetime(sessions_df[\"date\"])\n",
    "user_df[\"install_date\"] = pd.to_datetime(user_df[\"install_date\"])\n",
    "iaps_df[\"date\"] = pd.to_datetime(iaps_df[\"date\"])"
   ]
  },
  {
   "cell_type": "code",
   "execution_count": 5,
   "id": "0be96c14",
   "metadata": {},
   "outputs": [],
   "source": [
    "sessions_df = pd.merge(sessions_df, user_df[[\"user_id\", \"install_date\"]], on = \"user_id\")\n",
    "spending_df = pd.merge(spending_df, user_df[[\"user_id\", \"install_date\"]], on = \"user_id\")"
   ]
  },
  {
   "cell_type": "code",
   "execution_count": 6,
   "id": "37cf6d04",
   "metadata": {},
   "outputs": [
    {
     "data": {
      "text/html": [
       "<div>\n",
       "<style scoped>\n",
       "    .dataframe tbody tr th:only-of-type {\n",
       "        vertical-align: middle;\n",
       "    }\n",
       "\n",
       "    .dataframe tbody tr th {\n",
       "        vertical-align: top;\n",
       "    }\n",
       "\n",
       "    .dataframe thead th {\n",
       "        text-align: right;\n",
       "    }\n",
       "</style>\n",
       "<table border=\"1\" class=\"dataframe\">\n",
       "  <thead>\n",
       "    <tr style=\"text-align: right;\">\n",
       "      <th></th>\n",
       "      <th>user_id</th>\n",
       "      <th>ts</th>\n",
       "      <th>date</th>\n",
       "      <th>story</th>\n",
       "      <th>chapter</th>\n",
       "      <th>spendtype</th>\n",
       "      <th>currency</th>\n",
       "      <th>amount</th>\n",
       "      <th>install_date</th>\n",
       "    </tr>\n",
       "  </thead>\n",
       "  <tbody>\n",
       "    <tr>\n",
       "      <th>0</th>\n",
       "      <td>9829</td>\n",
       "      <td>2019-03-01 03:03:04</td>\n",
       "      <td>2019-03-01</td>\n",
       "      <td>story_1</td>\n",
       "      <td>0</td>\n",
       "      <td>earnGemsCounter</td>\n",
       "      <td>gems</td>\n",
       "      <td>-22</td>\n",
       "      <td>2019-03-01</td>\n",
       "    </tr>\n",
       "    <tr>\n",
       "      <th>1</th>\n",
       "      <td>13757</td>\n",
       "      <td>2019-03-01 03:35:53</td>\n",
       "      <td>2019-03-01</td>\n",
       "      <td>story_1</td>\n",
       "      <td>0</td>\n",
       "      <td>earnGemsCounter</td>\n",
       "      <td>gems</td>\n",
       "      <td>-22</td>\n",
       "      <td>2019-03-01</td>\n",
       "    </tr>\n",
       "    <tr>\n",
       "      <th>2</th>\n",
       "      <td>13757</td>\n",
       "      <td>2019-03-01 03:52:10</td>\n",
       "      <td>2019-03-01</td>\n",
       "      <td>story_2</td>\n",
       "      <td>0</td>\n",
       "      <td>earnGemsCounter</td>\n",
       "      <td>gems</td>\n",
       "      <td>-22</td>\n",
       "      <td>2019-03-01</td>\n",
       "    </tr>\n",
       "    <tr>\n",
       "      <th>3</th>\n",
       "      <td>13757</td>\n",
       "      <td>2019-04-16 04:29:18</td>\n",
       "      <td>2019-04-16</td>\n",
       "      <td>story_1</td>\n",
       "      <td>9</td>\n",
       "      <td>premiumChoice</td>\n",
       "      <td>gems</td>\n",
       "      <td>24</td>\n",
       "      <td>2019-03-01</td>\n",
       "    </tr>\n",
       "    <tr>\n",
       "      <th>4</th>\n",
       "      <td>13757</td>\n",
       "      <td>2019-04-17 04:41:31</td>\n",
       "      <td>2019-04-17</td>\n",
       "      <td>story_2</td>\n",
       "      <td>2</td>\n",
       "      <td>earnGemsCounter</td>\n",
       "      <td>gems</td>\n",
       "      <td>-10</td>\n",
       "      <td>2019-03-01</td>\n",
       "    </tr>\n",
       "  </tbody>\n",
       "</table>\n",
       "</div>"
      ],
      "text/plain": [
       "   user_id                   ts       date    story  chapter        spendtype  \\\n",
       "0     9829  2019-03-01 03:03:04 2019-03-01  story_1        0  earnGemsCounter   \n",
       "1    13757  2019-03-01 03:35:53 2019-03-01  story_1        0  earnGemsCounter   \n",
       "2    13757  2019-03-01 03:52:10 2019-03-01  story_2        0  earnGemsCounter   \n",
       "3    13757  2019-04-16 04:29:18 2019-04-16  story_1        9    premiumChoice   \n",
       "4    13757  2019-04-17 04:41:31 2019-04-17  story_2        2  earnGemsCounter   \n",
       "\n",
       "  currency  amount install_date  \n",
       "0     gems     -22   2019-03-01  \n",
       "1     gems     -22   2019-03-01  \n",
       "2     gems     -22   2019-03-01  \n",
       "3     gems      24   2019-03-01  \n",
       "4     gems     -10   2019-03-01  "
      ]
     },
     "execution_count": 6,
     "metadata": {},
     "output_type": "execute_result"
    }
   ],
   "source": [
    "spending_df.head()"
   ]
  },
  {
   "cell_type": "code",
   "execution_count": 7,
   "id": "7e2c7a9e",
   "metadata": {},
   "outputs": [],
   "source": [
    "def add_num_active_days_column(df):\n",
    "    df[\"days_from_installed\"] = df[\"date\"] - df[\"install_date\"]\n",
    "    df[\"days_from_installed\"] = df[\"days_from_installed\"].dt.days\n",
    "    idx = df.groupby(\"user_id\")[\"days_from_installed\"].transform(max)\\\n",
    "        == df[\"days_from_installed\"]\n",
    "    num_days_active_sessions = df[idx][[\"user_id\", \"days_from_installed\"]]\\\n",
    "                                .drop_duplicates().rename(columns={\"days_from_installed\": \"active_days_sessions\"})\n",
    "    df = pd.merge(df, num_days_active_sessions, on = \"user_id\")\n",
    "    return df\n",
    "sessions_df = add_num_active_days_column(sessions_df)\n",
    "spending_df = add_num_active_days_column(spending_df)"
   ]
  },
  {
   "cell_type": "code",
   "execution_count": 8,
   "id": "66ac79c7",
   "metadata": {},
   "outputs": [],
   "source": [
    "def add_last_active_date_column(sessions, spending):\n",
    "    idx = sessions.groupby(\"user_id\")[\"ts\"].transform(max) == sessions[\"ts\"]\n",
    "    last_day_session = sessions[idx][[\"user_id\", \"ts\"]].rename(columns={\"ts\": \"last_active_date\"})\n",
    "    sessions = pd.merge(sessions, last_day_session, on = \"user_id\")\n",
    "    spending = pd.merge(spending, last_day_session, on = \"user_id\")\n",
    "    \n",
    "    return sessions, spending\n",
    "sessions_df, spending_df = add_last_active_date_column(sessions_df, spending_df)"
   ]
  },
  {
   "cell_type": "code",
   "execution_count": 9,
   "id": "58bbc190",
   "metadata": {},
   "outputs": [
    {
     "data": {
      "text/html": [
       "<div>\n",
       "<style scoped>\n",
       "    .dataframe tbody tr th:only-of-type {\n",
       "        vertical-align: middle;\n",
       "    }\n",
       "\n",
       "    .dataframe tbody tr th {\n",
       "        vertical-align: top;\n",
       "    }\n",
       "\n",
       "    .dataframe thead th {\n",
       "        text-align: right;\n",
       "    }\n",
       "</style>\n",
       "<table border=\"1\" class=\"dataframe\">\n",
       "  <thead>\n",
       "    <tr style=\"text-align: right;\">\n",
       "      <th></th>\n",
       "      <th>user_id</th>\n",
       "      <th>ts</th>\n",
       "      <th>date</th>\n",
       "      <th>session_num</th>\n",
       "      <th>last_session_termination_type</th>\n",
       "      <th>install_date</th>\n",
       "      <th>days_from_installed</th>\n",
       "      <th>active_days_sessions</th>\n",
       "      <th>last_active_date</th>\n",
       "    </tr>\n",
       "  </thead>\n",
       "  <tbody>\n",
       "    <tr>\n",
       "      <th>0</th>\n",
       "      <td>14067</td>\n",
       "      <td>2019-03-01 00:06:50</td>\n",
       "      <td>2019-03-01</td>\n",
       "      <td>1</td>\n",
       "      <td>NaN</td>\n",
       "      <td>2019-03-01</td>\n",
       "      <td>0</td>\n",
       "      <td>22</td>\n",
       "      <td>2019-03-23 22:57:59</td>\n",
       "    </tr>\n",
       "    <tr>\n",
       "      <th>1</th>\n",
       "      <td>14067</td>\n",
       "      <td>2019-03-01 00:22:27</td>\n",
       "      <td>2019-03-01</td>\n",
       "      <td>2</td>\n",
       "      <td>NaN</td>\n",
       "      <td>2019-03-01</td>\n",
       "      <td>0</td>\n",
       "      <td>22</td>\n",
       "      <td>2019-03-23 22:57:59</td>\n",
       "    </tr>\n",
       "    <tr>\n",
       "      <th>2</th>\n",
       "      <td>14067</td>\n",
       "      <td>2019-03-01 09:42:32</td>\n",
       "      <td>2019-03-01</td>\n",
       "      <td>3</td>\n",
       "      <td>NaN</td>\n",
       "      <td>2019-03-01</td>\n",
       "      <td>0</td>\n",
       "      <td>22</td>\n",
       "      <td>2019-03-23 22:57:59</td>\n",
       "    </tr>\n",
       "    <tr>\n",
       "      <th>3</th>\n",
       "      <td>14067</td>\n",
       "      <td>2019-03-01 09:43:33</td>\n",
       "      <td>2019-03-01</td>\n",
       "      <td>4</td>\n",
       "      <td>NaN</td>\n",
       "      <td>2019-03-01</td>\n",
       "      <td>0</td>\n",
       "      <td>22</td>\n",
       "      <td>2019-03-23 22:57:59</td>\n",
       "    </tr>\n",
       "    <tr>\n",
       "      <th>4</th>\n",
       "      <td>14067</td>\n",
       "      <td>2019-03-01 09:55:33</td>\n",
       "      <td>2019-03-01</td>\n",
       "      <td>5</td>\n",
       "      <td>NaN</td>\n",
       "      <td>2019-03-01</td>\n",
       "      <td>0</td>\n",
       "      <td>22</td>\n",
       "      <td>2019-03-23 22:57:59</td>\n",
       "    </tr>\n",
       "  </tbody>\n",
       "</table>\n",
       "</div>"
      ],
      "text/plain": [
       "   user_id                   ts       date  session_num  \\\n",
       "0    14067  2019-03-01 00:06:50 2019-03-01            1   \n",
       "1    14067  2019-03-01 00:22:27 2019-03-01            2   \n",
       "2    14067  2019-03-01 09:42:32 2019-03-01            3   \n",
       "3    14067  2019-03-01 09:43:33 2019-03-01            4   \n",
       "4    14067  2019-03-01 09:55:33 2019-03-01            5   \n",
       "\n",
       "   last_session_termination_type install_date  days_from_installed  \\\n",
       "0                            NaN   2019-03-01                    0   \n",
       "1                            NaN   2019-03-01                    0   \n",
       "2                            NaN   2019-03-01                    0   \n",
       "3                            NaN   2019-03-01                    0   \n",
       "4                            NaN   2019-03-01                    0   \n",
       "\n",
       "   active_days_sessions     last_active_date  \n",
       "0                    22  2019-03-23 22:57:59  \n",
       "1                    22  2019-03-23 22:57:59  \n",
       "2                    22  2019-03-23 22:57:59  \n",
       "3                    22  2019-03-23 22:57:59  \n",
       "4                    22  2019-03-23 22:57:59  "
      ]
     },
     "execution_count": 9,
     "metadata": {},
     "output_type": "execute_result"
    }
   ],
   "source": [
    "sessions_df.head()"
   ]
  },
  {
   "cell_type": "markdown",
   "id": "d6538950",
   "metadata": {},
   "source": [
    "### extract paying users and their info"
   ]
  },
  {
   "cell_type": "code",
   "execution_count": 10,
   "id": "ac003605",
   "metadata": {},
   "outputs": [
    {
     "data": {
      "text/html": [
       "<div>\n",
       "<style scoped>\n",
       "    .dataframe tbody tr th:only-of-type {\n",
       "        vertical-align: middle;\n",
       "    }\n",
       "\n",
       "    .dataframe tbody tr th {\n",
       "        vertical-align: top;\n",
       "    }\n",
       "\n",
       "    .dataframe thead th {\n",
       "        text-align: right;\n",
       "    }\n",
       "</style>\n",
       "<table border=\"1\" class=\"dataframe\">\n",
       "  <thead>\n",
       "    <tr style=\"text-align: right;\">\n",
       "      <th></th>\n",
       "      <th>user_id</th>\n",
       "      <th>iap_date</th>\n",
       "      <th>days_to_first_purchase</th>\n",
       "      <th>install_date</th>\n",
       "    </tr>\n",
       "  </thead>\n",
       "  <tbody>\n",
       "    <tr>\n",
       "      <th>0</th>\n",
       "      <td>2</td>\n",
       "      <td>2019-03-07 11:50:37</td>\n",
       "      <td>1</td>\n",
       "      <td>2019-03-06</td>\n",
       "    </tr>\n",
       "    <tr>\n",
       "      <th>1</th>\n",
       "      <td>21</td>\n",
       "      <td>2019-03-09 10:18:32</td>\n",
       "      <td>2</td>\n",
       "      <td>2019-03-07</td>\n",
       "    </tr>\n",
       "    <tr>\n",
       "      <th>4</th>\n",
       "      <td>36</td>\n",
       "      <td>2019-03-02 23:34:17</td>\n",
       "      <td>0</td>\n",
       "      <td>2019-03-02</td>\n",
       "    </tr>\n",
       "    <tr>\n",
       "      <th>10</th>\n",
       "      <td>51</td>\n",
       "      <td>2019-03-02 21:19:39</td>\n",
       "      <td>0</td>\n",
       "      <td>2019-03-02</td>\n",
       "    </tr>\n",
       "    <tr>\n",
       "      <th>20</th>\n",
       "      <td>85</td>\n",
       "      <td>2019-04-17 18:26:44</td>\n",
       "      <td>41</td>\n",
       "      <td>2019-03-07</td>\n",
       "    </tr>\n",
       "  </tbody>\n",
       "</table>\n",
       "</div>"
      ],
      "text/plain": [
       "    user_id             iap_date  days_to_first_purchase install_date\n",
       "0         2  2019-03-07 11:50:37                       1   2019-03-06\n",
       "1        21  2019-03-09 10:18:32                       2   2019-03-07\n",
       "4        36  2019-03-02 23:34:17                       0   2019-03-02\n",
       "10       51  2019-03-02 21:19:39                       0   2019-03-02\n",
       "20       85  2019-04-17 18:26:44                      41   2019-03-07"
      ]
     },
     "execution_count": 10,
     "metadata": {},
     "output_type": "execute_result"
    }
   ],
   "source": [
    "users_iaps = pd.merge(user_df, iaps_df, on = \"user_id\")\n",
    "users_iaps[\"days_to_first_purchase\"] = users_iaps[\"date\"] - users_iaps[\"install_date\"]\n",
    "users_iaps[\"days_to_first_purchase\"] = users_iaps[\"days_to_first_purchase\"].dt.days\n",
    "users_iaps[\"rank\"] = users_iaps.groupby([\"user_id\"])[\"days_to_first_purchase\"].rank(method=\"first\", ascending=True)\n",
    "users_iaps[\"rank\"] = users_iaps[\"rank\"].astype(int)\n",
    "paying_users_df = users_iaps[users_iaps[\"rank\"]==1]\n",
    "first_iap_day_df = paying_users_df[[\"user_id\", \"ts\", \"days_to_first_purchase\",\\\n",
    "                                    \"install_date\"]].rename(columns={\"ts\": \"iap_date\"}) #### 1526 paying users\n",
    "first_iap_day_df.head()"
   ]
  },
  {
   "cell_type": "code",
   "execution_count": 11,
   "id": "0835673b",
   "metadata": {},
   "outputs": [],
   "source": [
    "earnGemsCounter_df = spending_df[spending_df.spendtype=='earnGemsCounter']\n",
    "premiumChoice_df = spending_df[spending_df.spendtype=='premiumChoice']\n",
    "IAP_df = spending_df[spending_df.spendtype=='IAP']"
   ]
  },
  {
   "cell_type": "markdown",
   "id": "0936c09d",
   "metadata": {},
   "source": [
    "### extract non-paying users \n",
    "- Remove non-active players (those are not active within 7 days)\n",
    "- All users who haven’t converted after 45 days and still active will be labeled as 0.\n",
    "- In the label 0 group of 2463 non-paying users, 186 of them don't have record in spendevents. We will exclude them "
   ]
  },
  {
   "cell_type": "code",
   "execution_count": 12,
   "id": "5bbb7cdd",
   "metadata": {},
   "outputs": [
    {
     "data": {
      "text/html": [
       "<div>\n",
       "<style scoped>\n",
       "    .dataframe tbody tr th:only-of-type {\n",
       "        vertical-align: middle;\n",
       "    }\n",
       "\n",
       "    .dataframe tbody tr th {\n",
       "        vertical-align: top;\n",
       "    }\n",
       "\n",
       "    .dataframe thead th {\n",
       "        text-align: right;\n",
       "    }\n",
       "</style>\n",
       "<table border=\"1\" class=\"dataframe\">\n",
       "  <thead>\n",
       "    <tr style=\"text-align: right;\">\n",
       "      <th></th>\n",
       "      <th>user_id</th>\n",
       "      <th>install_date</th>\n",
       "      <th>lang</th>\n",
       "      <th>country</th>\n",
       "      <th>hw_ver</th>\n",
       "      <th>os_ver</th>\n",
       "    </tr>\n",
       "  </thead>\n",
       "  <tbody>\n",
       "    <tr>\n",
       "      <th>0</th>\n",
       "      <td>0</td>\n",
       "      <td>2019-03-01</td>\n",
       "      <td>en</td>\n",
       "      <td>US</td>\n",
       "      <td>iPhone4,1</td>\n",
       "      <td>9.1</td>\n",
       "    </tr>\n",
       "    <tr>\n",
       "      <th>1</th>\n",
       "      <td>1</td>\n",
       "      <td>2019-03-01</td>\n",
       "      <td>en</td>\n",
       "      <td>IN</td>\n",
       "      <td>iPod5,1</td>\n",
       "      <td>8.1.2</td>\n",
       "    </tr>\n",
       "  </tbody>\n",
       "</table>\n",
       "</div>"
      ],
      "text/plain": [
       "   user_id install_date lang country     hw_ver os_ver\n",
       "0        0   2019-03-01   en      US  iPhone4,1    9.1\n",
       "1        1   2019-03-01   en      IN    iPod5,1  8.1.2"
      ]
     },
     "execution_count": 12,
     "metadata": {},
     "output_type": "execute_result"
    }
   ],
   "source": [
    "non_payer_df = user_df[~user_df.user_id.isin(iaps_df[\"user_id\"].unique())]\n",
    "non_payer_df.head(2)"
   ]
  },
  {
   "cell_type": "code",
   "execution_count": 13,
   "id": "185ef464",
   "metadata": {},
   "outputs": [
    {
     "data": {
      "text/html": [
       "<div>\n",
       "<style scoped>\n",
       "    .dataframe tbody tr th:only-of-type {\n",
       "        vertical-align: middle;\n",
       "    }\n",
       "\n",
       "    .dataframe tbody tr th {\n",
       "        vertical-align: top;\n",
       "    }\n",
       "\n",
       "    .dataframe thead th {\n",
       "        text-align: right;\n",
       "    }\n",
       "</style>\n",
       "<table border=\"1\" class=\"dataframe\">\n",
       "  <thead>\n",
       "    <tr style=\"text-align: right;\">\n",
       "      <th></th>\n",
       "      <th>user_id</th>\n",
       "      <th>ts</th>\n",
       "      <th>date</th>\n",
       "      <th>session_num</th>\n",
       "      <th>last_session_termination_type</th>\n",
       "      <th>install_date</th>\n",
       "      <th>days_from_installed</th>\n",
       "      <th>active_days_sessions</th>\n",
       "      <th>last_active_date</th>\n",
       "    </tr>\n",
       "  </thead>\n",
       "  <tbody>\n",
       "    <tr>\n",
       "      <th>0</th>\n",
       "      <td>0</td>\n",
       "      <td>2019-03-01 12:39:19</td>\n",
       "      <td>2019-03-01</td>\n",
       "      <td>1</td>\n",
       "      <td>NaN</td>\n",
       "      <td>2019-03-01</td>\n",
       "      <td>0</td>\n",
       "      <td>4</td>\n",
       "      <td>2019-03-05 05:39:29</td>\n",
       "    </tr>\n",
       "    <tr>\n",
       "      <th>1</th>\n",
       "      <td>0</td>\n",
       "      <td>2019-03-01 12:45:47</td>\n",
       "      <td>2019-03-01</td>\n",
       "      <td>2</td>\n",
       "      <td>NaN</td>\n",
       "      <td>2019-03-01</td>\n",
       "      <td>0</td>\n",
       "      <td>4</td>\n",
       "      <td>2019-03-05 05:39:29</td>\n",
       "    </tr>\n",
       "  </tbody>\n",
       "</table>\n",
       "</div>"
      ],
      "text/plain": [
       "   user_id                   ts       date  session_num  \\\n",
       "0        0  2019-03-01 12:39:19 2019-03-01            1   \n",
       "1        0  2019-03-01 12:45:47 2019-03-01            2   \n",
       "\n",
       "   last_session_termination_type install_date  days_from_installed  \\\n",
       "0                            NaN   2019-03-01                    0   \n",
       "1                            NaN   2019-03-01                    0   \n",
       "\n",
       "   active_days_sessions     last_active_date  \n",
       "0                     4  2019-03-05 05:39:29  \n",
       "1                     4  2019-03-05 05:39:29  "
      ]
     },
     "execution_count": 13,
     "metadata": {},
     "output_type": "execute_result"
    }
   ],
   "source": [
    "non_payer_df = user_df[~user_df.user_id.isin(iaps_df[\"user_id\"].unique())][[\"user_id\"]] ## total of 21050 non-paying users\n",
    "session_non_payer_df = pd.merge(non_payer_df[[\"user_id\"]], sessions_df, on = \"user_id\")\n",
    "session_non_payer_df.head(2) #### 21018 unique users"
   ]
  },
  {
   "cell_type": "code",
   "execution_count": 14,
   "id": "ed67798d",
   "metadata": {},
   "outputs": [
    {
     "data": {
      "text/html": [
       "<div>\n",
       "<style scoped>\n",
       "    .dataframe tbody tr th:only-of-type {\n",
       "        vertical-align: middle;\n",
       "    }\n",
       "\n",
       "    .dataframe tbody tr th {\n",
       "        vertical-align: top;\n",
       "    }\n",
       "\n",
       "    .dataframe thead th {\n",
       "        text-align: right;\n",
       "    }\n",
       "</style>\n",
       "<table border=\"1\" class=\"dataframe\">\n",
       "  <thead>\n",
       "    <tr style=\"text-align: right;\">\n",
       "      <th></th>\n",
       "      <th>user_id</th>\n",
       "      <th>ts</th>\n",
       "      <th>date</th>\n",
       "      <th>session_num</th>\n",
       "      <th>last_session_termination_type</th>\n",
       "      <th>install_date</th>\n",
       "      <th>days_from_installed</th>\n",
       "      <th>active_days_sessions</th>\n",
       "      <th>last_active_date</th>\n",
       "      <th>most_recent_date</th>\n",
       "      <th>days_to_most_recent</th>\n",
       "    </tr>\n",
       "  </thead>\n",
       "  <tbody>\n",
       "    <tr>\n",
       "      <th>0</th>\n",
       "      <td>0</td>\n",
       "      <td>2019-03-01 12:39:19</td>\n",
       "      <td>2019-03-01</td>\n",
       "      <td>1</td>\n",
       "      <td>NaN</td>\n",
       "      <td>2019-03-01</td>\n",
       "      <td>0</td>\n",
       "      <td>4</td>\n",
       "      <td>2019-03-05 05:39:29</td>\n",
       "      <td>2019-05-06</td>\n",
       "      <td>66</td>\n",
       "    </tr>\n",
       "    <tr>\n",
       "      <th>1</th>\n",
       "      <td>0</td>\n",
       "      <td>2019-03-01 12:45:47</td>\n",
       "      <td>2019-03-01</td>\n",
       "      <td>2</td>\n",
       "      <td>NaN</td>\n",
       "      <td>2019-03-01</td>\n",
       "      <td>0</td>\n",
       "      <td>4</td>\n",
       "      <td>2019-03-05 05:39:29</td>\n",
       "      <td>2019-05-06</td>\n",
       "      <td>66</td>\n",
       "    </tr>\n",
       "  </tbody>\n",
       "</table>\n",
       "</div>"
      ],
      "text/plain": [
       "   user_id                   ts       date  session_num  \\\n",
       "0        0  2019-03-01 12:39:19 2019-03-01            1   \n",
       "1        0  2019-03-01 12:45:47 2019-03-01            2   \n",
       "\n",
       "   last_session_termination_type install_date  days_from_installed  \\\n",
       "0                            NaN   2019-03-01                    0   \n",
       "1                            NaN   2019-03-01                    0   \n",
       "\n",
       "   active_days_sessions     last_active_date most_recent_date  \\\n",
       "0                     4  2019-03-05 05:39:29       2019-05-06   \n",
       "1                     4  2019-03-05 05:39:29       2019-05-06   \n",
       "\n",
       "   days_to_most_recent  \n",
       "0                   66  \n",
       "1                   66  "
      ]
     },
     "execution_count": 14,
     "metadata": {},
     "output_type": "execute_result"
    }
   ],
   "source": [
    "session_non_payer_df[\"most_recent_date\"] = pd.to_datetime('2019-05-06')\n",
    "session_non_payer_df[\"days_to_most_recent\"] = session_non_payer_df[\"most_recent_date\"] - session_non_payer_df[\"date\"]\n",
    "session_non_payer_df[\"days_to_most_recent\"] = session_non_payer_df[\"days_to_most_recent\"].dt.days\n",
    "session_non_payer_df.head(2)"
   ]
  },
  {
   "cell_type": "markdown",
   "id": "a9003532",
   "metadata": {},
   "source": [
    "## 2. Extract Potential Users for promotion and their characteristics"
   ]
  },
  {
   "cell_type": "code",
   "execution_count": 15,
   "id": "b59bd771",
   "metadata": {},
   "outputs": [
    {
     "data": {
      "text/html": [
       "<div>\n",
       "<style scoped>\n",
       "    .dataframe tbody tr th:only-of-type {\n",
       "        vertical-align: middle;\n",
       "    }\n",
       "\n",
       "    .dataframe tbody tr th {\n",
       "        vertical-align: top;\n",
       "    }\n",
       "\n",
       "    .dataframe thead th {\n",
       "        text-align: right;\n",
       "    }\n",
       "</style>\n",
       "<table border=\"1\" class=\"dataframe\">\n",
       "  <thead>\n",
       "    <tr style=\"text-align: right;\">\n",
       "      <th></th>\n",
       "      <th>user_id</th>\n",
       "      <th>install_date</th>\n",
       "    </tr>\n",
       "  </thead>\n",
       "  <tbody>\n",
       "    <tr>\n",
       "      <th>285</th>\n",
       "      <td>10</td>\n",
       "      <td>2019-03-05</td>\n",
       "    </tr>\n",
       "    <tr>\n",
       "      <th>337</th>\n",
       "      <td>11</td>\n",
       "      <td>2019-03-04</td>\n",
       "    </tr>\n",
       "  </tbody>\n",
       "</table>\n",
       "</div>"
      ],
      "text/plain": [
       "     user_id install_date\n",
       "285       10   2019-03-05\n",
       "337       11   2019-03-04"
      ]
     },
     "execution_count": 15,
     "metadata": {},
     "output_type": "execute_result"
    }
   ],
   "source": [
    "NPU_active_users = session_non_payer_df[session_non_payer_df[\"days_to_most_recent\"] <= 10]\n",
    "NPU_active_users = NPU_active_users[[\"user_id\", \"install_date\"]].drop_duplicates()\n",
    "NPU_active_users.head(2) ### 1733 users"
   ]
  },
  {
   "cell_type": "code",
   "execution_count": 16,
   "id": "afbcb86b",
   "metadata": {},
   "outputs": [
    {
     "data": {
      "text/html": [
       "<div>\n",
       "<style scoped>\n",
       "    .dataframe tbody tr th:only-of-type {\n",
       "        vertical-align: middle;\n",
       "    }\n",
       "\n",
       "    .dataframe tbody tr th {\n",
       "        vertical-align: top;\n",
       "    }\n",
       "\n",
       "    .dataframe thead th {\n",
       "        text-align: right;\n",
       "    }\n",
       "</style>\n",
       "<table border=\"1\" class=\"dataframe\">\n",
       "  <thead>\n",
       "    <tr style=\"text-align: right;\">\n",
       "      <th></th>\n",
       "      <th>user_id</th>\n",
       "      <th>install_date_x</th>\n",
       "      <th>ts</th>\n",
       "      <th>date</th>\n",
       "      <th>session_num</th>\n",
       "      <th>last_session_termination_type</th>\n",
       "      <th>install_date_y</th>\n",
       "      <th>days_from_installed</th>\n",
       "      <th>active_days_sessions</th>\n",
       "      <th>last_active_date</th>\n",
       "    </tr>\n",
       "  </thead>\n",
       "  <tbody>\n",
       "    <tr>\n",
       "      <th>0</th>\n",
       "      <td>10</td>\n",
       "      <td>2019-03-05</td>\n",
       "      <td>2019-03-05 05:56:59</td>\n",
       "      <td>2019-03-05</td>\n",
       "      <td>1</td>\n",
       "      <td>NaN</td>\n",
       "      <td>2019-03-05</td>\n",
       "      <td>0</td>\n",
       "      <td>60</td>\n",
       "      <td>2019-05-04 23:16:31</td>\n",
       "    </tr>\n",
       "    <tr>\n",
       "      <th>1</th>\n",
       "      <td>10</td>\n",
       "      <td>2019-03-05</td>\n",
       "      <td>2019-03-05 05:58:30</td>\n",
       "      <td>2019-03-05</td>\n",
       "      <td>2</td>\n",
       "      <td>NaN</td>\n",
       "      <td>2019-03-05</td>\n",
       "      <td>0</td>\n",
       "      <td>60</td>\n",
       "      <td>2019-05-04 23:16:31</td>\n",
       "    </tr>\n",
       "  </tbody>\n",
       "</table>\n",
       "</div>"
      ],
      "text/plain": [
       "   user_id install_date_x                   ts       date  session_num  \\\n",
       "0       10     2019-03-05  2019-03-05 05:56:59 2019-03-05            1   \n",
       "1       10     2019-03-05  2019-03-05 05:58:30 2019-03-05            2   \n",
       "\n",
       "   last_session_termination_type install_date_y  days_from_installed  \\\n",
       "0                            NaN     2019-03-05                    0   \n",
       "1                            NaN     2019-03-05                    0   \n",
       "\n",
       "   active_days_sessions     last_active_date  \n",
       "0                    60  2019-05-04 23:16:31  \n",
       "1                    60  2019-05-04 23:16:31  "
      ]
     },
     "execution_count": 16,
     "metadata": {},
     "output_type": "execute_result"
    }
   ],
   "source": [
    "### characteristics of churning users \n",
    "NPU_active_users_spending = pd.merge(NPU_active_users, spending_df, on=\"user_id\")\n",
    "NPU_active_users_spending.head(2) ### 1608 users\n",
    "\n",
    "NPU_active_users_sessions = pd.merge(NPU_active_users, sessions_df, on=\"user_id\")\n",
    "NPU_active_users_sessions.head(2) ### 1401 users"
   ]
  },
  {
   "cell_type": "code",
   "execution_count": 17,
   "id": "9222d7db",
   "metadata": {},
   "outputs": [],
   "source": [
    "NPU_active_users_sessions[\"n_days_before_last_date\"] = pd.to_datetime(NPU_active_users_sessions[\"last_active_date\"]) \\\n",
    "                                                                    - pd.Timedelta(days=look_back_days)\n",
    "NPU_active_users_sessions_ft = NPU_active_users_sessions[(NPU_active_users_sessions.ts\\\n",
    "                                                       >= NPU_active_users_sessions.n_days_before_last_date) \\\n",
    "                                                      & (NPU_active_users_sessions.ts <= NPU_active_users_sessions.last_active_date)]\n",
    "\n",
    "NPU_active_users_spending[\"n_days_before_last_date\"] = \\\n",
    "                                pd.to_datetime(NPU_active_users_spending[\"last_active_date\"]) - pd.Timedelta(days=look_back_days)\n",
    "NPU_active_users_spending_ft = NPU_active_users_spending[(NPU_active_users_spending.ts\\\n",
    "                                                       >= NPU_active_users_spending.n_days_before_last_date) \\\n",
    "                                                      & (NPU_active_users_spending.ts <= NPU_active_users_spending.last_active_date)]"
   ]
  },
  {
   "cell_type": "code",
   "execution_count": 18,
   "id": "4d7d3098",
   "metadata": {},
   "outputs": [
    {
     "data": {
      "image/png": "[encoded data removed]",
      "text/plain": [
       "<Figure size 432x288 with 1 Axes>"
      ]
     },
     "metadata": {},
     "output_type": "display_data"
    }
   ],
   "source": [
    "def plot_ecdf(series, title=\"\"):\n",
    "    \"\"\"\n",
    "    series = df_eargems_sum[\"gems_spent\"]\n",
    "    \"\"\"\n",
    "    sns.set()\n",
    "    x_ecdf, y_ecdf = ecdf(series)\n",
    "    sns.scatterplot(x=x_ecdf, y=y_ecdf)\n",
    "    plt.title(title)\n",
    "    \n",
    "def spent_gems_rate(df_user):\n",
    "    df_eargems = df_user[df_user.spendtype == 'premiumChoice']\n",
    "    df_eargems_sum = df_eargems.groupby(\"user_id\")['amount'].sum().reset_index()\n",
    "    df_eargems_sum = pd.merge(df_eargems_sum, sessions_df[[\"user_id\",\\\n",
    "                                                           \"active_days_sessions\"]].drop_duplicates(), on = \"user_id\")\n",
    "    df_eargems_sum[\"gems_spent\"] = df_eargems_sum[\"amount\"]\n",
    "    df_eargems_sum = df_eargems_sum[df_eargems_sum.user_id != 12486] \n",
    "    return df_eargems_sum[[\"user_id\",\"gems_spent\"]]\n",
    "\n",
    "potentialUser_spent_gems = spent_gems_rate(NPU_active_users_spending_ft)\n",
    "potentialUser_spent_gems = pd.merge(NPU_active_users[[\"user_id\"]].drop_duplicates(),\\\n",
    "                                    potentialUser_spent_gems, how='left', on =\"user_id\").fillna(0)\n",
    "plot_ecdf(potentialUser_spent_gems[\"gems_spent\"], \"ECDF plot of gems_spent\")"
   ]
  },
  {
   "cell_type": "code",
   "execution_count": 19,
   "id": "ce3f7cee",
   "metadata": {},
   "outputs": [
    {
     "data": {
      "image/png": "[encoded data removed]",
      "text/plain": [
       "<Figure size 432x288 with 1 Axes>"
      ]
     },
     "metadata": {},
     "output_type": "display_data"
    }
   ],
   "source": [
    "def earn_gems_rate(df_user):\n",
    "    df_eargems = df_user[df_user.spendtype == 'earnGemsCounter']\n",
    "    df_eargems_sum = df_eargems.groupby(\"user_id\")['amount'].sum().reset_index()\n",
    "    df_eargems_sum = pd.merge(df_eargems_sum, sessions_df[[\"user_id\",\\\n",
    "                                                           \"active_days_sessions\"]].drop_duplicates(), on = \"user_id\")\n",
    "    df_eargems_sum[\"gems_earn\"] = df_eargems_sum[\"amount\"]*(-1)\n",
    "    df_eargems_sum = df_eargems_sum[df_eargems_sum.user_id != 12486]\n",
    "    \n",
    "    return df_eargems_sum[[\"user_id\",\"gems_earn\"]]\n",
    "potentialUser_earn_gems = earn_gems_rate(NPU_active_users_spending_ft)\n",
    "potentialUser_earn_gems = pd.merge(NPU_active_users[[\"user_id\"]].drop_duplicates(),\\\n",
    "                                    potentialUser_earn_gems, how='left', on =\"user_id\").fillna(0)\n",
    "plot_ecdf(potentialUser_earn_gems[\"gems_earn\"], \"ECDF plot of gems earned\")"
   ]
  },
  {
   "cell_type": "code",
   "execution_count": 20,
   "id": "88f0a2ff",
   "metadata": {},
   "outputs": [
    {
     "data": {
      "text/plain": [
       "1733"
      ]
     },
     "execution_count": 20,
     "metadata": {},
     "output_type": "execute_result"
    }
   ],
   "source": [
    "NPU_active_users_sessions[\"user_id\"].nunique()"
   ]
  },
  {
   "cell_type": "code",
   "execution_count": 21,
   "id": "ff2e7427",
   "metadata": {},
   "outputs": [
    {
     "data": {
      "image/png": "[encoded data removed]",
      "text/plain": [
       "<Figure size 432x288 with 1 Axes>"
      ]
     },
     "metadata": {},
     "output_type": "display_data"
    }
   ],
   "source": [
    "def total_gems_left(df_user):\n",
    "    df_eargems_sum = df_user.groupby(\"user_id\")['amount'].sum().reset_index().rename(columns={'amount': 'gems_amount'})\n",
    "    df_eargems_sum = pd.merge(df_eargems_sum, sessions_df[[\"user_id\",\\\n",
    "                                                           \"active_days_sessions\"]].drop_duplicates(), on = \"user_id\")\n",
    "    df_eargems_sum[\"total_gems\"] = df_eargems_sum[\"gems_amount\"]*(-1)\n",
    "    df_eargems_sum = df_eargems_sum[df_eargems_sum.user_id != 12486]\n",
    "    return df_eargems_sum[[\"user_id\", \"total_gems\"]]\n",
    "\n",
    "potentialUser_total_gems = total_gems_left(NPU_active_users_spending)  \n",
    "potentialUser_total_gems = pd.merge(NPU_active_users[[\"user_id\"]].drop_duplicates(),\\\n",
    "                                    potentialUser_total_gems, how='left', on =\"user_id\").fillna(0)\n",
    "plot_ecdf(potentialUser_total_gems[\"total_gems\"], \"ECDF plot of total gems\")"
   ]
  },
  {
   "cell_type": "code",
   "execution_count": 22,
   "id": "1cac0e89",
   "metadata": {},
   "outputs": [
    {
     "data": {
      "image/png": "[encoded data removed]",
      "text/plain": [
       "<Figure size 432x288 with 1 Axes>"
      ]
     },
     "metadata": {},
     "output_type": "display_data"
    }
   ],
   "source": [
    "def change_in_chapter(df):\n",
    "    idx = df.groupby(\"user_id\")[\"chapter\"].transform(max) == df[\"chapter\"]\n",
    "    max_chapter = df[idx]\n",
    "    max_chapter = max_chapter[[\"user_id\", \"chapter\"]].drop_duplicates().rename(columns={\"chapter\": \"max_chapter\"})\n",
    "    \n",
    "    idx = df.groupby(\"user_id\")[\"chapter\"].transform(min) == df[\"chapter\"]\n",
    "    min_chapter = df[idx]\n",
    "    min_chapter = min_chapter[[\"user_id\", \"chapter\"]].drop_duplicates().rename(columns={\"chapter\": \"min_chapter\"})\n",
    "    \n",
    "    df_join = pd.merge(max_chapter, min_chapter, on = \"user_id\")\n",
    "    df_join[\"chapter_changes\"] = df_join[\"max_chapter\"] - df_join[\"min_chapter\"]\n",
    "    \n",
    "    return df_join[[\"user_id\",\"chapter_changes\"]]\n",
    "\n",
    "potentialUser_chapter_change = change_in_chapter(NPU_active_users_spending_ft)  \n",
    "potentialUser_chapter_change = pd.merge(NPU_active_users[[\"user_id\"]].drop_duplicates(),\\\n",
    "                                    potentialUser_chapter_change, how='left', on =\"user_id\").fillna(0)\n",
    "plot_ecdf(potentialUser_chapter_change[\"chapter_changes\"], \"ECDF plot of changes in chapter\")"
   ]
  },
  {
   "cell_type": "code",
   "execution_count": 23,
   "id": "f3f878b7",
   "metadata": {},
   "outputs": [
    {
     "data": {
      "image/png": "[encoded data removed]",
      "text/plain": [
       "<Figure size 432x288 with 1 Axes>"
      ]
     },
     "metadata": {},
     "output_type": "display_data"
    }
   ],
   "source": [
    "def sessions_num_rate(df_user):\n",
    "    idx = df_user.groupby(\"user_id\")[\"session_num\"].transform(max) == df_user[\"session_num\"]\n",
    "    session_max = df_user[idx]\n",
    "    session_max = session_max[[\"user_id\", \"session_num\"]].drop_duplicates().rename(columns = {\"session_num\": \"max_session\"})\n",
    "   \n",
    "    idx = df_user.groupby(\"user_id\")[\"session_num\"].transform(min) == df_user[\"session_num\"]\n",
    "    session_min = df_user[idx]\n",
    "    session_min = session_min[[\"user_id\", \"session_num\"]].drop_duplicates().rename(columns = {\"session_num\": \"min_session\"})\n",
    "    \n",
    "    df_join = pd.merge(session_max, session_min, on=\"user_id\")\n",
    "    df_join[\"changes_session\"] = df_join[\"max_session\"] - df_join[\"min_session\"]\n",
    "    \n",
    "    return df_join[[\"user_id\",\"changes_session\"]]\n",
    " \n",
    "\n",
    "potentialUser_session_change = sessions_num_rate(NPU_active_users_sessions_ft)   \n",
    "potentialUser_session_change = pd.merge(NPU_active_users[[\"user_id\"]].drop_duplicates(),\\\n",
    "                                    potentialUser_session_change, how='left', on =\"user_id\").fillna(0)\n",
    "plot_ecdf(potentialUser_session_change[\"changes_session\"], \"ECDF plot of session_num rate\")"
   ]
  },
  {
   "cell_type": "markdown",
   "id": "80a15eb7",
   "metadata": {},
   "source": [
    "## 3. Extract label 0 class and their characteristics\n",
    "- churn users"
   ]
  },
  {
   "cell_type": "code",
   "execution_count": 24,
   "id": "4d8d8c9b",
   "metadata": {},
   "outputs": [
    {
     "data": {
      "text/html": [
       "<div>\n",
       "<style scoped>\n",
       "    .dataframe tbody tr th:only-of-type {\n",
       "        vertical-align: middle;\n",
       "    }\n",
       "\n",
       "    .dataframe tbody tr th {\n",
       "        vertical-align: top;\n",
       "    }\n",
       "\n",
       "    .dataframe thead th {\n",
       "        text-align: right;\n",
       "    }\n",
       "</style>\n",
       "<table border=\"1\" class=\"dataframe\">\n",
       "  <thead>\n",
       "    <tr style=\"text-align: right;\">\n",
       "      <th></th>\n",
       "      <th>user_id</th>\n",
       "      <th>install_date</th>\n",
       "    </tr>\n",
       "  </thead>\n",
       "  <tbody>\n",
       "    <tr>\n",
       "      <th>1870</th>\n",
       "      <td>76</td>\n",
       "      <td>2019-03-01</td>\n",
       "    </tr>\n",
       "    <tr>\n",
       "      <th>1900</th>\n",
       "      <td>81</td>\n",
       "      <td>2019-03-04</td>\n",
       "    </tr>\n",
       "  </tbody>\n",
       "</table>\n",
       "</div>"
      ],
      "text/plain": [
       "      user_id install_date\n",
       "1870       76   2019-03-01\n",
       "1900       81   2019-03-04"
      ]
     },
     "execution_count": 24,
     "metadata": {},
     "output_type": "execute_result"
    }
   ],
   "source": [
    "label0_users_df = session_non_payer_df[(session_non_payer_df[\"days_to_most_recent\"] <= 25)\\\n",
    "                                        & ((session_non_payer_df[\"days_to_most_recent\"] > 10))]\n",
    "label0_users_df = label0_users_df[[\"user_id\", \"install_date\"]].drop_duplicates()\n",
    "label0_users_df = label0_users_df[~label0_users_df[\"user_id\"].isin(set(NPU_active_users[\"user_id\"]))]\n",
    "label0_users_df.head(2)"
   ]
  },
  {
   "cell_type": "code",
   "execution_count": 25,
   "id": "c1a02b31",
   "metadata": {},
   "outputs": [
    {
     "data": {
      "text/plain": [
       "1386"
      ]
     },
     "execution_count": 25,
     "metadata": {},
     "output_type": "execute_result"
    }
   ],
   "source": [
    "label0_users_spending = pd.merge(label0_users_df, spending_df, on=\"user_id\")\n",
    "label0_users_spending[\"user_id\"].nunique()"
   ]
  },
  {
   "cell_type": "code",
   "execution_count": 26,
   "id": "ae4c271c",
   "metadata": {},
   "outputs": [
    {
     "data": {
      "text/plain": [
       "1518"
      ]
     },
     "execution_count": 26,
     "metadata": {},
     "output_type": "execute_result"
    }
   ],
   "source": [
    "label0_users_sessions = pd.merge(label0_users_df, sessions_df, on=\"user_id\")\n",
    "label0_users_sessions[\"user_id\"].nunique()"
   ]
  },
  {
   "cell_type": "code",
   "execution_count": 27,
   "id": "a706a3d6",
   "metadata": {},
   "outputs": [],
   "source": [
    "label0_users_sessions[\"n_days_before_iap\"] = pd.to_datetime(label0_users_sessions[\"last_active_date\"]) \\\n",
    "                                                                    - pd.Timedelta(days=look_back_days)\n",
    "label0_users_sessions_ft = label0_users_sessions[(label0_users_sessions.ts\\\n",
    "                                                       >= label0_users_sessions.n_days_before_iap) \\\n",
    "                                                      & (label0_users_sessions.ts <= label0_users_sessions.last_active_date)]\n",
    "\n",
    "label0_users_spending[\"n_days_before_iap\"] = \\\n",
    "                                pd.to_datetime(label0_users_spending[\"last_active_date\"]) - pd.Timedelta(days=look_back_days)\n",
    "label0_users_spending_ft = label0_users_spending[(label0_users_spending.ts\\\n",
    "                                                       >= label0_users_spending.n_days_before_iap) \\\n",
    "                                                      & (label0_users_spending.ts <= label0_users_spending.last_active_date)]"
   ]
  },
  {
   "cell_type": "code",
   "execution_count": 28,
   "id": "dc2c958c",
   "metadata": {},
   "outputs": [
    {
     "data": {
      "image/png": "[encoded data removed]",
      "text/plain": [
       "<Figure size 432x288 with 1 Axes>"
      ]
     },
     "metadata": {},
     "output_type": "display_data"
    }
   ],
   "source": [
    "label0_spent_gems = spent_gems_rate(label0_users_spending_ft)\n",
    "label0_spent_gems = pd.merge(label0_users_df[[\"user_id\"]].drop_duplicates(),\\\n",
    "                                    label0_spent_gems, how='left', on =\"user_id\").fillna(0)\n",
    "plot_ecdf(label0_spent_gems[\"gems_spent\"], \"ECDF plot of gems_spent\")"
   ]
  },
  {
   "cell_type": "code",
   "execution_count": 29,
   "id": "b184053f",
   "metadata": {},
   "outputs": [
    {
     "data": {
      "image/png": "[encoded data removed]",
      "text/plain": [
       "<Figure size 432x288 with 1 Axes>"
      ]
     },
     "metadata": {},
     "output_type": "display_data"
    }
   ],
   "source": [
    "label0_earn_gems = earn_gems_rate(label0_users_spending_ft)\n",
    "label0_earn_gems = pd.merge(label0_users_df[[\"user_id\"]].drop_duplicates(),\\\n",
    "                                    label0_earn_gems, how='left', on =\"user_id\").fillna(0)\n",
    "plot_ecdf(label0_earn_gems[\"gems_earn\"], \"ECDF plot of gems earned\")"
   ]
  },
  {
   "cell_type": "code",
   "execution_count": 30,
   "id": "ac2dc8c6",
   "metadata": {},
   "outputs": [
    {
     "data": {
      "image/png": "[encoded data removed]",
      "text/plain": [
       "<Figure size 432x288 with 1 Axes>"
      ]
     },
     "metadata": {},
     "output_type": "display_data"
    }
   ],
   "source": [
    "label0_total_gems = total_gems_left(label0_users_spending[label0_users_spending.ts < label0_users_spending.last_active_date])\n",
    "label0_total_gems = pd.merge(label0_users_df[[\"user_id\"]].drop_duplicates(),\\\n",
    "                                    label0_total_gems, how='left', on =\"user_id\").fillna(0)\n",
    "plot_ecdf(label0_total_gems[\"total_gems\"], \"ECDF plot of total gems\")"
   ]
  },
  {
   "cell_type": "code",
   "execution_count": 31,
   "id": "f829bfd4",
   "metadata": {},
   "outputs": [
    {
     "data": {
      "image/png": "[encoded data removed]",
      "text/plain": [
       "<Figure size 432x288 with 1 Axes>"
      ]
     },
     "metadata": {},
     "output_type": "display_data"
    }
   ],
   "source": [
    "label0_chapter_change = change_in_chapter(label0_users_spending_ft) \n",
    "label0_chapter_change = pd.merge(label0_users_df[[\"user_id\"]].drop_duplicates(),\\\n",
    "                                    label0_chapter_change, how='left', on =\"user_id\").fillna(0)\n",
    "plot_ecdf(label0_chapter_change[\"chapter_changes\"], \"ECDF plot of changes in chapter\")"
   ]
  },
  {
   "cell_type": "code",
   "execution_count": 32,
   "id": "444873a4",
   "metadata": {},
   "outputs": [
    {
     "data": {
      "image/png": "[encoded data removed]",
      "text/plain": [
       "<Figure size 432x288 with 1 Axes>"
      ]
     },
     "metadata": {},
     "output_type": "display_data"
    }
   ],
   "source": [
    "label0_session_change = sessions_num_rate(label0_users_sessions_ft)   \n",
    "label0_session_change = pd.merge(label0_users_df[[\"user_id\"]].drop_duplicates(),\\\n",
    "                                    label0_session_change, how='left', on =\"user_id\").fillna(0)\n",
    "plot_ecdf(label0_session_change[\"changes_session\"], \"ECDF plot of session_num rate\")"
   ]
  },
  {
   "cell_type": "markdown",
   "id": "e2eb2d25",
   "metadata": {},
   "source": [
    "## 4. Extract label 1 class and their characteristics\n",
    "- Users who already made their first in-app purchase within 45 days since the date they installed in the app \n",
    "- A user makes an in-app purchase, but that purchase is not recorded in the spendevent.csv (51 users have this issue, i.e spendevents file faliled to record iap and gems flow for 51 paying users). "
   ]
  },
  {
   "cell_type": "code",
   "execution_count": 103,
   "id": "1fb801d9",
   "metadata": {},
   "outputs": [
    {
     "data": {
      "text/plain": [
       "239"
      ]
     },
     "execution_count": 103,
     "metadata": {},
     "output_type": "execute_result"
    }
   ],
   "source": [
    "label1_users = first_iap_day_df[first_iap_day_df.days_to_first_purchase >= 7][[\"user_id\", \"iap_date\"]].drop_duplicates()\n",
    "label1_users[\"user_id\"].nunique()"
   ]
  },
  {
   "cell_type": "code",
   "execution_count": 104,
   "id": "f5f2daef",
   "metadata": {},
   "outputs": [
    {
     "data": {
      "text/html": [
       "<div>\n",
       "<style scoped>\n",
       "    .dataframe tbody tr th:only-of-type {\n",
       "        vertical-align: middle;\n",
       "    }\n",
       "\n",
       "    .dataframe tbody tr th {\n",
       "        vertical-align: top;\n",
       "    }\n",
       "\n",
       "    .dataframe thead th {\n",
       "        text-align: right;\n",
       "    }\n",
       "</style>\n",
       "<table border=\"1\" class=\"dataframe\">\n",
       "  <thead>\n",
       "    <tr style=\"text-align: right;\">\n",
       "      <th></th>\n",
       "      <th>user_id</th>\n",
       "      <th>iap_date</th>\n",
       "    </tr>\n",
       "  </thead>\n",
       "  <tbody>\n",
       "    <tr>\n",
       "      <th>20</th>\n",
       "      <td>85</td>\n",
       "      <td>2019-04-17 18:26:44</td>\n",
       "    </tr>\n",
       "    <tr>\n",
       "      <th>21</th>\n",
       "      <td>93</td>\n",
       "      <td>2019-03-19 07:26:39</td>\n",
       "    </tr>\n",
       "    <tr>\n",
       "      <th>24</th>\n",
       "      <td>98</td>\n",
       "      <td>2019-03-11 12:33:16</td>\n",
       "    </tr>\n",
       "    <tr>\n",
       "      <th>60</th>\n",
       "      <td>185</td>\n",
       "      <td>2019-03-31 12:58:19</td>\n",
       "    </tr>\n",
       "    <tr>\n",
       "      <th>84</th>\n",
       "      <td>247</td>\n",
       "      <td>2019-04-01 11:42:20</td>\n",
       "    </tr>\n",
       "  </tbody>\n",
       "</table>\n",
       "</div>"
      ],
      "text/plain": [
       "    user_id             iap_date\n",
       "20       85  2019-04-17 18:26:44\n",
       "21       93  2019-03-19 07:26:39\n",
       "24       98  2019-03-11 12:33:16\n",
       "60      185  2019-03-31 12:58:19\n",
       "84      247  2019-04-01 11:42:20"
      ]
     },
     "execution_count": 104,
     "metadata": {},
     "output_type": "execute_result"
    }
   ],
   "source": [
    "label1_users.head()"
   ]
  },
  {
   "cell_type": "markdown",
   "id": "d329a1b4",
   "metadata": {},
   "source": [
    "### Extracting features for label 1 group"
   ]
  },
  {
   "cell_type": "code",
   "execution_count": 105,
   "id": "1a847cec",
   "metadata": {},
   "outputs": [
    {
     "data": {
      "text/html": [
       "<div>\n",
       "<style scoped>\n",
       "    .dataframe tbody tr th:only-of-type {\n",
       "        vertical-align: middle;\n",
       "    }\n",
       "\n",
       "    .dataframe tbody tr th {\n",
       "        vertical-align: top;\n",
       "    }\n",
       "\n",
       "    .dataframe thead th {\n",
       "        text-align: right;\n",
       "    }\n",
       "</style>\n",
       "<table border=\"1\" class=\"dataframe\">\n",
       "  <thead>\n",
       "    <tr style=\"text-align: right;\">\n",
       "      <th></th>\n",
       "      <th>user_id</th>\n",
       "      <th>iap_date</th>\n",
       "      <th>ts</th>\n",
       "      <th>date</th>\n",
       "      <th>session_num</th>\n",
       "      <th>last_session_termination_type</th>\n",
       "      <th>install_date</th>\n",
       "      <th>days_from_installed</th>\n",
       "      <th>active_days_sessions</th>\n",
       "      <th>last_active_date</th>\n",
       "      <th>n_days_before_iap</th>\n",
       "    </tr>\n",
       "  </thead>\n",
       "  <tbody>\n",
       "    <tr>\n",
       "      <th>12</th>\n",
       "      <td>85</td>\n",
       "      <td>2019-04-17 18:26:44</td>\n",
       "      <td>2019-04-17 18:09:05</td>\n",
       "      <td>2019-04-17</td>\n",
       "      <td>13</td>\n",
       "      <td>NaN</td>\n",
       "      <td>2019-03-07</td>\n",
       "      <td>41</td>\n",
       "      <td>41</td>\n",
       "      <td>2019-04-17 18:09:05</td>\n",
       "      <td>2019-04-10 18:26:44</td>\n",
       "    </tr>\n",
       "    <tr>\n",
       "      <th>22</th>\n",
       "      <td>93</td>\n",
       "      <td>2019-03-19 07:26:39</td>\n",
       "      <td>2019-03-19 07:26:34</td>\n",
       "      <td>2019-03-19</td>\n",
       "      <td>11</td>\n",
       "      <td>NaN</td>\n",
       "      <td>2019-03-03</td>\n",
       "      <td>16</td>\n",
       "      <td>60</td>\n",
       "      <td>2019-05-02 16:34:34</td>\n",
       "      <td>2019-03-12 07:26:39</td>\n",
       "    </tr>\n",
       "  </tbody>\n",
       "</table>\n",
       "</div>"
      ],
      "text/plain": [
       "    user_id             iap_date                   ts       date  session_num  \\\n",
       "12       85  2019-04-17 18:26:44  2019-04-17 18:09:05 2019-04-17           13   \n",
       "22       93  2019-03-19 07:26:39  2019-03-19 07:26:34 2019-03-19           11   \n",
       "\n",
       "    last_session_termination_type install_date  days_from_installed  \\\n",
       "12                            NaN   2019-03-07                   41   \n",
       "22                            NaN   2019-03-03                   16   \n",
       "\n",
       "    active_days_sessions     last_active_date   n_days_before_iap  \n",
       "12                    41  2019-04-17 18:09:05 2019-04-10 18:26:44  \n",
       "22                    60  2019-05-02 16:34:34 2019-03-12 07:26:39  "
      ]
     },
     "execution_count": 105,
     "metadata": {},
     "output_type": "execute_result"
    }
   ],
   "source": [
    "df1 = pd.merge(label1_users, sessions_df, on=\"user_id\")\n",
    "df1[\"n_days_before_iap\"] = pd.to_datetime(df1[\"iap_date\"]) - pd.Timedelta(days=7)\n",
    "df_session_ft = df1[(df1.ts > df1.n_days_before_iap) & (df1.ts < df1.iap_date)]\n",
    "df_session_ft.head(2)"
   ]
  },
  {
   "cell_type": "code",
   "execution_count": 106,
   "id": "3cc7678c",
   "metadata": {},
   "outputs": [
    {
     "data": {
      "text/html": [
       "<div>\n",
       "<style scoped>\n",
       "    .dataframe tbody tr th:only-of-type {\n",
       "        vertical-align: middle;\n",
       "    }\n",
       "\n",
       "    .dataframe tbody tr th {\n",
       "        vertical-align: top;\n",
       "    }\n",
       "\n",
       "    .dataframe thead th {\n",
       "        text-align: right;\n",
       "    }\n",
       "</style>\n",
       "<table border=\"1\" class=\"dataframe\">\n",
       "  <thead>\n",
       "    <tr style=\"text-align: right;\">\n",
       "      <th></th>\n",
       "      <th>user_id</th>\n",
       "      <th>iap_date</th>\n",
       "      <th>ts</th>\n",
       "      <th>date</th>\n",
       "      <th>story</th>\n",
       "      <th>chapter</th>\n",
       "      <th>spendtype</th>\n",
       "      <th>currency</th>\n",
       "      <th>amount</th>\n",
       "      <th>install_date</th>\n",
       "      <th>days_from_installed</th>\n",
       "      <th>active_days_sessions</th>\n",
       "      <th>last_active_date</th>\n",
       "      <th>n_days_before_iap</th>\n",
       "    </tr>\n",
       "  </thead>\n",
       "  <tbody>\n",
       "    <tr>\n",
       "      <th>9</th>\n",
       "      <td>98</td>\n",
       "      <td>2019-03-11 12:33:16</td>\n",
       "      <td>2019-03-08 15:17:47</td>\n",
       "      <td>2019-03-08</td>\n",
       "      <td>story_1</td>\n",
       "      <td>9</td>\n",
       "      <td>premiumChoice</td>\n",
       "      <td>gems</td>\n",
       "      <td>25</td>\n",
       "      <td>2019-03-02</td>\n",
       "      <td>6</td>\n",
       "      <td>21</td>\n",
       "      <td>2019-04-11 21:52:49</td>\n",
       "      <td>2019-03-04 12:33:16</td>\n",
       "    </tr>\n",
       "    <tr>\n",
       "      <th>15</th>\n",
       "      <td>185</td>\n",
       "      <td>2019-03-31 12:58:19</td>\n",
       "      <td>2019-03-31 12:53:13</td>\n",
       "      <td>2019-03-31</td>\n",
       "      <td>story_3</td>\n",
       "      <td>0</td>\n",
       "      <td>earnGemsCounter</td>\n",
       "      <td>gems</td>\n",
       "      <td>0</td>\n",
       "      <td>2019-03-05</td>\n",
       "      <td>26</td>\n",
       "      <td>46</td>\n",
       "      <td>2019-04-20 10:44:38</td>\n",
       "      <td>2019-03-24 12:58:19</td>\n",
       "    </tr>\n",
       "  </tbody>\n",
       "</table>\n",
       "</div>"
      ],
      "text/plain": [
       "    user_id             iap_date                   ts       date    story  \\\n",
       "9        98  2019-03-11 12:33:16  2019-03-08 15:17:47 2019-03-08  story_1   \n",
       "15      185  2019-03-31 12:58:19  2019-03-31 12:53:13 2019-03-31  story_3   \n",
       "\n",
       "    chapter        spendtype currency  amount install_date  \\\n",
       "9         9    premiumChoice     gems      25   2019-03-02   \n",
       "15        0  earnGemsCounter     gems       0   2019-03-05   \n",
       "\n",
       "    days_from_installed  active_days_sessions     last_active_date  \\\n",
       "9                     6                    21  2019-04-11 21:52:49   \n",
       "15                   26                    46  2019-04-20 10:44:38   \n",
       "\n",
       "     n_days_before_iap  \n",
       "9  2019-03-04 12:33:16  \n",
       "15 2019-03-24 12:58:19  "
      ]
     },
     "execution_count": 106,
     "metadata": {},
     "output_type": "execute_result"
    }
   ],
   "source": [
    "df2 = pd.merge(label1_users, spending_df, on=\"user_id\")\n",
    "df2[\"n_days_before_iap\"] = pd.to_datetime(df2[\"iap_date\"]) - pd.Timedelta(days=7)\n",
    "df_spend_ft = df2[(df2.ts > df2.n_days_before_iap) & (df2.ts < df2.iap_date)]\n",
    "df_spend_ft = df_spend_ft[df_spend_ft.spendtype != \"IAP\"]\n",
    "df_spend_ft = df_spend_ft[df_spend_ft.spendtype != \"valuepack\"]\n",
    "df_spend_ft.head(2)"
   ]
  },
  {
   "cell_type": "code",
   "execution_count": 107,
   "id": "fb9a4c08",
   "metadata": {},
   "outputs": [
    {
     "data": {
      "image/png": "[encoded data removed]",
      "text/plain": [
       "<Figure size 432x288 with 1 Axes>"
      ]
     },
     "metadata": {},
     "output_type": "display_data"
    }
   ],
   "source": [
    "label1_spent_gems = spent_gems_rate(df_spend_ft)\n",
    "label1_spent_gems = pd.merge(label1_users[[\"user_id\"]].drop_duplicates(),\\\n",
    "                                    label1_spent_gems, how='left', on =\"user_id\").fillna(0)\n",
    "plot_ecdf(label1_spent_gems[\"gems_spent\"], \"ECDF plot of gems_spent\")"
   ]
  },
  {
   "cell_type": "code",
   "execution_count": 108,
   "id": "4535a5c4",
   "metadata": {},
   "outputs": [
    {
     "data": {
      "image/png": "[encoded data removed]",
      "text/plain": [
       "<Figure size 432x288 with 1 Axes>"
      ]
     },
     "metadata": {},
     "output_type": "display_data"
    }
   ],
   "source": [
    "label1_earn_gems = earn_gems_rate(df_spend_ft)\n",
    "label1_earn_gems = pd.merge(label1_users[[\"user_id\"]].drop_duplicates(),\\\n",
    "                                    label1_earn_gems, how='left', on =\"user_id\").fillna(0)\n",
    "plot_ecdf(label1_earn_gems[\"gems_earn\"], \"ECDF plot of gems earned\")"
   ]
  },
  {
   "cell_type": "code",
   "execution_count": 109,
   "id": "11df56eb",
   "metadata": {},
   "outputs": [
    {
     "data": {
      "image/png": "[encoded data removed]",
      "text/plain": [
       "<Figure size 432x288 with 1 Axes>"
      ]
     },
     "metadata": {},
     "output_type": "display_data"
    }
   ],
   "source": [
    "label1_total_gems = total_gems_left(df2[(df2.ts < df2.iap_date)])\n",
    "label1_total_gems = pd.merge(label1_users[[\"user_id\"]].drop_duplicates(),\\\n",
    "                                    label1_total_gems, how='left', on =\"user_id\").fillna(0)\n",
    "plot_ecdf(label1_total_gems[\"total_gems\"], \"ECDF plot of total gems\")"
   ]
  },
  {
   "cell_type": "code",
   "execution_count": 110,
   "id": "89bcb9f8",
   "metadata": {},
   "outputs": [
    {
     "data": {
      "image/png": "[encoded data removed]",
      "text/plain": [
       "<Figure size 432x288 with 1 Axes>"
      ]
     },
     "metadata": {},
     "output_type": "display_data"
    }
   ],
   "source": [
    "label1_chapter_change = change_in_chapter(df_spend_ft)\n",
    "label1_chapter_change = pd.merge(label1_users[[\"user_id\"]].drop_duplicates(),\\\n",
    "                                    label1_chapter_change, how='left', on =\"user_id\").fillna(0)\n",
    "plot_ecdf(label1_chapter_change[\"chapter_changes\"], \"ECDF plot of changes in chapter\")"
   ]
  },
  {
   "cell_type": "code",
   "execution_count": 111,
   "id": "9d7868d2",
   "metadata": {},
   "outputs": [
    {
     "data": {
      "image/png": "[encoded data removed]",
      "text/plain": [
       "<Figure size 432x288 with 1 Axes>"
      ]
     },
     "metadata": {},
     "output_type": "display_data"
    }
   ],
   "source": [
    "label1_session_change = sessions_num_rate(df_session_ft)    \n",
    "label1_session_change = pd.merge(label1_users[[\"user_id\"]].drop_duplicates(),\\\n",
    "                                    label1_session_change, how='left', on =\"user_id\").fillna(0)\n",
    "plot_ecdf(label1_session_change[\"changes_session\"], \"ECDF plot of how many times iap users log-in into \\n the game within 7 days before making first iap \\n (only include users who made first iap after 40 days of install date)\")"
   ]
  },
  {
   "cell_type": "markdown",
   "id": "b91359ac",
   "metadata": {},
   "source": [
    "## 5.  Feature Engineering "
   ]
  },
  {
   "cell_type": "code",
   "execution_count": 112,
   "id": "f5787e0d",
   "metadata": {},
   "outputs": [],
   "source": [
    "def feature_engineering_spend(users, df_spend, df_session, ls_ft):\n",
    "    df_session[\"ts\"] = pd.to_datetime(df_session[\"ts\"])\n",
    "    df_session[\"days_of_week\"] = df_session[\"ts\"].dt.dayofweek\n",
    "    df_session[\"holder\"] = 1\n",
    "    label0_date = pd.pivot_table(df_session, values =\"holder\", index=\"user_id\", \\\n",
    "                         columns='days_of_week', aggfunc='count').fillna(0).reset_index(col_level=0)\n",
    "    df_story = df_spend.groupby('user_id')['story'].nunique().reset_index()\n",
    "    df_chapter = df_spend.groupby('user_id')['chapter'].nunique().reset_index()\n",
    "    df_days = df_spend.groupby('user_id')['days_from_installed'].max().reset_index()\n",
    "    \n",
    "    ls_ft.extend([df_story, df_chapter, df_days, label0_date]) \n",
    "    label_fts = users\n",
    "    for data in ls_ft:\n",
    "        label_fts = pd.merge(label_fts, data, how = 'left', on=\"user_id\").fillna(0)\n",
    "    \n",
    "    return label_fts"
   ]
  },
  {
   "cell_type": "code",
   "execution_count": 113,
   "id": "89838c74",
   "metadata": {},
   "outputs": [
    {
     "name": "stderr",
     "output_type": "stream",
     "text": [
      "C:\\Users\\NghiTram\\anaconda3\\envs\\kaggleEnv\\lib\\site-packages\\ipykernel_launcher.py:2: SettingWithCopyWarning: \n",
      "A value is trying to be set on a copy of a slice from a DataFrame.\n",
      "Try using .loc[row_indexer,col_indexer] = value instead\n",
      "\n",
      "See the caveats in the documentation: https://pandas.pydata.org/pandas-docs/stable/user_guide/indexing.html#returning-a-view-versus-a-copy\n",
      "  \n",
      "C:\\Users\\NghiTram\\anaconda3\\envs\\kaggleEnv\\lib\\site-packages\\ipykernel_launcher.py:3: SettingWithCopyWarning: \n",
      "A value is trying to be set on a copy of a slice from a DataFrame.\n",
      "Try using .loc[row_indexer,col_indexer] = value instead\n",
      "\n",
      "See the caveats in the documentation: https://pandas.pydata.org/pandas-docs/stable/user_guide/indexing.html#returning-a-view-versus-a-copy\n",
      "  This is separate from the ipykernel package so we can avoid doing imports until\n",
      "C:\\Users\\NghiTram\\anaconda3\\envs\\kaggleEnv\\lib\\site-packages\\ipykernel_launcher.py:4: SettingWithCopyWarning: \n",
      "A value is trying to be set on a copy of a slice from a DataFrame.\n",
      "Try using .loc[row_indexer,col_indexer] = value instead\n",
      "\n",
      "See the caveats in the documentation: https://pandas.pydata.org/pandas-docs/stable/user_guide/indexing.html#returning-a-view-versus-a-copy\n",
      "  after removing the cwd from sys.path.\n"
     ]
    }
   ],
   "source": [
    "promo_group_dfs = [potentialUser_spent_gems,\n",
    "                potentialUser_earn_gems,\n",
    "                potentialUser_total_gems,\n",
    "                potentialUser_chapter_change,\n",
    "                potentialUser_session_change\n",
    "                ]         \n",
    "test_data_fts = feature_engineering_spend(NPU_active_users[[\"user_id\"]],\\\n",
    "                                          NPU_active_users_spending_ft, NPU_active_users_sessions_ft, promo_group_dfs)"
   ]
  },
  {
   "cell_type": "code",
   "execution_count": 114,
   "id": "0c07141e",
   "metadata": {},
   "outputs": [
    {
     "name": "stderr",
     "output_type": "stream",
     "text": [
      "C:\\Users\\NghiTram\\anaconda3\\envs\\kaggleEnv\\lib\\site-packages\\ipykernel_launcher.py:2: SettingWithCopyWarning: \n",
      "A value is trying to be set on a copy of a slice from a DataFrame.\n",
      "Try using .loc[row_indexer,col_indexer] = value instead\n",
      "\n",
      "See the caveats in the documentation: https://pandas.pydata.org/pandas-docs/stable/user_guide/indexing.html#returning-a-view-versus-a-copy\n",
      "  \n",
      "C:\\Users\\NghiTram\\anaconda3\\envs\\kaggleEnv\\lib\\site-packages\\ipykernel_launcher.py:3: SettingWithCopyWarning: \n",
      "A value is trying to be set on a copy of a slice from a DataFrame.\n",
      "Try using .loc[row_indexer,col_indexer] = value instead\n",
      "\n",
      "See the caveats in the documentation: https://pandas.pydata.org/pandas-docs/stable/user_guide/indexing.html#returning-a-view-versus-a-copy\n",
      "  This is separate from the ipykernel package so we can avoid doing imports until\n",
      "C:\\Users\\NghiTram\\anaconda3\\envs\\kaggleEnv\\lib\\site-packages\\ipykernel_launcher.py:4: SettingWithCopyWarning: \n",
      "A value is trying to be set on a copy of a slice from a DataFrame.\n",
      "Try using .loc[row_indexer,col_indexer] = value instead\n",
      "\n",
      "See the caveats in the documentation: https://pandas.pydata.org/pandas-docs/stable/user_guide/indexing.html#returning-a-view-versus-a-copy\n",
      "  after removing the cwd from sys.path.\n"
     ]
    }
   ],
   "source": [
    "label0_dfs = [label0_spent_gems,\n",
    "            label0_earn_gems,\n",
    "            label0_total_gems,\n",
    "            label0_chapter_change,\n",
    "            label0_session_change\n",
    "            ]   \n",
    "label0_fts = feature_engineering_spend(label0_users_df[[\"user_id\"]], \\\n",
    "                                       label0_users_spending_ft, label0_users_sessions_ft, label0_dfs)"
   ]
  },
  {
   "cell_type": "code",
   "execution_count": 115,
   "id": "36d4c85f",
   "metadata": {},
   "outputs": [
    {
     "name": "stderr",
     "output_type": "stream",
     "text": [
      "C:\\Users\\NghiTram\\anaconda3\\envs\\kaggleEnv\\lib\\site-packages\\ipykernel_launcher.py:2: SettingWithCopyWarning: \n",
      "A value is trying to be set on a copy of a slice from a DataFrame.\n",
      "Try using .loc[row_indexer,col_indexer] = value instead\n",
      "\n",
      "See the caveats in the documentation: https://pandas.pydata.org/pandas-docs/stable/user_guide/indexing.html#returning-a-view-versus-a-copy\n",
      "  \n",
      "C:\\Users\\NghiTram\\anaconda3\\envs\\kaggleEnv\\lib\\site-packages\\ipykernel_launcher.py:3: SettingWithCopyWarning: \n",
      "A value is trying to be set on a copy of a slice from a DataFrame.\n",
      "Try using .loc[row_indexer,col_indexer] = value instead\n",
      "\n",
      "See the caveats in the documentation: https://pandas.pydata.org/pandas-docs/stable/user_guide/indexing.html#returning-a-view-versus-a-copy\n",
      "  This is separate from the ipykernel package so we can avoid doing imports until\n",
      "C:\\Users\\NghiTram\\anaconda3\\envs\\kaggleEnv\\lib\\site-packages\\ipykernel_launcher.py:4: SettingWithCopyWarning: \n",
      "A value is trying to be set on a copy of a slice from a DataFrame.\n",
      "Try using .loc[row_indexer,col_indexer] = value instead\n",
      "\n",
      "See the caveats in the documentation: https://pandas.pydata.org/pandas-docs/stable/user_guide/indexing.html#returning-a-view-versus-a-copy\n",
      "  after removing the cwd from sys.path.\n"
     ]
    }
   ],
   "source": [
    "label1_dfs = [label1_spent_gems,\n",
    "            label1_earn_gems,\n",
    "            label1_total_gems,\n",
    "            label1_chapter_change,\n",
    "            label1_session_change\n",
    "            ]  \n",
    "label1_fts = feature_engineering_spend(label1_users[[\"user_id\"]], \\\n",
    "                                       df_spend_ft, df_session_ft, label1_dfs)"
   ]
  },
  {
   "cell_type": "code",
   "execution_count": 116,
   "id": "94f242f4",
   "metadata": {},
   "outputs": [],
   "source": [
    "label1_fts[\"label\"] = 1\n",
    "label0_fts[\"label\"] = 0"
   ]
  },
  {
   "cell_type": "code",
   "execution_count": 117,
   "id": "154c6e66",
   "metadata": {},
   "outputs": [
    {
     "data": {
      "text/plain": [
       "6.351464435146443"
      ]
     },
     "execution_count": 117,
     "metadata": {},
     "output_type": "execute_result"
    }
   ],
   "source": [
    "### calculate class weight\n",
    "label0_fts.shape[0]/label1_fts.shape[0]"
   ]
  },
  {
   "cell_type": "code",
   "execution_count": 118,
   "id": "d36d2391",
   "metadata": {},
   "outputs": [
    {
     "data": {
      "text/html": [
       "<div>\n",
       "<style scoped>\n",
       "    .dataframe tbody tr th:only-of-type {\n",
       "        vertical-align: middle;\n",
       "    }\n",
       "\n",
       "    .dataframe tbody tr th {\n",
       "        vertical-align: top;\n",
       "    }\n",
       "\n",
       "    .dataframe thead th {\n",
       "        text-align: right;\n",
       "    }\n",
       "</style>\n",
       "<table border=\"1\" class=\"dataframe\">\n",
       "  <thead>\n",
       "    <tr style=\"text-align: right;\">\n",
       "      <th></th>\n",
       "      <th>user_id</th>\n",
       "      <th>gems_spent</th>\n",
       "      <th>gems_earn</th>\n",
       "      <th>total_gems</th>\n",
       "      <th>chapter_changes</th>\n",
       "      <th>changes_session</th>\n",
       "      <th>story</th>\n",
       "      <th>chapter</th>\n",
       "      <th>days_from_installed</th>\n",
       "      <th>0</th>\n",
       "      <th>1</th>\n",
       "      <th>2</th>\n",
       "      <th>3</th>\n",
       "      <th>4</th>\n",
       "      <th>5</th>\n",
       "      <th>6</th>\n",
       "      <th>label</th>\n",
       "    </tr>\n",
       "  </thead>\n",
       "  <tbody>\n",
       "    <tr>\n",
       "      <th>593</th>\n",
       "      <td>8533</td>\n",
       "      <td>0.0</td>\n",
       "      <td>0.0</td>\n",
       "      <td>22.0</td>\n",
       "      <td>0.0</td>\n",
       "      <td>1.0</td>\n",
       "      <td>0.0</td>\n",
       "      <td>0.0</td>\n",
       "      <td>0.0</td>\n",
       "      <td>0.0</td>\n",
       "      <td>2.0</td>\n",
       "      <td>0.0</td>\n",
       "      <td>0.0</td>\n",
       "      <td>0.0</td>\n",
       "      <td>0.0</td>\n",
       "      <td>0.0</td>\n",
       "      <td>0</td>\n",
       "    </tr>\n",
       "    <tr>\n",
       "      <th>15</th>\n",
       "      <td>1056</td>\n",
       "      <td>22.0</td>\n",
       "      <td>22.0</td>\n",
       "      <td>44.0</td>\n",
       "      <td>8.0</td>\n",
       "      <td>58.0</td>\n",
       "      <td>2.0</td>\n",
       "      <td>2.0</td>\n",
       "      <td>43.0</td>\n",
       "      <td>9.0</td>\n",
       "      <td>0.0</td>\n",
       "      <td>7.0</td>\n",
       "      <td>8.0</td>\n",
       "      <td>8.0</td>\n",
       "      <td>19.0</td>\n",
       "      <td>8.0</td>\n",
       "      <td>1</td>\n",
       "    </tr>\n",
       "    <tr>\n",
       "      <th>1052</th>\n",
       "      <td>15713</td>\n",
       "      <td>0.0</td>\n",
       "      <td>0.0</td>\n",
       "      <td>22.0</td>\n",
       "      <td>0.0</td>\n",
       "      <td>2.0</td>\n",
       "      <td>0.0</td>\n",
       "      <td>0.0</td>\n",
       "      <td>0.0</td>\n",
       "      <td>1.0</td>\n",
       "      <td>0.0</td>\n",
       "      <td>1.0</td>\n",
       "      <td>1.0</td>\n",
       "      <td>0.0</td>\n",
       "      <td>0.0</td>\n",
       "      <td>0.0</td>\n",
       "      <td>0</td>\n",
       "    </tr>\n",
       "    <tr>\n",
       "      <th>1313</th>\n",
       "      <td>19727</td>\n",
       "      <td>0.0</td>\n",
       "      <td>0.0</td>\n",
       "      <td>50.0</td>\n",
       "      <td>0.0</td>\n",
       "      <td>0.0</td>\n",
       "      <td>0.0</td>\n",
       "      <td>0.0</td>\n",
       "      <td>0.0</td>\n",
       "      <td>0.0</td>\n",
       "      <td>0.0</td>\n",
       "      <td>1.0</td>\n",
       "      <td>0.0</td>\n",
       "      <td>0.0</td>\n",
       "      <td>0.0</td>\n",
       "      <td>0.0</td>\n",
       "      <td>0</td>\n",
       "    </tr>\n",
       "    <tr>\n",
       "      <th>1064</th>\n",
       "      <td>15949</td>\n",
       "      <td>0.0</td>\n",
       "      <td>0.0</td>\n",
       "      <td>22.0</td>\n",
       "      <td>0.0</td>\n",
       "      <td>0.0</td>\n",
       "      <td>0.0</td>\n",
       "      <td>0.0</td>\n",
       "      <td>0.0</td>\n",
       "      <td>0.0</td>\n",
       "      <td>0.0</td>\n",
       "      <td>0.0</td>\n",
       "      <td>0.0</td>\n",
       "      <td>1.0</td>\n",
       "      <td>0.0</td>\n",
       "      <td>0.0</td>\n",
       "      <td>0</td>\n",
       "    </tr>\n",
       "  </tbody>\n",
       "</table>\n",
       "</div>"
      ],
      "text/plain": [
       "      user_id  gems_spent  gems_earn  total_gems  chapter_changes  \\\n",
       "593      8533         0.0        0.0        22.0              0.0   \n",
       "15       1056        22.0       22.0        44.0              8.0   \n",
       "1052    15713         0.0        0.0        22.0              0.0   \n",
       "1313    19727         0.0        0.0        50.0              0.0   \n",
       "1064    15949         0.0        0.0        22.0              0.0   \n",
       "\n",
       "      changes_session  story  chapter  days_from_installed    0    1    2  \\\n",
       "593               1.0    0.0      0.0                  0.0  0.0  2.0  0.0   \n",
       "15               58.0    2.0      2.0                 43.0  9.0  0.0  7.0   \n",
       "1052              2.0    0.0      0.0                  0.0  1.0  0.0  1.0   \n",
       "1313              0.0    0.0      0.0                  0.0  0.0  0.0  1.0   \n",
       "1064              0.0    0.0      0.0                  0.0  0.0  0.0  0.0   \n",
       "\n",
       "        3    4     5    6  label  \n",
       "593   0.0  0.0   0.0  0.0      0  \n",
       "15    8.0  8.0  19.0  8.0      1  \n",
       "1052  1.0  0.0   0.0  0.0      0  \n",
       "1313  0.0  0.0   0.0  0.0      0  \n",
       "1064  0.0  1.0   0.0  0.0      0  "
      ]
     },
     "execution_count": 118,
     "metadata": {},
     "output_type": "execute_result"
    }
   ],
   "source": [
    "df_data = pd.concat([label0_fts, label1_fts])\n",
    "df_data = df_data.sample(frac=1)\n",
    "df_data.head(5)"
   ]
  },
  {
   "cell_type": "code",
   "execution_count": 119,
   "id": "88091a38",
   "metadata": {},
   "outputs": [],
   "source": [
    "def evaluation(y_true, y_pred, title = \"\"):\n",
    "    \"\"\"\n",
    "    This function is used to compute the confusion matrix \n",
    "    and other evaluation metrics.\n",
    "    \"\"\"\n",
    "    cm = confusion_matrix(y_true, y_pred)\n",
    "    print('Confusion Matrix for {}: \\n'.format(title), cm)\n",
    "    total = sum(sum(cm))\n",
    "    \n",
    "    print('=============')\n",
    "    accuracy = (cm[0,0] + cm[1,1]) /total\n",
    "    print ('Accuracy    : {}'.format(accuracy))\n",
    "    Specificity = cm[0,0] / (cm[0,0] + cm[0,1])\n",
    "    print('Specificity :  {}'.format(Specificity))\n",
    "    sensitivity = cm[1,1] / (cm[1,0] + cm[1,1])\n",
    "    print('Sensitivity :  {}'.format(sensitivity))"
   ]
  },
  {
   "cell_type": "code",
   "execution_count": 120,
   "id": "629a77cc",
   "metadata": {},
   "outputs": [
    {
     "name": "stderr",
     "output_type": "stream",
     "text": [
      "C:\\Users\\NghiTram\\anaconda3\\envs\\kaggleEnv\\lib\\site-packages\\sklearn\\linear_model\\_logistic.py:765: ConvergenceWarning: lbfgs failed to converge (status=1):\n",
      "STOP: TOTAL NO. of ITERATIONS REACHED LIMIT.\n",
      "\n",
      "Increase the number of iterations (max_iter) or scale the data as shown in:\n",
      "    https://scikit-learn.org/stable/modules/preprocessing.html\n",
      "Please also refer to the documentation for alternative solver options:\n",
      "    https://scikit-learn.org/stable/modules/linear_model.html#logistic-regression\n",
      "  extra_warning_msg=_LOGISTIC_SOLVER_CONVERGENCE_MSG)\n"
     ]
    }
   ],
   "source": [
    "### preparing data\n",
    "X = np.array(df_data.loc[:,~df_data.columns.isin([\"label\", \"user_id\"])])\n",
    "y = np.array(df_data[\"label\"])\n",
    "\n",
    "### spliting test and train dataset from lot 1\n",
    "X_train, X_test, y_train, y_test = train_test_split(X, y, test_size=0.1, random_state=42)\n",
    "\n",
    "### fit the model\n",
    "clf = LogisticRegression(random_state=0, class_weight={0:1, 1:7}).fit(X_train, y_train)"
   ]
  },
  {
   "cell_type": "code",
   "execution_count": 91,
   "id": "cc4dc954",
   "metadata": {},
   "outputs": [
    {
     "name": "stdout",
     "output_type": "stream",
     "text": [
      "Confusion Matrix for : \n",
      " [[144   8]\n",
      " [  9  15]]\n",
      "=============\n",
      "Accuracy    : 0.9034090909090909\n",
      "Specificity :  0.9473684210526315\n",
      "Sensitivity :  0.625\n"
     ]
    }
   ],
   "source": [
    "evaluation(y_test, clf.predict(X_test))"
   ]
  },
  {
   "cell_type": "code",
   "execution_count": 92,
   "id": "b7551d8e",
   "metadata": {},
   "outputs": [
    {
     "data": {
      "text/plain": [
       "array([0, 1, 0, ..., 0, 0, 1], dtype=int64)"
      ]
     },
     "execution_count": 92,
     "metadata": {},
     "output_type": "execute_result"
    }
   ],
   "source": [
    "clf.predict(np.array(test_data_fts.loc[:,~test_data_fts.columns.isin([\"label\", \"user_id\"])])) ### test on potential users"
   ]
  },
  {
   "cell_type": "markdown",
   "id": "9a34a426",
   "metadata": {},
   "source": [
    "### Potential group "
   ]
  },
  {
   "cell_type": "code",
   "execution_count": 53,
   "id": "b66720ff",
   "metadata": {},
   "outputs": [
    {
     "data": {
      "text/plain": [
       "(309, 16)"
      ]
     },
     "execution_count": 53,
     "metadata": {},
     "output_type": "execute_result"
    }
   ],
   "source": [
    "potential_users_for_promotion = test_data_fts[(test_data_fts.changes_session > 15)\\\n",
    "              & (test_data_fts.changes_session < 50)]\n",
    "potential_users_for_promotion.shape"
   ]
  },
  {
   "cell_type": "code",
   "execution_count": 54,
   "id": "e4872fe5",
   "metadata": {},
   "outputs": [
    {
     "data": {
      "text/plain": [
       "array([[0.92350377, 0.07649623],\n",
       "       [0.55440588, 0.44559412],\n",
       "       [0.88829504, 0.11170496],\n",
       "       ...,\n",
       "       [0.91385049, 0.08614951],\n",
       "       [0.9034045 , 0.0965955 ],\n",
       "       [0.71778615, 0.28221385]])"
      ]
     },
     "execution_count": 54,
     "metadata": {},
     "output_type": "execute_result"
    }
   ],
   "source": [
    "clf.predict_proba(np.array(test_data_fts.loc[:,~test_data_fts.columns.isin([\"label\", \"user_id\"])]))"
   ]
  },
  {
   "cell_type": "code",
   "execution_count": null,
   "id": "b14372e8",
   "metadata": {},
   "outputs": [],
   "source": []
  }
 ],
 "metadata": {
  "kernelspec": {
   "display_name": "Python 3",
   "language": "python",
   "name": "python3"
  },
  "language_info": {
   "codemirror_mode": {
    "name": "ipython",
    "version": 3
   },
   "file_extension": ".py",
   "mimetype": "text/x-python",
   "name": "python",
   "nbconvert_exporter": "python",
   "pygments_lexer": "ipython3",
   "version": "3.7.9"
  }
 },
 "nbformat": 4,
 "nbformat_minor": 5
}

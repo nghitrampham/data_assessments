{
 "cells": [
  {
   "cell_type": "code",
   "execution_count": 1,
   "id": "526b5a6b",
   "metadata": {},
   "outputs": [],
   "source": [
    "import numpy as np \n",
    "import pandas as pd\n",
    "import seaborn as sns\n",
    "import matplotlib.pyplot as plt"
   ]
  },
  {
   "cell_type": "markdown",
   "id": "81cf391b",
   "metadata": {},
   "source": [
    "### Helper functions "
   ]
  },
  {
   "cell_type": "code",
   "execution_count": 2,
   "id": "3e2a7d8d",
   "metadata": {},
   "outputs": [],
   "source": [
    "def evaluation(y_true, y_pred, title = \"\"):\n",
    "    \"\"\"\n",
    "    This function is used to compute the confusion matrix \n",
    "    and other evaluation metrics.\n",
    "    \"\"\"\n",
    "    cm = confusion_matrix(y_true, y_pred)\n",
    "    print('Confusion Matrix for {}: \\n'.format(title), cm)\n",
    "    total = sum(sum(cm))\n",
    "    \n",
    "    print('=============')\n",
    "    accuracy = (cm[0,0] + cm[1,1]) /total\n",
    "    print ('Accuracy    : {}'.format(accuracy))\n",
    "    Specificity = cm[0,0] / (cm[0,0] + cm[0,1])\n",
    "    print('Specificity :  {}'.format(Specificity))\n",
    "    sensitivity = cm[1,1] / (cm[1,0] + cm[1,1])\n",
    "    print('Sensitivity :  {}'.format(sensitivity))\n",
    "    \n",
    "    \n",
    "def plot_swarm(x, y, df):\n",
    "    sns.set()\n",
    "    sns.swarmplot(x=x, y = y, data = df)\n",
    "    plt.xlabel(x)\n",
    "    plt.ylabel(y)\n",
    "    plt.show()\n",
    "    \n",
    "def ecdf(data):\n",
    "    n = len(data)\n",
    "    x = np.sort(data)\n",
    "    y = np.arange(1, n+1) / n\n",
    "    return x, y"
   ]
  },
  {
   "cell_type": "markdown",
   "id": "02e200d6",
   "metadata": {},
   "source": [
    "### EDA \n",
    "- 51 paying users are not recorded in spending_df\n",
    "- iaps_df[\"user_id\"].nunique() - pd.merge(iaps_df,spending_df, on = \"user_id\")[\"user_id\"].nunique()"
   ]
  },
  {
   "cell_type": "code",
   "execution_count": 3,
   "id": "842e8654",
   "metadata": {},
   "outputs": [],
   "source": [
    "### load data \n",
    "user_df = pd.read_csv(\"users.csv\")\n",
    "sessions_df = pd.read_csv(\"sessions.csv\").drop_duplicates()\n",
    "iaps_df = pd.read_csv(\"iaps.csv\").drop_duplicates()\n",
    "spending_df = pd.read_csv(\"spendevents.csv\").drop_duplicates()\n",
    "\n",
    "\n",
    "### change to datetime format\n",
    "spending_df[\"date\"] = pd.to_datetime(spending_df[\"date\"])\n",
    "sessions_df[\"date\"] = pd.to_datetime(sessions_df[\"date\"])\n",
    "user_df[\"install_date\"] = pd.to_datetime(user_df[\"install_date\"])\n",
    "iaps_df[\"date\"] = pd.to_datetime(iaps_df[\"date\"])"
   ]
  },
  {
   "cell_type": "markdown",
   "id": "fe1a25d5",
   "metadata": {},
   "source": [
    "## Non- paying users characteristics "
   ]
  },
  {
   "cell_type": "code",
   "execution_count": 4,
   "id": "1efc6694",
   "metadata": {},
   "outputs": [
    {
     "data": {
      "text/plain": [
       "array([   10,    11,    15, ..., 22556, 22560, 22562], dtype=int64)"
      ]
     },
     "execution_count": 4,
     "metadata": {},
     "output_type": "execute_result"
    }
   ],
   "source": [
    "non_payer_df = user_df[~user_df.user_id.isin(iaps_df[\"user_id\"].unique())] ## total of 21050 non-paying users\n",
    "session_non_payer_df = pd.merge(non_payer_df, sessions_df, on = \"user_id\")\n",
    "session_non_payer_df[\"days_from_installed\"] = session_non_payer_df[\"date\"] - session_non_payer_df[\"install_date\"]\n",
    "session_non_payer_df[\"days_from_installed\"] = session_non_payer_df[\"days_from_installed\"].dt.days\n",
    "label0_df = session_non_payer_df[session_non_payer_df.days_from_installed > 45][[\"user_id\", \"install_date\"]].drop_duplicates()\n",
    "label0_ls = session_non_payer_df[session_non_payer_df.days_from_installed > 45][\"user_id\"].unique() ### 1926 label 0 to train\n",
    "label0_ls"
   ]
  },
  {
   "cell_type": "code",
   "execution_count": 5,
   "id": "6b8b03a7",
   "metadata": {},
   "outputs": [
    {
     "data": {
      "text/html": [
       "<div>\n",
       "<style scoped>\n",
       "    .dataframe tbody tr th:only-of-type {\n",
       "        vertical-align: middle;\n",
       "    }\n",
       "\n",
       "    .dataframe tbody tr th {\n",
       "        vertical-align: top;\n",
       "    }\n",
       "\n",
       "    .dataframe thead th {\n",
       "        text-align: right;\n",
       "    }\n",
       "</style>\n",
       "<table border=\"1\" class=\"dataframe\">\n",
       "  <thead>\n",
       "    <tr style=\"text-align: right;\">\n",
       "      <th></th>\n",
       "      <th>user_id</th>\n",
       "      <th>install_date</th>\n",
       "    </tr>\n",
       "  </thead>\n",
       "  <tbody>\n",
       "    <tr>\n",
       "      <th>285</th>\n",
       "      <td>10</td>\n",
       "      <td>2019-03-05</td>\n",
       "    </tr>\n",
       "    <tr>\n",
       "      <th>331</th>\n",
       "      <td>11</td>\n",
       "      <td>2019-03-04</td>\n",
       "    </tr>\n",
       "  </tbody>\n",
       "</table>\n",
       "</div>"
      ],
      "text/plain": [
       "     user_id install_date\n",
       "285       10   2019-03-05\n",
       "331       11   2019-03-04"
      ]
     },
     "execution_count": 5,
     "metadata": {},
     "output_type": "execute_result"
    }
   ],
   "source": [
    "label0_df.head(2)"
   ]
  },
  {
   "cell_type": "markdown",
   "id": "3ae19cfc",
   "metadata": {},
   "source": [
    "###  1. Current level\n",
    "- In the label 0 group of 2463 non-paying users, 186 of them don't have record in spendevents. We will exclude them \n",
    "- label0_df[\"user_id\"].nunique() - label0_chapter[\"user_id\"].nunique()"
   ]
  },
  {
   "cell_type": "code",
   "execution_count": 9,
   "id": "95aa0019",
   "metadata": {},
   "outputs": [
    {
     "data": {
      "text/html": [
       "<div>\n",
       "<style scoped>\n",
       "    .dataframe tbody tr th:only-of-type {\n",
       "        vertical-align: middle;\n",
       "    }\n",
       "\n",
       "    .dataframe tbody tr th {\n",
       "        vertical-align: top;\n",
       "    }\n",
       "\n",
       "    .dataframe thead th {\n",
       "        text-align: right;\n",
       "    }\n",
       "</style>\n",
       "<table border=\"1\" class=\"dataframe\">\n",
       "  <thead>\n",
       "    <tr style=\"text-align: right;\">\n",
       "      <th></th>\n",
       "      <th>user_id</th>\n",
       "      <th>chapter</th>\n",
       "    </tr>\n",
       "  </thead>\n",
       "  <tbody>\n",
       "    <tr>\n",
       "      <th>3</th>\n",
       "      <td>10</td>\n",
       "      <td>3</td>\n",
       "    </tr>\n",
       "    <tr>\n",
       "      <th>6</th>\n",
       "      <td>11</td>\n",
       "      <td>9</td>\n",
       "    </tr>\n",
       "  </tbody>\n",
       "</table>\n",
       "</div>"
      ],
      "text/plain": [
       "   user_id  chapter\n",
       "3       10        3\n",
       "6       11        9"
      ]
     },
     "execution_count": 9,
     "metadata": {},
     "output_type": "execute_result"
    }
   ],
   "source": [
    "label0_chapter = pd.merge(label0_df, spending_df, on = 'user_id')\n",
    "idx = label0_chapter.groupby(\"user_id\")[\"chapter\"].transform(max) == label0_chapter[\"chapter\"]\n",
    "df_chapter = label0_chapter[idx][[\"user_id\", \"chapter\"]].drop_duplicates()\n",
    "df_chapter.head(2)"
   ]
  },
  {
   "cell_type": "code",
   "execution_count": 15,
   "id": "ac6f5b1e",
   "metadata": {},
   "outputs": [
    {
     "data": {
      "text/plain": [
       "(2277, 2)"
      ]
     },
     "execution_count": 15,
     "metadata": {},
     "output_type": "execute_result"
    }
   ],
   "source": [
    "df_chapter.shape ### 2463 - 186 (excluding 186 missing users data)"
   ]
  },
  {
   "cell_type": "code",
   "execution_count": 10,
   "id": "a8256583",
   "metadata": {},
   "outputs": [
    {
     "data": {
      "text/plain": [
       "Text(0.5, 1.0, 'ECDF plot of current chapters of non-convertible users')"
      ]
     },
     "execution_count": 10,
     "metadata": {},
     "output_type": "execute_result"
    },
    {
     "data": {
      "image/png": "[encoded data removed]",
      "text/plain": [
       "<Figure size 432x288 with 1 Axes>"
      ]
     },
     "metadata": {},
     "output_type": "display_data"
    }
   ],
   "source": [
    "sns.set()\n",
    "x_ecdf, y_ecdf = ecdf(df_chapter[\"chapter\"])\n",
    "sns.scatterplot(x=x_ecdf, y=y_ecdf)\n",
    "plt.title(\"ECDF plot of current chapters of non-convertible users\")"
   ]
  },
  {
   "cell_type": "code",
   "execution_count": null,
   "id": "1f64bff3",
   "metadata": {},
   "outputs": [],
   "source": [
    "### 2. Current amount of gems "
   ]
  }
 ],
 "metadata": {
  "kernelspec": {
   "display_name": "Python 3",
   "language": "python",
   "name": "python3"
  },
  "language_info": {
   "codemirror_mode": {
    "name": "ipython",
    "version": 3
   },
   "file_extension": ".py",
   "mimetype": "text/x-python",
   "name": "python",
   "nbconvert_exporter": "python",
   "pygments_lexer": "ipython3",
   "version": "3.7.9"
  }
 },
 "nbformat": 4,
 "nbformat_minor": 5
}

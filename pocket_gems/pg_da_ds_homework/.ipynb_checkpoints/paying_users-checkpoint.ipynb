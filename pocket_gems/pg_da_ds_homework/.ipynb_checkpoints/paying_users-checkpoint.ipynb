{
 "cells": [
  {
   "cell_type": "code",
   "execution_count": 1,
   "id": "526b5a6b",
   "metadata": {},
   "outputs": [],
   "source": [
    "import numpy as np \n",
    "import pandas as pd\n",
    "import seaborn as sns\n",
    "import matplotlib.pyplot as plt"
   ]
  },
  {
   "cell_type": "markdown",
   "id": "81cf391b",
   "metadata": {},
   "source": [
    "### Helper functions "
   ]
  },
  {
   "cell_type": "code",
   "execution_count": 2,
   "id": "3e2a7d8d",
   "metadata": {},
   "outputs": [],
   "source": [
    "def evaluation(y_true, y_pred, title = \"\"):\n",
    "    \"\"\"\n",
    "    This function is used to compute the confusion matrix \n",
    "    and other evaluation metrics.\n",
    "    \"\"\"\n",
    "    cm = confusion_matrix(y_true, y_pred)\n",
    "    print('Confusion Matrix for {}: \\n'.format(title), cm)\n",
    "    total = sum(sum(cm))\n",
    "    \n",
    "    print('=============')\n",
    "    accuracy = (cm[0,0] + cm[1,1]) /total\n",
    "    print ('Accuracy    : {}'.format(accuracy))\n",
    "    Specificity = cm[0,0] / (cm[0,0] + cm[0,1])\n",
    "    print('Specificity :  {}'.format(Specificity))\n",
    "    sensitivity = cm[1,1] / (cm[1,0] + cm[1,1])\n",
    "    print('Sensitivity :  {}'.format(sensitivity))\n",
    "    \n",
    "    \n",
    "def plot_swarm(x, y, df):\n",
    "    sns.set()\n",
    "    sns.swarmplot(x=x, y = y, data = df)\n",
    "    plt.xlabel(x)\n",
    "    plt.ylabel(y)\n",
    "    plt.show()\n",
    "    \n",
    "def ecdf(data):\n",
    "    n = len(data)\n",
    "    x = np.sort(data)\n",
    "    y = np.arange(1, n+1) / n\n",
    "    return x, y"
   ]
  },
  {
   "cell_type": "markdown",
   "id": "02e200d6",
   "metadata": {},
   "source": [
    "### EDA "
   ]
  },
  {
   "cell_type": "markdown",
   "id": "ab44eb49",
   "metadata": {},
   "source": [
    "### 1. users data \n",
    "- no duplicates in user_id\n",
    "- non-null objects"
   ]
  },
  {
   "cell_type": "code",
   "execution_count": 3,
   "id": "d899420e",
   "metadata": {},
   "outputs": [
    {
     "data": {
      "text/html": [
       "<div>\n",
       "<style scoped>\n",
       "    .dataframe tbody tr th:only-of-type {\n",
       "        vertical-align: middle;\n",
       "    }\n",
       "\n",
       "    .dataframe tbody tr th {\n",
       "        vertical-align: top;\n",
       "    }\n",
       "\n",
       "    .dataframe thead th {\n",
       "        text-align: right;\n",
       "    }\n",
       "</style>\n",
       "<table border=\"1\" class=\"dataframe\">\n",
       "  <thead>\n",
       "    <tr style=\"text-align: right;\">\n",
       "      <th></th>\n",
       "      <th>user_id</th>\n",
       "      <th>install_date</th>\n",
       "      <th>lang</th>\n",
       "      <th>country</th>\n",
       "      <th>hw_ver</th>\n",
       "      <th>os_ver</th>\n",
       "    </tr>\n",
       "  </thead>\n",
       "  <tbody>\n",
       "    <tr>\n",
       "      <th>0</th>\n",
       "      <td>0</td>\n",
       "      <td>2019-03-01</td>\n",
       "      <td>en</td>\n",
       "      <td>US</td>\n",
       "      <td>iPhone4,1</td>\n",
       "      <td>9.1</td>\n",
       "    </tr>\n",
       "    <tr>\n",
       "      <th>1</th>\n",
       "      <td>1</td>\n",
       "      <td>2019-03-01</td>\n",
       "      <td>en</td>\n",
       "      <td>IN</td>\n",
       "      <td>iPod5,1</td>\n",
       "      <td>8.1.2</td>\n",
       "    </tr>\n",
       "    <tr>\n",
       "      <th>2</th>\n",
       "      <td>2</td>\n",
       "      <td>2019-03-06</td>\n",
       "      <td>en</td>\n",
       "      <td>US</td>\n",
       "      <td>iPod7,1</td>\n",
       "      <td>8.4.1</td>\n",
       "    </tr>\n",
       "    <tr>\n",
       "      <th>3</th>\n",
       "      <td>3</td>\n",
       "      <td>2019-03-03</td>\n",
       "      <td>nb</td>\n",
       "      <td>NO</td>\n",
       "      <td>iPhone8,1</td>\n",
       "      <td>9.2.1</td>\n",
       "    </tr>\n",
       "    <tr>\n",
       "      <th>4</th>\n",
       "      <td>4</td>\n",
       "      <td>2019-03-03</td>\n",
       "      <td>en</td>\n",
       "      <td>GB</td>\n",
       "      <td>iPhone5,4</td>\n",
       "      <td>9.2.1</td>\n",
       "    </tr>\n",
       "  </tbody>\n",
       "</table>\n",
       "</div>"
      ],
      "text/plain": [
       "   user_id install_date lang country     hw_ver os_ver\n",
       "0        0   2019-03-01   en      US  iPhone4,1    9.1\n",
       "1        1   2019-03-01   en      IN    iPod5,1  8.1.2\n",
       "2        2   2019-03-06   en      US    iPod7,1  8.4.1\n",
       "3        3   2019-03-03   nb      NO  iPhone8,1  9.2.1\n",
       "4        4   2019-03-03   en      GB  iPhone5,4  9.2.1"
      ]
     },
     "execution_count": 3,
     "metadata": {},
     "output_type": "execute_result"
    }
   ],
   "source": [
    "user_df = pd.read_csv(\"users.csv\").drop_duplicates()\n",
    "user_df.head()"
   ]
  },
  {
   "cell_type": "code",
   "execution_count": 5,
   "id": "791b7df0",
   "metadata": {},
   "outputs": [],
   "source": [
    "user_df[\"install_date\"] = pd.to_datetime(user_df[\"install_date\"])"
   ]
  },
  {
   "cell_type": "code",
   "execution_count": 7,
   "id": "792e38e1",
   "metadata": {},
   "outputs": [
    {
     "data": {
      "text/plain": [
       "True"
      ]
     },
     "execution_count": 7,
     "metadata": {},
     "output_type": "execute_result"
    }
   ],
   "source": [
    "user_df.shape[0] == user_df[\"user_id\"].nunique()"
   ]
  },
  {
   "cell_type": "code",
   "execution_count": 8,
   "id": "19fd9bde",
   "metadata": {},
   "outputs": [
    {
     "name": "stdout",
     "output_type": "stream",
     "text": [
      "<class 'pandas.core.frame.DataFrame'>\n",
      "Int64Index: 22576 entries, 0 to 22575\n",
      "Data columns (total 6 columns):\n",
      " #   Column        Non-Null Count  Dtype         \n",
      "---  ------        --------------  -----         \n",
      " 0   user_id       22576 non-null  int64         \n",
      " 1   install_date  22576 non-null  datetime64[ns]\n",
      " 2   lang          22576 non-null  object        \n",
      " 3   country       22564 non-null  object        \n",
      " 4   hw_ver        22576 non-null  object        \n",
      " 5   os_ver        22576 non-null  object        \n",
      "dtypes: datetime64[ns](1), int64(1), object(4)\n",
      "memory usage: 1.2+ MB\n"
     ]
    },
    {
     "data": {
      "text/plain": [
       "None"
      ]
     },
     "metadata": {},
     "output_type": "display_data"
    }
   ],
   "source": [
    "display(user_df.info())"
   ]
  },
  {
   "cell_type": "markdown",
   "id": "16402dda",
   "metadata": {},
   "source": [
    "### 2. sessions data "
   ]
  },
  {
   "cell_type": "code",
   "execution_count": 9,
   "id": "cd2ef981",
   "metadata": {},
   "outputs": [
    {
     "data": {
      "text/html": [
       "<div>\n",
       "<style scoped>\n",
       "    .dataframe tbody tr th:only-of-type {\n",
       "        vertical-align: middle;\n",
       "    }\n",
       "\n",
       "    .dataframe tbody tr th {\n",
       "        vertical-align: top;\n",
       "    }\n",
       "\n",
       "    .dataframe thead th {\n",
       "        text-align: right;\n",
       "    }\n",
       "</style>\n",
       "<table border=\"1\" class=\"dataframe\">\n",
       "  <thead>\n",
       "    <tr style=\"text-align: right;\">\n",
       "      <th></th>\n",
       "      <th>user_id</th>\n",
       "      <th>ts</th>\n",
       "      <th>date</th>\n",
       "      <th>session_num</th>\n",
       "      <th>last_session_termination_type</th>\n",
       "    </tr>\n",
       "  </thead>\n",
       "  <tbody>\n",
       "    <tr>\n",
       "      <th>0</th>\n",
       "      <td>14067</td>\n",
       "      <td>2019-03-01 00:06:50</td>\n",
       "      <td>2019-03-01</td>\n",
       "      <td>1</td>\n",
       "      <td>NaN</td>\n",
       "    </tr>\n",
       "    <tr>\n",
       "      <th>1</th>\n",
       "      <td>14067</td>\n",
       "      <td>2019-03-01 00:22:27</td>\n",
       "      <td>2019-03-01</td>\n",
       "      <td>2</td>\n",
       "      <td>NaN</td>\n",
       "    </tr>\n",
       "    <tr>\n",
       "      <th>2</th>\n",
       "      <td>16275</td>\n",
       "      <td>2019-03-01 01:23:03</td>\n",
       "      <td>2019-03-01</td>\n",
       "      <td>1</td>\n",
       "      <td>NaN</td>\n",
       "    </tr>\n",
       "    <tr>\n",
       "      <th>3</th>\n",
       "      <td>16275</td>\n",
       "      <td>2019-03-01 01:31:16</td>\n",
       "      <td>2019-03-01</td>\n",
       "      <td>2</td>\n",
       "      <td>NaN</td>\n",
       "    </tr>\n",
       "    <tr>\n",
       "      <th>4</th>\n",
       "      <td>16275</td>\n",
       "      <td>2019-03-01 01:47:22</td>\n",
       "      <td>2019-03-01</td>\n",
       "      <td>3</td>\n",
       "      <td>NaN</td>\n",
       "    </tr>\n",
       "  </tbody>\n",
       "</table>\n",
       "</div>"
      ],
      "text/plain": [
       "   user_id                   ts        date  session_num  \\\n",
       "0    14067  2019-03-01 00:06:50  2019-03-01            1   \n",
       "1    14067  2019-03-01 00:22:27  2019-03-01            2   \n",
       "2    16275  2019-03-01 01:23:03  2019-03-01            1   \n",
       "3    16275  2019-03-01 01:31:16  2019-03-01            2   \n",
       "4    16275  2019-03-01 01:47:22  2019-03-01            3   \n",
       "\n",
       "   last_session_termination_type  \n",
       "0                            NaN  \n",
       "1                            NaN  \n",
       "2                            NaN  \n",
       "3                            NaN  \n",
       "4                            NaN  "
      ]
     },
     "execution_count": 9,
     "metadata": {},
     "output_type": "execute_result"
    }
   ],
   "source": [
    "sessions_df = pd.read_csv(\"sessions.csv\").drop_duplicates()\n",
    "sessions_df.head()"
   ]
  },
  {
   "cell_type": "code",
   "execution_count": 10,
   "id": "1bfe103e",
   "metadata": {},
   "outputs": [
    {
     "data": {
      "text/plain": [
       "array([nan])"
      ]
     },
     "execution_count": 10,
     "metadata": {},
     "output_type": "execute_result"
    }
   ],
   "source": [
    "sessions_df[\"last_session_termination_type\"].unique()"
   ]
  },
  {
   "cell_type": "code",
   "execution_count": 11,
   "id": "c2ccb466",
   "metadata": {},
   "outputs": [],
   "source": [
    "sessions_df[\"date\"] = pd.to_datetime(sessions_df[\"date\"])"
   ]
  },
  {
   "cell_type": "code",
   "execution_count": 12,
   "id": "4b25ff0e",
   "metadata": {},
   "outputs": [
    {
     "data": {
      "text/html": [
       "<div>\n",
       "<style scoped>\n",
       "    .dataframe tbody tr th:only-of-type {\n",
       "        vertical-align: middle;\n",
       "    }\n",
       "\n",
       "    .dataframe tbody tr th {\n",
       "        vertical-align: top;\n",
       "    }\n",
       "\n",
       "    .dataframe thead th {\n",
       "        text-align: right;\n",
       "    }\n",
       "</style>\n",
       "<table border=\"1\" class=\"dataframe\">\n",
       "  <thead>\n",
       "    <tr style=\"text-align: right;\">\n",
       "      <th></th>\n",
       "      <th>user_id</th>\n",
       "      <th>ts</th>\n",
       "      <th>date</th>\n",
       "      <th>session_num</th>\n",
       "      <th>last_session_termination_type</th>\n",
       "    </tr>\n",
       "  </thead>\n",
       "  <tbody>\n",
       "    <tr>\n",
       "      <th>2</th>\n",
       "      <td>16275</td>\n",
       "      <td>2019-03-01 01:23:03</td>\n",
       "      <td>2019-03-01</td>\n",
       "      <td>1</td>\n",
       "      <td>NaN</td>\n",
       "    </tr>\n",
       "    <tr>\n",
       "      <th>3</th>\n",
       "      <td>16275</td>\n",
       "      <td>2019-03-01 01:31:16</td>\n",
       "      <td>2019-03-01</td>\n",
       "      <td>2</td>\n",
       "      <td>NaN</td>\n",
       "    </tr>\n",
       "    <tr>\n",
       "      <th>4</th>\n",
       "      <td>16275</td>\n",
       "      <td>2019-03-01 01:47:22</td>\n",
       "      <td>2019-03-01</td>\n",
       "      <td>3</td>\n",
       "      <td>NaN</td>\n",
       "    </tr>\n",
       "    <tr>\n",
       "      <th>5</th>\n",
       "      <td>16275</td>\n",
       "      <td>2019-03-01 01:49:31</td>\n",
       "      <td>2019-03-01</td>\n",
       "      <td>4</td>\n",
       "      <td>NaN</td>\n",
       "    </tr>\n",
       "    <tr>\n",
       "      <th>6</th>\n",
       "      <td>16275</td>\n",
       "      <td>2019-03-01 02:06:51</td>\n",
       "      <td>2019-03-01</td>\n",
       "      <td>4</td>\n",
       "      <td>NaN</td>\n",
       "    </tr>\n",
       "    <tr>\n",
       "      <th>7</th>\n",
       "      <td>16275</td>\n",
       "      <td>2019-03-01 03:10:40</td>\n",
       "      <td>2019-03-01</td>\n",
       "      <td>5</td>\n",
       "      <td>NaN</td>\n",
       "    </tr>\n",
       "    <tr>\n",
       "      <th>14</th>\n",
       "      <td>16275</td>\n",
       "      <td>2019-03-01 07:34:08</td>\n",
       "      <td>2019-03-01</td>\n",
       "      <td>6</td>\n",
       "      <td>NaN</td>\n",
       "    </tr>\n",
       "    <tr>\n",
       "      <th>15</th>\n",
       "      <td>16275</td>\n",
       "      <td>2019-03-01 08:00:41</td>\n",
       "      <td>2019-03-01</td>\n",
       "      <td>7</td>\n",
       "      <td>NaN</td>\n",
       "    </tr>\n",
       "    <tr>\n",
       "      <th>16</th>\n",
       "      <td>16275</td>\n",
       "      <td>2019-03-01 08:31:34</td>\n",
       "      <td>2019-03-01</td>\n",
       "      <td>8</td>\n",
       "      <td>NaN</td>\n",
       "    </tr>\n",
       "    <tr>\n",
       "      <th>194</th>\n",
       "      <td>16275</td>\n",
       "      <td>2019-03-02 12:32:21</td>\n",
       "      <td>2019-03-02</td>\n",
       "      <td>9</td>\n",
       "      <td>NaN</td>\n",
       "    </tr>\n",
       "  </tbody>\n",
       "</table>\n",
       "</div>"
      ],
      "text/plain": [
       "     user_id                   ts       date  session_num  \\\n",
       "2      16275  2019-03-01 01:23:03 2019-03-01            1   \n",
       "3      16275  2019-03-01 01:31:16 2019-03-01            2   \n",
       "4      16275  2019-03-01 01:47:22 2019-03-01            3   \n",
       "5      16275  2019-03-01 01:49:31 2019-03-01            4   \n",
       "6      16275  2019-03-01 02:06:51 2019-03-01            4   \n",
       "7      16275  2019-03-01 03:10:40 2019-03-01            5   \n",
       "14     16275  2019-03-01 07:34:08 2019-03-01            6   \n",
       "15     16275  2019-03-01 08:00:41 2019-03-01            7   \n",
       "16     16275  2019-03-01 08:31:34 2019-03-01            8   \n",
       "194    16275  2019-03-02 12:32:21 2019-03-02            9   \n",
       "\n",
       "     last_session_termination_type  \n",
       "2                              NaN  \n",
       "3                              NaN  \n",
       "4                              NaN  \n",
       "5                              NaN  \n",
       "6                              NaN  \n",
       "7                              NaN  \n",
       "14                             NaN  \n",
       "15                             NaN  \n",
       "16                             NaN  \n",
       "194                            NaN  "
      ]
     },
     "execution_count": 12,
     "metadata": {},
     "output_type": "execute_result"
    }
   ],
   "source": [
    "sessions_df[sessions_df.user_id == 16275]"
   ]
  },
  {
   "cell_type": "code",
   "execution_count": 13,
   "id": "91e04ea5",
   "metadata": {},
   "outputs": [
    {
     "data": {
      "text/plain": [
       "(722831, 5)"
      ]
     },
     "execution_count": 13,
     "metadata": {},
     "output_type": "execute_result"
    }
   ],
   "source": [
    "sessions_df.drop_duplicates().shape"
   ]
  },
  {
   "cell_type": "code",
   "execution_count": 14,
   "id": "838125a3",
   "metadata": {},
   "outputs": [
    {
     "data": {
      "text/plain": [
       "(722831, 5)"
      ]
     },
     "execution_count": 14,
     "metadata": {},
     "output_type": "execute_result"
    }
   ],
   "source": [
    "sessions_df.shape"
   ]
  },
  {
   "cell_type": "code",
   "execution_count": 15,
   "id": "683c23f7",
   "metadata": {},
   "outputs": [
    {
     "data": {
      "text/plain": [
       "22544"
      ]
     },
     "execution_count": 15,
     "metadata": {},
     "output_type": "execute_result"
    }
   ],
   "source": [
    "sessions_df[\"user_id\"].nunique()"
   ]
  },
  {
   "cell_type": "code",
   "execution_count": 16,
   "id": "e9fb1645",
   "metadata": {},
   "outputs": [],
   "source": [
    "### remove users haven't converted to paying users after 30 days (it is very less likely that they will convert, but \n",
    "### sending out promotion won't hurt)\n",
    "### remove users who are not active within the 7 days "
   ]
  },
  {
   "cell_type": "markdown",
   "id": "8f2253d4",
   "metadata": {},
   "source": [
    "### 3. iaps data "
   ]
  },
  {
   "cell_type": "code",
   "execution_count": 17,
   "id": "0be51b09",
   "metadata": {},
   "outputs": [
    {
     "data": {
      "text/html": [
       "<div>\n",
       "<style scoped>\n",
       "    .dataframe tbody tr th:only-of-type {\n",
       "        vertical-align: middle;\n",
       "    }\n",
       "\n",
       "    .dataframe tbody tr th {\n",
       "        vertical-align: top;\n",
       "    }\n",
       "\n",
       "    .dataframe thead th {\n",
       "        text-align: right;\n",
       "    }\n",
       "</style>\n",
       "<table border=\"1\" class=\"dataframe\">\n",
       "  <thead>\n",
       "    <tr style=\"text-align: right;\">\n",
       "      <th></th>\n",
       "      <th>user_id</th>\n",
       "      <th>ts</th>\n",
       "      <th>date</th>\n",
       "      <th>prod_name</th>\n",
       "      <th>prod_type</th>\n",
       "      <th>rev</th>\n",
       "    </tr>\n",
       "  </thead>\n",
       "  <tbody>\n",
       "    <tr>\n",
       "      <th>0</th>\n",
       "      <td>7480</td>\n",
       "      <td>2019-03-04 08:15:49</td>\n",
       "      <td>2019-03-04</td>\n",
       "      <td>iap_1_gems_2</td>\n",
       "      <td>gems</td>\n",
       "      <td>760</td>\n",
       "    </tr>\n",
       "    <tr>\n",
       "      <th>1</th>\n",
       "      <td>7480</td>\n",
       "      <td>2019-03-04 08:24:15</td>\n",
       "      <td>2019-03-04</td>\n",
       "      <td>iap_1_passes_2</td>\n",
       "      <td>chapterPasses</td>\n",
       "      <td>760</td>\n",
       "    </tr>\n",
       "    <tr>\n",
       "      <th>2</th>\n",
       "      <td>7480</td>\n",
       "      <td>2019-03-04 22:49:08</td>\n",
       "      <td>2019-03-04</td>\n",
       "      <td>iap_1_gems_1</td>\n",
       "      <td>gems</td>\n",
       "      <td>410</td>\n",
       "    </tr>\n",
       "    <tr>\n",
       "      <th>3</th>\n",
       "      <td>2466</td>\n",
       "      <td>2019-03-06 00:16:48</td>\n",
       "      <td>2019-03-06</td>\n",
       "      <td>iap_1_gems_2</td>\n",
       "      <td>gems</td>\n",
       "      <td>760</td>\n",
       "    </tr>\n",
       "    <tr>\n",
       "      <th>4</th>\n",
       "      <td>22001</td>\n",
       "      <td>2019-03-06 09:13:45</td>\n",
       "      <td>2019-03-06</td>\n",
       "      <td>iap_1_gems_2</td>\n",
       "      <td>gems</td>\n",
       "      <td>760</td>\n",
       "    </tr>\n",
       "  </tbody>\n",
       "</table>\n",
       "</div>"
      ],
      "text/plain": [
       "   user_id                   ts        date       prod_name      prod_type  \\\n",
       "0     7480  2019-03-04 08:15:49  2019-03-04    iap_1_gems_2           gems   \n",
       "1     7480  2019-03-04 08:24:15  2019-03-04  iap_1_passes_2  chapterPasses   \n",
       "2     7480  2019-03-04 22:49:08  2019-03-04    iap_1_gems_1           gems   \n",
       "3     2466  2019-03-06 00:16:48  2019-03-06    iap_1_gems_2           gems   \n",
       "4    22001  2019-03-06 09:13:45  2019-03-06    iap_1_gems_2           gems   \n",
       "\n",
       "   rev  \n",
       "0  760  \n",
       "1  760  \n",
       "2  410  \n",
       "3  760  \n",
       "4  760  "
      ]
     },
     "execution_count": 17,
     "metadata": {},
     "output_type": "execute_result"
    }
   ],
   "source": [
    "iaps_df = pd.read_csv(\"iaps.csv\").drop_duplicates() ## this is for game adminitratiion's side\n",
    "iaps_df.head()"
   ]
  },
  {
   "cell_type": "code",
   "execution_count": 18,
   "id": "4e6f3985",
   "metadata": {},
   "outputs": [
    {
     "data": {
      "text/plain": [
       "(6622, 6)"
      ]
     },
     "execution_count": 18,
     "metadata": {},
     "output_type": "execute_result"
    }
   ],
   "source": [
    "iaps_df.drop_duplicates().shape"
   ]
  },
  {
   "cell_type": "code",
   "execution_count": 19,
   "id": "803e8d35",
   "metadata": {},
   "outputs": [],
   "source": [
    "iaps_df[\"date\"] = pd.to_datetime(iaps_df[\"date\"])"
   ]
  },
  {
   "cell_type": "code",
   "execution_count": 20,
   "id": "b129da52",
   "metadata": {},
   "outputs": [
    {
     "data": {
      "text/plain": [
       "(6622, 6)"
      ]
     },
     "execution_count": 20,
     "metadata": {},
     "output_type": "execute_result"
    }
   ],
   "source": [
    "iaps_df.shape"
   ]
  },
  {
   "cell_type": "code",
   "execution_count": 21,
   "id": "e12cdcf7",
   "metadata": {},
   "outputs": [
    {
     "data": {
      "text/plain": [
       "1526"
      ]
     },
     "execution_count": 21,
     "metadata": {},
     "output_type": "execute_result"
    }
   ],
   "source": [
    "iaps_df.user_id.nunique()"
   ]
  },
  {
   "cell_type": "code",
   "execution_count": 22,
   "id": "98729bbe",
   "metadata": {},
   "outputs": [
    {
     "data": {
      "text/html": [
       "<div>\n",
       "<style scoped>\n",
       "    .dataframe tbody tr th:only-of-type {\n",
       "        vertical-align: middle;\n",
       "    }\n",
       "\n",
       "    .dataframe tbody tr th {\n",
       "        vertical-align: top;\n",
       "    }\n",
       "\n",
       "    .dataframe thead th {\n",
       "        text-align: right;\n",
       "    }\n",
       "</style>\n",
       "<table border=\"1\" class=\"dataframe\">\n",
       "  <thead>\n",
       "    <tr style=\"text-align: right;\">\n",
       "      <th></th>\n",
       "      <th>user_id</th>\n",
       "      <th>ts</th>\n",
       "      <th>date</th>\n",
       "      <th>prod_name</th>\n",
       "      <th>prod_type</th>\n",
       "      <th>rev</th>\n",
       "    </tr>\n",
       "  </thead>\n",
       "  <tbody>\n",
       "    <tr>\n",
       "      <th>3795</th>\n",
       "      <td>2062</td>\n",
       "      <td>2019-03-03 03:50:45</td>\n",
       "      <td>2019-03-03</td>\n",
       "      <td>iap_1_gems_2</td>\n",
       "      <td>gems</td>\n",
       "      <td>760</td>\n",
       "    </tr>\n",
       "    <tr>\n",
       "      <th>3796</th>\n",
       "      <td>2062</td>\n",
       "      <td>2019-03-03 03:50:58</td>\n",
       "      <td>2019-03-03</td>\n",
       "      <td>iap_1_gems_2</td>\n",
       "      <td>gems</td>\n",
       "      <td>760</td>\n",
       "    </tr>\n",
       "    <tr>\n",
       "      <th>3797</th>\n",
       "      <td>2062</td>\n",
       "      <td>2019-03-03 04:01:32</td>\n",
       "      <td>2019-03-03</td>\n",
       "      <td>iap_1_passes_2</td>\n",
       "      <td>chapterPasses</td>\n",
       "      <td>760</td>\n",
       "    </tr>\n",
       "    <tr>\n",
       "      <th>3798</th>\n",
       "      <td>2062</td>\n",
       "      <td>2019-03-03 04:07:34</td>\n",
       "      <td>2019-03-03</td>\n",
       "      <td>iap_1_gems_2</td>\n",
       "      <td>gems</td>\n",
       "      <td>760</td>\n",
       "    </tr>\n",
       "    <tr>\n",
       "      <th>3799</th>\n",
       "      <td>2062</td>\n",
       "      <td>2019-03-03 10:40:27</td>\n",
       "      <td>2019-03-03</td>\n",
       "      <td>iap_1_passes_2</td>\n",
       "      <td>chapterPasses</td>\n",
       "      <td>760</td>\n",
       "    </tr>\n",
       "  </tbody>\n",
       "</table>\n",
       "</div>"
      ],
      "text/plain": [
       "      user_id                   ts       date       prod_name      prod_type  \\\n",
       "3795     2062  2019-03-03 03:50:45 2019-03-03    iap_1_gems_2           gems   \n",
       "3796     2062  2019-03-03 03:50:58 2019-03-03    iap_1_gems_2           gems   \n",
       "3797     2062  2019-03-03 04:01:32 2019-03-03  iap_1_passes_2  chapterPasses   \n",
       "3798     2062  2019-03-03 04:07:34 2019-03-03    iap_1_gems_2           gems   \n",
       "3799     2062  2019-03-03 10:40:27 2019-03-03  iap_1_passes_2  chapterPasses   \n",
       "\n",
       "      rev  \n",
       "3795  760  \n",
       "3796  760  \n",
       "3797  760  \n",
       "3798  760  \n",
       "3799  760  "
      ]
     },
     "execution_count": 22,
     "metadata": {},
     "output_type": "execute_result"
    }
   ],
   "source": [
    "iaps_df[iaps_df.user_id == 2062].sort_values(by=\"ts\") "
   ]
  },
  {
   "cell_type": "code",
   "execution_count": 23,
   "id": "2858e6ce",
   "metadata": {},
   "outputs": [
    {
     "data": {
      "text/plain": [
       "<AxesSubplot:>"
      ]
     },
     "execution_count": 23,
     "metadata": {},
     "output_type": "execute_result"
    },
    {
     "data": {
      "image/png": "[encoded data removed]",
      "text/plain": [
       "<Figure size 432x360 with 1 Axes>"
      ]
     },
     "metadata": {
      "needs_background": "light"
     },
     "output_type": "display_data"
    }
   ],
   "source": [
    "dfg = iaps_df['prod_type'].value_counts()\n",
    "dfg.plot(kind='bar', figsize=(6, 5))\n"
   ]
  },
  {
   "cell_type": "markdown",
   "id": "ba793c5d",
   "metadata": {},
   "source": [
    "### 4. spendevents data "
   ]
  },
  {
   "cell_type": "code",
   "execution_count": 24,
   "id": "13627c42",
   "metadata": {},
   "outputs": [
    {
     "data": {
      "text/html": [
       "<div>\n",
       "<style scoped>\n",
       "    .dataframe tbody tr th:only-of-type {\n",
       "        vertical-align: middle;\n",
       "    }\n",
       "\n",
       "    .dataframe tbody tr th {\n",
       "        vertical-align: top;\n",
       "    }\n",
       "\n",
       "    .dataframe thead th {\n",
       "        text-align: right;\n",
       "    }\n",
       "</style>\n",
       "<table border=\"1\" class=\"dataframe\">\n",
       "  <thead>\n",
       "    <tr style=\"text-align: right;\">\n",
       "      <th></th>\n",
       "      <th>user_id</th>\n",
       "      <th>ts</th>\n",
       "      <th>date</th>\n",
       "      <th>story</th>\n",
       "      <th>chapter</th>\n",
       "      <th>spendtype</th>\n",
       "      <th>currency</th>\n",
       "      <th>amount</th>\n",
       "    </tr>\n",
       "  </thead>\n",
       "  <tbody>\n",
       "    <tr>\n",
       "      <th>0</th>\n",
       "      <td>9829</td>\n",
       "      <td>2019-03-01 03:03:04</td>\n",
       "      <td>2019-03-01</td>\n",
       "      <td>story_1</td>\n",
       "      <td>0</td>\n",
       "      <td>earnGemsCounter</td>\n",
       "      <td>gems</td>\n",
       "      <td>-22</td>\n",
       "    </tr>\n",
       "    <tr>\n",
       "      <th>1</th>\n",
       "      <td>13757</td>\n",
       "      <td>2019-03-01 03:35:53</td>\n",
       "      <td>2019-03-01</td>\n",
       "      <td>story_1</td>\n",
       "      <td>0</td>\n",
       "      <td>earnGemsCounter</td>\n",
       "      <td>gems</td>\n",
       "      <td>-22</td>\n",
       "    </tr>\n",
       "    <tr>\n",
       "      <th>2</th>\n",
       "      <td>13757</td>\n",
       "      <td>2019-03-01 03:52:10</td>\n",
       "      <td>2019-03-01</td>\n",
       "      <td>story_2</td>\n",
       "      <td>0</td>\n",
       "      <td>earnGemsCounter</td>\n",
       "      <td>gems</td>\n",
       "      <td>-22</td>\n",
       "    </tr>\n",
       "    <tr>\n",
       "      <th>3</th>\n",
       "      <td>10009</td>\n",
       "      <td>2019-03-01 04:10:00</td>\n",
       "      <td>2019-03-01</td>\n",
       "      <td>story_1</td>\n",
       "      <td>0</td>\n",
       "      <td>earnGemsCounter</td>\n",
       "      <td>gems</td>\n",
       "      <td>-22</td>\n",
       "    </tr>\n",
       "    <tr>\n",
       "      <th>4</th>\n",
       "      <td>10009</td>\n",
       "      <td>2019-03-01 04:26:46</td>\n",
       "      <td>2019-03-01</td>\n",
       "      <td>story_2</td>\n",
       "      <td>0</td>\n",
       "      <td>earnGemsCounter</td>\n",
       "      <td>gems</td>\n",
       "      <td>-22</td>\n",
       "    </tr>\n",
       "  </tbody>\n",
       "</table>\n",
       "</div>"
      ],
      "text/plain": [
       "   user_id                   ts        date    story  chapter  \\\n",
       "0     9829  2019-03-01 03:03:04  2019-03-01  story_1        0   \n",
       "1    13757  2019-03-01 03:35:53  2019-03-01  story_1        0   \n",
       "2    13757  2019-03-01 03:52:10  2019-03-01  story_2        0   \n",
       "3    10009  2019-03-01 04:10:00  2019-03-01  story_1        0   \n",
       "4    10009  2019-03-01 04:26:46  2019-03-01  story_2        0   \n",
       "\n",
       "         spendtype currency  amount  \n",
       "0  earnGemsCounter     gems     -22  \n",
       "1  earnGemsCounter     gems     -22  \n",
       "2  earnGemsCounter     gems     -22  \n",
       "3  earnGemsCounter     gems     -22  \n",
       "4  earnGemsCounter     gems     -22  "
      ]
     },
     "execution_count": 24,
     "metadata": {},
     "output_type": "execute_result"
    }
   ],
   "source": [
    "spending_df = pd.read_csv(\"spendevents.csv\")\n",
    "spending_df.head()"
   ]
  },
  {
   "cell_type": "code",
   "execution_count": 25,
   "id": "e5ab38af",
   "metadata": {},
   "outputs": [
    {
     "data": {
      "text/plain": [
       "array(['gems'], dtype=object)"
      ]
     },
     "execution_count": 25,
     "metadata": {},
     "output_type": "execute_result"
    }
   ],
   "source": [
    "spending_df[\"currency\"].unique()"
   ]
  },
  {
   "cell_type": "code",
   "execution_count": 26,
   "id": "471b72eb",
   "metadata": {},
   "outputs": [],
   "source": [
    "spending_df[\"date\"] = pd.to_datetime(spending_df[\"date\"])"
   ]
  },
  {
   "cell_type": "code",
   "execution_count": 27,
   "id": "ef596a70",
   "metadata": {},
   "outputs": [
    {
     "data": {
      "text/html": [
       "<div>\n",
       "<style scoped>\n",
       "    .dataframe tbody tr th:only-of-type {\n",
       "        vertical-align: middle;\n",
       "    }\n",
       "\n",
       "    .dataframe tbody tr th {\n",
       "        vertical-align: top;\n",
       "    }\n",
       "\n",
       "    .dataframe thead th {\n",
       "        text-align: right;\n",
       "    }\n",
       "</style>\n",
       "<table border=\"1\" class=\"dataframe\">\n",
       "  <thead>\n",
       "    <tr style=\"text-align: right;\">\n",
       "      <th></th>\n",
       "      <th>user_id</th>\n",
       "      <th>ts</th>\n",
       "      <th>date</th>\n",
       "      <th>story</th>\n",
       "      <th>chapter</th>\n",
       "      <th>spendtype</th>\n",
       "      <th>currency</th>\n",
       "      <th>amount</th>\n",
       "    </tr>\n",
       "  </thead>\n",
       "  <tbody>\n",
       "    <tr>\n",
       "      <th>15694</th>\n",
       "      <td>2062</td>\n",
       "      <td>2019-03-02 20:01:22</td>\n",
       "      <td>2019-03-03</td>\n",
       "      <td>story_1</td>\n",
       "      <td>0</td>\n",
       "      <td>earnGemsCounter</td>\n",
       "      <td>gems</td>\n",
       "      <td>-22</td>\n",
       "    </tr>\n",
       "    <tr>\n",
       "      <th>15721</th>\n",
       "      <td>2062</td>\n",
       "      <td>2019-03-03 03:50:45</td>\n",
       "      <td>2019-03-03</td>\n",
       "      <td>story_1</td>\n",
       "      <td>5</td>\n",
       "      <td>IAP</td>\n",
       "      <td>gems</td>\n",
       "      <td>-73</td>\n",
       "    </tr>\n",
       "    <tr>\n",
       "      <th>15722</th>\n",
       "      <td>2062</td>\n",
       "      <td>2019-03-03 03:50:58</td>\n",
       "      <td>2019-03-03</td>\n",
       "      <td>story_1</td>\n",
       "      <td>5</td>\n",
       "      <td>IAP</td>\n",
       "      <td>gems</td>\n",
       "      <td>-73</td>\n",
       "    </tr>\n",
       "    <tr>\n",
       "      <th>15723</th>\n",
       "      <td>2062</td>\n",
       "      <td>2019-03-03 03:51:00</td>\n",
       "      <td>2019-03-03</td>\n",
       "      <td>story_1</td>\n",
       "      <td>5</td>\n",
       "      <td>premiumChoice</td>\n",
       "      <td>gems</td>\n",
       "      <td>64</td>\n",
       "    </tr>\n",
       "    <tr>\n",
       "      <th>15724</th>\n",
       "      <td>2062</td>\n",
       "      <td>2019-03-03 04:07:34</td>\n",
       "      <td>2019-03-03</td>\n",
       "      <td>story_1</td>\n",
       "      <td>6</td>\n",
       "      <td>IAP</td>\n",
       "      <td>gems</td>\n",
       "      <td>-73</td>\n",
       "    </tr>\n",
       "    <tr>\n",
       "      <th>15725</th>\n",
       "      <td>2062</td>\n",
       "      <td>2019-03-03 04:07:37</td>\n",
       "      <td>2019-03-03</td>\n",
       "      <td>story_1</td>\n",
       "      <td>6</td>\n",
       "      <td>premiumChoice</td>\n",
       "      <td>gems</td>\n",
       "      <td>55</td>\n",
       "    </tr>\n",
       "    <tr>\n",
       "      <th>15726</th>\n",
       "      <td>2062</td>\n",
       "      <td>2019-03-03 04:24:58</td>\n",
       "      <td>2019-03-03</td>\n",
       "      <td>story_1</td>\n",
       "      <td>8</td>\n",
       "      <td>premiumChoice</td>\n",
       "      <td>gems</td>\n",
       "      <td>27</td>\n",
       "    </tr>\n",
       "  </tbody>\n",
       "</table>\n",
       "</div>"
      ],
      "text/plain": [
       "       user_id                   ts       date    story  chapter  \\\n",
       "15694     2062  2019-03-02 20:01:22 2019-03-03  story_1        0   \n",
       "15721     2062  2019-03-03 03:50:45 2019-03-03  story_1        5   \n",
       "15722     2062  2019-03-03 03:50:58 2019-03-03  story_1        5   \n",
       "15723     2062  2019-03-03 03:51:00 2019-03-03  story_1        5   \n",
       "15724     2062  2019-03-03 04:07:34 2019-03-03  story_1        6   \n",
       "15725     2062  2019-03-03 04:07:37 2019-03-03  story_1        6   \n",
       "15726     2062  2019-03-03 04:24:58 2019-03-03  story_1        8   \n",
       "\n",
       "             spendtype currency  amount  \n",
       "15694  earnGemsCounter     gems     -22  \n",
       "15721              IAP     gems     -73  \n",
       "15722              IAP     gems     -73  \n",
       "15723    premiumChoice     gems      64  \n",
       "15724              IAP     gems     -73  \n",
       "15725    premiumChoice     gems      55  \n",
       "15726    premiumChoice     gems      27  "
      ]
     },
     "execution_count": 27,
     "metadata": {},
     "output_type": "execute_result"
    }
   ],
   "source": [
    "spending_df[spending_df.user_id == 2062].sort_values(by=\"ts\") ### this is for game adminitratiion's side"
   ]
  },
  {
   "cell_type": "code",
   "execution_count": 28,
   "id": "19d77984",
   "metadata": {},
   "outputs": [
    {
     "data": {
      "text/plain": [
       "2019-03-14 03:06:50    15\n",
       "2019-03-14 03:15:00    15\n",
       "2019-03-14 03:06:43    15\n",
       "2019-03-14 03:06:20    15\n",
       "2019-03-06 14:49:30     5\n",
       "                       ..\n",
       "2019-03-09 19:21:53     1\n",
       "2019-03-01 01:18:26     1\n",
       "2019-04-25 12:31:33     1\n",
       "2019-03-01 16:10:08     1\n",
       "2019-03-25 19:21:45     1\n",
       "Name: ts, Length: 93689, dtype: int64"
      ]
     },
     "execution_count": 28,
     "metadata": {},
     "output_type": "execute_result"
    }
   ],
   "source": [
    "spending_df[\"ts\"].value_counts()"
   ]
  },
  {
   "cell_type": "code",
   "execution_count": 29,
   "id": "54e4238c",
   "metadata": {},
   "outputs": [
    {
     "data": {
      "text/html": [
       "<div>\n",
       "<style scoped>\n",
       "    .dataframe tbody tr th:only-of-type {\n",
       "        vertical-align: middle;\n",
       "    }\n",
       "\n",
       "    .dataframe tbody tr th {\n",
       "        vertical-align: top;\n",
       "    }\n",
       "\n",
       "    .dataframe thead th {\n",
       "        text-align: right;\n",
       "    }\n",
       "</style>\n",
       "<table border=\"1\" class=\"dataframe\">\n",
       "  <thead>\n",
       "    <tr style=\"text-align: right;\">\n",
       "      <th></th>\n",
       "      <th>user_id</th>\n",
       "      <th>ts</th>\n",
       "      <th>date</th>\n",
       "      <th>story</th>\n",
       "      <th>chapter</th>\n",
       "      <th>spendtype</th>\n",
       "      <th>currency</th>\n",
       "      <th>amount</th>\n",
       "    </tr>\n",
       "  </thead>\n",
       "  <tbody>\n",
       "    <tr>\n",
       "      <th>58840</th>\n",
       "      <td>16895</td>\n",
       "      <td>2019-03-14 03:06:20</td>\n",
       "      <td>2019-03-14</td>\n",
       "      <td>story_3</td>\n",
       "      <td>0</td>\n",
       "      <td>earnGemsCounter</td>\n",
       "      <td>gems</td>\n",
       "      <td>0</td>\n",
       "    </tr>\n",
       "    <tr>\n",
       "      <th>58841</th>\n",
       "      <td>16895</td>\n",
       "      <td>2019-03-14 03:06:20</td>\n",
       "      <td>2019-03-14</td>\n",
       "      <td>story_3</td>\n",
       "      <td>0</td>\n",
       "      <td>earnGemsCounter</td>\n",
       "      <td>gems</td>\n",
       "      <td>0</td>\n",
       "    </tr>\n",
       "    <tr>\n",
       "      <th>58842</th>\n",
       "      <td>16895</td>\n",
       "      <td>2019-03-14 03:06:20</td>\n",
       "      <td>2019-03-14</td>\n",
       "      <td>story_3</td>\n",
       "      <td>0</td>\n",
       "      <td>earnGemsCounter</td>\n",
       "      <td>gems</td>\n",
       "      <td>0</td>\n",
       "    </tr>\n",
       "    <tr>\n",
       "      <th>58903</th>\n",
       "      <td>16895</td>\n",
       "      <td>2019-03-14 03:06:20</td>\n",
       "      <td>2019-03-14</td>\n",
       "      <td>story_3</td>\n",
       "      <td>0</td>\n",
       "      <td>earnGemsCounter</td>\n",
       "      <td>gems</td>\n",
       "      <td>0</td>\n",
       "    </tr>\n",
       "    <tr>\n",
       "      <th>58904</th>\n",
       "      <td>16895</td>\n",
       "      <td>2019-03-14 03:06:20</td>\n",
       "      <td>2019-03-14</td>\n",
       "      <td>story_3</td>\n",
       "      <td>0</td>\n",
       "      <td>earnGemsCounter</td>\n",
       "      <td>gems</td>\n",
       "      <td>0</td>\n",
       "    </tr>\n",
       "    <tr>\n",
       "      <th>58905</th>\n",
       "      <td>16895</td>\n",
       "      <td>2019-03-14 03:06:20</td>\n",
       "      <td>2019-03-14</td>\n",
       "      <td>story_3</td>\n",
       "      <td>0</td>\n",
       "      <td>earnGemsCounter</td>\n",
       "      <td>gems</td>\n",
       "      <td>0</td>\n",
       "    </tr>\n",
       "    <tr>\n",
       "      <th>58906</th>\n",
       "      <td>16895</td>\n",
       "      <td>2019-03-14 03:06:20</td>\n",
       "      <td>2019-03-14</td>\n",
       "      <td>story_3</td>\n",
       "      <td>0</td>\n",
       "      <td>earnGemsCounter</td>\n",
       "      <td>gems</td>\n",
       "      <td>0</td>\n",
       "    </tr>\n",
       "    <tr>\n",
       "      <th>58907</th>\n",
       "      <td>16895</td>\n",
       "      <td>2019-03-14 03:06:20</td>\n",
       "      <td>2019-03-14</td>\n",
       "      <td>story_3</td>\n",
       "      <td>0</td>\n",
       "      <td>earnGemsCounter</td>\n",
       "      <td>gems</td>\n",
       "      <td>0</td>\n",
       "    </tr>\n",
       "    <tr>\n",
       "      <th>58908</th>\n",
       "      <td>16895</td>\n",
       "      <td>2019-03-14 03:06:20</td>\n",
       "      <td>2019-03-14</td>\n",
       "      <td>story_3</td>\n",
       "      <td>0</td>\n",
       "      <td>earnGemsCounter</td>\n",
       "      <td>gems</td>\n",
       "      <td>0</td>\n",
       "    </tr>\n",
       "    <tr>\n",
       "      <th>58909</th>\n",
       "      <td>16895</td>\n",
       "      <td>2019-03-14 03:06:20</td>\n",
       "      <td>2019-03-14</td>\n",
       "      <td>story_3</td>\n",
       "      <td>0</td>\n",
       "      <td>earnGemsCounter</td>\n",
       "      <td>gems</td>\n",
       "      <td>0</td>\n",
       "    </tr>\n",
       "    <tr>\n",
       "      <th>58910</th>\n",
       "      <td>16895</td>\n",
       "      <td>2019-03-14 03:06:20</td>\n",
       "      <td>2019-03-14</td>\n",
       "      <td>story_3</td>\n",
       "      <td>0</td>\n",
       "      <td>earnGemsCounter</td>\n",
       "      <td>gems</td>\n",
       "      <td>0</td>\n",
       "    </tr>\n",
       "    <tr>\n",
       "      <th>58911</th>\n",
       "      <td>16895</td>\n",
       "      <td>2019-03-14 03:06:20</td>\n",
       "      <td>2019-03-14</td>\n",
       "      <td>story_3</td>\n",
       "      <td>0</td>\n",
       "      <td>earnGemsCounter</td>\n",
       "      <td>gems</td>\n",
       "      <td>0</td>\n",
       "    </tr>\n",
       "    <tr>\n",
       "      <th>58912</th>\n",
       "      <td>16895</td>\n",
       "      <td>2019-03-14 03:06:20</td>\n",
       "      <td>2019-03-14</td>\n",
       "      <td>story_3</td>\n",
       "      <td>0</td>\n",
       "      <td>earnGemsCounter</td>\n",
       "      <td>gems</td>\n",
       "      <td>0</td>\n",
       "    </tr>\n",
       "    <tr>\n",
       "      <th>58913</th>\n",
       "      <td>16895</td>\n",
       "      <td>2019-03-14 03:06:20</td>\n",
       "      <td>2019-03-14</td>\n",
       "      <td>story_3</td>\n",
       "      <td>0</td>\n",
       "      <td>earnGemsCounter</td>\n",
       "      <td>gems</td>\n",
       "      <td>0</td>\n",
       "    </tr>\n",
       "    <tr>\n",
       "      <th>58914</th>\n",
       "      <td>16895</td>\n",
       "      <td>2019-03-14 03:06:20</td>\n",
       "      <td>2019-03-14</td>\n",
       "      <td>story_3</td>\n",
       "      <td>0</td>\n",
       "      <td>earnGemsCounter</td>\n",
       "      <td>gems</td>\n",
       "      <td>0</td>\n",
       "    </tr>\n",
       "  </tbody>\n",
       "</table>\n",
       "</div>"
      ],
      "text/plain": [
       "       user_id                   ts       date    story  chapter  \\\n",
       "58840    16895  2019-03-14 03:06:20 2019-03-14  story_3        0   \n",
       "58841    16895  2019-03-14 03:06:20 2019-03-14  story_3        0   \n",
       "58842    16895  2019-03-14 03:06:20 2019-03-14  story_3        0   \n",
       "58903    16895  2019-03-14 03:06:20 2019-03-14  story_3        0   \n",
       "58904    16895  2019-03-14 03:06:20 2019-03-14  story_3        0   \n",
       "58905    16895  2019-03-14 03:06:20 2019-03-14  story_3        0   \n",
       "58906    16895  2019-03-14 03:06:20 2019-03-14  story_3        0   \n",
       "58907    16895  2019-03-14 03:06:20 2019-03-14  story_3        0   \n",
       "58908    16895  2019-03-14 03:06:20 2019-03-14  story_3        0   \n",
       "58909    16895  2019-03-14 03:06:20 2019-03-14  story_3        0   \n",
       "58910    16895  2019-03-14 03:06:20 2019-03-14  story_3        0   \n",
       "58911    16895  2019-03-14 03:06:20 2019-03-14  story_3        0   \n",
       "58912    16895  2019-03-14 03:06:20 2019-03-14  story_3        0   \n",
       "58913    16895  2019-03-14 03:06:20 2019-03-14  story_3        0   \n",
       "58914    16895  2019-03-14 03:06:20 2019-03-14  story_3        0   \n",
       "\n",
       "             spendtype currency  amount  \n",
       "58840  earnGemsCounter     gems       0  \n",
       "58841  earnGemsCounter     gems       0  \n",
       "58842  earnGemsCounter     gems       0  \n",
       "58903  earnGemsCounter     gems       0  \n",
       "58904  earnGemsCounter     gems       0  \n",
       "58905  earnGemsCounter     gems       0  \n",
       "58906  earnGemsCounter     gems       0  \n",
       "58907  earnGemsCounter     gems       0  \n",
       "58908  earnGemsCounter     gems       0  \n",
       "58909  earnGemsCounter     gems       0  \n",
       "58910  earnGemsCounter     gems       0  \n",
       "58911  earnGemsCounter     gems       0  \n",
       "58912  earnGemsCounter     gems       0  \n",
       "58913  earnGemsCounter     gems       0  \n",
       "58914  earnGemsCounter     gems       0  "
      ]
     },
     "execution_count": 29,
     "metadata": {},
     "output_type": "execute_result"
    }
   ],
   "source": [
    "spending_df[spending_df.ts == '2019-03-14 03:06:20']"
   ]
  },
  {
   "cell_type": "code",
   "execution_count": 30,
   "id": "933f8eb9",
   "metadata": {},
   "outputs": [
    {
     "data": {
      "text/html": [
       "<div>\n",
       "<style scoped>\n",
       "    .dataframe tbody tr th:only-of-type {\n",
       "        vertical-align: middle;\n",
       "    }\n",
       "\n",
       "    .dataframe tbody tr th {\n",
       "        vertical-align: top;\n",
       "    }\n",
       "\n",
       "    .dataframe thead th {\n",
       "        text-align: right;\n",
       "    }\n",
       "</style>\n",
       "<table border=\"1\" class=\"dataframe\">\n",
       "  <thead>\n",
       "    <tr style=\"text-align: right;\">\n",
       "      <th></th>\n",
       "      <th>user_id</th>\n",
       "      <th>ts</th>\n",
       "      <th>date</th>\n",
       "      <th>story</th>\n",
       "      <th>chapter</th>\n",
       "      <th>spendtype</th>\n",
       "      <th>currency</th>\n",
       "      <th>amount</th>\n",
       "    </tr>\n",
       "  </thead>\n",
       "  <tbody>\n",
       "    <tr>\n",
       "      <th>58915</th>\n",
       "      <td>16895</td>\n",
       "      <td>2019-03-14 03:06:43</td>\n",
       "      <td>2019-03-14</td>\n",
       "      <td>story_3</td>\n",
       "      <td>0</td>\n",
       "      <td>earnGemsCounter</td>\n",
       "      <td>gems</td>\n",
       "      <td>0</td>\n",
       "    </tr>\n",
       "    <tr>\n",
       "      <th>58916</th>\n",
       "      <td>16895</td>\n",
       "      <td>2019-03-14 03:06:43</td>\n",
       "      <td>2019-03-14</td>\n",
       "      <td>story_3</td>\n",
       "      <td>0</td>\n",
       "      <td>earnGemsCounter</td>\n",
       "      <td>gems</td>\n",
       "      <td>0</td>\n",
       "    </tr>\n",
       "    <tr>\n",
       "      <th>58917</th>\n",
       "      <td>16895</td>\n",
       "      <td>2019-03-14 03:06:43</td>\n",
       "      <td>2019-03-14</td>\n",
       "      <td>story_3</td>\n",
       "      <td>0</td>\n",
       "      <td>earnGemsCounter</td>\n",
       "      <td>gems</td>\n",
       "      <td>0</td>\n",
       "    </tr>\n",
       "    <tr>\n",
       "      <th>58918</th>\n",
       "      <td>16895</td>\n",
       "      <td>2019-03-14 03:06:43</td>\n",
       "      <td>2019-03-14</td>\n",
       "      <td>story_3</td>\n",
       "      <td>0</td>\n",
       "      <td>earnGemsCounter</td>\n",
       "      <td>gems</td>\n",
       "      <td>0</td>\n",
       "    </tr>\n",
       "    <tr>\n",
       "      <th>58919</th>\n",
       "      <td>16895</td>\n",
       "      <td>2019-03-14 03:06:43</td>\n",
       "      <td>2019-03-14</td>\n",
       "      <td>story_3</td>\n",
       "      <td>0</td>\n",
       "      <td>earnGemsCounter</td>\n",
       "      <td>gems</td>\n",
       "      <td>0</td>\n",
       "    </tr>\n",
       "    <tr>\n",
       "      <th>58920</th>\n",
       "      <td>16895</td>\n",
       "      <td>2019-03-14 03:06:43</td>\n",
       "      <td>2019-03-14</td>\n",
       "      <td>story_3</td>\n",
       "      <td>0</td>\n",
       "      <td>earnGemsCounter</td>\n",
       "      <td>gems</td>\n",
       "      <td>0</td>\n",
       "    </tr>\n",
       "    <tr>\n",
       "      <th>58921</th>\n",
       "      <td>16895</td>\n",
       "      <td>2019-03-14 03:06:43</td>\n",
       "      <td>2019-03-14</td>\n",
       "      <td>story_3</td>\n",
       "      <td>0</td>\n",
       "      <td>earnGemsCounter</td>\n",
       "      <td>gems</td>\n",
       "      <td>0</td>\n",
       "    </tr>\n",
       "    <tr>\n",
       "      <th>58922</th>\n",
       "      <td>16895</td>\n",
       "      <td>2019-03-14 03:06:43</td>\n",
       "      <td>2019-03-14</td>\n",
       "      <td>story_3</td>\n",
       "      <td>0</td>\n",
       "      <td>earnGemsCounter</td>\n",
       "      <td>gems</td>\n",
       "      <td>0</td>\n",
       "    </tr>\n",
       "    <tr>\n",
       "      <th>58923</th>\n",
       "      <td>16895</td>\n",
       "      <td>2019-03-14 03:06:43</td>\n",
       "      <td>2019-03-14</td>\n",
       "      <td>story_3</td>\n",
       "      <td>0</td>\n",
       "      <td>earnGemsCounter</td>\n",
       "      <td>gems</td>\n",
       "      <td>0</td>\n",
       "    </tr>\n",
       "    <tr>\n",
       "      <th>58924</th>\n",
       "      <td>16895</td>\n",
       "      <td>2019-03-14 03:06:43</td>\n",
       "      <td>2019-03-14</td>\n",
       "      <td>story_3</td>\n",
       "      <td>0</td>\n",
       "      <td>earnGemsCounter</td>\n",
       "      <td>gems</td>\n",
       "      <td>0</td>\n",
       "    </tr>\n",
       "    <tr>\n",
       "      <th>58925</th>\n",
       "      <td>16895</td>\n",
       "      <td>2019-03-14 03:06:43</td>\n",
       "      <td>2019-03-14</td>\n",
       "      <td>story_3</td>\n",
       "      <td>0</td>\n",
       "      <td>earnGemsCounter</td>\n",
       "      <td>gems</td>\n",
       "      <td>0</td>\n",
       "    </tr>\n",
       "    <tr>\n",
       "      <th>58926</th>\n",
       "      <td>16895</td>\n",
       "      <td>2019-03-14 03:06:43</td>\n",
       "      <td>2019-03-14</td>\n",
       "      <td>story_3</td>\n",
       "      <td>0</td>\n",
       "      <td>earnGemsCounter</td>\n",
       "      <td>gems</td>\n",
       "      <td>0</td>\n",
       "    </tr>\n",
       "    <tr>\n",
       "      <th>58927</th>\n",
       "      <td>16895</td>\n",
       "      <td>2019-03-14 03:06:43</td>\n",
       "      <td>2019-03-14</td>\n",
       "      <td>story_3</td>\n",
       "      <td>0</td>\n",
       "      <td>earnGemsCounter</td>\n",
       "      <td>gems</td>\n",
       "      <td>0</td>\n",
       "    </tr>\n",
       "    <tr>\n",
       "      <th>58928</th>\n",
       "      <td>16895</td>\n",
       "      <td>2019-03-14 03:06:43</td>\n",
       "      <td>2019-03-14</td>\n",
       "      <td>story_3</td>\n",
       "      <td>0</td>\n",
       "      <td>earnGemsCounter</td>\n",
       "      <td>gems</td>\n",
       "      <td>0</td>\n",
       "    </tr>\n",
       "    <tr>\n",
       "      <th>58929</th>\n",
       "      <td>16895</td>\n",
       "      <td>2019-03-14 03:06:43</td>\n",
       "      <td>2019-03-14</td>\n",
       "      <td>story_3</td>\n",
       "      <td>0</td>\n",
       "      <td>earnGemsCounter</td>\n",
       "      <td>gems</td>\n",
       "      <td>0</td>\n",
       "    </tr>\n",
       "  </tbody>\n",
       "</table>\n",
       "</div>"
      ],
      "text/plain": [
       "       user_id                   ts       date    story  chapter  \\\n",
       "58915    16895  2019-03-14 03:06:43 2019-03-14  story_3        0   \n",
       "58916    16895  2019-03-14 03:06:43 2019-03-14  story_3        0   \n",
       "58917    16895  2019-03-14 03:06:43 2019-03-14  story_3        0   \n",
       "58918    16895  2019-03-14 03:06:43 2019-03-14  story_3        0   \n",
       "58919    16895  2019-03-14 03:06:43 2019-03-14  story_3        0   \n",
       "58920    16895  2019-03-14 03:06:43 2019-03-14  story_3        0   \n",
       "58921    16895  2019-03-14 03:06:43 2019-03-14  story_3        0   \n",
       "58922    16895  2019-03-14 03:06:43 2019-03-14  story_3        0   \n",
       "58923    16895  2019-03-14 03:06:43 2019-03-14  story_3        0   \n",
       "58924    16895  2019-03-14 03:06:43 2019-03-14  story_3        0   \n",
       "58925    16895  2019-03-14 03:06:43 2019-03-14  story_3        0   \n",
       "58926    16895  2019-03-14 03:06:43 2019-03-14  story_3        0   \n",
       "58927    16895  2019-03-14 03:06:43 2019-03-14  story_3        0   \n",
       "58928    16895  2019-03-14 03:06:43 2019-03-14  story_3        0   \n",
       "58929    16895  2019-03-14 03:06:43 2019-03-14  story_3        0   \n",
       "\n",
       "             spendtype currency  amount  \n",
       "58915  earnGemsCounter     gems       0  \n",
       "58916  earnGemsCounter     gems       0  \n",
       "58917  earnGemsCounter     gems       0  \n",
       "58918  earnGemsCounter     gems       0  \n",
       "58919  earnGemsCounter     gems       0  \n",
       "58920  earnGemsCounter     gems       0  \n",
       "58921  earnGemsCounter     gems       0  \n",
       "58922  earnGemsCounter     gems       0  \n",
       "58923  earnGemsCounter     gems       0  \n",
       "58924  earnGemsCounter     gems       0  \n",
       "58925  earnGemsCounter     gems       0  \n",
       "58926  earnGemsCounter     gems       0  \n",
       "58927  earnGemsCounter     gems       0  \n",
       "58928  earnGemsCounter     gems       0  \n",
       "58929  earnGemsCounter     gems       0  "
      ]
     },
     "execution_count": 30,
     "metadata": {},
     "output_type": "execute_result"
    }
   ],
   "source": [
    "spending_df[spending_df.ts == '2019-03-14 03:06:43']"
   ]
  },
  {
   "cell_type": "code",
   "execution_count": 31,
   "id": "bb14c783",
   "metadata": {},
   "outputs": [
    {
     "data": {
      "text/plain": [
       "(107764, 8)"
      ]
     },
     "execution_count": 31,
     "metadata": {},
     "output_type": "execute_result"
    }
   ],
   "source": [
    "spending_df.shape"
   ]
  },
  {
   "cell_type": "code",
   "execution_count": 32,
   "id": "3a58ce95",
   "metadata": {},
   "outputs": [
    {
     "data": {
      "text/plain": [
       "(98115, 8)"
      ]
     },
     "execution_count": 32,
     "metadata": {},
     "output_type": "execute_result"
    }
   ],
   "source": [
    "spending_df.drop_duplicates().shape"
   ]
  },
  {
   "cell_type": "code",
   "execution_count": 156,
   "id": "80cca68b",
   "metadata": {},
   "outputs": [
    {
     "data": {
      "text/plain": [
       "18017"
      ]
     },
     "execution_count": 156,
     "metadata": {},
     "output_type": "execute_result"
    }
   ],
   "source": [
    "pd.merge(user_df, spending_df, on = 'user_id')[\"user_id\"].nunique()"
   ]
  },
  {
   "cell_type": "markdown",
   "id": "1f799170",
   "metadata": {},
   "source": [
    "# Graphical EDA and insights "
   ]
  },
  {
   "cell_type": "markdown",
   "id": "d4016576",
   "metadata": {},
   "source": [
    "### 1. Find the golden time \n",
    "- how long does it take for a new user to make the firsr in-app purchase\n",
    "- from the plot, we can see that almost 90% of new users make their first in-app purchase within the first 10 days. \n",
    "- The minority of the new users convert slowly within 60 days. \n",
    "- We should not send out the promotion within the first 7 days, since high potential users will make purchase on that day. Sure things (or always-takers) are customers who were always going to buy the product, regardless of whether or not they received a marketing intervention. Hence, we don't want them to  take advantage of the sale instead of\n",
    "paying full price. However, sending promotion occasionally will make them happier. \n",
    "- We will be learning the behavior of users who make purchases after 7 days. Those are the ones who may think twice about purchasing the and marketing intervention will push them towards making purchases. \n",
    "\n",
    "- When will we consider a payer as non-payer? from what we see in the data, we \n",
    "- We may want to figure out how mnay minutes it takes make the first purchase in the first day"
   ]
  },
  {
   "cell_type": "code",
   "execution_count": 33,
   "id": "e3405317",
   "metadata": {},
   "outputs": [
    {
     "data": {
      "text/html": [
       "<div>\n",
       "<style scoped>\n",
       "    .dataframe tbody tr th:only-of-type {\n",
       "        vertical-align: middle;\n",
       "    }\n",
       "\n",
       "    .dataframe tbody tr th {\n",
       "        vertical-align: top;\n",
       "    }\n",
       "\n",
       "    .dataframe thead th {\n",
       "        text-align: right;\n",
       "    }\n",
       "</style>\n",
       "<table border=\"1\" class=\"dataframe\">\n",
       "  <thead>\n",
       "    <tr style=\"text-align: right;\">\n",
       "      <th></th>\n",
       "      <th>user_id</th>\n",
       "      <th>install_date</th>\n",
       "      <th>lang</th>\n",
       "      <th>country</th>\n",
       "      <th>hw_ver</th>\n",
       "      <th>os_ver</th>\n",
       "      <th>ts</th>\n",
       "      <th>date</th>\n",
       "      <th>prod_name</th>\n",
       "      <th>prod_type</th>\n",
       "      <th>rev</th>\n",
       "    </tr>\n",
       "  </thead>\n",
       "  <tbody>\n",
       "    <tr>\n",
       "      <th>0</th>\n",
       "      <td>2</td>\n",
       "      <td>2019-03-06</td>\n",
       "      <td>en</td>\n",
       "      <td>US</td>\n",
       "      <td>iPod7,1</td>\n",
       "      <td>8.4.1</td>\n",
       "      <td>2019-03-07 11:50:37</td>\n",
       "      <td>2019-03-07</td>\n",
       "      <td>iap_1_gems_2</td>\n",
       "      <td>gems</td>\n",
       "      <td>760</td>\n",
       "    </tr>\n",
       "    <tr>\n",
       "      <th>1</th>\n",
       "      <td>21</td>\n",
       "      <td>2019-03-07</td>\n",
       "      <td>en</td>\n",
       "      <td>GB</td>\n",
       "      <td>iPhone7,1</td>\n",
       "      <td>9.2.1</td>\n",
       "      <td>2019-03-09 10:18:32</td>\n",
       "      <td>2019-03-09</td>\n",
       "      <td>iap_1_passes_2</td>\n",
       "      <td>chapterPasses</td>\n",
       "      <td>760</td>\n",
       "    </tr>\n",
       "    <tr>\n",
       "      <th>2</th>\n",
       "      <td>21</td>\n",
       "      <td>2019-03-07</td>\n",
       "      <td>en</td>\n",
       "      <td>GB</td>\n",
       "      <td>iPhone7,1</td>\n",
       "      <td>9.2.1</td>\n",
       "      <td>2019-03-09 10:53:07</td>\n",
       "      <td>2019-03-09</td>\n",
       "      <td>iap_1_gems_2</td>\n",
       "      <td>gems</td>\n",
       "      <td>760</td>\n",
       "    </tr>\n",
       "    <tr>\n",
       "      <th>3</th>\n",
       "      <td>21</td>\n",
       "      <td>2019-03-07</td>\n",
       "      <td>en</td>\n",
       "      <td>GB</td>\n",
       "      <td>iPhone7,1</td>\n",
       "      <td>9.2.1</td>\n",
       "      <td>2019-03-10 13:04:04</td>\n",
       "      <td>2019-03-10</td>\n",
       "      <td>iap_1_passes_2</td>\n",
       "      <td>chapterPasses</td>\n",
       "      <td>760</td>\n",
       "    </tr>\n",
       "    <tr>\n",
       "      <th>4</th>\n",
       "      <td>36</td>\n",
       "      <td>2019-03-02</td>\n",
       "      <td>en</td>\n",
       "      <td>US</td>\n",
       "      <td>iPhone8,2</td>\n",
       "      <td>9.2.1</td>\n",
       "      <td>2019-03-02 23:34:17</td>\n",
       "      <td>2019-03-02</td>\n",
       "      <td>iap_1_gems_1</td>\n",
       "      <td>gems</td>\n",
       "      <td>410</td>\n",
       "    </tr>\n",
       "    <tr>\n",
       "      <th>...</th>\n",
       "      <td>...</td>\n",
       "      <td>...</td>\n",
       "      <td>...</td>\n",
       "      <td>...</td>\n",
       "      <td>...</td>\n",
       "      <td>...</td>\n",
       "      <td>...</td>\n",
       "      <td>...</td>\n",
       "      <td>...</td>\n",
       "      <td>...</td>\n",
       "      <td>...</td>\n",
       "    </tr>\n",
       "    <tr>\n",
       "      <th>6617</th>\n",
       "      <td>22569</td>\n",
       "      <td>2019-03-05</td>\n",
       "      <td>en</td>\n",
       "      <td>US</td>\n",
       "      <td>iPad4,4</td>\n",
       "      <td>9.2.1</td>\n",
       "      <td>2019-03-11 19:39:35</td>\n",
       "      <td>2019-03-11</td>\n",
       "      <td>iap_1_gems_2</td>\n",
       "      <td>gems</td>\n",
       "      <td>760</td>\n",
       "    </tr>\n",
       "    <tr>\n",
       "      <th>6618</th>\n",
       "      <td>22569</td>\n",
       "      <td>2019-03-05</td>\n",
       "      <td>en</td>\n",
       "      <td>US</td>\n",
       "      <td>iPad4,4</td>\n",
       "      <td>9.2.1</td>\n",
       "      <td>2019-03-11 19:42:20</td>\n",
       "      <td>2019-03-11</td>\n",
       "      <td>iap_1_gems_2</td>\n",
       "      <td>gems</td>\n",
       "      <td>760</td>\n",
       "    </tr>\n",
       "    <tr>\n",
       "      <th>6619</th>\n",
       "      <td>22569</td>\n",
       "      <td>2019-03-05</td>\n",
       "      <td>en</td>\n",
       "      <td>US</td>\n",
       "      <td>iPad4,4</td>\n",
       "      <td>9.2.1</td>\n",
       "      <td>2019-03-20 08:53:12</td>\n",
       "      <td>2019-03-20</td>\n",
       "      <td>iap_1_gems_2</td>\n",
       "      <td>gems</td>\n",
       "      <td>760</td>\n",
       "    </tr>\n",
       "    <tr>\n",
       "      <th>6620</th>\n",
       "      <td>22569</td>\n",
       "      <td>2019-03-05</td>\n",
       "      <td>en</td>\n",
       "      <td>US</td>\n",
       "      <td>iPad4,4</td>\n",
       "      <td>9.2.1</td>\n",
       "      <td>2019-03-20 08:53:49</td>\n",
       "      <td>2019-03-20</td>\n",
       "      <td>iap_1_passes_2</td>\n",
       "      <td>chapterPasses</td>\n",
       "      <td>760</td>\n",
       "    </tr>\n",
       "    <tr>\n",
       "      <th>6621</th>\n",
       "      <td>22569</td>\n",
       "      <td>2019-03-05</td>\n",
       "      <td>en</td>\n",
       "      <td>US</td>\n",
       "      <td>iPad4,4</td>\n",
       "      <td>9.2.1</td>\n",
       "      <td>2019-03-20 13:18:06</td>\n",
       "      <td>2019-03-20</td>\n",
       "      <td>iap_1_gems_2</td>\n",
       "      <td>gems</td>\n",
       "      <td>760</td>\n",
       "    </tr>\n",
       "  </tbody>\n",
       "</table>\n",
       "<p>6622 rows × 11 columns</p>\n",
       "</div>"
      ],
      "text/plain": [
       "      user_id install_date lang country     hw_ver os_ver  \\\n",
       "0           2   2019-03-06   en      US    iPod7,1  8.4.1   \n",
       "1          21   2019-03-07   en      GB  iPhone7,1  9.2.1   \n",
       "2          21   2019-03-07   en      GB  iPhone7,1  9.2.1   \n",
       "3          21   2019-03-07   en      GB  iPhone7,1  9.2.1   \n",
       "4          36   2019-03-02   en      US  iPhone8,2  9.2.1   \n",
       "...       ...          ...  ...     ...        ...    ...   \n",
       "6617    22569   2019-03-05   en      US    iPad4,4  9.2.1   \n",
       "6618    22569   2019-03-05   en      US    iPad4,4  9.2.1   \n",
       "6619    22569   2019-03-05   en      US    iPad4,4  9.2.1   \n",
       "6620    22569   2019-03-05   en      US    iPad4,4  9.2.1   \n",
       "6621    22569   2019-03-05   en      US    iPad4,4  9.2.1   \n",
       "\n",
       "                       ts       date       prod_name      prod_type  rev  \n",
       "0     2019-03-07 11:50:37 2019-03-07    iap_1_gems_2           gems  760  \n",
       "1     2019-03-09 10:18:32 2019-03-09  iap_1_passes_2  chapterPasses  760  \n",
       "2     2019-03-09 10:53:07 2019-03-09    iap_1_gems_2           gems  760  \n",
       "3     2019-03-10 13:04:04 2019-03-10  iap_1_passes_2  chapterPasses  760  \n",
       "4     2019-03-02 23:34:17 2019-03-02    iap_1_gems_1           gems  410  \n",
       "...                   ...        ...             ...            ...  ...  \n",
       "6617  2019-03-11 19:39:35 2019-03-11    iap_1_gems_2           gems  760  \n",
       "6618  2019-03-11 19:42:20 2019-03-11    iap_1_gems_2           gems  760  \n",
       "6619  2019-03-20 08:53:12 2019-03-20    iap_1_gems_2           gems  760  \n",
       "6620  2019-03-20 08:53:49 2019-03-20  iap_1_passes_2  chapterPasses  760  \n",
       "6621  2019-03-20 13:18:06 2019-03-20    iap_1_gems_2           gems  760  \n",
       "\n",
       "[6622 rows x 11 columns]"
      ]
     },
     "execution_count": 33,
     "metadata": {},
     "output_type": "execute_result"
    }
   ],
   "source": [
    "users_iaps = pd.merge(user_df, iaps_df, on = \"user_id\")\n",
    "users_iaps"
   ]
  },
  {
   "cell_type": "code",
   "execution_count": 34,
   "id": "8e9ca106",
   "metadata": {},
   "outputs": [
    {
     "data": {
      "text/html": [
       "<div>\n",
       "<style scoped>\n",
       "    .dataframe tbody tr th:only-of-type {\n",
       "        vertical-align: middle;\n",
       "    }\n",
       "\n",
       "    .dataframe tbody tr th {\n",
       "        vertical-align: top;\n",
       "    }\n",
       "\n",
       "    .dataframe thead th {\n",
       "        text-align: right;\n",
       "    }\n",
       "</style>\n",
       "<table border=\"1\" class=\"dataframe\">\n",
       "  <thead>\n",
       "    <tr style=\"text-align: right;\">\n",
       "      <th></th>\n",
       "      <th>user_id</th>\n",
       "      <th>install_date</th>\n",
       "      <th>lang</th>\n",
       "      <th>country</th>\n",
       "      <th>hw_ver</th>\n",
       "      <th>os_ver</th>\n",
       "      <th>ts</th>\n",
       "      <th>date</th>\n",
       "      <th>prod_name</th>\n",
       "      <th>prod_type</th>\n",
       "      <th>rev</th>\n",
       "    </tr>\n",
       "  </thead>\n",
       "  <tbody>\n",
       "    <tr>\n",
       "      <th>4</th>\n",
       "      <td>36</td>\n",
       "      <td>2019-03-02</td>\n",
       "      <td>en</td>\n",
       "      <td>US</td>\n",
       "      <td>iPhone8,2</td>\n",
       "      <td>9.2.1</td>\n",
       "      <td>2019-03-02 23:34:17</td>\n",
       "      <td>2019-03-02</td>\n",
       "      <td>iap_1_gems_1</td>\n",
       "      <td>gems</td>\n",
       "      <td>410</td>\n",
       "    </tr>\n",
       "    <tr>\n",
       "      <th>5</th>\n",
       "      <td>36</td>\n",
       "      <td>2019-03-02</td>\n",
       "      <td>en</td>\n",
       "      <td>US</td>\n",
       "      <td>iPhone8,2</td>\n",
       "      <td>9.2.1</td>\n",
       "      <td>2019-03-02 23:34:58</td>\n",
       "      <td>2019-03-02</td>\n",
       "      <td>iap_1_gems_1</td>\n",
       "      <td>gems</td>\n",
       "      <td>410</td>\n",
       "    </tr>\n",
       "    <tr>\n",
       "      <th>6</th>\n",
       "      <td>36</td>\n",
       "      <td>2019-03-02</td>\n",
       "      <td>en</td>\n",
       "      <td>US</td>\n",
       "      <td>iPhone8,2</td>\n",
       "      <td>9.2.1</td>\n",
       "      <td>2019-03-02 23:37:46</td>\n",
       "      <td>2019-03-02</td>\n",
       "      <td>iap_1_gems_2</td>\n",
       "      <td>gems</td>\n",
       "      <td>760</td>\n",
       "    </tr>\n",
       "    <tr>\n",
       "      <th>7</th>\n",
       "      <td>36</td>\n",
       "      <td>2019-03-02</td>\n",
       "      <td>en</td>\n",
       "      <td>US</td>\n",
       "      <td>iPhone8,2</td>\n",
       "      <td>9.2.1</td>\n",
       "      <td>2019-03-02 23:47:54</td>\n",
       "      <td>2019-03-02</td>\n",
       "      <td>iap_1_passes_5</td>\n",
       "      <td>chapterPasses</td>\n",
       "      <td>1810</td>\n",
       "    </tr>\n",
       "    <tr>\n",
       "      <th>8</th>\n",
       "      <td>36</td>\n",
       "      <td>2019-03-02</td>\n",
       "      <td>en</td>\n",
       "      <td>US</td>\n",
       "      <td>iPhone8,2</td>\n",
       "      <td>9.2.1</td>\n",
       "      <td>2019-03-03 00:03:26</td>\n",
       "      <td>2019-03-03</td>\n",
       "      <td>iap_1_gems_1</td>\n",
       "      <td>gems</td>\n",
       "      <td>410</td>\n",
       "    </tr>\n",
       "    <tr>\n",
       "      <th>9</th>\n",
       "      <td>36</td>\n",
       "      <td>2019-03-02</td>\n",
       "      <td>en</td>\n",
       "      <td>US</td>\n",
       "      <td>iPhone8,2</td>\n",
       "      <td>9.2.1</td>\n",
       "      <td>2019-03-03 00:04:04</td>\n",
       "      <td>2019-03-03</td>\n",
       "      <td>iap_1_gems_2</td>\n",
       "      <td>gems</td>\n",
       "      <td>760</td>\n",
       "    </tr>\n",
       "  </tbody>\n",
       "</table>\n",
       "</div>"
      ],
      "text/plain": [
       "   user_id install_date lang country     hw_ver os_ver                   ts  \\\n",
       "4       36   2019-03-02   en      US  iPhone8,2  9.2.1  2019-03-02 23:34:17   \n",
       "5       36   2019-03-02   en      US  iPhone8,2  9.2.1  2019-03-02 23:34:58   \n",
       "6       36   2019-03-02   en      US  iPhone8,2  9.2.1  2019-03-02 23:37:46   \n",
       "7       36   2019-03-02   en      US  iPhone8,2  9.2.1  2019-03-02 23:47:54   \n",
       "8       36   2019-03-02   en      US  iPhone8,2  9.2.1  2019-03-03 00:03:26   \n",
       "9       36   2019-03-02   en      US  iPhone8,2  9.2.1  2019-03-03 00:04:04   \n",
       "\n",
       "        date       prod_name      prod_type   rev  \n",
       "4 2019-03-02    iap_1_gems_1           gems   410  \n",
       "5 2019-03-02    iap_1_gems_1           gems   410  \n",
       "6 2019-03-02    iap_1_gems_2           gems   760  \n",
       "7 2019-03-02  iap_1_passes_5  chapterPasses  1810  \n",
       "8 2019-03-03    iap_1_gems_1           gems   410  \n",
       "9 2019-03-03    iap_1_gems_2           gems   760  "
      ]
     },
     "execution_count": 34,
     "metadata": {},
     "output_type": "execute_result"
    }
   ],
   "source": [
    "users_iaps[users_iaps.user_id == 36]"
   ]
  },
  {
   "cell_type": "code",
   "execution_count": 35,
   "id": "461f3398",
   "metadata": {},
   "outputs": [
    {
     "data": {
      "text/html": [
       "<div>\n",
       "<style scoped>\n",
       "    .dataframe tbody tr th:only-of-type {\n",
       "        vertical-align: middle;\n",
       "    }\n",
       "\n",
       "    .dataframe tbody tr th {\n",
       "        vertical-align: top;\n",
       "    }\n",
       "\n",
       "    .dataframe thead th {\n",
       "        text-align: right;\n",
       "    }\n",
       "</style>\n",
       "<table border=\"1\" class=\"dataframe\">\n",
       "  <thead>\n",
       "    <tr style=\"text-align: right;\">\n",
       "      <th></th>\n",
       "      <th>user_id</th>\n",
       "      <th>install_date</th>\n",
       "      <th>lang</th>\n",
       "      <th>country</th>\n",
       "      <th>hw_ver</th>\n",
       "      <th>os_ver</th>\n",
       "      <th>ts</th>\n",
       "      <th>date</th>\n",
       "      <th>prod_name</th>\n",
       "      <th>prod_type</th>\n",
       "      <th>rev</th>\n",
       "      <th>days_to_first_purchase</th>\n",
       "    </tr>\n",
       "  </thead>\n",
       "  <tbody>\n",
       "    <tr>\n",
       "      <th>0</th>\n",
       "      <td>2</td>\n",
       "      <td>2019-03-06</td>\n",
       "      <td>en</td>\n",
       "      <td>US</td>\n",
       "      <td>iPod7,1</td>\n",
       "      <td>8.4.1</td>\n",
       "      <td>2019-03-07 11:50:37</td>\n",
       "      <td>2019-03-07</td>\n",
       "      <td>iap_1_gems_2</td>\n",
       "      <td>gems</td>\n",
       "      <td>760</td>\n",
       "      <td>1</td>\n",
       "    </tr>\n",
       "    <tr>\n",
       "      <th>1</th>\n",
       "      <td>21</td>\n",
       "      <td>2019-03-07</td>\n",
       "      <td>en</td>\n",
       "      <td>GB</td>\n",
       "      <td>iPhone7,1</td>\n",
       "      <td>9.2.1</td>\n",
       "      <td>2019-03-09 10:18:32</td>\n",
       "      <td>2019-03-09</td>\n",
       "      <td>iap_1_passes_2</td>\n",
       "      <td>chapterPasses</td>\n",
       "      <td>760</td>\n",
       "      <td>2</td>\n",
       "    </tr>\n",
       "    <tr>\n",
       "      <th>2</th>\n",
       "      <td>21</td>\n",
       "      <td>2019-03-07</td>\n",
       "      <td>en</td>\n",
       "      <td>GB</td>\n",
       "      <td>iPhone7,1</td>\n",
       "      <td>9.2.1</td>\n",
       "      <td>2019-03-09 10:53:07</td>\n",
       "      <td>2019-03-09</td>\n",
       "      <td>iap_1_gems_2</td>\n",
       "      <td>gems</td>\n",
       "      <td>760</td>\n",
       "      <td>2</td>\n",
       "    </tr>\n",
       "    <tr>\n",
       "      <th>3</th>\n",
       "      <td>21</td>\n",
       "      <td>2019-03-07</td>\n",
       "      <td>en</td>\n",
       "      <td>GB</td>\n",
       "      <td>iPhone7,1</td>\n",
       "      <td>9.2.1</td>\n",
       "      <td>2019-03-10 13:04:04</td>\n",
       "      <td>2019-03-10</td>\n",
       "      <td>iap_1_passes_2</td>\n",
       "      <td>chapterPasses</td>\n",
       "      <td>760</td>\n",
       "      <td>3</td>\n",
       "    </tr>\n",
       "    <tr>\n",
       "      <th>4</th>\n",
       "      <td>36</td>\n",
       "      <td>2019-03-02</td>\n",
       "      <td>en</td>\n",
       "      <td>US</td>\n",
       "      <td>iPhone8,2</td>\n",
       "      <td>9.2.1</td>\n",
       "      <td>2019-03-02 23:34:17</td>\n",
       "      <td>2019-03-02</td>\n",
       "      <td>iap_1_gems_1</td>\n",
       "      <td>gems</td>\n",
       "      <td>410</td>\n",
       "      <td>0</td>\n",
       "    </tr>\n",
       "  </tbody>\n",
       "</table>\n",
       "</div>"
      ],
      "text/plain": [
       "   user_id install_date lang country     hw_ver os_ver                   ts  \\\n",
       "0        2   2019-03-06   en      US    iPod7,1  8.4.1  2019-03-07 11:50:37   \n",
       "1       21   2019-03-07   en      GB  iPhone7,1  9.2.1  2019-03-09 10:18:32   \n",
       "2       21   2019-03-07   en      GB  iPhone7,1  9.2.1  2019-03-09 10:53:07   \n",
       "3       21   2019-03-07   en      GB  iPhone7,1  9.2.1  2019-03-10 13:04:04   \n",
       "4       36   2019-03-02   en      US  iPhone8,2  9.2.1  2019-03-02 23:34:17   \n",
       "\n",
       "        date       prod_name      prod_type  rev  days_to_first_purchase  \n",
       "0 2019-03-07    iap_1_gems_2           gems  760                       1  \n",
       "1 2019-03-09  iap_1_passes_2  chapterPasses  760                       2  \n",
       "2 2019-03-09    iap_1_gems_2           gems  760                       2  \n",
       "3 2019-03-10  iap_1_passes_2  chapterPasses  760                       3  \n",
       "4 2019-03-02    iap_1_gems_1           gems  410                       0  "
      ]
     },
     "execution_count": 35,
     "metadata": {},
     "output_type": "execute_result"
    }
   ],
   "source": [
    "users_iaps[\"days_to_first_purchase\"] = users_iaps[\"date\"] - users_iaps[\"install_date\"]\n",
    "users_iaps[\"days_to_first_purchase\"] = users_iaps[\"days_to_first_purchase\"].dt.days\n",
    "users_iaps.head()"
   ]
  },
  {
   "cell_type": "code",
   "execution_count": 36,
   "id": "b83c25da",
   "metadata": {},
   "outputs": [
    {
     "data": {
      "text/html": [
       "<div>\n",
       "<style scoped>\n",
       "    .dataframe tbody tr th:only-of-type {\n",
       "        vertical-align: middle;\n",
       "    }\n",
       "\n",
       "    .dataframe tbody tr th {\n",
       "        vertical-align: top;\n",
       "    }\n",
       "\n",
       "    .dataframe thead th {\n",
       "        text-align: right;\n",
       "    }\n",
       "</style>\n",
       "<table border=\"1\" class=\"dataframe\">\n",
       "  <thead>\n",
       "    <tr style=\"text-align: right;\">\n",
       "      <th></th>\n",
       "      <th>user_id</th>\n",
       "      <th>install_date</th>\n",
       "      <th>lang</th>\n",
       "      <th>country</th>\n",
       "      <th>hw_ver</th>\n",
       "      <th>os_ver</th>\n",
       "      <th>ts</th>\n",
       "      <th>date</th>\n",
       "      <th>prod_name</th>\n",
       "      <th>prod_type</th>\n",
       "      <th>rev</th>\n",
       "      <th>days_to_first_purchase</th>\n",
       "      <th>rank</th>\n",
       "    </tr>\n",
       "  </thead>\n",
       "  <tbody>\n",
       "    <tr>\n",
       "      <th>0</th>\n",
       "      <td>2</td>\n",
       "      <td>2019-03-06</td>\n",
       "      <td>en</td>\n",
       "      <td>US</td>\n",
       "      <td>iPod7,1</td>\n",
       "      <td>8.4.1</td>\n",
       "      <td>2019-03-07 11:50:37</td>\n",
       "      <td>2019-03-07</td>\n",
       "      <td>iap_1_gems_2</td>\n",
       "      <td>gems</td>\n",
       "      <td>760</td>\n",
       "      <td>1</td>\n",
       "      <td>1</td>\n",
       "    </tr>\n",
       "    <tr>\n",
       "      <th>1</th>\n",
       "      <td>21</td>\n",
       "      <td>2019-03-07</td>\n",
       "      <td>en</td>\n",
       "      <td>GB</td>\n",
       "      <td>iPhone7,1</td>\n",
       "      <td>9.2.1</td>\n",
       "      <td>2019-03-09 10:18:32</td>\n",
       "      <td>2019-03-09</td>\n",
       "      <td>iap_1_passes_2</td>\n",
       "      <td>chapterPasses</td>\n",
       "      <td>760</td>\n",
       "      <td>2</td>\n",
       "      <td>1</td>\n",
       "    </tr>\n",
       "    <tr>\n",
       "      <th>2</th>\n",
       "      <td>21</td>\n",
       "      <td>2019-03-07</td>\n",
       "      <td>en</td>\n",
       "      <td>GB</td>\n",
       "      <td>iPhone7,1</td>\n",
       "      <td>9.2.1</td>\n",
       "      <td>2019-03-09 10:53:07</td>\n",
       "      <td>2019-03-09</td>\n",
       "      <td>iap_1_gems_2</td>\n",
       "      <td>gems</td>\n",
       "      <td>760</td>\n",
       "      <td>2</td>\n",
       "      <td>2</td>\n",
       "    </tr>\n",
       "    <tr>\n",
       "      <th>3</th>\n",
       "      <td>21</td>\n",
       "      <td>2019-03-07</td>\n",
       "      <td>en</td>\n",
       "      <td>GB</td>\n",
       "      <td>iPhone7,1</td>\n",
       "      <td>9.2.1</td>\n",
       "      <td>2019-03-10 13:04:04</td>\n",
       "      <td>2019-03-10</td>\n",
       "      <td>iap_1_passes_2</td>\n",
       "      <td>chapterPasses</td>\n",
       "      <td>760</td>\n",
       "      <td>3</td>\n",
       "      <td>3</td>\n",
       "    </tr>\n",
       "    <tr>\n",
       "      <th>4</th>\n",
       "      <td>36</td>\n",
       "      <td>2019-03-02</td>\n",
       "      <td>en</td>\n",
       "      <td>US</td>\n",
       "      <td>iPhone8,2</td>\n",
       "      <td>9.2.1</td>\n",
       "      <td>2019-03-02 23:34:17</td>\n",
       "      <td>2019-03-02</td>\n",
       "      <td>iap_1_gems_1</td>\n",
       "      <td>gems</td>\n",
       "      <td>410</td>\n",
       "      <td>0</td>\n",
       "      <td>1</td>\n",
       "    </tr>\n",
       "  </tbody>\n",
       "</table>\n",
       "</div>"
      ],
      "text/plain": [
       "   user_id install_date lang country     hw_ver os_ver                   ts  \\\n",
       "0        2   2019-03-06   en      US    iPod7,1  8.4.1  2019-03-07 11:50:37   \n",
       "1       21   2019-03-07   en      GB  iPhone7,1  9.2.1  2019-03-09 10:18:32   \n",
       "2       21   2019-03-07   en      GB  iPhone7,1  9.2.1  2019-03-09 10:53:07   \n",
       "3       21   2019-03-07   en      GB  iPhone7,1  9.2.1  2019-03-10 13:04:04   \n",
       "4       36   2019-03-02   en      US  iPhone8,2  9.2.1  2019-03-02 23:34:17   \n",
       "\n",
       "        date       prod_name      prod_type  rev  days_to_first_purchase  rank  \n",
       "0 2019-03-07    iap_1_gems_2           gems  760                       1     1  \n",
       "1 2019-03-09  iap_1_passes_2  chapterPasses  760                       2     1  \n",
       "2 2019-03-09    iap_1_gems_2           gems  760                       2     2  \n",
       "3 2019-03-10  iap_1_passes_2  chapterPasses  760                       3     3  \n",
       "4 2019-03-02    iap_1_gems_1           gems  410                       0     1  "
      ]
     },
     "execution_count": 36,
     "metadata": {},
     "output_type": "execute_result"
    }
   ],
   "source": [
    "users_iaps[\"rank\"] = users_iaps.groupby([\"user_id\"])[\"days_to_first_purchase\"].rank(method=\"first\", ascending=True)\n",
    "users_iaps[\"rank\"] = users_iaps[\"rank\"].astype(int)\n",
    "users_iaps.head()"
   ]
  },
  {
   "cell_type": "code",
   "execution_count": 37,
   "id": "bef6f724",
   "metadata": {},
   "outputs": [
    {
     "data": {
      "text/plain": [
       "(1526, 13)"
      ]
     },
     "execution_count": 37,
     "metadata": {},
     "output_type": "execute_result"
    }
   ],
   "source": [
    "paying_users_df = users_iaps[users_iaps[\"rank\"]==1]\n",
    "paying_users_df.shape"
   ]
  },
  {
   "cell_type": "code",
   "execution_count": 91,
   "id": "3fc8c233",
   "metadata": {},
   "outputs": [
    {
     "data": {
      "text/plain": [
       "Text(0.5, 1.0, 'ECDF plot of number of days it takes users to their first purchase')"
      ]
     },
     "execution_count": 91,
     "metadata": {},
     "output_type": "execute_result"
    },
    {
     "data": {
      "image/png": "[encoded data removed]",
      "text/plain": [
       "<Figure size 432x288 with 1 Axes>"
      ]
     },
     "metadata": {},
     "output_type": "display_data"
    }
   ],
   "source": [
    "sns.set()\n",
    "x_ecdf, y_ecdf = ecdf(paying_users_df[\"days_to_first_purchase\"])\n",
    "sns.scatterplot(x=x_ecdf, y=y_ecdf)\n",
    "plt.title(\"ECDF plot of number of days it takes users to their first purchase\")"
   ]
  },
  {
   "cell_type": "code",
   "execution_count": 121,
   "id": "c0213d52",
   "metadata": {},
   "outputs": [
    {
     "data": {
      "text/plain": [
       "(46,)"
      ]
     },
     "execution_count": 121,
     "metadata": {},
     "output_type": "execute_result"
    }
   ],
   "source": [
    "y_ecdf[y_ecdf > 0.97].shape"
   ]
  },
  {
   "cell_type": "code",
   "execution_count": 116,
   "id": "0bf451cb",
   "metadata": {},
   "outputs": [
    {
     "data": {
      "text/plain": [
       "(1526,)"
      ]
     },
     "execution_count": 116,
     "metadata": {},
     "output_type": "execute_result"
    }
   ],
   "source": [
    "y_ecdf.shape"
   ]
  },
  {
   "cell_type": "code",
   "execution_count": 122,
   "id": "3be84906",
   "metadata": {},
   "outputs": [
    {
     "data": {
      "text/plain": [
       "array([41, 41, 42, 42, 42, 42, 42, 42, 42, 42, 44, 45, 45, 46, 47, 47, 48,\n",
       "       48, 48, 48, 49, 50, 50, 52, 52, 52, 53, 53, 54, 55, 56, 56, 56, 56,\n",
       "       56, 56, 56, 56, 57, 57, 58, 58, 58, 59, 60, 60], dtype=int64)"
      ]
     },
     "execution_count": 122,
     "metadata": {},
     "output_type": "execute_result"
    }
   ],
   "source": [
    "x_ecdf[(1526-46):]"
   ]
  },
  {
   "cell_type": "code",
   "execution_count": 42,
   "id": "f196a3b1",
   "metadata": {},
   "outputs": [
    {
     "data": {
      "text/plain": [
       "True"
      ]
     },
     "execution_count": 42,
     "metadata": {},
     "output_type": "execute_result"
    }
   ],
   "source": [
    "paying_users_df.shape[0]==paying_users_df[\"user_id\"].nunique()"
   ]
  },
  {
   "cell_type": "code",
   "execution_count": 43,
   "id": "eee19176",
   "metadata": {},
   "outputs": [
    {
     "data": {
      "text/html": [
       "<div>\n",
       "<style scoped>\n",
       "    .dataframe tbody tr th:only-of-type {\n",
       "        vertical-align: middle;\n",
       "    }\n",
       "\n",
       "    .dataframe tbody tr th {\n",
       "        vertical-align: top;\n",
       "    }\n",
       "\n",
       "    .dataframe thead th {\n",
       "        text-align: right;\n",
       "    }\n",
       "</style>\n",
       "<table border=\"1\" class=\"dataframe\">\n",
       "  <thead>\n",
       "    <tr style=\"text-align: right;\">\n",
       "      <th></th>\n",
       "      <th>user_id</th>\n",
       "      <th>install_date</th>\n",
       "      <th>lang</th>\n",
       "      <th>country</th>\n",
       "      <th>hw_ver</th>\n",
       "      <th>os_ver</th>\n",
       "      <th>ts</th>\n",
       "      <th>date</th>\n",
       "      <th>prod_name</th>\n",
       "      <th>prod_type</th>\n",
       "      <th>rev</th>\n",
       "      <th>days_to_first_purchase</th>\n",
       "      <th>rank</th>\n",
       "    </tr>\n",
       "  </thead>\n",
       "  <tbody>\n",
       "    <tr>\n",
       "      <th>0</th>\n",
       "      <td>2</td>\n",
       "      <td>2019-03-06</td>\n",
       "      <td>en</td>\n",
       "      <td>US</td>\n",
       "      <td>iPod7,1</td>\n",
       "      <td>8.4.1</td>\n",
       "      <td>2019-03-07 11:50:37</td>\n",
       "      <td>2019-03-07</td>\n",
       "      <td>iap_1_gems_2</td>\n",
       "      <td>gems</td>\n",
       "      <td>760</td>\n",
       "      <td>1</td>\n",
       "      <td>1</td>\n",
       "    </tr>\n",
       "    <tr>\n",
       "      <th>1</th>\n",
       "      <td>21</td>\n",
       "      <td>2019-03-07</td>\n",
       "      <td>en</td>\n",
       "      <td>GB</td>\n",
       "      <td>iPhone7,1</td>\n",
       "      <td>9.2.1</td>\n",
       "      <td>2019-03-09 10:18:32</td>\n",
       "      <td>2019-03-09</td>\n",
       "      <td>iap_1_passes_2</td>\n",
       "      <td>chapterPasses</td>\n",
       "      <td>760</td>\n",
       "      <td>2</td>\n",
       "      <td>1</td>\n",
       "    </tr>\n",
       "  </tbody>\n",
       "</table>\n",
       "</div>"
      ],
      "text/plain": [
       "   user_id install_date lang country     hw_ver os_ver                   ts  \\\n",
       "0        2   2019-03-06   en      US    iPod7,1  8.4.1  2019-03-07 11:50:37   \n",
       "1       21   2019-03-07   en      GB  iPhone7,1  9.2.1  2019-03-09 10:18:32   \n",
       "\n",
       "        date       prod_name      prod_type  rev  days_to_first_purchase  rank  \n",
       "0 2019-03-07    iap_1_gems_2           gems  760                       1     1  \n",
       "1 2019-03-09  iap_1_passes_2  chapterPasses  760                       2     1  "
      ]
     },
     "execution_count": 43,
     "metadata": {},
     "output_type": "execute_result"
    }
   ],
   "source": [
    "paying_users_df.head(2)"
   ]
  },
  {
   "cell_type": "code",
   "execution_count": 44,
   "id": "8f1d4bfb",
   "metadata": {},
   "outputs": [
    {
     "data": {
      "text/html": [
       "<div>\n",
       "<style scoped>\n",
       "    .dataframe tbody tr th:only-of-type {\n",
       "        vertical-align: middle;\n",
       "    }\n",
       "\n",
       "    .dataframe tbody tr th {\n",
       "        vertical-align: top;\n",
       "    }\n",
       "\n",
       "    .dataframe thead th {\n",
       "        text-align: right;\n",
       "    }\n",
       "</style>\n",
       "<table border=\"1\" class=\"dataframe\">\n",
       "  <thead>\n",
       "    <tr style=\"text-align: right;\">\n",
       "      <th></th>\n",
       "      <th>user_id</th>\n",
       "      <th>iap_date</th>\n",
       "      <th>days_to_first_purchase</th>\n",
       "      <th>install_date</th>\n",
       "    </tr>\n",
       "  </thead>\n",
       "  <tbody>\n",
       "    <tr>\n",
       "      <th>0</th>\n",
       "      <td>2</td>\n",
       "      <td>2019-03-07 11:50:37</td>\n",
       "      <td>1</td>\n",
       "      <td>2019-03-06</td>\n",
       "    </tr>\n",
       "    <tr>\n",
       "      <th>1</th>\n",
       "      <td>21</td>\n",
       "      <td>2019-03-09 10:18:32</td>\n",
       "      <td>2</td>\n",
       "      <td>2019-03-07</td>\n",
       "    </tr>\n",
       "  </tbody>\n",
       "</table>\n",
       "</div>"
      ],
      "text/plain": [
       "   user_id             iap_date  days_to_first_purchase install_date\n",
       "0        2  2019-03-07 11:50:37                       1   2019-03-06\n",
       "1       21  2019-03-09 10:18:32                       2   2019-03-07"
      ]
     },
     "execution_count": 44,
     "metadata": {},
     "output_type": "execute_result"
    }
   ],
   "source": [
    "first_iap_day_df = paying_users_df[[\"user_id\", \"ts\", \"days_to_first_purchase\",\\\n",
    "                                    \"install_date\"]].rename(columns={\"ts\": \"iap_date\"})\n",
    "first_iap_day_df.head(2)"
   ]
  },
  {
   "cell_type": "markdown",
   "id": "a99299a6",
   "metadata": {},
   "source": [
    "## 2. Level of the first purchase "
   ]
  },
  {
   "cell_type": "code",
   "execution_count": 166,
   "id": "5d55e93f",
   "metadata": {},
   "outputs": [
    {
     "name": "stdout",
     "output_type": "stream",
     "text": [
      "(4915, 13)\n"
     ]
    },
    {
     "data": {
      "text/html": [
       "<div>\n",
       "<style scoped>\n",
       "    .dataframe tbody tr th:only-of-type {\n",
       "        vertical-align: middle;\n",
       "    }\n",
       "\n",
       "    .dataframe tbody tr th {\n",
       "        vertical-align: top;\n",
       "    }\n",
       "\n",
       "    .dataframe thead th {\n",
       "        text-align: right;\n",
       "    }\n",
       "</style>\n",
       "<table border=\"1\" class=\"dataframe\">\n",
       "  <thead>\n",
       "    <tr style=\"text-align: right;\">\n",
       "      <th></th>\n",
       "      <th>user_id</th>\n",
       "      <th>install_date</th>\n",
       "      <th>lang</th>\n",
       "      <th>country</th>\n",
       "      <th>hw_ver</th>\n",
       "      <th>os_ver</th>\n",
       "      <th>ts</th>\n",
       "      <th>date</th>\n",
       "      <th>story</th>\n",
       "      <th>chapter</th>\n",
       "      <th>spendtype</th>\n",
       "      <th>currency</th>\n",
       "      <th>amount</th>\n",
       "    </tr>\n",
       "  </thead>\n",
       "  <tbody>\n",
       "    <tr>\n",
       "      <th>5</th>\n",
       "      <td>2</td>\n",
       "      <td>2019-03-06</td>\n",
       "      <td>en</td>\n",
       "      <td>US</td>\n",
       "      <td>iPod7,1</td>\n",
       "      <td>8.4.1</td>\n",
       "      <td>2019-03-07 11:50:37</td>\n",
       "      <td>2019-03-07</td>\n",
       "      <td>story_1</td>\n",
       "      <td>2</td>\n",
       "      <td>IAP</td>\n",
       "      <td>gems</td>\n",
       "      <td>-73</td>\n",
       "    </tr>\n",
       "    <tr>\n",
       "      <th>54</th>\n",
       "      <td>21</td>\n",
       "      <td>2019-03-07</td>\n",
       "      <td>en</td>\n",
       "      <td>GB</td>\n",
       "      <td>iPhone7,1</td>\n",
       "      <td>9.2.1</td>\n",
       "      <td>2019-03-09 10:53:06</td>\n",
       "      <td>2019-03-09</td>\n",
       "      <td>story_1</td>\n",
       "      <td>11</td>\n",
       "      <td>IAP</td>\n",
       "      <td>gems</td>\n",
       "      <td>-73</td>\n",
       "    </tr>\n",
       "  </tbody>\n",
       "</table>\n",
       "</div>"
      ],
      "text/plain": [
       "    user_id install_date lang country     hw_ver os_ver                   ts  \\\n",
       "5         2   2019-03-06   en      US    iPod7,1  8.4.1  2019-03-07 11:50:37   \n",
       "54       21   2019-03-07   en      GB  iPhone7,1  9.2.1  2019-03-09 10:53:06   \n",
       "\n",
       "         date    story  chapter spendtype currency  amount  \n",
       "5  2019-03-07  story_1        2       IAP     gems     -73  \n",
       "54 2019-03-09  story_1       11       IAP     gems     -73  "
      ]
     },
     "execution_count": 166,
     "metadata": {},
     "output_type": "execute_result"
    }
   ],
   "source": [
    "users_spends_df = pd.merge(user_df, spending_df, on = \"user_id\")\n",
    "users_spends_IAP_df = users_spends_df[users_spends_df.spendtype == 'IAP']\n",
    "print(users_spends_IAP_df.shape)\n",
    "users_spends_IAP_df.head(2)"
   ]
  },
  {
   "cell_type": "code",
   "execution_count": 167,
   "id": "2375af09",
   "metadata": {},
   "outputs": [
    {
     "name": "stderr",
     "output_type": "stream",
     "text": [
      "C:\\Users\\NghiTram\\anaconda3\\envs\\kaggleEnv\\lib\\site-packages\\ipykernel_launcher.py:1: SettingWithCopyWarning: \n",
      "A value is trying to be set on a copy of a slice from a DataFrame.\n",
      "Try using .loc[row_indexer,col_indexer] = value instead\n",
      "\n",
      "See the caveats in the documentation: https://pandas.pydata.org/pandas-docs/stable/user_guide/indexing.html#returning-a-view-versus-a-copy\n",
      "  \"\"\"Entry point for launching an IPython kernel.\n",
      "C:\\Users\\NghiTram\\anaconda3\\envs\\kaggleEnv\\lib\\site-packages\\ipykernel_launcher.py:2: SettingWithCopyWarning: \n",
      "A value is trying to be set on a copy of a slice from a DataFrame.\n",
      "Try using .loc[row_indexer,col_indexer] = value instead\n",
      "\n",
      "See the caveats in the documentation: https://pandas.pydata.org/pandas-docs/stable/user_guide/indexing.html#returning-a-view-versus-a-copy\n",
      "  \n"
     ]
    }
   ],
   "source": [
    "users_spends_IAP_df[\"days_to_first_purchase\"] = users_spends_IAP_df[\"date\"] - users_spends_IAP_df[\"install_date\"]\n",
    "users_spends_IAP_df[\"days_to_first_purchase\"] = users_spends_IAP_df[\"days_to_first_purchase\"].dt.days"
   ]
  },
  {
   "cell_type": "code",
   "execution_count": 168,
   "id": "fc88e4bf",
   "metadata": {},
   "outputs": [
    {
     "data": {
      "text/plain": [
       "1181"
      ]
     },
     "execution_count": 168,
     "metadata": {},
     "output_type": "execute_result"
    }
   ],
   "source": [
    "users_spends_IAP_df[\"user_id\"].nunique()"
   ]
  },
  {
   "cell_type": "code",
   "execution_count": 169,
   "id": "3af8c9a6",
   "metadata": {},
   "outputs": [
    {
     "data": {
      "text/html": [
       "<div>\n",
       "<style scoped>\n",
       "    .dataframe tbody tr th:only-of-type {\n",
       "        vertical-align: middle;\n",
       "    }\n",
       "\n",
       "    .dataframe tbody tr th {\n",
       "        vertical-align: top;\n",
       "    }\n",
       "\n",
       "    .dataframe thead th {\n",
       "        text-align: right;\n",
       "    }\n",
       "</style>\n",
       "<table border=\"1\" class=\"dataframe\">\n",
       "  <thead>\n",
       "    <tr style=\"text-align: right;\">\n",
       "      <th></th>\n",
       "      <th>user_id</th>\n",
       "      <th>install_date</th>\n",
       "      <th>lang</th>\n",
       "      <th>country</th>\n",
       "      <th>hw_ver</th>\n",
       "      <th>os_ver</th>\n",
       "      <th>ts</th>\n",
       "      <th>date</th>\n",
       "      <th>story</th>\n",
       "      <th>chapter</th>\n",
       "      <th>spendtype</th>\n",
       "      <th>currency</th>\n",
       "      <th>amount</th>\n",
       "      <th>days_to_first_purchase</th>\n",
       "    </tr>\n",
       "  </thead>\n",
       "  <tbody>\n",
       "    <tr>\n",
       "      <th>126</th>\n",
       "      <td>36</td>\n",
       "      <td>2019-03-02</td>\n",
       "      <td>en</td>\n",
       "      <td>US</td>\n",
       "      <td>iPhone8,2</td>\n",
       "      <td>9.2.1</td>\n",
       "      <td>2019-03-02 23:34:17</td>\n",
       "      <td>2019-03-02</td>\n",
       "      <td>story_1</td>\n",
       "      <td>3</td>\n",
       "      <td>IAP</td>\n",
       "      <td>gems</td>\n",
       "      <td>-37</td>\n",
       "      <td>0</td>\n",
       "    </tr>\n",
       "    <tr>\n",
       "      <th>127</th>\n",
       "      <td>36</td>\n",
       "      <td>2019-03-02</td>\n",
       "      <td>en</td>\n",
       "      <td>US</td>\n",
       "      <td>iPhone8,2</td>\n",
       "      <td>9.2.1</td>\n",
       "      <td>2019-03-02 23:34:58</td>\n",
       "      <td>2019-03-02</td>\n",
       "      <td>story_1</td>\n",
       "      <td>3</td>\n",
       "      <td>IAP</td>\n",
       "      <td>gems</td>\n",
       "      <td>-37</td>\n",
       "      <td>0</td>\n",
       "    </tr>\n",
       "    <tr>\n",
       "      <th>129</th>\n",
       "      <td>36</td>\n",
       "      <td>2019-03-02</td>\n",
       "      <td>en</td>\n",
       "      <td>US</td>\n",
       "      <td>iPhone8,2</td>\n",
       "      <td>9.2.1</td>\n",
       "      <td>2019-03-02 23:37:46</td>\n",
       "      <td>2019-03-02</td>\n",
       "      <td>story_1</td>\n",
       "      <td>3</td>\n",
       "      <td>IAP</td>\n",
       "      <td>gems</td>\n",
       "      <td>-73</td>\n",
       "      <td>0</td>\n",
       "    </tr>\n",
       "    <tr>\n",
       "      <th>131</th>\n",
       "      <td>36</td>\n",
       "      <td>2019-03-02</td>\n",
       "      <td>en</td>\n",
       "      <td>US</td>\n",
       "      <td>iPhone8,2</td>\n",
       "      <td>9.2.1</td>\n",
       "      <td>2019-03-03 00:03:26</td>\n",
       "      <td>2019-03-03</td>\n",
       "      <td>story_1</td>\n",
       "      <td>5</td>\n",
       "      <td>IAP</td>\n",
       "      <td>gems</td>\n",
       "      <td>-37</td>\n",
       "      <td>1</td>\n",
       "    </tr>\n",
       "    <tr>\n",
       "      <th>132</th>\n",
       "      <td>36</td>\n",
       "      <td>2019-03-02</td>\n",
       "      <td>en</td>\n",
       "      <td>US</td>\n",
       "      <td>iPhone8,2</td>\n",
       "      <td>9.2.1</td>\n",
       "      <td>2019-03-03 00:04:04</td>\n",
       "      <td>2019-03-03</td>\n",
       "      <td>story_1</td>\n",
       "      <td>5</td>\n",
       "      <td>IAP</td>\n",
       "      <td>gems</td>\n",
       "      <td>-73</td>\n",
       "      <td>1</td>\n",
       "    </tr>\n",
       "  </tbody>\n",
       "</table>\n",
       "</div>"
      ],
      "text/plain": [
       "     user_id install_date lang country     hw_ver os_ver                   ts  \\\n",
       "126       36   2019-03-02   en      US  iPhone8,2  9.2.1  2019-03-02 23:34:17   \n",
       "127       36   2019-03-02   en      US  iPhone8,2  9.2.1  2019-03-02 23:34:58   \n",
       "129       36   2019-03-02   en      US  iPhone8,2  9.2.1  2019-03-02 23:37:46   \n",
       "131       36   2019-03-02   en      US  iPhone8,2  9.2.1  2019-03-03 00:03:26   \n",
       "132       36   2019-03-02   en      US  iPhone8,2  9.2.1  2019-03-03 00:04:04   \n",
       "\n",
       "          date    story  chapter spendtype currency  amount  \\\n",
       "126 2019-03-02  story_1        3       IAP     gems     -37   \n",
       "127 2019-03-02  story_1        3       IAP     gems     -37   \n",
       "129 2019-03-02  story_1        3       IAP     gems     -73   \n",
       "131 2019-03-03  story_1        5       IAP     gems     -37   \n",
       "132 2019-03-03  story_1        5       IAP     gems     -73   \n",
       "\n",
       "     days_to_first_purchase  \n",
       "126                       0  \n",
       "127                       0  \n",
       "129                       0  \n",
       "131                       1  \n",
       "132                       1  "
      ]
     },
     "execution_count": 169,
     "metadata": {},
     "output_type": "execute_result"
    }
   ],
   "source": [
    "users_spends_IAP_df[users_spends_IAP_df.user_id == 36]"
   ]
  },
  {
   "cell_type": "code",
   "execution_count": 170,
   "id": "d0cc7ee2",
   "metadata": {},
   "outputs": [
    {
     "name": "stderr",
     "output_type": "stream",
     "text": [
      "C:\\Users\\NghiTram\\anaconda3\\envs\\kaggleEnv\\lib\\site-packages\\ipykernel_launcher.py:1: SettingWithCopyWarning: \n",
      "A value is trying to be set on a copy of a slice from a DataFrame.\n",
      "Try using .loc[row_indexer,col_indexer] = value instead\n",
      "\n",
      "See the caveats in the documentation: https://pandas.pydata.org/pandas-docs/stable/user_guide/indexing.html#returning-a-view-versus-a-copy\n",
      "  \"\"\"Entry point for launching an IPython kernel.\n",
      "C:\\Users\\NghiTram\\anaconda3\\envs\\kaggleEnv\\lib\\site-packages\\ipykernel_launcher.py:2: SettingWithCopyWarning: \n",
      "A value is trying to be set on a copy of a slice from a DataFrame.\n",
      "Try using .loc[row_indexer,col_indexer] = value instead\n",
      "\n",
      "See the caveats in the documentation: https://pandas.pydata.org/pandas-docs/stable/user_guide/indexing.html#returning-a-view-versus-a-copy\n",
      "  \n"
     ]
    },
    {
     "data": {
      "text/html": [
       "<div>\n",
       "<style scoped>\n",
       "    .dataframe tbody tr th:only-of-type {\n",
       "        vertical-align: middle;\n",
       "    }\n",
       "\n",
       "    .dataframe tbody tr th {\n",
       "        vertical-align: top;\n",
       "    }\n",
       "\n",
       "    .dataframe thead th {\n",
       "        text-align: right;\n",
       "    }\n",
       "</style>\n",
       "<table border=\"1\" class=\"dataframe\">\n",
       "  <thead>\n",
       "    <tr style=\"text-align: right;\">\n",
       "      <th></th>\n",
       "      <th>user_id</th>\n",
       "      <th>install_date</th>\n",
       "      <th>lang</th>\n",
       "      <th>country</th>\n",
       "      <th>hw_ver</th>\n",
       "      <th>os_ver</th>\n",
       "      <th>ts</th>\n",
       "      <th>date</th>\n",
       "      <th>story</th>\n",
       "      <th>chapter</th>\n",
       "      <th>spendtype</th>\n",
       "      <th>currency</th>\n",
       "      <th>amount</th>\n",
       "      <th>days_to_first_purchase</th>\n",
       "      <th>rank</th>\n",
       "    </tr>\n",
       "  </thead>\n",
       "  <tbody>\n",
       "    <tr>\n",
       "      <th>5</th>\n",
       "      <td>2</td>\n",
       "      <td>2019-03-06</td>\n",
       "      <td>en</td>\n",
       "      <td>US</td>\n",
       "      <td>iPod7,1</td>\n",
       "      <td>8.4.1</td>\n",
       "      <td>2019-03-07 11:50:37</td>\n",
       "      <td>2019-03-07</td>\n",
       "      <td>story_1</td>\n",
       "      <td>2</td>\n",
       "      <td>IAP</td>\n",
       "      <td>gems</td>\n",
       "      <td>-73</td>\n",
       "      <td>1</td>\n",
       "      <td>1</td>\n",
       "    </tr>\n",
       "    <tr>\n",
       "      <th>54</th>\n",
       "      <td>21</td>\n",
       "      <td>2019-03-07</td>\n",
       "      <td>en</td>\n",
       "      <td>GB</td>\n",
       "      <td>iPhone7,1</td>\n",
       "      <td>9.2.1</td>\n",
       "      <td>2019-03-09 10:53:06</td>\n",
       "      <td>2019-03-09</td>\n",
       "      <td>story_1</td>\n",
       "      <td>11</td>\n",
       "      <td>IAP</td>\n",
       "      <td>gems</td>\n",
       "      <td>-73</td>\n",
       "      <td>2</td>\n",
       "      <td>1</td>\n",
       "    </tr>\n",
       "    <tr>\n",
       "      <th>126</th>\n",
       "      <td>36</td>\n",
       "      <td>2019-03-02</td>\n",
       "      <td>en</td>\n",
       "      <td>US</td>\n",
       "      <td>iPhone8,2</td>\n",
       "      <td>9.2.1</td>\n",
       "      <td>2019-03-02 23:34:17</td>\n",
       "      <td>2019-03-02</td>\n",
       "      <td>story_1</td>\n",
       "      <td>3</td>\n",
       "      <td>IAP</td>\n",
       "      <td>gems</td>\n",
       "      <td>-37</td>\n",
       "      <td>0</td>\n",
       "      <td>1</td>\n",
       "    </tr>\n",
       "    <tr>\n",
       "      <th>178</th>\n",
       "      <td>51</td>\n",
       "      <td>2019-03-02</td>\n",
       "      <td>en</td>\n",
       "      <td>US</td>\n",
       "      <td>iPhone7,2</td>\n",
       "      <td>9.2.1</td>\n",
       "      <td>2019-03-02 22:38:53</td>\n",
       "      <td>2019-03-03</td>\n",
       "      <td>story_1</td>\n",
       "      <td>16</td>\n",
       "      <td>IAP</td>\n",
       "      <td>gems</td>\n",
       "      <td>-73</td>\n",
       "      <td>1</td>\n",
       "      <td>1</td>\n",
       "    </tr>\n",
       "    <tr>\n",
       "      <th>253</th>\n",
       "      <td>85</td>\n",
       "      <td>2019-03-07</td>\n",
       "      <td>en</td>\n",
       "      <td>US</td>\n",
       "      <td>iPhone6,1</td>\n",
       "      <td>9.2</td>\n",
       "      <td>2019-04-17 18:26:44</td>\n",
       "      <td>2019-04-17</td>\n",
       "      <td>story_2</td>\n",
       "      <td>2</td>\n",
       "      <td>IAP</td>\n",
       "      <td>gems</td>\n",
       "      <td>-73</td>\n",
       "      <td>41</td>\n",
       "      <td>1</td>\n",
       "    </tr>\n",
       "  </tbody>\n",
       "</table>\n",
       "</div>"
      ],
      "text/plain": [
       "     user_id install_date lang country     hw_ver os_ver                   ts  \\\n",
       "5          2   2019-03-06   en      US    iPod7,1  8.4.1  2019-03-07 11:50:37   \n",
       "54        21   2019-03-07   en      GB  iPhone7,1  9.2.1  2019-03-09 10:53:06   \n",
       "126       36   2019-03-02   en      US  iPhone8,2  9.2.1  2019-03-02 23:34:17   \n",
       "178       51   2019-03-02   en      US  iPhone7,2  9.2.1  2019-03-02 22:38:53   \n",
       "253       85   2019-03-07   en      US  iPhone6,1    9.2  2019-04-17 18:26:44   \n",
       "\n",
       "          date    story  chapter spendtype currency  amount  \\\n",
       "5   2019-03-07  story_1        2       IAP     gems     -73   \n",
       "54  2019-03-09  story_1       11       IAP     gems     -73   \n",
       "126 2019-03-02  story_1        3       IAP     gems     -37   \n",
       "178 2019-03-03  story_1       16       IAP     gems     -73   \n",
       "253 2019-04-17  story_2        2       IAP     gems     -73   \n",
       "\n",
       "     days_to_first_purchase  rank  \n",
       "5                         1     1  \n",
       "54                        2     1  \n",
       "126                       0     1  \n",
       "178                       1     1  \n",
       "253                      41     1  "
      ]
     },
     "execution_count": 170,
     "metadata": {},
     "output_type": "execute_result"
    }
   ],
   "source": [
    "users_spends_IAP_df[\"rank\"] = users_spends_IAP_df.groupby(['user_id'])['days_to_first_purchase'].rank(method=\"first\", ascending=True)\n",
    "users_spends_IAP_df[\"rank\"] = users_spends_IAP_df[\"rank\"].astype(int)\n",
    "users_spends_IAP_df = users_spends_IAP_df[users_spends_IAP_df[\"rank\"]==1]\n",
    "users_spends_IAP_df.head()"
   ]
  },
  {
   "cell_type": "code",
   "execution_count": 171,
   "id": "61fff53d",
   "metadata": {},
   "outputs": [
    {
     "data": {
      "text/plain": [
       "True"
      ]
     },
     "execution_count": 171,
     "metadata": {},
     "output_type": "execute_result"
    }
   ],
   "source": [
    "users_spends_IAP_df.shape[0] == users_spends_IAP_df[\"user_id\"].nunique()"
   ]
  },
  {
   "cell_type": "code",
   "execution_count": 172,
   "id": "3c9a203d",
   "metadata": {},
   "outputs": [
    {
     "data": {
      "text/plain": [
       "(array([405., 274., 120., 133.,  15.,  16.,  20.,   2.,  10.,   3.]),\n",
       " array([ 0. ,  2.3,  4.6,  6.9,  9.2, 11.5, 13.8, 16.1, 18.4, 20.7, 23. ]),\n",
       " <BarContainer object of 10 artists>)"
      ]
     },
     "execution_count": 172,
     "metadata": {},
     "output_type": "execute_result"
    },
    {
     "data": {
      "image/png": "[encoded data removed]",
      "text/plain": [
       "<Figure size 432x288 with 1 Axes>"
      ]
     },
     "metadata": {},
     "output_type": "display_data"
    }
   ],
   "source": [
    "chapter_first_iaps = users_spends_IAP_df[users_spends_IAP_df.days_to_first_purchase < 7]\n",
    "plt.hist(chapter_first_iaps[\"chapter\"])"
   ]
  },
  {
   "cell_type": "code",
   "execution_count": 173,
   "id": "acb31999",
   "metadata": {},
   "outputs": [
    {
     "data": {
      "text/plain": [
       "Text(0.5, 1.0, 'ECDF plot of current chapter at their first purchase')"
      ]
     },
     "execution_count": 173,
     "metadata": {},
     "output_type": "execute_result"
    },
    {
     "data": {
      "image/png": "[encoded data removed]",
      "text/plain": [
       "<Figure size 432x288 with 1 Axes>"
      ]
     },
     "metadata": {},
     "output_type": "display_data"
    }
   ],
   "source": [
    "sns.set()\n",
    "x_ecdf, y_ecdf = ecdf(chapter_first_iaps[\"chapter\"])\n",
    "sns.scatterplot(x=x_ecdf, y=y_ecdf)\n",
    "plt.title(\"ECDF plot of current chapter at their first purchase\")"
   ]
  },
  {
   "cell_type": "code",
   "execution_count": 186,
   "id": "82c7a602",
   "metadata": {},
   "outputs": [
    {
     "data": {
      "text/plain": [
       "(array([4., 2., 2., 0., 0., 0., 0., 0., 0., 1.]),\n",
       " array([ 0. ,  2.4,  4.8,  7.2,  9.6, 12. , 14.4, 16.8, 19.2, 21.6, 24. ]),\n",
       " <BarContainer object of 10 artists>)"
      ]
     },
     "execution_count": 186,
     "metadata": {},
     "output_type": "execute_result"
    },
    {
     "data": {
      "image/png": "[encoded data removed]",
      "text/plain": [
       "<Figure size 432x288 with 1 Axes>"
      ]
     },
     "metadata": {},
     "output_type": "display_data"
    }
   ],
   "source": [
    "chapter_first_iaps = users_spends_IAP_df[users_spends_IAP_df.days_to_first_purchase > 50]\n",
    "plt.hist(chapter_first_iaps[\"chapter\"])"
   ]
  },
  {
   "cell_type": "code",
   "execution_count": 187,
   "id": "b7fb9c3f",
   "metadata": {},
   "outputs": [
    {
     "data": {
      "text/plain": [
       "Text(0.5, 1.0, 'ECDF plot of current chapter before they make their first \\n             purchase after 50 days joining the game')"
      ]
     },
     "execution_count": 187,
     "metadata": {},
     "output_type": "execute_result"
    },
    {
     "data": {
      "image/png": "[encoded data removed]",
      "text/plain": [
       "<Figure size 432x288 with 1 Axes>"
      ]
     },
     "metadata": {},
     "output_type": "display_data"
    }
   ],
   "source": [
    "sns.set()\n",
    "x_ecdf, y_ecdf = ecdf(chapter_first_iaps[\"chapter\"])\n",
    "sns.scatterplot(x=x_ecdf, y=y_ecdf)\n",
    "plt.title(\"ECDF plot of current chapter before they make their first \\n \\\n",
    "            purchase after 50 days joining the game\")"
   ]
  },
  {
   "cell_type": "code",
   "execution_count": 178,
   "id": "7db64a67",
   "metadata": {},
   "outputs": [
    {
     "data": {
      "text/plain": [
       "Text(0.5, 1.0, 'ECDF plot of current chapter before they make their first \\n             purchase after 50 days joining the game')"
      ]
     },
     "execution_count": 178,
     "metadata": {},
     "output_type": "execute_result"
    },
    {
     "data": {
      "image/png": "[encoded data removed]",
      "text/plain": [
       "<Figure size 432x288 with 1 Axes>"
      ]
     },
     "metadata": {},
     "output_type": "display_data"
    }
   ],
   "source": [
    "chapter_first_iaps = users_spends_IAP_df[users_spends_IAP_df.days_to_first_purchase >= 7]\n",
    "sns.set()\n",
    "x_ecdf, y_ecdf = ecdf(chapter_first_iaps[\"chapter\"])\n",
    "sns.scatterplot(x=x_ecdf, y=y_ecdf)\n",
    "plt.title(\"ECDF plot of current chapter \")\n",
    "### after 14 and 7 days, if users are still in the first 5 levels, then check their activeness in the game , how much gems \n",
    "# they have when making their first purchase, ---> map them to non-paying users \n",
    "## check to see if they are still in the first 5 levels after 7 or 14 days, and they are active in game, gems are running low\n",
    "### then send promotion "
   ]
  },
  {
   "cell_type": "code",
   "execution_count": 57,
   "id": "029e5f92",
   "metadata": {},
   "outputs": [],
   "source": [
    "### after 14 days, calculate how long it takes for them to increase their levels, may send promotion their "
   ]
  },
  {
   "cell_type": "code",
   "execution_count": 59,
   "id": "2f06fe6a",
   "metadata": {},
   "outputs": [
    {
     "data": {
      "text/plain": [
       "1181"
      ]
     },
     "execution_count": 59,
     "metadata": {},
     "output_type": "execute_result"
    }
   ],
   "source": [
    "users_spends_IAP_df[\"user_id\"].nunique()"
   ]
  },
  {
   "cell_type": "code",
   "execution_count": 60,
   "id": "b473eee2",
   "metadata": {},
   "outputs": [
    {
     "data": {
      "text/plain": [
       "(39, 13)"
      ]
     },
     "execution_count": 60,
     "metadata": {},
     "output_type": "execute_result"
    }
   ],
   "source": [
    "users_spends_df[users_spends_df[\"spendtype\"]=='valuepack'].shape"
   ]
  },
  {
   "cell_type": "markdown",
   "id": "549ca49b",
   "metadata": {},
   "source": [
    "### 3. Gems when making the first purchase "
   ]
  },
  {
   "cell_type": "code",
   "execution_count": 137,
   "id": "bea95098",
   "metadata": {},
   "outputs": [
    {
     "data": {
      "text/html": [
       "<div>\n",
       "<style scoped>\n",
       "    .dataframe tbody tr th:only-of-type {\n",
       "        vertical-align: middle;\n",
       "    }\n",
       "\n",
       "    .dataframe tbody tr th {\n",
       "        vertical-align: top;\n",
       "    }\n",
       "\n",
       "    .dataframe thead th {\n",
       "        text-align: right;\n",
       "    }\n",
       "</style>\n",
       "<table border=\"1\" class=\"dataframe\">\n",
       "  <thead>\n",
       "    <tr style=\"text-align: right;\">\n",
       "      <th></th>\n",
       "      <th>user_id</th>\n",
       "      <th>ts</th>\n",
       "      <th>date</th>\n",
       "      <th>story</th>\n",
       "      <th>chapter</th>\n",
       "      <th>spendtype</th>\n",
       "      <th>currency</th>\n",
       "      <th>amount</th>\n",
       "      <th>iap_date</th>\n",
       "      <th>days_to_first_purchase</th>\n",
       "      <th>install_date</th>\n",
       "    </tr>\n",
       "  </thead>\n",
       "  <tbody>\n",
       "    <tr>\n",
       "      <th>0</th>\n",
       "      <td>1992</td>\n",
       "      <td>2019-03-01 12:10:53</td>\n",
       "      <td>2019-03-01</td>\n",
       "      <td>story_1</td>\n",
       "      <td>0</td>\n",
       "      <td>earnGemsCounter</td>\n",
       "      <td>gems</td>\n",
       "      <td>-22</td>\n",
       "      <td>2019-03-16 11:32:55</td>\n",
       "      <td>15</td>\n",
       "      <td>2019-03-01</td>\n",
       "    </tr>\n",
       "    <tr>\n",
       "      <th>1</th>\n",
       "      <td>1992</td>\n",
       "      <td>2019-03-16 11:32:55</td>\n",
       "      <td>2019-03-16</td>\n",
       "      <td>story_1</td>\n",
       "      <td>7</td>\n",
       "      <td>IAP</td>\n",
       "      <td>gems</td>\n",
       "      <td>-73</td>\n",
       "      <td>2019-03-16 11:32:55</td>\n",
       "      <td>15</td>\n",
       "      <td>2019-03-01</td>\n",
       "    </tr>\n",
       "    <tr>\n",
       "      <th>2</th>\n",
       "      <td>1992</td>\n",
       "      <td>2019-03-16 11:32:59</td>\n",
       "      <td>2019-03-16</td>\n",
       "      <td>story_1</td>\n",
       "      <td>7</td>\n",
       "      <td>premiumChoice</td>\n",
       "      <td>gems</td>\n",
       "      <td>43</td>\n",
       "      <td>2019-03-16 11:32:55</td>\n",
       "      <td>15</td>\n",
       "      <td>2019-03-01</td>\n",
       "    </tr>\n",
       "    <tr>\n",
       "      <th>3</th>\n",
       "      <td>1992</td>\n",
       "      <td>2019-03-19 20:41:25</td>\n",
       "      <td>2019-03-20</td>\n",
       "      <td>story_1</td>\n",
       "      <td>8</td>\n",
       "      <td>IAP</td>\n",
       "      <td>gems</td>\n",
       "      <td>-88</td>\n",
       "      <td>2019-03-16 11:32:55</td>\n",
       "      <td>15</td>\n",
       "      <td>2019-03-01</td>\n",
       "    </tr>\n",
       "    <tr>\n",
       "      <th>4</th>\n",
       "      <td>1992</td>\n",
       "      <td>2019-03-19 20:41:28</td>\n",
       "      <td>2019-03-20</td>\n",
       "      <td>story_1</td>\n",
       "      <td>8</td>\n",
       "      <td>premiumChoice</td>\n",
       "      <td>gems</td>\n",
       "      <td>24</td>\n",
       "      <td>2019-03-16 11:32:55</td>\n",
       "      <td>15</td>\n",
       "      <td>2019-03-01</td>\n",
       "    </tr>\n",
       "    <tr>\n",
       "      <th>...</th>\n",
       "      <td>...</td>\n",
       "      <td>...</td>\n",
       "      <td>...</td>\n",
       "      <td>...</td>\n",
       "      <td>...</td>\n",
       "      <td>...</td>\n",
       "      <td>...</td>\n",
       "      <td>...</td>\n",
       "      <td>...</td>\n",
       "      <td>...</td>\n",
       "      <td>...</td>\n",
       "    </tr>\n",
       "    <tr>\n",
       "      <th>27685</th>\n",
       "      <td>12279</td>\n",
       "      <td>2019-04-23 16:08:20</td>\n",
       "      <td>2019-04-23</td>\n",
       "      <td>story_6</td>\n",
       "      <td>7</td>\n",
       "      <td>premiumChoice</td>\n",
       "      <td>gems</td>\n",
       "      <td>29</td>\n",
       "      <td>2019-04-23 08:47:56</td>\n",
       "      <td>48</td>\n",
       "      <td>2019-03-06</td>\n",
       "    </tr>\n",
       "    <tr>\n",
       "      <th>27686</th>\n",
       "      <td>12279</td>\n",
       "      <td>2019-04-23 16:32:50</td>\n",
       "      <td>2019-04-23</td>\n",
       "      <td>story_4</td>\n",
       "      <td>0</td>\n",
       "      <td>earnGemsCounter</td>\n",
       "      <td>gems</td>\n",
       "      <td>-22</td>\n",
       "      <td>2019-04-23 08:47:56</td>\n",
       "      <td>48</td>\n",
       "      <td>2019-03-06</td>\n",
       "    </tr>\n",
       "    <tr>\n",
       "      <th>27687</th>\n",
       "      <td>18357</td>\n",
       "      <td>2019-05-01 06:50:58</td>\n",
       "      <td>2019-05-01</td>\n",
       "      <td>story_11</td>\n",
       "      <td>5</td>\n",
       "      <td>IAP</td>\n",
       "      <td>gems</td>\n",
       "      <td>-73</td>\n",
       "      <td>2019-05-01 06:50:58</td>\n",
       "      <td>59</td>\n",
       "      <td>2019-03-03</td>\n",
       "    </tr>\n",
       "    <tr>\n",
       "      <th>27688</th>\n",
       "      <td>18357</td>\n",
       "      <td>2019-05-01 06:51:01</td>\n",
       "      <td>2019-05-01</td>\n",
       "      <td>story_11</td>\n",
       "      <td>5</td>\n",
       "      <td>premiumChoice</td>\n",
       "      <td>gems</td>\n",
       "      <td>31</td>\n",
       "      <td>2019-05-01 06:50:58</td>\n",
       "      <td>59</td>\n",
       "      <td>2019-03-03</td>\n",
       "    </tr>\n",
       "    <tr>\n",
       "      <th>27689</th>\n",
       "      <td>20643</td>\n",
       "      <td>2019-04-24 20:35:26</td>\n",
       "      <td>2019-04-24</td>\n",
       "      <td>story_2</td>\n",
       "      <td>0</td>\n",
       "      <td>earnGemsCounter</td>\n",
       "      <td>gems</td>\n",
       "      <td>-22</td>\n",
       "      <td>2019-04-18 23:59:01</td>\n",
       "      <td>48</td>\n",
       "      <td>2019-03-01</td>\n",
       "    </tr>\n",
       "  </tbody>\n",
       "</table>\n",
       "<p>27690 rows × 11 columns</p>\n",
       "</div>"
      ],
      "text/plain": [
       "       user_id                   ts       date     story  chapter  \\\n",
       "0         1992  2019-03-01 12:10:53 2019-03-01   story_1        0   \n",
       "1         1992  2019-03-16 11:32:55 2019-03-16   story_1        7   \n",
       "2         1992  2019-03-16 11:32:59 2019-03-16   story_1        7   \n",
       "3         1992  2019-03-19 20:41:25 2019-03-20   story_1        8   \n",
       "4         1992  2019-03-19 20:41:28 2019-03-20   story_1        8   \n",
       "...        ...                  ...        ...       ...      ...   \n",
       "27685    12279  2019-04-23 16:08:20 2019-04-23   story_6        7   \n",
       "27686    12279  2019-04-23 16:32:50 2019-04-23   story_4        0   \n",
       "27687    18357  2019-05-01 06:50:58 2019-05-01  story_11        5   \n",
       "27688    18357  2019-05-01 06:51:01 2019-05-01  story_11        5   \n",
       "27689    20643  2019-04-24 20:35:26 2019-04-24   story_2        0   \n",
       "\n",
       "             spendtype currency  amount             iap_date  \\\n",
       "0      earnGemsCounter     gems     -22  2019-03-16 11:32:55   \n",
       "1                  IAP     gems     -73  2019-03-16 11:32:55   \n",
       "2        premiumChoice     gems      43  2019-03-16 11:32:55   \n",
       "3                  IAP     gems     -88  2019-03-16 11:32:55   \n",
       "4        premiumChoice     gems      24  2019-03-16 11:32:55   \n",
       "...                ...      ...     ...                  ...   \n",
       "27685    premiumChoice     gems      29  2019-04-23 08:47:56   \n",
       "27686  earnGemsCounter     gems     -22  2019-04-23 08:47:56   \n",
       "27687              IAP     gems     -73  2019-05-01 06:50:58   \n",
       "27688    premiumChoice     gems      31  2019-05-01 06:50:58   \n",
       "27689  earnGemsCounter     gems     -22  2019-04-18 23:59:01   \n",
       "\n",
       "       days_to_first_purchase install_date  \n",
       "0                          15   2019-03-01  \n",
       "1                          15   2019-03-01  \n",
       "2                          15   2019-03-01  \n",
       "3                          15   2019-03-01  \n",
       "4                          15   2019-03-01  \n",
       "...                       ...          ...  \n",
       "27685                      48   2019-03-06  \n",
       "27686                      48   2019-03-06  \n",
       "27687                      59   2019-03-03  \n",
       "27688                      59   2019-03-03  \n",
       "27689                      48   2019-03-01  \n",
       "\n",
       "[27690 rows x 11 columns]"
      ]
     },
     "execution_count": 137,
     "metadata": {},
     "output_type": "execute_result"
    }
   ],
   "source": [
    "users_gems = pd.merge(spending_df, first_iap_day_df, on = \"user_id\")\n",
    "users_gems"
   ]
  },
  {
   "cell_type": "code",
   "execution_count": 184,
   "id": "0ed115cd",
   "metadata": {},
   "outputs": [
    {
     "data": {
      "text/plain": [
       "Text(0.5, 1.0, 'ECDF plot of gems amount at their first purchase')"
      ]
     },
     "execution_count": 184,
     "metadata": {},
     "output_type": "execute_result"
    },
    {
     "data": {
      "image/png": "[encoded data removed]",
      "text/plain": [
       "<Figure size 432x288 with 1 Axes>"
      ]
     },
     "metadata": {},
     "output_type": "display_data"
    }
   ],
   "source": [
    "gems_before_iap_df = users_gems[(users_gems.ts < users_gems.iap_date)].sort_values(by=['user_id', \"ts\"])\n",
    "total_gems_before_iap_df = gems_before_iap_df.groupby(\"user_id\")[\"amount\"].sum().reset_index()\n",
    "total_gems_before_iap_df[\"amount\"] = total_gems_before_iap_df[\"amount\"]*(-1)\n",
    "sns.set()\n",
    "x_ecdf, y_ecdf = ecdf(total_gems_before_iap_df[\"amount\"])\n",
    "sns.scatterplot(x=x_ecdf, y=y_ecdf)\n",
    "plt.title(\"ECDF plot of gems amount at their first purchase\")"
   ]
  },
  {
   "cell_type": "code",
   "execution_count": 183,
   "id": "8b456b8a",
   "metadata": {},
   "outputs": [
    {
     "data": {
      "text/plain": [
       "Text(0.5, 1.0, 'ECDF plot of gems amount before they make their first \\n             purchase after 50 days joining the game')"
      ]
     },
     "execution_count": 183,
     "metadata": {},
     "output_type": "execute_result"
    },
    {
     "data": {
      "image/png": "[encoded data removed]",
      "text/plain": [
       "<Figure size 432x288 with 1 Axes>"
      ]
     },
     "metadata": {},
     "output_type": "display_data"
    }
   ],
   "source": [
    "gems_before_iap_df = users_gems[(users_gems.ts < users_gems.iap_date)\\\n",
    "                                & (users_gems.days_to_first_purchase > 50)].sort_values(by=['user_id', \"ts\"])\n",
    "total_gems_before_iap_df = gems_before_iap_df.groupby(\"user_id\")[\"amount\"].sum().reset_index()\n",
    "total_gems_before_iap_df[\"amount\"] = total_gems_before_iap_df[\"amount\"]*(-1)\n",
    "sns.set()\n",
    "x_ecdf, y_ecdf = ecdf(total_gems_before_iap_df[\"amount\"])\n",
    "sns.scatterplot(x=x_ecdf, y=y_ecdf)\n",
    "plt.title(\"ECDF plot of gems amount before they make their first \\n \\\n",
    "            purchase after 50 days joining the game\")"
   ]
  },
  {
   "cell_type": "code",
   "execution_count": 185,
   "id": "d8c442cb",
   "metadata": {},
   "outputs": [
    {
     "data": {
      "text/plain": [
       "Text(0.5, 1.0, 'ECDF plot of gem amount at their first purchase')"
      ]
     },
     "execution_count": 185,
     "metadata": {},
     "output_type": "execute_result"
    },
    {
     "data": {
      "image/png": "[encoded data removed]",
      "text/plain": [
       "<Figure size 432x288 with 1 Axes>"
      ]
     },
     "metadata": {},
     "output_type": "display_data"
    }
   ],
   "source": [
    "gems_before_iap_df = users_gems[(users_gems.ts < users_gems.iap_date)\\\n",
    "                               & (users_gems.days_to_first_purchase < 5)].sort_values(by=['user_id', \"ts\"])\n",
    "total_gems_before_iap_df = gems_before_iap_df.groupby(\"user_id\")[\"amount\"].sum().reset_index()\n",
    "total_gems_before_iap_df[\"amount\"] = total_gems_before_iap_df[\"amount\"]*(-1)\n",
    "sns.set()\n",
    "x_ecdf, y_ecdf = ecdf(total_gems_before_iap_df[\"amount\"])\n",
    "sns.scatterplot(x=x_ecdf, y=y_ecdf)\n",
    "plt.title(\"ECDF plot of gem amount at their first purchase\")"
   ]
  },
  {
   "cell_type": "code",
   "execution_count": 74,
   "id": "fb2aaa05",
   "metadata": {},
   "outputs": [
    {
     "data": {
      "text/plain": [
       "(6622, 13)"
      ]
     },
     "execution_count": 74,
     "metadata": {},
     "output_type": "execute_result"
    }
   ],
   "source": [
    "users_iaps.shape"
   ]
  },
  {
   "cell_type": "code",
   "execution_count": 75,
   "id": "b7945b6a",
   "metadata": {},
   "outputs": [
    {
     "data": {
      "text/plain": [
       "(6622, 6)"
      ]
     },
     "execution_count": 75,
     "metadata": {},
     "output_type": "execute_result"
    }
   ],
   "source": [
    "iaps_df.shape"
   ]
  },
  {
   "cell_type": "markdown",
   "id": "985dfd60",
   "metadata": {},
   "source": [
    "### 4. How activate they are "
   ]
  },
  {
   "cell_type": "code",
   "execution_count": 76,
   "id": "803e0edf",
   "metadata": {},
   "outputs": [
    {
     "data": {
      "text/html": [
       "<div>\n",
       "<style scoped>\n",
       "    .dataframe tbody tr th:only-of-type {\n",
       "        vertical-align: middle;\n",
       "    }\n",
       "\n",
       "    .dataframe tbody tr th {\n",
       "        vertical-align: top;\n",
       "    }\n",
       "\n",
       "    .dataframe thead th {\n",
       "        text-align: right;\n",
       "    }\n",
       "</style>\n",
       "<table border=\"1\" class=\"dataframe\">\n",
       "  <thead>\n",
       "    <tr style=\"text-align: right;\">\n",
       "      <th></th>\n",
       "      <th>user_id</th>\n",
       "      <th>iap_date</th>\n",
       "      <th>days_to_first_purchase</th>\n",
       "      <th>install_date</th>\n",
       "      <th>ts</th>\n",
       "      <th>date</th>\n",
       "      <th>session_num</th>\n",
       "      <th>last_session_termination_type</th>\n",
       "    </tr>\n",
       "  </thead>\n",
       "  <tbody>\n",
       "    <tr>\n",
       "      <th>0</th>\n",
       "      <td>2</td>\n",
       "      <td>2019-03-07 11:50:37</td>\n",
       "      <td>1</td>\n",
       "      <td>2019-03-06</td>\n",
       "      <td>2019-03-06 10:02:20</td>\n",
       "      <td>2019-03-06</td>\n",
       "      <td>1</td>\n",
       "      <td>NaN</td>\n",
       "    </tr>\n",
       "    <tr>\n",
       "      <th>1</th>\n",
       "      <td>2</td>\n",
       "      <td>2019-03-07 11:50:37</td>\n",
       "      <td>1</td>\n",
       "      <td>2019-03-06</td>\n",
       "      <td>2019-03-07 11:22:20</td>\n",
       "      <td>2019-03-07</td>\n",
       "      <td>2</td>\n",
       "      <td>NaN</td>\n",
       "    </tr>\n",
       "    <tr>\n",
       "      <th>2</th>\n",
       "      <td>2</td>\n",
       "      <td>2019-03-07 11:50:37</td>\n",
       "      <td>1</td>\n",
       "      <td>2019-03-06</td>\n",
       "      <td>2019-03-07 11:22:42</td>\n",
       "      <td>2019-03-07</td>\n",
       "      <td>3</td>\n",
       "      <td>NaN</td>\n",
       "    </tr>\n",
       "    <tr>\n",
       "      <th>3</th>\n",
       "      <td>2</td>\n",
       "      <td>2019-03-07 11:50:37</td>\n",
       "      <td>1</td>\n",
       "      <td>2019-03-06</td>\n",
       "      <td>2019-03-07 11:31:13</td>\n",
       "      <td>2019-03-07</td>\n",
       "      <td>4</td>\n",
       "      <td>NaN</td>\n",
       "    </tr>\n",
       "    <tr>\n",
       "      <th>4</th>\n",
       "      <td>2</td>\n",
       "      <td>2019-03-07 11:50:37</td>\n",
       "      <td>1</td>\n",
       "      <td>2019-03-06</td>\n",
       "      <td>2019-03-07 15:31:45</td>\n",
       "      <td>2019-03-07</td>\n",
       "      <td>5</td>\n",
       "      <td>NaN</td>\n",
       "    </tr>\n",
       "  </tbody>\n",
       "</table>\n",
       "</div>"
      ],
      "text/plain": [
       "   user_id             iap_date  days_to_first_purchase install_date  \\\n",
       "0        2  2019-03-07 11:50:37                       1   2019-03-06   \n",
       "1        2  2019-03-07 11:50:37                       1   2019-03-06   \n",
       "2        2  2019-03-07 11:50:37                       1   2019-03-06   \n",
       "3        2  2019-03-07 11:50:37                       1   2019-03-06   \n",
       "4        2  2019-03-07 11:50:37                       1   2019-03-06   \n",
       "\n",
       "                    ts       date  session_num  last_session_termination_type  \n",
       "0  2019-03-06 10:02:20 2019-03-06            1                            NaN  \n",
       "1  2019-03-07 11:22:20 2019-03-07            2                            NaN  \n",
       "2  2019-03-07 11:22:42 2019-03-07            3                            NaN  \n",
       "3  2019-03-07 11:31:13 2019-03-07            4                            NaN  \n",
       "4  2019-03-07 15:31:45 2019-03-07            5                            NaN  "
      ]
     },
     "execution_count": 76,
     "metadata": {},
     "output_type": "execute_result"
    }
   ],
   "source": [
    "users_sessions = pd.merge(first_iap_day_df, sessions_df, on = \"user_id\")\n",
    "users_sessions.head()"
   ]
  },
  {
   "cell_type": "code",
   "execution_count": 77,
   "id": "718accda",
   "metadata": {},
   "outputs": [
    {
     "data": {
      "text/plain": [
       "(array([1.088e+03, 1.410e+02, 4.000e+01, 8.000e+00, 9.000e+00, 1.000e+00,\n",
       "        0.000e+00, 0.000e+00, 0.000e+00, 2.000e+00]),\n",
       " array([  1. ,  16.2,  31.4,  46.6,  61.8,  77. ,  92.2, 107.4, 122.6,\n",
       "        137.8, 153. ]),\n",
       " <BarContainer object of 10 artists>)"
      ]
     },
     "execution_count": 77,
     "metadata": {},
     "output_type": "execute_result"
    },
    {
     "data": {
      "image/png": "[encoded data removed]",
      "text/plain": [
       "<Figure size 432x288 with 1 Axes>"
      ]
     },
     "metadata": {},
     "output_type": "display_data"
    }
   ],
   "source": [
    "after_n_days = users_sessions[(users_sessions.days_to_first_purchase <= 6) & (users_sessions.ts < users_sessions.iap_date)]\n",
    "idx = after_n_days.groupby(\"user_id\")[\"session_num\"].transform(max) == after_n_days[\"session_num\"]\n",
    "plt.hist(after_n_days[idx][\"session_num\"])"
   ]
  },
  {
   "cell_type": "code",
   "execution_count": 78,
   "id": "29bec77a",
   "metadata": {},
   "outputs": [
    {
     "data": {
      "text/plain": [
       "Text(0.5, 1.0, 'ECDF plot of num sessions at their first purchase')"
      ]
     },
     "execution_count": 78,
     "metadata": {},
     "output_type": "execute_result"
    },
    {
     "data": {
      "image/png": "[encoded data removed]",
      "text/plain": [
       "<Figure size 432x288 with 1 Axes>"
      ]
     },
     "metadata": {},
     "output_type": "display_data"
    }
   ],
   "source": [
    "x_ecdf, y_ecdf = ecdf(after_n_days[idx][\"session_num\"])\n",
    "sns.scatterplot(x=x_ecdf, y=y_ecdf)\n",
    "plt.title(\"ECDF plot of num sessions at their first purchase\")"
   ]
  },
  {
   "cell_type": "code",
   "execution_count": 79,
   "id": "62498c33",
   "metadata": {},
   "outputs": [
    {
     "data": {
      "text/plain": [
       "Text(0.5, 1.0, 'ECDF plot of num sessions at their first purchase')"
      ]
     },
     "execution_count": 79,
     "metadata": {},
     "output_type": "execute_result"
    },
    {
     "data": {
      "image/png": "[encoded data removed]",
      "text/plain": [
       "<Figure size 432x288 with 1 Axes>"
      ]
     },
     "metadata": {},
     "output_type": "display_data"
    }
   ],
   "source": [
    "after_n_days = users_sessions[(users_sessions.days_to_first_purchase >= 7)\\\n",
    "                              & (users_sessions.days_to_first_purchase <= 10)\\\n",
    "                              & (users_sessions.ts < users_sessions.iap_date)]\n",
    "idx = after_n_days.groupby(\"user_id\")[\"session_num\"].transform(max) == after_n_days[\"session_num\"]\n",
    "x_ecdf, y_ecdf = ecdf(after_n_days[idx][\"session_num\"])\n",
    "sns.scatterplot(x=x_ecdf, y=y_ecdf)\n",
    "plt.title(\"ECDF plot of num sessions at their first purchase\")"
   ]
  },
  {
   "cell_type": "code",
   "execution_count": 80,
   "id": "10071dc3",
   "metadata": {},
   "outputs": [
    {
     "data": {
      "text/plain": [
       "Text(0.5, 1.0, 'ECDF plot of num sessions at their first purchase')"
      ]
     },
     "execution_count": 80,
     "metadata": {},
     "output_type": "execute_result"
    },
    {
     "data": {
      "image/png": "[encoded data removed]",
      "text/plain": [
       "<Figure size 432x288 with 1 Axes>"
      ]
     },
     "metadata": {},
     "output_type": "display_data"
    }
   ],
   "source": [
    "after_n_days = users_sessions[(users_sessions.days_to_first_purchase > 30)\\\n",
    "                              & (users_sessions.days_to_first_purchase)\\\n",
    "                             & (users_sessions.ts < users_sessions.iap_date)]\n",
    "idx = after_n_days.groupby(\"user_id\")[\"session_num\"].transform(max) == after_n_days[\"session_num\"]\n",
    "x_ecdf, y_ecdf = ecdf(after_n_days[idx][\"session_num\"])\n",
    "sns.scatterplot(x=x_ecdf, y=y_ecdf)\n",
    "plt.title(\"ECDF plot of num sessions at their first purchase\")"
   ]
  },
  {
   "cell_type": "code",
   "execution_count": 81,
   "id": "a9addb5b",
   "metadata": {},
   "outputs": [
    {
     "data": {
      "text/plain": [
       "28"
      ]
     },
     "execution_count": 81,
     "metadata": {},
     "output_type": "execute_result"
    }
   ],
   "source": [
    "after_n_days[\"user_id\"].nunique()"
   ]
  },
  {
   "cell_type": "markdown",
   "id": "b3f403e6",
   "metadata": {},
   "source": [
    "### 2. Let segment paying users into different group, and analyze their behavior \n",
    "- analyze behavior of users "
   ]
  },
  {
   "cell_type": "code",
   "execution_count": 82,
   "id": "9dd8f474",
   "metadata": {},
   "outputs": [],
   "source": [
    "### 2. On average, how many in-app purchase new users make, if they make their first purchase after the first 10 days "
   ]
  },
  {
   "cell_type": "code",
   "execution_count": 83,
   "id": "dc78e98e",
   "metadata": {},
   "outputs": [],
   "source": [
    "zero_day_iap_df = paying_users_df[paying_users_df.days_to_first_purchase == 0]\n",
    "two_day_iap_df = paying_users_df[(paying_users_df.days_to_first_purchase == 2) | \\\n",
    "                                 (paying_users_df.days_to_first_purchase == 1)]\n",
    "\n",
    "three_to_5_day_iap_df = paying_users_df[(paying_users_df.days_to_first_purchase >= 3) \\\n",
    "                                        & (paying_users_df.days_to_first_purchase <= 5)]\n",
    "six_to_10_day_iap_df = paying_users_df[(paying_users_df.days_to_first_purchase >= 6) \\\n",
    "                                        & (paying_users_df.days_to_first_purchase <= 10)]\n",
    "after_7_days_iap_df = paying_users_df[(paying_users_df.days_to_first_purchase >= 7)]\n",
    "ten_than_20_day_iap_df = paying_users_df[(paying_users_df.days_to_first_purchase >= 11) \\\n",
    "                                        & (paying_users_df.days_to_first_purchase <= 20)]"
   ]
  },
  {
   "cell_type": "code",
   "execution_count": 84,
   "id": "5b0d89f4",
   "metadata": {},
   "outputs": [
    {
     "data": {
      "text/plain": [
       "0.7332896461336829"
      ]
     },
     "execution_count": 84,
     "metadata": {},
     "output_type": "execute_result"
    }
   ],
   "source": [
    "paying_users_df[paying_users_df.days_to_first_purchase <= 2].shape[0] / paying_users_df.shape[0]"
   ]
  },
  {
   "cell_type": "code",
   "execution_count": 85,
   "id": "81ae1736",
   "metadata": {},
   "outputs": [
    {
     "name": "stdout",
     "output_type": "stream",
     "text": [
      "(74, 13)\n"
     ]
    },
    {
     "ename": "NameError",
     "evalue": "name 'more_than_10_day_iap_df' is not defined",
     "output_type": "error",
     "traceback": [
      "\u001b[1;31m---------------------------------------------------------------------------\u001b[0m",
      "\u001b[1;31mNameError\u001b[0m                                 Traceback (most recent call last)",
      "\u001b[1;32m<ipython-input-85-6329b100c154>\u001b[0m in \u001b[0;36m<module>\u001b[1;34m\u001b[0m\n\u001b[0;32m      1\u001b[0m \u001b[0mprint\u001b[0m\u001b[1;33m(\u001b[0m\u001b[0msix_to_10_day_iap_df\u001b[0m\u001b[1;33m.\u001b[0m\u001b[0mshape\u001b[0m\u001b[1;33m)\u001b[0m\u001b[1;33m\u001b[0m\u001b[1;33m\u001b[0m\u001b[0m\n\u001b[1;32m----> 2\u001b[1;33m \u001b[0mmore_than_10_day_iap_df\u001b[0m\u001b[1;33m.\u001b[0m\u001b[0mshape\u001b[0m\u001b[1;33m\u001b[0m\u001b[1;33m\u001b[0m\u001b[0m\n\u001b[0m",
      "\u001b[1;31mNameError\u001b[0m: name 'more_than_10_day_iap_df' is not defined"
     ]
    }
   ],
   "source": [
    "print(six_to_10_day_iap_df.shape)\n",
    "more_than_10_day_iap_df.shape"
   ]
  },
  {
   "cell_type": "markdown",
   "id": "4aa55c11",
   "metadata": {},
   "source": [
    "#### analyze group 3-5 days iap"
   ]
  },
  {
   "cell_type": "code",
   "execution_count": 86,
   "id": "81485513",
   "metadata": {},
   "outputs": [
    {
     "name": "stdout",
     "output_type": "stream",
     "text": [
      "(146, 13)\n"
     ]
    },
    {
     "data": {
      "text/html": [
       "<div>\n",
       "<style scoped>\n",
       "    .dataframe tbody tr th:only-of-type {\n",
       "        vertical-align: middle;\n",
       "    }\n",
       "\n",
       "    .dataframe tbody tr th {\n",
       "        vertical-align: top;\n",
       "    }\n",
       "\n",
       "    .dataframe thead th {\n",
       "        text-align: right;\n",
       "    }\n",
       "</style>\n",
       "<table border=\"1\" class=\"dataframe\">\n",
       "  <thead>\n",
       "    <tr style=\"text-align: right;\">\n",
       "      <th></th>\n",
       "      <th>user_id</th>\n",
       "      <th>install_date</th>\n",
       "      <th>lang</th>\n",
       "      <th>country</th>\n",
       "      <th>hw_ver</th>\n",
       "      <th>os_ver</th>\n",
       "      <th>ts</th>\n",
       "      <th>date</th>\n",
       "      <th>prod_name</th>\n",
       "      <th>prod_type</th>\n",
       "      <th>rev</th>\n",
       "      <th>days_to_first_purchase</th>\n",
       "      <th>rank</th>\n",
       "    </tr>\n",
       "  </thead>\n",
       "  <tbody>\n",
       "    <tr>\n",
       "      <th>110</th>\n",
       "      <td>313</td>\n",
       "      <td>2019-03-07</td>\n",
       "      <td>en</td>\n",
       "      <td>US</td>\n",
       "      <td>iPhone6,1</td>\n",
       "      <td>9.2.1</td>\n",
       "      <td>2019-03-12 06:29:58</td>\n",
       "      <td>2019-03-12</td>\n",
       "      <td>iap_1_gems_2</td>\n",
       "      <td>gems</td>\n",
       "      <td>760</td>\n",
       "      <td>5</td>\n",
       "      <td>1</td>\n",
       "    </tr>\n",
       "    <tr>\n",
       "      <th>282</th>\n",
       "      <td>785</td>\n",
       "      <td>2019-03-07</td>\n",
       "      <td>en</td>\n",
       "      <td>GB</td>\n",
       "      <td>iPad2,7</td>\n",
       "      <td>9.2</td>\n",
       "      <td>2019-03-10 18:24:22</td>\n",
       "      <td>2019-03-10</td>\n",
       "      <td>iap_1_gems_5</td>\n",
       "      <td>gems</td>\n",
       "      <td>1810</td>\n",
       "      <td>3</td>\n",
       "      <td>1</td>\n",
       "    </tr>\n",
       "    <tr>\n",
       "      <th>305</th>\n",
       "      <td>868</td>\n",
       "      <td>2019-03-04</td>\n",
       "      <td>en</td>\n",
       "      <td>US</td>\n",
       "      <td>iPad4,1</td>\n",
       "      <td>9.2.1</td>\n",
       "      <td>2019-03-07 17:54:10</td>\n",
       "      <td>2019-03-07</td>\n",
       "      <td>iap_1_gems_2</td>\n",
       "      <td>gems</td>\n",
       "      <td>760</td>\n",
       "      <td>3</td>\n",
       "      <td>1</td>\n",
       "    </tr>\n",
       "    <tr>\n",
       "      <th>320</th>\n",
       "      <td>888</td>\n",
       "      <td>2019-03-06</td>\n",
       "      <td>en</td>\n",
       "      <td>CA</td>\n",
       "      <td>iPad2,5</td>\n",
       "      <td>8.3</td>\n",
       "      <td>2019-03-09 18:53:33</td>\n",
       "      <td>2019-03-09</td>\n",
       "      <td>iap_1_gems_2</td>\n",
       "      <td>gems</td>\n",
       "      <td>760</td>\n",
       "      <td>3</td>\n",
       "      <td>1</td>\n",
       "    </tr>\n",
       "    <tr>\n",
       "      <th>329</th>\n",
       "      <td>916</td>\n",
       "      <td>2019-03-06</td>\n",
       "      <td>en</td>\n",
       "      <td>AU</td>\n",
       "      <td>iPhone6,2</td>\n",
       "      <td>9.2</td>\n",
       "      <td>2019-03-09 02:17:14</td>\n",
       "      <td>2019-03-09</td>\n",
       "      <td>iap_1_gems_2</td>\n",
       "      <td>gems</td>\n",
       "      <td>760</td>\n",
       "      <td>3</td>\n",
       "      <td>1</td>\n",
       "    </tr>\n",
       "  </tbody>\n",
       "</table>\n",
       "</div>"
      ],
      "text/plain": [
       "     user_id install_date lang country     hw_ver os_ver                   ts  \\\n",
       "110      313   2019-03-07   en      US  iPhone6,1  9.2.1  2019-03-12 06:29:58   \n",
       "282      785   2019-03-07   en      GB    iPad2,7    9.2  2019-03-10 18:24:22   \n",
       "305      868   2019-03-04   en      US    iPad4,1  9.2.1  2019-03-07 17:54:10   \n",
       "320      888   2019-03-06   en      CA    iPad2,5    8.3  2019-03-09 18:53:33   \n",
       "329      916   2019-03-06   en      AU  iPhone6,2    9.2  2019-03-09 02:17:14   \n",
       "\n",
       "          date     prod_name prod_type   rev  days_to_first_purchase  rank  \n",
       "110 2019-03-12  iap_1_gems_2      gems   760                       5     1  \n",
       "282 2019-03-10  iap_1_gems_5      gems  1810                       3     1  \n",
       "305 2019-03-07  iap_1_gems_2      gems   760                       3     1  \n",
       "320 2019-03-09  iap_1_gems_2      gems   760                       3     1  \n",
       "329 2019-03-09  iap_1_gems_2      gems   760                       3     1  "
      ]
     },
     "execution_count": 86,
     "metadata": {},
     "output_type": "execute_result"
    }
   ],
   "source": [
    "print(three_to_5_day_iap_df.shape)\n",
    "three_to_5_day_iap_df.head()"
   ]
  },
  {
   "cell_type": "code",
   "execution_count": 87,
   "id": "78696564",
   "metadata": {},
   "outputs": [
    {
     "data": {
      "text/plain": [
       "(10905, 17)"
      ]
     },
     "execution_count": 87,
     "metadata": {},
     "output_type": "execute_result"
    }
   ],
   "source": [
    "three_to_5_day_iap_df = pd.merge(three_to_5_day_iap_df, sessions_df, on = \"user_id\")\n",
    "three_to_5_day_iap_df.shape"
   ]
  },
  {
   "cell_type": "code",
   "execution_count": 103,
   "id": "7f05dbd7",
   "metadata": {},
   "outputs": [
    {
     "data": {
      "text/html": [
       "<div>\n",
       "<style scoped>\n",
       "    .dataframe tbody tr th:only-of-type {\n",
       "        vertical-align: middle;\n",
       "    }\n",
       "\n",
       "    .dataframe tbody tr th {\n",
       "        vertical-align: top;\n",
       "    }\n",
       "\n",
       "    .dataframe thead th {\n",
       "        text-align: right;\n",
       "    }\n",
       "</style>\n",
       "<table border=\"1\" class=\"dataframe\">\n",
       "  <thead>\n",
       "    <tr style=\"text-align: right;\">\n",
       "      <th></th>\n",
       "      <th>user_id</th>\n",
       "      <th>install_date</th>\n",
       "      <th>lang</th>\n",
       "      <th>country</th>\n",
       "      <th>hw_ver</th>\n",
       "      <th>os_ver</th>\n",
       "      <th>ts_x</th>\n",
       "      <th>date_x</th>\n",
       "      <th>prod_name</th>\n",
       "      <th>prod_type</th>\n",
       "      <th>...</th>\n",
       "      <th>days_to_first_purchase</th>\n",
       "      <th>rank</th>\n",
       "      <th>ts_y</th>\n",
       "      <th>date_y</th>\n",
       "      <th>session_num_x</th>\n",
       "      <th>last_session_termination_type_x</th>\n",
       "      <th>ts</th>\n",
       "      <th>date</th>\n",
       "      <th>session_num_y</th>\n",
       "      <th>last_session_termination_type_y</th>\n",
       "    </tr>\n",
       "  </thead>\n",
       "  <tbody>\n",
       "    <tr>\n",
       "      <th>0</th>\n",
       "      <td>313</td>\n",
       "      <td>2019-03-07</td>\n",
       "      <td>en</td>\n",
       "      <td>US</td>\n",
       "      <td>iPhone6,1</td>\n",
       "      <td>9.2.1</td>\n",
       "      <td>2019-03-12 06:29:58</td>\n",
       "      <td>2019-03-12</td>\n",
       "      <td>iap_1_gems_2</td>\n",
       "      <td>gems</td>\n",
       "      <td>...</td>\n",
       "      <td>5</td>\n",
       "      <td>1</td>\n",
       "      <td>2019-03-07 04:20:24</td>\n",
       "      <td>2019-03-07</td>\n",
       "      <td>1</td>\n",
       "      <td>NaN</td>\n",
       "      <td>2019-03-07 04:20:24</td>\n",
       "      <td>2019-03-07</td>\n",
       "      <td>1</td>\n",
       "      <td>NaN</td>\n",
       "    </tr>\n",
       "    <tr>\n",
       "      <th>1</th>\n",
       "      <td>313</td>\n",
       "      <td>2019-03-07</td>\n",
       "      <td>en</td>\n",
       "      <td>US</td>\n",
       "      <td>iPhone6,1</td>\n",
       "      <td>9.2.1</td>\n",
       "      <td>2019-03-12 06:29:58</td>\n",
       "      <td>2019-03-12</td>\n",
       "      <td>iap_1_gems_2</td>\n",
       "      <td>gems</td>\n",
       "      <td>...</td>\n",
       "      <td>5</td>\n",
       "      <td>1</td>\n",
       "      <td>2019-03-07 04:20:24</td>\n",
       "      <td>2019-03-07</td>\n",
       "      <td>1</td>\n",
       "      <td>NaN</td>\n",
       "      <td>2019-03-07 05:02:50</td>\n",
       "      <td>2019-03-07</td>\n",
       "      <td>2</td>\n",
       "      <td>NaN</td>\n",
       "    </tr>\n",
       "    <tr>\n",
       "      <th>2</th>\n",
       "      <td>313</td>\n",
       "      <td>2019-03-07</td>\n",
       "      <td>en</td>\n",
       "      <td>US</td>\n",
       "      <td>iPhone6,1</td>\n",
       "      <td>9.2.1</td>\n",
       "      <td>2019-03-12 06:29:58</td>\n",
       "      <td>2019-03-12</td>\n",
       "      <td>iap_1_gems_2</td>\n",
       "      <td>gems</td>\n",
       "      <td>...</td>\n",
       "      <td>5</td>\n",
       "      <td>1</td>\n",
       "      <td>2019-03-07 04:20:24</td>\n",
       "      <td>2019-03-07</td>\n",
       "      <td>1</td>\n",
       "      <td>NaN</td>\n",
       "      <td>2019-03-07 05:03:36</td>\n",
       "      <td>2019-03-07</td>\n",
       "      <td>3</td>\n",
       "      <td>NaN</td>\n",
       "    </tr>\n",
       "    <tr>\n",
       "      <th>3</th>\n",
       "      <td>313</td>\n",
       "      <td>2019-03-07</td>\n",
       "      <td>en</td>\n",
       "      <td>US</td>\n",
       "      <td>iPhone6,1</td>\n",
       "      <td>9.2.1</td>\n",
       "      <td>2019-03-12 06:29:58</td>\n",
       "      <td>2019-03-12</td>\n",
       "      <td>iap_1_gems_2</td>\n",
       "      <td>gems</td>\n",
       "      <td>...</td>\n",
       "      <td>5</td>\n",
       "      <td>1</td>\n",
       "      <td>2019-03-07 04:20:24</td>\n",
       "      <td>2019-03-07</td>\n",
       "      <td>1</td>\n",
       "      <td>NaN</td>\n",
       "      <td>2019-03-07 05:55:52</td>\n",
       "      <td>2019-03-07</td>\n",
       "      <td>4</td>\n",
       "      <td>NaN</td>\n",
       "    </tr>\n",
       "    <tr>\n",
       "      <th>4</th>\n",
       "      <td>313</td>\n",
       "      <td>2019-03-07</td>\n",
       "      <td>en</td>\n",
       "      <td>US</td>\n",
       "      <td>iPhone6,1</td>\n",
       "      <td>9.2.1</td>\n",
       "      <td>2019-03-12 06:29:58</td>\n",
       "      <td>2019-03-12</td>\n",
       "      <td>iap_1_gems_2</td>\n",
       "      <td>gems</td>\n",
       "      <td>...</td>\n",
       "      <td>5</td>\n",
       "      <td>1</td>\n",
       "      <td>2019-03-07 04:20:24</td>\n",
       "      <td>2019-03-07</td>\n",
       "      <td>1</td>\n",
       "      <td>NaN</td>\n",
       "      <td>2019-03-07 06:00:41</td>\n",
       "      <td>2019-03-07</td>\n",
       "      <td>5</td>\n",
       "      <td>NaN</td>\n",
       "    </tr>\n",
       "  </tbody>\n",
       "</table>\n",
       "<p>5 rows × 21 columns</p>\n",
       "</div>"
      ],
      "text/plain": [
       "   user_id install_date lang country     hw_ver os_ver                 ts_x  \\\n",
       "0      313   2019-03-07   en      US  iPhone6,1  9.2.1  2019-03-12 06:29:58   \n",
       "1      313   2019-03-07   en      US  iPhone6,1  9.2.1  2019-03-12 06:29:58   \n",
       "2      313   2019-03-07   en      US  iPhone6,1  9.2.1  2019-03-12 06:29:58   \n",
       "3      313   2019-03-07   en      US  iPhone6,1  9.2.1  2019-03-12 06:29:58   \n",
       "4      313   2019-03-07   en      US  iPhone6,1  9.2.1  2019-03-12 06:29:58   \n",
       "\n",
       "      date_x     prod_name prod_type  ...  days_to_first_purchase  rank  \\\n",
       "0 2019-03-12  iap_1_gems_2      gems  ...                       5     1   \n",
       "1 2019-03-12  iap_1_gems_2      gems  ...                       5     1   \n",
       "2 2019-03-12  iap_1_gems_2      gems  ...                       5     1   \n",
       "3 2019-03-12  iap_1_gems_2      gems  ...                       5     1   \n",
       "4 2019-03-12  iap_1_gems_2      gems  ...                       5     1   \n",
       "\n",
       "                  ts_y     date_y session_num_x  \\\n",
       "0  2019-03-07 04:20:24 2019-03-07             1   \n",
       "1  2019-03-07 04:20:24 2019-03-07             1   \n",
       "2  2019-03-07 04:20:24 2019-03-07             1   \n",
       "3  2019-03-07 04:20:24 2019-03-07             1   \n",
       "4  2019-03-07 04:20:24 2019-03-07             1   \n",
       "\n",
       "   last_session_termination_type_x                   ts       date  \\\n",
       "0                              NaN  2019-03-07 04:20:24 2019-03-07   \n",
       "1                              NaN  2019-03-07 05:02:50 2019-03-07   \n",
       "2                              NaN  2019-03-07 05:03:36 2019-03-07   \n",
       "3                              NaN  2019-03-07 05:55:52 2019-03-07   \n",
       "4                              NaN  2019-03-07 06:00:41 2019-03-07   \n",
       "\n",
       "  session_num_y  last_session_termination_type_y  \n",
       "0             1                              NaN  \n",
       "1             2                              NaN  \n",
       "2             3                              NaN  \n",
       "3             4                              NaN  \n",
       "4             5                              NaN  \n",
       "\n",
       "[5 rows x 21 columns]"
      ]
     },
     "execution_count": 103,
     "metadata": {},
     "output_type": "execute_result"
    }
   ],
   "source": [
    "three_to_5_day_iap_df.head()"
   ]
  },
  {
   "cell_type": "code",
   "execution_count": 82,
   "id": "ba9a4f5a",
   "metadata": {},
   "outputs": [
    {
     "data": {
      "text/html": [
       "<div>\n",
       "<style scoped>\n",
       "    .dataframe tbody tr th:only-of-type {\n",
       "        vertical-align: middle;\n",
       "    }\n",
       "\n",
       "    .dataframe tbody tr th {\n",
       "        vertical-align: top;\n",
       "    }\n",
       "\n",
       "    .dataframe thead th {\n",
       "        text-align: right;\n",
       "    }\n",
       "</style>\n",
       "<table border=\"1\" class=\"dataframe\">\n",
       "  <thead>\n",
       "    <tr style=\"text-align: right;\">\n",
       "      <th></th>\n",
       "      <th>user_id</th>\n",
       "      <th>install_date</th>\n",
       "      <th>lang</th>\n",
       "      <th>country</th>\n",
       "      <th>hw_ver</th>\n",
       "      <th>os_ver</th>\n",
       "      <th>ts_x</th>\n",
       "      <th>date_x</th>\n",
       "      <th>prod_name</th>\n",
       "      <th>prod_type</th>\n",
       "      <th>rev</th>\n",
       "      <th>days_to_first_purchase</th>\n",
       "      <th>rank</th>\n",
       "      <th>ts_y</th>\n",
       "      <th>date_y</th>\n",
       "      <th>session_num</th>\n",
       "      <th>last_session_termination_type</th>\n",
       "    </tr>\n",
       "  </thead>\n",
       "  <tbody>\n",
       "    <tr>\n",
       "      <th>66</th>\n",
       "      <td>313</td>\n",
       "      <td>2019-03-07</td>\n",
       "      <td>en</td>\n",
       "      <td>US</td>\n",
       "      <td>iPhone6,1</td>\n",
       "      <td>9.2.1</td>\n",
       "      <td>2019-03-12 06:29:58</td>\n",
       "      <td>2019-03-12</td>\n",
       "      <td>iap_1_gems_2</td>\n",
       "      <td>gems</td>\n",
       "      <td>760</td>\n",
       "      <td>5</td>\n",
       "      <td>1</td>\n",
       "      <td>2019-03-16 23:19:11</td>\n",
       "      <td>2019-03-16</td>\n",
       "      <td>68</td>\n",
       "      <td>NaN</td>\n",
       "    </tr>\n",
       "    <tr>\n",
       "      <th>148</th>\n",
       "      <td>785</td>\n",
       "      <td>2019-03-07</td>\n",
       "      <td>en</td>\n",
       "      <td>GB</td>\n",
       "      <td>iPad2,7</td>\n",
       "      <td>9.2</td>\n",
       "      <td>2019-03-10 18:24:22</td>\n",
       "      <td>2019-03-10</td>\n",
       "      <td>iap_1_gems_5</td>\n",
       "      <td>gems</td>\n",
       "      <td>1810</td>\n",
       "      <td>3</td>\n",
       "      <td>1</td>\n",
       "      <td>2019-05-05 17:07:54</td>\n",
       "      <td>2019-05-05</td>\n",
       "      <td>80</td>\n",
       "      <td>NaN</td>\n",
       "    </tr>\n",
       "    <tr>\n",
       "      <th>162</th>\n",
       "      <td>868</td>\n",
       "      <td>2019-03-04</td>\n",
       "      <td>en</td>\n",
       "      <td>US</td>\n",
       "      <td>iPad4,1</td>\n",
       "      <td>9.2.1</td>\n",
       "      <td>2019-03-07 17:54:10</td>\n",
       "      <td>2019-03-07</td>\n",
       "      <td>iap_1_gems_2</td>\n",
       "      <td>gems</td>\n",
       "      <td>760</td>\n",
       "      <td>3</td>\n",
       "      <td>1</td>\n",
       "      <td>2019-03-12 07:45:18</td>\n",
       "      <td>2019-03-12</td>\n",
       "      <td>15</td>\n",
       "      <td>NaN</td>\n",
       "    </tr>\n",
       "    <tr>\n",
       "      <th>182</th>\n",
       "      <td>888</td>\n",
       "      <td>2019-03-06</td>\n",
       "      <td>en</td>\n",
       "      <td>CA</td>\n",
       "      <td>iPad2,5</td>\n",
       "      <td>8.3</td>\n",
       "      <td>2019-03-09 18:53:33</td>\n",
       "      <td>2019-03-09</td>\n",
       "      <td>iap_1_gems_2</td>\n",
       "      <td>gems</td>\n",
       "      <td>760</td>\n",
       "      <td>3</td>\n",
       "      <td>1</td>\n",
       "      <td>2019-03-14 10:57:49</td>\n",
       "      <td>2019-03-14</td>\n",
       "      <td>20</td>\n",
       "      <td>NaN</td>\n",
       "    </tr>\n",
       "    <tr>\n",
       "      <th>340</th>\n",
       "      <td>916</td>\n",
       "      <td>2019-03-06</td>\n",
       "      <td>en</td>\n",
       "      <td>AU</td>\n",
       "      <td>iPhone6,2</td>\n",
       "      <td>9.2</td>\n",
       "      <td>2019-03-09 02:17:14</td>\n",
       "      <td>2019-03-09</td>\n",
       "      <td>iap_1_gems_2</td>\n",
       "      <td>gems</td>\n",
       "      <td>760</td>\n",
       "      <td>3</td>\n",
       "      <td>1</td>\n",
       "      <td>2019-04-01 20:06:11</td>\n",
       "      <td>2019-04-01</td>\n",
       "      <td>159</td>\n",
       "      <td>NaN</td>\n",
       "    </tr>\n",
       "    <tr>\n",
       "      <th>...</th>\n",
       "      <td>...</td>\n",
       "      <td>...</td>\n",
       "      <td>...</td>\n",
       "      <td>...</td>\n",
       "      <td>...</td>\n",
       "      <td>...</td>\n",
       "      <td>...</td>\n",
       "      <td>...</td>\n",
       "      <td>...</td>\n",
       "      <td>...</td>\n",
       "      <td>...</td>\n",
       "      <td>...</td>\n",
       "      <td>...</td>\n",
       "      <td>...</td>\n",
       "      <td>...</td>\n",
       "      <td>...</td>\n",
       "      <td>...</td>\n",
       "    </tr>\n",
       "    <tr>\n",
       "      <th>10537</th>\n",
       "      <td>21842</td>\n",
       "      <td>2019-03-06</td>\n",
       "      <td>en</td>\n",
       "      <td>US</td>\n",
       "      <td>iPhone7,2</td>\n",
       "      <td>9.2</td>\n",
       "      <td>2019-03-11 17:10:41</td>\n",
       "      <td>2019-03-11</td>\n",
       "      <td>iap_1_gems_2</td>\n",
       "      <td>gems</td>\n",
       "      <td>760</td>\n",
       "      <td>5</td>\n",
       "      <td>1</td>\n",
       "      <td>2019-03-29 20:38:03</td>\n",
       "      <td>2019-03-29</td>\n",
       "      <td>57</td>\n",
       "      <td>NaN</td>\n",
       "    </tr>\n",
       "    <tr>\n",
       "      <th>10617</th>\n",
       "      <td>22085</td>\n",
       "      <td>2019-03-01</td>\n",
       "      <td>en</td>\n",
       "      <td>GB</td>\n",
       "      <td>iPhone7,1</td>\n",
       "      <td>9.1</td>\n",
       "      <td>2019-03-04 06:33:22</td>\n",
       "      <td>2019-03-04</td>\n",
       "      <td>iap_1_passes_2</td>\n",
       "      <td>chapterPasses</td>\n",
       "      <td>760</td>\n",
       "      <td>3</td>\n",
       "      <td>1</td>\n",
       "      <td>2019-03-23 12:15:41</td>\n",
       "      <td>2019-03-23</td>\n",
       "      <td>80</td>\n",
       "      <td>NaN</td>\n",
       "    </tr>\n",
       "    <tr>\n",
       "      <th>10635</th>\n",
       "      <td>22323</td>\n",
       "      <td>2019-03-03</td>\n",
       "      <td>en</td>\n",
       "      <td>US</td>\n",
       "      <td>iPod5,1</td>\n",
       "      <td>9.2.1</td>\n",
       "      <td>2019-03-07 13:58:37</td>\n",
       "      <td>2019-03-07</td>\n",
       "      <td>iap_1_passes_1</td>\n",
       "      <td>chapterPasses</td>\n",
       "      <td>410</td>\n",
       "      <td>4</td>\n",
       "      <td>1</td>\n",
       "      <td>2019-03-21 13:35:50</td>\n",
       "      <td>2019-03-21</td>\n",
       "      <td>18</td>\n",
       "      <td>NaN</td>\n",
       "    </tr>\n",
       "    <tr>\n",
       "      <th>10819</th>\n",
       "      <td>22370</td>\n",
       "      <td>2019-03-04</td>\n",
       "      <td>en</td>\n",
       "      <td>BE</td>\n",
       "      <td>iPhone6,2</td>\n",
       "      <td>9.2</td>\n",
       "      <td>2019-03-08 00:48:03</td>\n",
       "      <td>2019-03-08</td>\n",
       "      <td>iap_1_passes_2</td>\n",
       "      <td>chapterPasses</td>\n",
       "      <td>760</td>\n",
       "      <td>4</td>\n",
       "      <td>1</td>\n",
       "      <td>2019-05-01 18:18:24</td>\n",
       "      <td>2019-05-01</td>\n",
       "      <td>182</td>\n",
       "      <td>NaN</td>\n",
       "    </tr>\n",
       "    <tr>\n",
       "      <th>10905</th>\n",
       "      <td>22474</td>\n",
       "      <td>2019-03-07</td>\n",
       "      <td>en</td>\n",
       "      <td>US</td>\n",
       "      <td>iPhone7,2</td>\n",
       "      <td>9.2.1</td>\n",
       "      <td>2019-03-10 01:18:54</td>\n",
       "      <td>2019-03-10</td>\n",
       "      <td>iap_1_gems_5</td>\n",
       "      <td>gems</td>\n",
       "      <td>1810</td>\n",
       "      <td>3</td>\n",
       "      <td>1</td>\n",
       "      <td>2019-04-01 04:04:46</td>\n",
       "      <td>2019-04-01</td>\n",
       "      <td>86</td>\n",
       "      <td>NaN</td>\n",
       "    </tr>\n",
       "  </tbody>\n",
       "</table>\n",
       "<p>148 rows × 17 columns</p>\n",
       "</div>"
      ],
      "text/plain": [
       "       user_id install_date lang country     hw_ver os_ver  \\\n",
       "66         313   2019-03-07   en      US  iPhone6,1  9.2.1   \n",
       "148        785   2019-03-07   en      GB    iPad2,7    9.2   \n",
       "162        868   2019-03-04   en      US    iPad4,1  9.2.1   \n",
       "182        888   2019-03-06   en      CA    iPad2,5    8.3   \n",
       "340        916   2019-03-06   en      AU  iPhone6,2    9.2   \n",
       "...        ...          ...  ...     ...        ...    ...   \n",
       "10537    21842   2019-03-06   en      US  iPhone7,2    9.2   \n",
       "10617    22085   2019-03-01   en      GB  iPhone7,1    9.1   \n",
       "10635    22323   2019-03-03   en      US    iPod5,1  9.2.1   \n",
       "10819    22370   2019-03-04   en      BE  iPhone6,2    9.2   \n",
       "10905    22474   2019-03-07   en      US  iPhone7,2  9.2.1   \n",
       "\n",
       "                      ts_x     date_x       prod_name      prod_type   rev  \\\n",
       "66     2019-03-12 06:29:58 2019-03-12    iap_1_gems_2           gems   760   \n",
       "148    2019-03-10 18:24:22 2019-03-10    iap_1_gems_5           gems  1810   \n",
       "162    2019-03-07 17:54:10 2019-03-07    iap_1_gems_2           gems   760   \n",
       "182    2019-03-09 18:53:33 2019-03-09    iap_1_gems_2           gems   760   \n",
       "340    2019-03-09 02:17:14 2019-03-09    iap_1_gems_2           gems   760   \n",
       "...                    ...        ...             ...            ...   ...   \n",
       "10537  2019-03-11 17:10:41 2019-03-11    iap_1_gems_2           gems   760   \n",
       "10617  2019-03-04 06:33:22 2019-03-04  iap_1_passes_2  chapterPasses   760   \n",
       "10635  2019-03-07 13:58:37 2019-03-07  iap_1_passes_1  chapterPasses   410   \n",
       "10819  2019-03-08 00:48:03 2019-03-08  iap_1_passes_2  chapterPasses   760   \n",
       "10905  2019-03-10 01:18:54 2019-03-10    iap_1_gems_5           gems  1810   \n",
       "\n",
       "       days_to_first_purchase  rank                 ts_y      date_y  \\\n",
       "66                          5     1  2019-03-16 23:19:11  2019-03-16   \n",
       "148                         3     1  2019-05-05 17:07:54  2019-05-05   \n",
       "162                         3     1  2019-03-12 07:45:18  2019-03-12   \n",
       "182                         3     1  2019-03-14 10:57:49  2019-03-14   \n",
       "340                         3     1  2019-04-01 20:06:11  2019-04-01   \n",
       "...                       ...   ...                  ...         ...   \n",
       "10537                       5     1  2019-03-29 20:38:03  2019-03-29   \n",
       "10617                       3     1  2019-03-23 12:15:41  2019-03-23   \n",
       "10635                       4     1  2019-03-21 13:35:50  2019-03-21   \n",
       "10819                       4     1  2019-05-01 18:18:24  2019-05-01   \n",
       "10905                       3     1  2019-04-01 04:04:46  2019-04-01   \n",
       "\n",
       "       session_num  last_session_termination_type  \n",
       "66              68                            NaN  \n",
       "148             80                            NaN  \n",
       "162             15                            NaN  \n",
       "182             20                            NaN  \n",
       "340            159                            NaN  \n",
       "...            ...                            ...  \n",
       "10537           57                            NaN  \n",
       "10617           80                            NaN  \n",
       "10635           18                            NaN  \n",
       "10819          182                            NaN  \n",
       "10905           86                            NaN  \n",
       "\n",
       "[148 rows x 17 columns]"
      ]
     },
     "execution_count": 82,
     "metadata": {},
     "output_type": "execute_result"
    }
   ],
   "source": [
    "three_to_5_day_iap_df[\"days_from_installing\"] = three_to_5_day_iap_df[\"date_y\"] - three_to_5_day_iap_df[\"date_x\"]\n",
    "df_sessions_3_5_iap_df = three_to_5_day_iap_df[three_to_5_day_iap_df[\"days_from_installing\"] <= 4\n",
    "idx = three_to_5_day_iap_df.groupby(['user_id'])['session_num'].transform(max) == three_to_5_day_iap_df['session_num']\n",
    "three_to_5_day_iap_df[idx]"
   ]
  },
  {
   "cell_type": "code",
   "execution_count": 63,
   "id": "c7cf0cca",
   "metadata": {},
   "outputs": [
    {
     "data": {
      "text/plain": [
       "<AxesSubplot:>"
      ]
     },
     "execution_count": 63,
     "metadata": {},
     "output_type": "execute_result"
    },
    {
     "data": {
      "image/png": "[encoded data removed]",
      "text/plain": [
       "<Figure size 432x360 with 1 Axes>"
      ]
     },
     "metadata": {},
     "output_type": "display_data"
    }
   ],
   "source": []
  },
  {
   "cell_type": "code",
   "execution_count": null,
   "id": "b898a40d",
   "metadata": {},
   "outputs": [],
   "source": [
    "### 1. Amount of gems left when making purchase and level\n",
    "### 2. Find the main difference features/distribution ft that seperates two groups well \n",
    "### 3. Cluster according that features\n",
    "### 4. "
   ]
  },
  {
   "cell_type": "code",
   "execution_count": null,
   "id": "d59132e6",
   "metadata": {},
   "outputs": [],
   "source": [
    "# Model \n",
    "- Paying users are class 1 \n",
    "- Non-paying users are class 0\n",
    "- build features "
   ]
  }
 ],
 "metadata": {
  "kernelspec": {
   "display_name": "Python 3",
   "language": "python",
   "name": "python3"
  },
  "language_info": {
   "codemirror_mode": {
    "name": "ipython",
    "version": 3
   },
   "file_extension": ".py",
   "mimetype": "text/x-python",
   "name": "python",
   "nbconvert_exporter": "python",
   "pygments_lexer": "ipython3",
   "version": "3.7.9"
  }
 },
 "nbformat": 4,
 "nbformat_minor": 5
}

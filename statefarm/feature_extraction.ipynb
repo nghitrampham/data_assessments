{
 "cells": [
  {
   "cell_type": "code",
   "execution_count": 1,
   "id": "76c155b8",
   "metadata": {},
   "outputs": [],
   "source": [
    "### basic package for data science project\n",
    "import pandas as pd\n",
    "import matplotlib.pyplot as plt\n",
    "import seaborn as sns\n",
    "import numpy as np\n",
    "\n",
    "%matplotlib inline\n",
    "sns.set()"
   ]
  },
  {
   "cell_type": "code",
   "execution_count": 2,
   "id": "9617b018",
   "metadata": {},
   "outputs": [],
   "source": [
    "train_data = pd.read_csv('data/exercise_40_train.csv')"
   ]
  },
  {
   "cell_type": "code",
   "execution_count": null,
   "id": "d0cd3582",
   "metadata": {},
   "outputs": [],
   "source": [
    "def clean_data(df):\n",
    "    "
   ]
  },
  {
   "cell_type": "code",
   "execution_count": null,
   "id": "c2c3b77c",
   "metadata": {},
   "outputs": [],
   "source": [
    "def extract_features(df):"
   ]
  }
 ],
 "metadata": {
  "kernelspec": {
   "display_name": "Python 3",
   "language": "python",
   "name": "python3"
  },
  "language_info": {
   "codemirror_mode": {
    "name": "ipython",
    "version": 3
   },
   "file_extension": ".py",
   "mimetype": "text/x-python",
   "name": "python",
   "nbconvert_exporter": "python",
   "pygments_lexer": "ipython3",
   "version": "3.7.9"
  }
 },
 "nbformat": 4,
 "nbformat_minor": 5
}

{
 "cells": [
  {
   "cell_type": "code",
   "execution_count": 1,
   "id": "91f1a0fb",
   "metadata": {},
   "outputs": [],
   "source": [
    "import pandas as pd\n",
    "\n",
    "### import extra package\n",
    "import matplotlib.pyplot as plt\n",
    "import seaborn as sns\n",
    "import numpy as np\n",
    "\n",
    "#### modelling package\n",
    "from statsmodels.graphics.mosaicplot import mosaic\n",
    "import statsmodels\n",
    "from statsmodels.formula.api import logit\n",
    "from sklearn.linear_model import LogisticRegression\n",
    "from sklearn.model_selection import train_test_split\n",
    "\n",
    "\n",
    "#### importing evaluation package \n",
    "from sklearn.metrics import f1_score, confusion_matrix, roc_auc_score, auc,\\\n",
    "precision_recall_curve, roc_curve, average_precision_score\n",
    "from sklearn import metrics"
   ]
  },
  {
   "cell_type": "markdown",
   "id": "3d5a9313",
   "metadata": {},
   "source": [
    "### Helper functions"
   ]
  },
  {
   "cell_type": "code",
   "execution_count": 227,
   "id": "160a13dc",
   "metadata": {},
   "outputs": [],
   "source": [
    "def evaluation(y_true, y_pred, title = \"\"):\n",
    "    \"\"\"\n",
    "    This function is used to compute the confusion matrix \n",
    "    and other evaluation metrics.\n",
    "    \"\"\"\n",
    "    cm = confusion_matrix(y_true, y_pred)\n",
    "    print('Confusion Matrix for {}: \\n'.format(title), cm)\n",
    "    total = sum(sum(cm))\n",
    "    \n",
    "    print('=============')\n",
    "    accuracy = (cm[0,0] + cm[1,1]) /total\n",
    "    print ('Accuracy    : {}'.format(accuracy))\n",
    "    Specificity = cm[0,0] / (cm[0,0] + cm[0,1])\n",
    "    print('Specificity :  {}'.format(Specificity))\n",
    "    sensitivity = cm[1,1] / (cm[1,0] + cm[1,1])\n",
    "    print('Sensitivity :  {}'.format(sensitivity))\n",
    "    \n",
    "    \n",
    "def plot_swarm(x, y, df):\n",
    "    sns.set()\n",
    "    sns.swarmplot(x=x, y = y, data = df)\n",
    "    plt.xlabel(x)\n",
    "    plt.ylabel(y)\n",
    "    plt.show()\n",
    "    \n",
    "def ecdf(data):\n",
    "    n = len(data)\n",
    "    x = np.sort(data)\n",
    "    y = np.arange(1, n+1) / n\n",
    "    return x, y"
   ]
  },
  {
   "cell_type": "markdown",
   "id": "12fcdb35",
   "metadata": {},
   "source": [
    "### Data Preparation "
   ]
  },
  {
   "cell_type": "code",
   "execution_count": 6,
   "id": "af465d49",
   "metadata": {},
   "outputs": [],
   "source": [
    "### load data \n",
    "user_df = pd.read_csv(\"users.csv\")\n",
    "sessions_df = pd.read_csv(\"sessions.csv\").drop_duplicates()\n",
    "iaps_df = pd.read_csv(\"iaps.csv\").drop_duplicates()\n",
    "spending_df = pd.read_csv(\"spendevents.csv\").drop_duplicates()\n",
    "\n",
    "\n",
    "### change to datetime format\n",
    "spending_df[\"date\"] = pd.to_datetime(spending_df[\"date\"])\n",
    "sessions_df[\"date\"] = pd.to_datetime(sessions_df[\"date\"])\n",
    "user_df[\"install_date\"] = pd.to_datetime(user_df[\"install_date\"])\n",
    "iaps_df[\"date\"] = pd.to_datetime(iaps_df[\"date\"])"
   ]
  },
  {
   "cell_type": "code",
   "execution_count": 7,
   "id": "a263110e",
   "metadata": {},
   "outputs": [
    {
     "data": {
      "text/html": [
       "<div>\n",
       "<style scoped>\n",
       "    .dataframe tbody tr th:only-of-type {\n",
       "        vertical-align: middle;\n",
       "    }\n",
       "\n",
       "    .dataframe tbody tr th {\n",
       "        vertical-align: top;\n",
       "    }\n",
       "\n",
       "    .dataframe thead th {\n",
       "        text-align: right;\n",
       "    }\n",
       "</style>\n",
       "<table border=\"1\" class=\"dataframe\">\n",
       "  <thead>\n",
       "    <tr style=\"text-align: right;\">\n",
       "      <th></th>\n",
       "      <th>user_id</th>\n",
       "      <th>iap_date</th>\n",
       "      <th>days_to_first_purchase</th>\n",
       "      <th>install_date</th>\n",
       "    </tr>\n",
       "  </thead>\n",
       "  <tbody>\n",
       "    <tr>\n",
       "      <th>0</th>\n",
       "      <td>2</td>\n",
       "      <td>2019-03-07 11:50:37</td>\n",
       "      <td>1</td>\n",
       "      <td>2019-03-06</td>\n",
       "    </tr>\n",
       "    <tr>\n",
       "      <th>1</th>\n",
       "      <td>21</td>\n",
       "      <td>2019-03-09 10:18:32</td>\n",
       "      <td>2</td>\n",
       "      <td>2019-03-07</td>\n",
       "    </tr>\n",
       "    <tr>\n",
       "      <th>4</th>\n",
       "      <td>36</td>\n",
       "      <td>2019-03-02 23:34:17</td>\n",
       "      <td>0</td>\n",
       "      <td>2019-03-02</td>\n",
       "    </tr>\n",
       "    <tr>\n",
       "      <th>10</th>\n",
       "      <td>51</td>\n",
       "      <td>2019-03-02 21:19:39</td>\n",
       "      <td>0</td>\n",
       "      <td>2019-03-02</td>\n",
       "    </tr>\n",
       "    <tr>\n",
       "      <th>20</th>\n",
       "      <td>85</td>\n",
       "      <td>2019-04-17 18:26:44</td>\n",
       "      <td>41</td>\n",
       "      <td>2019-03-07</td>\n",
       "    </tr>\n",
       "  </tbody>\n",
       "</table>\n",
       "</div>"
      ],
      "text/plain": [
       "    user_id             iap_date  days_to_first_purchase install_date\n",
       "0         2  2019-03-07 11:50:37                       1   2019-03-06\n",
       "1        21  2019-03-09 10:18:32                       2   2019-03-07\n",
       "4        36  2019-03-02 23:34:17                       0   2019-03-02\n",
       "10       51  2019-03-02 21:19:39                       0   2019-03-02\n",
       "20       85  2019-04-17 18:26:44                      41   2019-03-07"
      ]
     },
     "execution_count": 7,
     "metadata": {},
     "output_type": "execute_result"
    }
   ],
   "source": [
    "### extract paying users and their info\n",
    "users_iaps = pd.merge(user_df, iaps_df, on = \"user_id\")\n",
    "users_iaps[\"days_to_first_purchase\"] = users_iaps[\"date\"] - users_iaps[\"install_date\"]\n",
    "users_iaps[\"days_to_first_purchase\"] = users_iaps[\"days_to_first_purchase\"].dt.days\n",
    "users_iaps[\"rank\"] = users_iaps.groupby([\"user_id\"])[\"days_to_first_purchase\"].rank(method=\"first\", ascending=True)\n",
    "users_iaps[\"rank\"] = users_iaps[\"rank\"].astype(int)\n",
    "paying_users_df = users_iaps[users_iaps[\"rank\"]==1]\n",
    "first_iap_day_df = paying_users_df[[\"user_id\", \"ts\", \"days_to_first_purchase\",\\\n",
    "                                    \"install_date\"]].rename(columns={\"ts\": \"iap_date\"}) #### 1526 paying users\n",
    "first_iap_day_df.head()"
   ]
  },
  {
   "cell_type": "markdown",
   "id": "1d0cf950",
   "metadata": {},
   "source": [
    "### extract non-paying users \n",
    "- Remove non-active players (those are not active within 7 days)\n",
    "- All users who haven’t converted after 45 days and still active will be labeled as 0.\n",
    "- In the label 0 group of 2463 non-paying users, 186 of them don't have record in spendevents. We will exclude them "
   ]
  },
  {
   "cell_type": "code",
   "execution_count": 45,
   "id": "6ecebd3f",
   "metadata": {},
   "outputs": [],
   "source": [
    "non_payer_df = user_df[~user_df.user_id.isin(iaps_df[\"user_id\"].unique())] ## total of 21050 non-paying users\n",
    "session_non_payer_df = pd.merge(non_payer_df, sessions_df, on = \"user_id\")\n",
    "session_non_payer_df[\"days_from_installed\"] = session_non_payer_df[\"date\"] - session_non_payer_df[\"install_date\"]\n",
    "session_non_payer_df[\"days_from_installed\"] = session_non_payer_df[\"days_from_installed\"].dt.days"
   ]
  },
  {
   "cell_type": "code",
   "execution_count": 46,
   "id": "50fd9924",
   "metadata": {},
   "outputs": [
    {
     "data": {
      "text/html": [
       "<div>\n",
       "<style scoped>\n",
       "    .dataframe tbody tr th:only-of-type {\n",
       "        vertical-align: middle;\n",
       "    }\n",
       "\n",
       "    .dataframe tbody tr th {\n",
       "        vertical-align: top;\n",
       "    }\n",
       "\n",
       "    .dataframe thead th {\n",
       "        text-align: right;\n",
       "    }\n",
       "</style>\n",
       "<table border=\"1\" class=\"dataframe\">\n",
       "  <thead>\n",
       "    <tr style=\"text-align: right;\">\n",
       "      <th></th>\n",
       "      <th>user_id</th>\n",
       "      <th>install_date</th>\n",
       "      <th>lang</th>\n",
       "      <th>country</th>\n",
       "      <th>hw_ver</th>\n",
       "      <th>os_ver</th>\n",
       "      <th>ts</th>\n",
       "      <th>date</th>\n",
       "      <th>session_num</th>\n",
       "      <th>last_session_termination_type</th>\n",
       "      <th>days_from_installed</th>\n",
       "    </tr>\n",
       "  </thead>\n",
       "  <tbody>\n",
       "    <tr>\n",
       "      <th>0</th>\n",
       "      <td>0</td>\n",
       "      <td>2019-03-01</td>\n",
       "      <td>en</td>\n",
       "      <td>US</td>\n",
       "      <td>iPhone4,1</td>\n",
       "      <td>9.1</td>\n",
       "      <td>2019-03-01 12:39:19</td>\n",
       "      <td>2019-03-01</td>\n",
       "      <td>1</td>\n",
       "      <td>NaN</td>\n",
       "      <td>0</td>\n",
       "    </tr>\n",
       "    <tr>\n",
       "      <th>1</th>\n",
       "      <td>0</td>\n",
       "      <td>2019-03-01</td>\n",
       "      <td>en</td>\n",
       "      <td>US</td>\n",
       "      <td>iPhone4,1</td>\n",
       "      <td>9.1</td>\n",
       "      <td>2019-03-01 12:45:47</td>\n",
       "      <td>2019-03-01</td>\n",
       "      <td>2</td>\n",
       "      <td>NaN</td>\n",
       "      <td>0</td>\n",
       "    </tr>\n",
       "  </tbody>\n",
       "</table>\n",
       "</div>"
      ],
      "text/plain": [
       "   user_id install_date lang country     hw_ver os_ver                   ts  \\\n",
       "0        0   2019-03-01   en      US  iPhone4,1    9.1  2019-03-01 12:39:19   \n",
       "1        0   2019-03-01   en      US  iPhone4,1    9.1  2019-03-01 12:45:47   \n",
       "\n",
       "        date  session_num  last_session_termination_type  days_from_installed  \n",
       "0 2019-03-01            1                            NaN                    0  \n",
       "1 2019-03-01            2                            NaN                    0  "
      ]
     },
     "execution_count": 46,
     "metadata": {},
     "output_type": "execute_result"
    }
   ],
   "source": [
    "session_non_payer_df.head(2) #### 21018 unique users"
   ]
  },
  {
   "cell_type": "code",
   "execution_count": 57,
   "id": "2829effc",
   "metadata": {},
   "outputs": [
    {
     "data": {
      "text/html": [
       "<div>\n",
       "<style scoped>\n",
       "    .dataframe tbody tr th:only-of-type {\n",
       "        vertical-align: middle;\n",
       "    }\n",
       "\n",
       "    .dataframe tbody tr th {\n",
       "        vertical-align: top;\n",
       "    }\n",
       "\n",
       "    .dataframe thead th {\n",
       "        text-align: right;\n",
       "    }\n",
       "</style>\n",
       "<table border=\"1\" class=\"dataframe\">\n",
       "  <thead>\n",
       "    <tr style=\"text-align: right;\">\n",
       "      <th></th>\n",
       "      <th>user_id</th>\n",
       "      <th>install_date</th>\n",
       "      <th>lang</th>\n",
       "      <th>country</th>\n",
       "      <th>hw_ver</th>\n",
       "      <th>os_ver</th>\n",
       "      <th>ts</th>\n",
       "      <th>date</th>\n",
       "      <th>session_num</th>\n",
       "      <th>last_session_termination_type</th>\n",
       "      <th>days_from_installed</th>\n",
       "      <th>most_recent_date</th>\n",
       "      <th>days_to_most_recent</th>\n",
       "    </tr>\n",
       "  </thead>\n",
       "  <tbody>\n",
       "    <tr>\n",
       "      <th>0</th>\n",
       "      <td>0</td>\n",
       "      <td>2019-03-01</td>\n",
       "      <td>en</td>\n",
       "      <td>US</td>\n",
       "      <td>iPhone4,1</td>\n",
       "      <td>9.1</td>\n",
       "      <td>2019-03-01 12:39:19</td>\n",
       "      <td>2019-03-01</td>\n",
       "      <td>1</td>\n",
       "      <td>NaN</td>\n",
       "      <td>0</td>\n",
       "      <td>2019-05-06</td>\n",
       "      <td>66</td>\n",
       "    </tr>\n",
       "    <tr>\n",
       "      <th>1</th>\n",
       "      <td>0</td>\n",
       "      <td>2019-03-01</td>\n",
       "      <td>en</td>\n",
       "      <td>US</td>\n",
       "      <td>iPhone4,1</td>\n",
       "      <td>9.1</td>\n",
       "      <td>2019-03-01 12:45:47</td>\n",
       "      <td>2019-03-01</td>\n",
       "      <td>2</td>\n",
       "      <td>NaN</td>\n",
       "      <td>0</td>\n",
       "      <td>2019-05-06</td>\n",
       "      <td>66</td>\n",
       "    </tr>\n",
       "  </tbody>\n",
       "</table>\n",
       "</div>"
      ],
      "text/plain": [
       "   user_id install_date lang country     hw_ver os_ver                   ts  \\\n",
       "0        0   2019-03-01   en      US  iPhone4,1    9.1  2019-03-01 12:39:19   \n",
       "1        0   2019-03-01   en      US  iPhone4,1    9.1  2019-03-01 12:45:47   \n",
       "\n",
       "        date  session_num  last_session_termination_type  days_from_installed  \\\n",
       "0 2019-03-01            1                            NaN                    0   \n",
       "1 2019-03-01            2                            NaN                    0   \n",
       "\n",
       "  most_recent_date  days_to_most_recent  \n",
       "0       2019-05-06                   66  \n",
       "1       2019-05-06                   66  "
      ]
     },
     "execution_count": 57,
     "metadata": {},
     "output_type": "execute_result"
    }
   ],
   "source": [
    "session_non_payer_df[\"most_recent_date\"] = pd.to_datetime('2019-05-06')\n",
    "session_non_payer_df[\"days_to_most_recent\"] = session_non_payer_df[\"most_recent_date\"] - session_non_payer_df[\"date\"]\n",
    "session_non_payer_df[\"days_to_most_recent\"] = session_non_payer_df[\"days_to_most_recent\"].dt.days\n",
    "session_non_payer_df.head(2)"
   ]
  },
  {
   "cell_type": "markdown",
   "id": "5b03c85c",
   "metadata": {},
   "source": [
    "### Test set"
   ]
  },
  {
   "cell_type": "code",
   "execution_count": 303,
   "id": "ef181888",
   "metadata": {},
   "outputs": [
    {
     "data": {
      "text/html": [
       "<div>\n",
       "<style scoped>\n",
       "    .dataframe tbody tr th:only-of-type {\n",
       "        vertical-align: middle;\n",
       "    }\n",
       "\n",
       "    .dataframe tbody tr th {\n",
       "        vertical-align: top;\n",
       "    }\n",
       "\n",
       "    .dataframe thead th {\n",
       "        text-align: right;\n",
       "    }\n",
       "</style>\n",
       "<table border=\"1\" class=\"dataframe\">\n",
       "  <thead>\n",
       "    <tr style=\"text-align: right;\">\n",
       "      <th></th>\n",
       "      <th>user_id</th>\n",
       "      <th>install_date</th>\n",
       "    </tr>\n",
       "  </thead>\n",
       "  <tbody>\n",
       "    <tr>\n",
       "      <th>285</th>\n",
       "      <td>10</td>\n",
       "      <td>2019-03-05</td>\n",
       "    </tr>\n",
       "    <tr>\n",
       "      <th>337</th>\n",
       "      <td>11</td>\n",
       "      <td>2019-03-04</td>\n",
       "    </tr>\n",
       "  </tbody>\n",
       "</table>\n",
       "</div>"
      ],
      "text/plain": [
       "     user_id install_date\n",
       "285       10   2019-03-05\n",
       "337       11   2019-03-04"
      ]
     },
     "execution_count": 303,
     "metadata": {},
     "output_type": "execute_result"
    }
   ],
   "source": [
    "NPU_active_users = session_non_payer_df[session_non_payer_df[\"days_to_most_recent\"] <= 10]\n",
    "NPU_active_users = NPU_active_users[[\"user_id\", \"install_date\"]].drop_duplicates()\n",
    "NPU_active_users.head(2)"
   ]
  },
  {
   "cell_type": "code",
   "execution_count": 304,
   "id": "f6c28314",
   "metadata": {},
   "outputs": [
    {
     "data": {
      "text/plain": [
       "1733"
      ]
     },
     "execution_count": 304,
     "metadata": {},
     "output_type": "execute_result"
    }
   ],
   "source": [
    "NPU_active_users[\"user_id\"].nunique()"
   ]
  },
  {
   "cell_type": "code",
   "execution_count": 305,
   "id": "690f6e59",
   "metadata": {},
   "outputs": [
    {
     "data": {
      "text/html": [
       "<div>\n",
       "<style scoped>\n",
       "    .dataframe tbody tr th:only-of-type {\n",
       "        vertical-align: middle;\n",
       "    }\n",
       "\n",
       "    .dataframe tbody tr th {\n",
       "        vertical-align: top;\n",
       "    }\n",
       "\n",
       "    .dataframe thead th {\n",
       "        text-align: right;\n",
       "    }\n",
       "</style>\n",
       "<table border=\"1\" class=\"dataframe\">\n",
       "  <thead>\n",
       "    <tr style=\"text-align: right;\">\n",
       "      <th></th>\n",
       "      <th>user_id</th>\n",
       "      <th>install_date</th>\n",
       "      <th>ts</th>\n",
       "      <th>date</th>\n",
       "      <th>story</th>\n",
       "      <th>chapter</th>\n",
       "      <th>spendtype</th>\n",
       "      <th>currency</th>\n",
       "      <th>amount</th>\n",
       "    </tr>\n",
       "  </thead>\n",
       "  <tbody>\n",
       "    <tr>\n",
       "      <th>0</th>\n",
       "      <td>10</td>\n",
       "      <td>2019-03-05</td>\n",
       "      <td>2019-03-05 06:03:03</td>\n",
       "      <td>2019-03-05</td>\n",
       "      <td>story_1</td>\n",
       "      <td>0</td>\n",
       "      <td>earnGemsCounter</td>\n",
       "      <td>gems</td>\n",
       "      <td>-22</td>\n",
       "    </tr>\n",
       "    <tr>\n",
       "      <th>1</th>\n",
       "      <td>10</td>\n",
       "      <td>2019-03-05</td>\n",
       "      <td>2019-03-08 02:24:20</td>\n",
       "      <td>2019-03-08</td>\n",
       "      <td>story_2</td>\n",
       "      <td>0</td>\n",
       "      <td>earnGemsCounter</td>\n",
       "      <td>gems</td>\n",
       "      <td>-22</td>\n",
       "    </tr>\n",
       "  </tbody>\n",
       "</table>\n",
       "</div>"
      ],
      "text/plain": [
       "   user_id install_date                   ts       date    story  chapter  \\\n",
       "0       10   2019-03-05  2019-03-05 06:03:03 2019-03-05  story_1        0   \n",
       "1       10   2019-03-05  2019-03-08 02:24:20 2019-03-08  story_2        0   \n",
       "\n",
       "         spendtype currency  amount  \n",
       "0  earnGemsCounter     gems     -22  \n",
       "1  earnGemsCounter     gems     -22  "
      ]
     },
     "execution_count": 305,
     "metadata": {},
     "output_type": "execute_result"
    }
   ],
   "source": [
    "### characteristics of churning users \n",
    "NPU_active_users_spending = pd.merge(NPU_active_users, spending_df, on=\"user_id\")\n",
    "NPU_active_users_spending.head(2)"
   ]
  },
  {
   "cell_type": "code",
   "execution_count": 306,
   "id": "4543d050",
   "metadata": {},
   "outputs": [
    {
     "data": {
      "text/plain": [
       "1608"
      ]
     },
     "execution_count": 306,
     "metadata": {},
     "output_type": "execute_result"
    }
   ],
   "source": [
    "NPU_active_users_spending[\"user_id\"].nunique()"
   ]
  },
  {
   "cell_type": "code",
   "execution_count": 307,
   "id": "b0191842",
   "metadata": {},
   "outputs": [
    {
     "data": {
      "text/plain": [
       "Text(0.5, 1.0, 'ECDF plot of current chapter')"
      ]
     },
     "execution_count": 307,
     "metadata": {},
     "output_type": "execute_result"
    },
    {
     "data": {
      "image/png": "[encoded data removed]",
      "text/plain": [
       "<Figure size 432x288 with 1 Axes>"
      ]
     },
     "metadata": {},
     "output_type": "display_data"
    }
   ],
   "source": [
    "idx = NPU_active_users_spending.groupby(\"user_id\")[\"chapter\"].transform(max) == NPU_active_users_spending[\"chapter\"]\n",
    "chapter_NPU = NPU_active_users_spending[idx]\n",
    "chapter_NPU = chapter_NPU[[\"user_id\", \"chapter\"]].drop_duplicates()\n",
    "sns.set()\n",
    "x_ecdf, y_ecdf = ecdf(chapter_NPU[\"chapter\"])\n",
    "sns.scatterplot(x=x_ecdf, y=y_ecdf)\n",
    "plt.title(\"ECDF plot of current chapter\")"
   ]
  },
  {
   "cell_type": "code",
   "execution_count": 308,
   "id": "34fe9608",
   "metadata": {},
   "outputs": [],
   "source": [
    "gems_NPU = NPU_active_users_spending.groupby(\"user_id\")[\"amount\"].sum().reset_index()\n",
    "gems_NPU[\"amount\"] = gems_NPU[\"amount\"]*(-1)"
   ]
  },
  {
   "cell_type": "code",
   "execution_count": 309,
   "id": "63e71f8a",
   "metadata": {},
   "outputs": [],
   "source": [
    "gems_NPU = gems_NPU[gems_NPU.user_id != 12486]\n",
    "chapter_NPU = chapter_NPU[chapter_NPU.user_id != 12486]"
   ]
  },
  {
   "cell_type": "code",
   "execution_count": 310,
   "id": "cc471d7b",
   "metadata": {},
   "outputs": [
    {
     "data": {
      "text/plain": [
       "Text(0.5, 1.0, 'ECDF plot of current chapter')"
      ]
     },
     "execution_count": 310,
     "metadata": {},
     "output_type": "execute_result"
    },
    {
     "data": {
      "image/png": "[encoded data removed]",
      "text/plain": [
       "<Figure size 432x288 with 1 Axes>"
      ]
     },
     "metadata": {},
     "output_type": "display_data"
    }
   ],
   "source": [
    "sns.set()\n",
    "x_ecdf, y_ecdf = ecdf(gems_NPU[\"amount\"])\n",
    "sns.scatterplot(x=x_ecdf, y=y_ecdf)\n",
    "plt.title(\"ECDF plot of current chapter\")"
   ]
  },
  {
   "cell_type": "code",
   "execution_count": 336,
   "id": "1d24845e",
   "metadata": {},
   "outputs": [
    {
     "data": {
      "text/plain": [
       "Text(0.5, 1.0, 'ECDF plot of current session_num')"
      ]
     },
     "execution_count": 336,
     "metadata": {},
     "output_type": "execute_result"
    },
    {
     "data": {
      "image/png": "[encoded data removed]",
      "text/plain": [
       "<Figure size 432x288 with 1 Axes>"
      ]
     },
     "metadata": {},
     "output_type": "display_data"
    }
   ],
   "source": [
    "NPU_users_session = pd.merge(NPU_active_users, sessions_df, on=\"user_id\")\n",
    "idx = NPU_users_session.groupby(\"user_id\")[\"session_num\"].transform(max) == NPU_users_session[\"session_num\"]\n",
    "session_test = NPU_users_session[idx]\n",
    "session_test = session_test[[\"user_id\", \"session_num\"]].drop_duplicates()\n",
    "sns.set()\n",
    "x_ecdf, y_ecdf = ecdf(session_test[\"session_num\"])\n",
    "sns.scatterplot(x=x_ecdf, y=y_ecdf)\n",
    "plt.title(\"ECDF plot of current session_num\")"
   ]
  },
  {
   "cell_type": "code",
   "execution_count": 338,
   "id": "287ea95b",
   "metadata": {},
   "outputs": [
    {
     "data": {
      "text/plain": [
       "254"
      ]
     },
     "execution_count": 338,
     "metadata": {},
     "output_type": "execute_result"
    }
   ],
   "source": [
    "df_temp = pd.merge(gems_NPU, chapter_NPU, on=\"user_id\")\n",
    "df_temp1 = pd.merge(df_temp, session_test, on=\"user_id\")\n",
    "df_temp1[(df_temp1.chapter <10) & (df_temp1.amount <=50)  & (df_temp1.session_num >= 100)][\"user_id\"].nunique()"
   ]
  },
  {
   "cell_type": "code",
   "execution_count": 352,
   "id": "f52a6b83",
   "metadata": {},
   "outputs": [
    {
     "data": {
      "text/html": [
       "<div>\n",
       "<style scoped>\n",
       "    .dataframe tbody tr th:only-of-type {\n",
       "        vertical-align: middle;\n",
       "    }\n",
       "\n",
       "    .dataframe tbody tr th {\n",
       "        vertical-align: top;\n",
       "    }\n",
       "\n",
       "    .dataframe thead th {\n",
       "        text-align: right;\n",
       "    }\n",
       "</style>\n",
       "<table border=\"1\" class=\"dataframe\">\n",
       "  <thead>\n",
       "    <tr style=\"text-align: right;\">\n",
       "      <th></th>\n",
       "      <th>user_id</th>\n",
       "      <th>amount</th>\n",
       "      <th>chapter</th>\n",
       "      <th>session_num</th>\n",
       "    </tr>\n",
       "  </thead>\n",
       "  <tbody>\n",
       "    <tr>\n",
       "      <th>0</th>\n",
       "      <td>10</td>\n",
       "      <td>64</td>\n",
       "      <td>3</td>\n",
       "      <td>147</td>\n",
       "    </tr>\n",
       "    <tr>\n",
       "      <th>1</th>\n",
       "      <td>11</td>\n",
       "      <td>23</td>\n",
       "      <td>9</td>\n",
       "      <td>65</td>\n",
       "    </tr>\n",
       "  </tbody>\n",
       "</table>\n",
       "</div>"
      ],
      "text/plain": [
       "   user_id  amount  chapter  session_num\n",
       "0       10      64        3          147\n",
       "1       11      23        9           65"
      ]
     },
     "execution_count": 352,
     "metadata": {},
     "output_type": "execute_result"
    }
   ],
   "source": [
    "df_temp1.head(2)"
   ]
  },
  {
   "cell_type": "code",
   "execution_count": 339,
   "id": "7805f51e",
   "metadata": {},
   "outputs": [
    {
     "data": {
      "text/plain": [
       "1607"
      ]
     },
     "execution_count": 339,
     "metadata": {},
     "output_type": "execute_result"
    }
   ],
   "source": [
    "test_users = df_temp1[\"user_id\"].drop_duplicates()\n",
    "len(test_users)"
   ]
  },
  {
   "cell_type": "markdown",
   "id": "c475dfd8",
   "metadata": {},
   "source": [
    "### Extract label 0 class\n",
    "- Users who haven't converted after 45 days since installed date."
   ]
  },
  {
   "cell_type": "code",
   "execution_count": 343,
   "id": "fb60df1b",
   "metadata": {},
   "outputs": [
    {
     "data": {
      "text/html": [
       "<div>\n",
       "<style scoped>\n",
       "    .dataframe tbody tr th:only-of-type {\n",
       "        vertical-align: middle;\n",
       "    }\n",
       "\n",
       "    .dataframe tbody tr th {\n",
       "        vertical-align: top;\n",
       "    }\n",
       "\n",
       "    .dataframe thead th {\n",
       "        text-align: right;\n",
       "    }\n",
       "</style>\n",
       "<table border=\"1\" class=\"dataframe\">\n",
       "  <thead>\n",
       "    <tr style=\"text-align: right;\">\n",
       "      <th></th>\n",
       "      <th>user_id</th>\n",
       "      <th>install_date</th>\n",
       "    </tr>\n",
       "  </thead>\n",
       "  <tbody>\n",
       "    <tr>\n",
       "      <th>1870</th>\n",
       "      <td>76</td>\n",
       "      <td>2019-03-01</td>\n",
       "    </tr>\n",
       "    <tr>\n",
       "      <th>1900</th>\n",
       "      <td>81</td>\n",
       "      <td>2019-03-04</td>\n",
       "    </tr>\n",
       "  </tbody>\n",
       "</table>\n",
       "</div>"
      ],
      "text/plain": [
       "      user_id install_date\n",
       "1870       76   2019-03-01\n",
       "1900       81   2019-03-04"
      ]
     },
     "execution_count": 343,
     "metadata": {},
     "output_type": "execute_result"
    }
   ],
   "source": [
    "label0_users_df = session_non_payer_df[(session_non_payer_df[\"days_to_most_recent\"] <= 25)\\\n",
    "                                        & ((session_non_payer_df[\"days_to_most_recent\"] > 10))]\n",
    "label0_users_df = label0_users_df[[\"user_id\", \"install_date\"]].drop_duplicates()\n",
    "label0_users_df = label0_users_df[~label0_users_df[\"user_id\"].isin(set(NPU_active_users[\"user_id\"]))]\n",
    "label0_users_df.head(2)"
   ]
  },
  {
   "cell_type": "code",
   "execution_count": 344,
   "id": "ef4e885d",
   "metadata": {},
   "outputs": [
    {
     "data": {
      "text/plain": [
       "1518"
      ]
     },
     "execution_count": 344,
     "metadata": {},
     "output_type": "execute_result"
    }
   ],
   "source": [
    "label0_users_df[\"user_id\"].nunique()"
   ]
  },
  {
   "cell_type": "code",
   "execution_count": 345,
   "id": "02256071",
   "metadata": {},
   "outputs": [
    {
     "data": {
      "text/plain": [
       "1386"
      ]
     },
     "execution_count": 345,
     "metadata": {},
     "output_type": "execute_result"
    }
   ],
   "source": [
    "label0_users_spending = pd.merge(label0_users_df, spending_df, on=\"user_id\")\n",
    "label0_users_spending[\"user_id\"].nunique()"
   ]
  },
  {
   "cell_type": "code",
   "execution_count": 346,
   "id": "5b3f906d",
   "metadata": {},
   "outputs": [
    {
     "data": {
      "text/html": [
       "<div>\n",
       "<style scoped>\n",
       "    .dataframe tbody tr th:only-of-type {\n",
       "        vertical-align: middle;\n",
       "    }\n",
       "\n",
       "    .dataframe tbody tr th {\n",
       "        vertical-align: top;\n",
       "    }\n",
       "\n",
       "    .dataframe thead th {\n",
       "        text-align: right;\n",
       "    }\n",
       "</style>\n",
       "<table border=\"1\" class=\"dataframe\">\n",
       "  <thead>\n",
       "    <tr style=\"text-align: right;\">\n",
       "      <th></th>\n",
       "      <th>user_id</th>\n",
       "      <th>install_date</th>\n",
       "      <th>ts</th>\n",
       "      <th>date</th>\n",
       "      <th>story</th>\n",
       "      <th>chapter</th>\n",
       "      <th>spendtype</th>\n",
       "      <th>currency</th>\n",
       "      <th>amount</th>\n",
       "    </tr>\n",
       "  </thead>\n",
       "  <tbody>\n",
       "    <tr>\n",
       "      <th>0</th>\n",
       "      <td>76</td>\n",
       "      <td>2019-03-01</td>\n",
       "      <td>2019-03-01 13:57:51</td>\n",
       "      <td>2019-03-01</td>\n",
       "      <td>story_1</td>\n",
       "      <td>0</td>\n",
       "      <td>earnGemsCounter</td>\n",
       "      <td>gems</td>\n",
       "      <td>-22</td>\n",
       "    </tr>\n",
       "    <tr>\n",
       "      <th>1</th>\n",
       "      <td>76</td>\n",
       "      <td>2019-03-01</td>\n",
       "      <td>2019-03-01 14:47:53</td>\n",
       "      <td>2019-03-01</td>\n",
       "      <td>story_2</td>\n",
       "      <td>0</td>\n",
       "      <td>earnGemsCounter</td>\n",
       "      <td>gems</td>\n",
       "      <td>-22</td>\n",
       "    </tr>\n",
       "  </tbody>\n",
       "</table>\n",
       "</div>"
      ],
      "text/plain": [
       "   user_id install_date                   ts       date    story  chapter  \\\n",
       "0       76   2019-03-01  2019-03-01 13:57:51 2019-03-01  story_1        0   \n",
       "1       76   2019-03-01  2019-03-01 14:47:53 2019-03-01  story_2        0   \n",
       "\n",
       "         spendtype currency  amount  \n",
       "0  earnGemsCounter     gems     -22  \n",
       "1  earnGemsCounter     gems     -22  "
      ]
     },
     "execution_count": 346,
     "metadata": {},
     "output_type": "execute_result"
    }
   ],
   "source": [
    "label0_users_spending.head(2)"
   ]
  },
  {
   "cell_type": "code",
   "execution_count": 347,
   "id": "0f5fa87f",
   "metadata": {},
   "outputs": [
    {
     "data": {
      "text/plain": [
       "Text(0.5, 1.0, 'ECDF plot of current chapter')"
      ]
     },
     "execution_count": 347,
     "metadata": {},
     "output_type": "execute_result"
    },
    {
     "data": {
      "image/png": "[encoded data removed]",
      "text/plain": [
       "<Figure size 432x288 with 1 Axes>"
      ]
     },
     "metadata": {},
     "output_type": "display_data"
    }
   ],
   "source": [
    "idx = label0_users_spending.groupby(\"user_id\")[\"chapter\"].transform(max) == label0_users_spending[\"chapter\"]\n",
    "chapter_label0 = label0_users_spending[idx]\n",
    "chapter_label0 = chapter_label0[[\"user_id\", \"chapter\"]].drop_duplicates()\n",
    "sns.set()\n",
    "x_ecdf, y_ecdf = ecdf(chapter_label0[\"chapter\"])\n",
    "sns.scatterplot(x=x_ecdf, y=y_ecdf)\n",
    "plt.title(\"ECDF plot of current chapter\")"
   ]
  },
  {
   "cell_type": "code",
   "execution_count": 349,
   "id": "dbca2b14",
   "metadata": {},
   "outputs": [
    {
     "data": {
      "text/plain": [
       "Text(0.5, 1.0, 'ECDF plot of current chapter')"
      ]
     },
     "execution_count": 349,
     "metadata": {},
     "output_type": "execute_result"
    },
    {
     "data": {
      "image/png": "[encoded data removed]",
      "text/plain": [
       "<Figure size 432x288 with 1 Axes>"
      ]
     },
     "metadata": {},
     "output_type": "display_data"
    }
   ],
   "source": [
    "label0_users_gems = label0_users_spending.groupby(\"user_id\")[\"amount\"].sum().reset_index()\n",
    "label0_users_gems[\"amount\"] = label0_users_gems[\"amount\"]*(-1)\n",
    "sns.set()\n",
    "x_ecdf, y_ecdf = ecdf(label0_users_gems[\"amount\"])\n",
    "sns.scatterplot(x=x_ecdf, y=y_ecdf)\n",
    "plt.title(\"ECDF plot of current chapter\")"
   ]
  },
  {
   "cell_type": "code",
   "execution_count": 350,
   "id": "0435daa2",
   "metadata": {},
   "outputs": [
    {
     "data": {
      "text/plain": [
       "Text(0.5, 1.0, 'ECDF plot of current session_num')"
      ]
     },
     "execution_count": 350,
     "metadata": {},
     "output_type": "execute_result"
    },
    {
     "data": {
      "image/png": "[encoded data removed]",
      "text/plain": [
       "<Figure size 432x288 with 1 Axes>"
      ]
     },
     "metadata": {},
     "output_type": "display_data"
    }
   ],
   "source": [
    "label0_users_session = pd.merge(label0_users_df, sessions_df, on=\"user_id\")\n",
    "idx = label0_users_session.groupby(\"user_id\")[\"session_num\"].transform(max) == label0_users_session[\"session_num\"]\n",
    "session_label0 = label0_users_session[idx]\n",
    "session_label0 = session_label0[[\"user_id\", \"session_num\"]].drop_duplicates()\n",
    "sns.set()\n",
    "x_ecdf, y_ecdf = ecdf(session_label0[\"session_num\"])\n",
    "sns.scatterplot(x=x_ecdf, y=y_ecdf)\n",
    "plt.title(\"ECDF plot of current session_num\")"
   ]
  },
  {
   "cell_type": "markdown",
   "id": "1cc0743b",
   "metadata": {},
   "source": [
    "### Extract label 1 class\n",
    "- Users who already made their first in-app purchase within 45 days since the date they installed in the app \n",
    "- A user makes an in-app purchase, but that purchase is not recorded in the spendevent.csv (51 users have this issue, i.e spendevents file faliled to record iap and gems flow for 51 paying users). "
   ]
  },
  {
   "cell_type": "code",
   "execution_count": 351,
   "id": "17c8b649",
   "metadata": {},
   "outputs": [
    {
     "data": {
      "text/plain": [
       "239"
      ]
     },
     "execution_count": 351,
     "metadata": {},
     "output_type": "execute_result"
    }
   ],
   "source": [
    "label1_users = first_iap_day_df[first_iap_day_df.days_to_first_purchase >= 7]\n",
    "label1_users[\"user_id\"].nunique()"
   ]
  },
  {
   "cell_type": "code",
   "execution_count": 335,
   "id": "4a178b58",
   "metadata": {},
   "outputs": [
    {
     "data": {
      "text/plain": [
       "Text(0.5, 1.0, 'ECDF plot of current session_num')"
      ]
     },
     "execution_count": 335,
     "metadata": {},
     "output_type": "execute_result"
    },
    {
     "data": {
      "image/png": "[encoded data removed]",
      "text/plain": [
       "<Figure size 432x288 with 1 Axes>"
      ]
     },
     "metadata": {},
     "output_type": "display_data"
    }
   ],
   "source": [
    "label01_users_session = pd.merge(label1_users, sessions_df, on=\"user_id\")\n",
    "idx = label01_users_session.groupby(\"user_id\")[\"session_num\"].transform(max) == label01_users_session[\"session_num\"]\n",
    "session_label1 = label01_users_session[idx]\n",
    "session_label1 = session_label1[[\"user_id\", \"session_num\"]].drop_duplicates()\n",
    "sns.set()\n",
    "x_ecdf, y_ecdf = ecdf(session_label1[\"session_num\"])\n",
    "sns.scatterplot(x=x_ecdf, y=y_ecdf)\n",
    "plt.title(\"ECDF plot of current session_num\")"
   ]
  },
  {
   "cell_type": "markdown",
   "id": "713ad3cf",
   "metadata": {},
   "source": [
    "### Extracting features for label 1 group"
   ]
  },
  {
   "cell_type": "code",
   "execution_count": 183,
   "id": "22efb8ae",
   "metadata": {},
   "outputs": [
    {
     "data": {
      "text/html": [
       "<div>\n",
       "<style scoped>\n",
       "    .dataframe tbody tr th:only-of-type {\n",
       "        vertical-align: middle;\n",
       "    }\n",
       "\n",
       "    .dataframe tbody tr th {\n",
       "        vertical-align: top;\n",
       "    }\n",
       "\n",
       "    .dataframe thead th {\n",
       "        text-align: right;\n",
       "    }\n",
       "</style>\n",
       "<table border=\"1\" class=\"dataframe\">\n",
       "  <thead>\n",
       "    <tr style=\"text-align: right;\">\n",
       "      <th></th>\n",
       "      <th>user_id</th>\n",
       "      <th>iap_date</th>\n",
       "      <th>days_to_first_purchase</th>\n",
       "      <th>install_date</th>\n",
       "      <th>ts</th>\n",
       "      <th>date</th>\n",
       "      <th>session_num</th>\n",
       "      <th>last_session_termination_type</th>\n",
       "      <th>n_days_before_iap</th>\n",
       "    </tr>\n",
       "  </thead>\n",
       "  <tbody>\n",
       "    <tr>\n",
       "      <th>12</th>\n",
       "      <td>85</td>\n",
       "      <td>2019-04-17 18:26:44</td>\n",
       "      <td>41</td>\n",
       "      <td>2019-03-07</td>\n",
       "      <td>2019-04-17 18:09:05</td>\n",
       "      <td>2019-04-17</td>\n",
       "      <td>13</td>\n",
       "      <td>NaN</td>\n",
       "      <td>2019-04-10 18:26:44</td>\n",
       "    </tr>\n",
       "    <tr>\n",
       "      <th>22</th>\n",
       "      <td>93</td>\n",
       "      <td>2019-03-19 07:26:39</td>\n",
       "      <td>16</td>\n",
       "      <td>2019-03-03</td>\n",
       "      <td>2019-03-19 07:26:34</td>\n",
       "      <td>2019-03-19</td>\n",
       "      <td>11</td>\n",
       "      <td>NaN</td>\n",
       "      <td>2019-03-12 07:26:39</td>\n",
       "    </tr>\n",
       "  </tbody>\n",
       "</table>\n",
       "</div>"
      ],
      "text/plain": [
       "    user_id             iap_date  days_to_first_purchase install_date  \\\n",
       "12       85  2019-04-17 18:26:44                      41   2019-03-07   \n",
       "22       93  2019-03-19 07:26:39                      16   2019-03-03   \n",
       "\n",
       "                     ts       date  session_num  \\\n",
       "12  2019-04-17 18:09:05 2019-04-17           13   \n",
       "22  2019-03-19 07:26:34 2019-03-19           11   \n",
       "\n",
       "    last_session_termination_type   n_days_before_iap  \n",
       "12                            NaN 2019-04-10 18:26:44  \n",
       "22                            NaN 2019-03-12 07:26:39  "
      ]
     },
     "execution_count": 183,
     "metadata": {},
     "output_type": "execute_result"
    }
   ],
   "source": [
    "df1 = pd.merge(label1_users, sessions_df, on=\"user_id\")\n",
    "df1[\"n_days_before_iap\"] = pd.to_datetime(df1[\"iap_date\"]) - pd.Timedelta(days=7)\n",
    "df_session_ft = df1[(df1.ts > df1.n_days_before_iap) & (df1.ts < df1.iap_date)]\n",
    "df_session_ft.head(2)"
   ]
  },
  {
   "cell_type": "code",
   "execution_count": 184,
   "id": "e623ecfa",
   "metadata": {},
   "outputs": [
    {
     "data": {
      "text/html": [
       "<div>\n",
       "<style scoped>\n",
       "    .dataframe tbody tr th:only-of-type {\n",
       "        vertical-align: middle;\n",
       "    }\n",
       "\n",
       "    .dataframe tbody tr th {\n",
       "        vertical-align: top;\n",
       "    }\n",
       "\n",
       "    .dataframe thead th {\n",
       "        text-align: right;\n",
       "    }\n",
       "</style>\n",
       "<table border=\"1\" class=\"dataframe\">\n",
       "  <thead>\n",
       "    <tr style=\"text-align: right;\">\n",
       "      <th></th>\n",
       "      <th>user_id</th>\n",
       "      <th>iap_date</th>\n",
       "      <th>days_to_first_purchase</th>\n",
       "      <th>install_date</th>\n",
       "      <th>ts</th>\n",
       "      <th>date</th>\n",
       "      <th>story</th>\n",
       "      <th>chapter</th>\n",
       "      <th>spendtype</th>\n",
       "      <th>currency</th>\n",
       "      <th>amount</th>\n",
       "      <th>n_days_before_iap</th>\n",
       "    </tr>\n",
       "  </thead>\n",
       "  <tbody>\n",
       "    <tr>\n",
       "      <th>9</th>\n",
       "      <td>98</td>\n",
       "      <td>2019-03-11 12:33:16</td>\n",
       "      <td>9</td>\n",
       "      <td>2019-03-02</td>\n",
       "      <td>2019-03-08 15:17:47</td>\n",
       "      <td>2019-03-08</td>\n",
       "      <td>story_1</td>\n",
       "      <td>9</td>\n",
       "      <td>premiumChoice</td>\n",
       "      <td>gems</td>\n",
       "      <td>25</td>\n",
       "      <td>2019-03-04 12:33:16</td>\n",
       "    </tr>\n",
       "    <tr>\n",
       "      <th>15</th>\n",
       "      <td>185</td>\n",
       "      <td>2019-03-31 12:58:19</td>\n",
       "      <td>26</td>\n",
       "      <td>2019-03-05</td>\n",
       "      <td>2019-03-31 12:53:13</td>\n",
       "      <td>2019-03-31</td>\n",
       "      <td>story_3</td>\n",
       "      <td>0</td>\n",
       "      <td>earnGemsCounter</td>\n",
       "      <td>gems</td>\n",
       "      <td>0</td>\n",
       "      <td>2019-03-24 12:58:19</td>\n",
       "    </tr>\n",
       "  </tbody>\n",
       "</table>\n",
       "</div>"
      ],
      "text/plain": [
       "    user_id             iap_date  days_to_first_purchase install_date  \\\n",
       "9        98  2019-03-11 12:33:16                       9   2019-03-02   \n",
       "15      185  2019-03-31 12:58:19                      26   2019-03-05   \n",
       "\n",
       "                     ts       date    story  chapter        spendtype  \\\n",
       "9   2019-03-08 15:17:47 2019-03-08  story_1        9    premiumChoice   \n",
       "15  2019-03-31 12:53:13 2019-03-31  story_3        0  earnGemsCounter   \n",
       "\n",
       "   currency  amount   n_days_before_iap  \n",
       "9      gems      25 2019-03-04 12:33:16  \n",
       "15     gems       0 2019-03-24 12:58:19  "
      ]
     },
     "execution_count": 184,
     "metadata": {},
     "output_type": "execute_result"
    }
   ],
   "source": [
    "df2 = pd.merge(label1_users, spending_df, on=\"user_id\")\n",
    "df2[\"n_days_before_iap\"] = pd.to_datetime(df2[\"iap_date\"]) - pd.Timedelta(days=7)\n",
    "df_spend_ft = df2[(df2.ts > df2.n_days_before_iap) & (df2.ts < df2.iap_date)]\n",
    "df_spend_ft.head(2)"
   ]
  },
  {
   "cell_type": "code",
   "execution_count": 353,
   "id": "4f1cddd9",
   "metadata": {},
   "outputs": [],
   "source": [
    "### Extracting features for label 0 group"
   ]
  },
  {
   "cell_type": "code",
   "execution_count": null,
   "id": "5990bd38",
   "metadata": {},
   "outputs": [],
   "source": [
    "find the last active days \n",
    "join with the sessions and spending table \n",
    "filter out relavent record \n",
    "calculate features\n",
    "run model"
   ]
  }
 ],
 "metadata": {
  "kernelspec": {
   "display_name": "Python 3",
   "language": "python",
   "name": "python3"
  },
  "language_info": {
   "codemirror_mode": {
    "name": "ipython",
    "version": 3
   },
   "file_extension": ".py",
   "mimetype": "text/x-python",
   "name": "python",
   "nbconvert_exporter": "python",
   "pygments_lexer": "ipython3",
   "version": "3.7.9"
  }
 },
 "nbformat": 4,
 "nbformat_minor": 5
}

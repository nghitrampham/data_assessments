{
 "cells": [
  {
   "cell_type": "code",
   "execution_count": 1,
   "id": "0d9824da",
   "metadata": {},
   "outputs": [],
   "source": [
    "import pandas as pd\n",
    "\n",
    "### import extra package\n",
    "import matplotlib.pyplot as plt\n",
    "import seaborn as sns\n",
    "import numpy as np\n",
    "\n",
    "#### modelling package\n",
    "from statsmodels.graphics.mosaicplot import mosaic\n",
    "import statsmodels\n",
    "from statsmodels.formula.api import logit\n",
    "from sklearn.linear_model import LogisticRegression\n",
    "from sklearn.model_selection import train_test_split\n",
    "\n",
    "\n",
    "#### importing evaluation package \n",
    "from sklearn.metrics import f1_score, confusion_matrix, roc_auc_score, auc,\\\n",
    "precision_recall_curve, roc_curve, average_precision_score\n",
    "from sklearn import metrics"
   ]
  },
  {
   "cell_type": "markdown",
   "id": "27db6c97",
   "metadata": {},
   "source": [
    "### Data Preparation "
   ]
  },
  {
   "cell_type": "code",
   "execution_count": 6,
   "id": "a7ac6353",
   "metadata": {},
   "outputs": [],
   "source": [
    "### load data \n",
    "user_df = pd.read_csv(\"users.csv\")\n",
    "sessions_df = pd.read_csv(\"sessions.csv\").drop_duplicates()\n",
    "iaps_df = pd.read_csv(\"iaps.csv\").drop_duplicates()\n",
    "spending_df = pd.read_csv(\"spendevents.csv\").drop_duplicates()\n",
    "\n",
    "\n",
    "### change to datetime format\n",
    "spending_df[\"date\"] = pd.to_datetime(spending_df[\"date\"])\n",
    "sessions_df[\"date\"] = pd.to_datetime(sessions_df[\"date\"])\n",
    "user_df[\"install_date\"] = pd.to_datetime(user_df[\"install_date\"])\n",
    "iaps_df[\"date\"] = pd.to_datetime(iaps_df[\"date\"])"
   ]
  },
  {
   "cell_type": "code",
   "execution_count": 7,
   "id": "470467bb",
   "metadata": {},
   "outputs": [
    {
     "data": {
      "text/html": [
       "<div>\n",
       "<style scoped>\n",
       "    .dataframe tbody tr th:only-of-type {\n",
       "        vertical-align: middle;\n",
       "    }\n",
       "\n",
       "    .dataframe tbody tr th {\n",
       "        vertical-align: top;\n",
       "    }\n",
       "\n",
       "    .dataframe thead th {\n",
       "        text-align: right;\n",
       "    }\n",
       "</style>\n",
       "<table border=\"1\" class=\"dataframe\">\n",
       "  <thead>\n",
       "    <tr style=\"text-align: right;\">\n",
       "      <th></th>\n",
       "      <th>user_id</th>\n",
       "      <th>iap_date</th>\n",
       "      <th>days_to_first_purchase</th>\n",
       "      <th>install_date</th>\n",
       "    </tr>\n",
       "  </thead>\n",
       "  <tbody>\n",
       "    <tr>\n",
       "      <th>0</th>\n",
       "      <td>2</td>\n",
       "      <td>2019-03-07 11:50:37</td>\n",
       "      <td>1</td>\n",
       "      <td>2019-03-06</td>\n",
       "    </tr>\n",
       "    <tr>\n",
       "      <th>1</th>\n",
       "      <td>21</td>\n",
       "      <td>2019-03-09 10:18:32</td>\n",
       "      <td>2</td>\n",
       "      <td>2019-03-07</td>\n",
       "    </tr>\n",
       "    <tr>\n",
       "      <th>4</th>\n",
       "      <td>36</td>\n",
       "      <td>2019-03-02 23:34:17</td>\n",
       "      <td>0</td>\n",
       "      <td>2019-03-02</td>\n",
       "    </tr>\n",
       "    <tr>\n",
       "      <th>10</th>\n",
       "      <td>51</td>\n",
       "      <td>2019-03-02 21:19:39</td>\n",
       "      <td>0</td>\n",
       "      <td>2019-03-02</td>\n",
       "    </tr>\n",
       "    <tr>\n",
       "      <th>20</th>\n",
       "      <td>85</td>\n",
       "      <td>2019-04-17 18:26:44</td>\n",
       "      <td>41</td>\n",
       "      <td>2019-03-07</td>\n",
       "    </tr>\n",
       "  </tbody>\n",
       "</table>\n",
       "</div>"
      ],
      "text/plain": [
       "    user_id             iap_date  days_to_first_purchase install_date\n",
       "0         2  2019-03-07 11:50:37                       1   2019-03-06\n",
       "1        21  2019-03-09 10:18:32                       2   2019-03-07\n",
       "4        36  2019-03-02 23:34:17                       0   2019-03-02\n",
       "10       51  2019-03-02 21:19:39                       0   2019-03-02\n",
       "20       85  2019-04-17 18:26:44                      41   2019-03-07"
      ]
     },
     "execution_count": 7,
     "metadata": {},
     "output_type": "execute_result"
    }
   ],
   "source": [
    "### extract pyaing users\n",
    "users_iaps = pd.merge(user_df, iaps_df, on = \"user_id\")\n",
    "users_iaps[\"days_to_first_purchase\"] = users_iaps[\"date\"] - users_iaps[\"install_date\"]\n",
    "users_iaps[\"days_to_first_purchase\"] = users_iaps[\"days_to_first_purchase\"].dt.days\n",
    "users_iaps[\"rank\"] = users_iaps.groupby([\"user_id\"])[\"days_to_first_purchase\"].rank(method=\"first\", ascending=True)\n",
    "users_iaps[\"rank\"] = users_iaps[\"rank\"].astype(int)\n",
    "paying_users_df = users_iaps[users_iaps[\"rank\"]==1]\n",
    "first_iap_day_df = paying_users_df[[\"user_id\", \"ts\", \"days_to_first_purchase\",\\\n",
    "                                    \"install_date\"]].rename(columns={\"ts\": \"iap_date\"}) #### 1526 paying users\n",
    "first_iap_day_df.head()"
   ]
  },
  {
   "cell_type": "markdown",
   "id": "4edbe01a",
   "metadata": {},
   "source": [
    "### extract non-paying users \n",
    "- Remove non-active players (those are not active within 7 days)\n",
    "- All users who haven’t converted after 60 days and still active will be labeled as 0.\n"
   ]
  },
  {
   "cell_type": "code",
   "execution_count": 23,
   "id": "c674eeda",
   "metadata": {},
   "outputs": [],
   "source": [
    "non_payer_df = user_df[~user_df.user_id.isin(iaps_df[\"user_id\"].unique())] ## total of 21050 non-paying users\n",
    "session_non_payer_df = pd.merge(non_payer_df, sessions_df, on = \"user_id\")\n",
    "session_non_payer_df[\"days_from_installed\"] = session_non_payer_df[\"date\"] - session_non_payer_df[\"install_date\"]\n",
    "session_non_payer_df[\"days_from_installed\"] = session_non_payer_df[\"days_from_installed\"].dt.days"
   ]
  },
  {
   "cell_type": "code",
   "execution_count": 43,
   "id": "ca9e120d",
   "metadata": {},
   "outputs": [
    {
     "data": {
      "text/plain": [
       "2463"
      ]
     },
     "execution_count": 43,
     "metadata": {},
     "output_type": "execute_result"
    }
   ],
   "source": [
    "session_non_payer_df[session_non_payer_df.days_from_installed > 45][\"user_id\"].nunique() ### 1926 label 0 to train"
   ]
  },
  {
   "cell_type": "markdown",
   "id": "ff2b7516",
   "metadata": {},
   "source": [
    "### remove non-active users "
   ]
  },
  {
   "cell_type": "code",
   "execution_count": 19,
   "id": "0c9ff7b2",
   "metadata": {},
   "outputs": [
    {
     "data": {
      "text/html": [
       "<div>\n",
       "<style scoped>\n",
       "    .dataframe tbody tr th:only-of-type {\n",
       "        vertical-align: middle;\n",
       "    }\n",
       "\n",
       "    .dataframe tbody tr th {\n",
       "        vertical-align: top;\n",
       "    }\n",
       "\n",
       "    .dataframe thead th {\n",
       "        text-align: right;\n",
       "    }\n",
       "</style>\n",
       "<table border=\"1\" class=\"dataframe\">\n",
       "  <thead>\n",
       "    <tr style=\"text-align: right;\">\n",
       "      <th></th>\n",
       "      <th>user_id</th>\n",
       "      <th>install_date</th>\n",
       "      <th>lang</th>\n",
       "      <th>country</th>\n",
       "      <th>hw_ver</th>\n",
       "      <th>os_ver</th>\n",
       "    </tr>\n",
       "  </thead>\n",
       "  <tbody>\n",
       "    <tr>\n",
       "      <th>0</th>\n",
       "      <td>0</td>\n",
       "      <td>2019-03-01</td>\n",
       "      <td>en</td>\n",
       "      <td>US</td>\n",
       "      <td>iPhone4,1</td>\n",
       "      <td>9.1</td>\n",
       "    </tr>\n",
       "    <tr>\n",
       "      <th>1</th>\n",
       "      <td>1</td>\n",
       "      <td>2019-03-01</td>\n",
       "      <td>en</td>\n",
       "      <td>IN</td>\n",
       "      <td>iPod5,1</td>\n",
       "      <td>8.1.2</td>\n",
       "    </tr>\n",
       "    <tr>\n",
       "      <th>3</th>\n",
       "      <td>3</td>\n",
       "      <td>2019-03-03</td>\n",
       "      <td>nb</td>\n",
       "      <td>NO</td>\n",
       "      <td>iPhone8,1</td>\n",
       "      <td>9.2.1</td>\n",
       "    </tr>\n",
       "    <tr>\n",
       "      <th>4</th>\n",
       "      <td>4</td>\n",
       "      <td>2019-03-03</td>\n",
       "      <td>en</td>\n",
       "      <td>GB</td>\n",
       "      <td>iPhone5,4</td>\n",
       "      <td>9.2.1</td>\n",
       "    </tr>\n",
       "    <tr>\n",
       "      <th>5</th>\n",
       "      <td>5</td>\n",
       "      <td>2019-03-07</td>\n",
       "      <td>en</td>\n",
       "      <td>US</td>\n",
       "      <td>iPhone5,3</td>\n",
       "      <td>9.2.1</td>\n",
       "    </tr>\n",
       "  </tbody>\n",
       "</table>\n",
       "</div>"
      ],
      "text/plain": [
       "   user_id install_date lang country     hw_ver os_ver\n",
       "0        0   2019-03-01   en      US  iPhone4,1    9.1\n",
       "1        1   2019-03-01   en      IN    iPod5,1  8.1.2\n",
       "3        3   2019-03-03   nb      NO  iPhone8,1  9.2.1\n",
       "4        4   2019-03-03   en      GB  iPhone5,4  9.2.1\n",
       "5        5   2019-03-07   en      US  iPhone5,3  9.2.1"
      ]
     },
     "execution_count": 19,
     "metadata": {},
     "output_type": "execute_result"
    }
   ],
   "source": [
    "non_payer_df.head()"
   ]
  },
  {
   "cell_type": "code",
   "execution_count": 20,
   "id": "ab2650c3",
   "metadata": {},
   "outputs": [
    {
     "data": {
      "text/plain": [
       "'2019-05-06 23:35:42'"
      ]
     },
     "execution_count": 20,
     "metadata": {},
     "output_type": "execute_result"
    }
   ],
   "source": [
    "sessions_df[\"ts\"].max()"
   ]
  },
  {
   "cell_type": "markdown",
   "id": "20bfde58",
   "metadata": {},
   "source": [
    "### Extract label 0 class\n",
    "- Users who haven't converted after 60 days since installed date."
   ]
  },
  {
   "cell_type": "code",
   "execution_count": null,
   "id": "fbd01845",
   "metadata": {},
   "outputs": [],
   "source": []
  },
  {
   "cell_type": "code",
   "execution_count": null,
   "id": "f21a5930",
   "metadata": {},
   "outputs": [],
   "source": []
  },
  {
   "cell_type": "code",
   "execution_count": null,
   "id": "313a3ea3",
   "metadata": {},
   "outputs": [],
   "source": []
  },
  {
   "cell_type": "code",
   "execution_count": null,
   "id": "feb1f6d1",
   "metadata": {},
   "outputs": [],
   "source": []
  },
  {
   "cell_type": "markdown",
   "id": "17bc2f04",
   "metadata": {},
   "source": [
    "### Extract label 1 class\n",
    "- Users who already made their first in-app purchase within 45 days since the date they installed in the app "
   ]
  },
  {
   "cell_type": "code",
   "execution_count": 42,
   "id": "5749ec07",
   "metadata": {},
   "outputs": [
    {
     "data": {
      "text/plain": [
       "1493"
      ]
     },
     "execution_count": 42,
     "metadata": {},
     "output_type": "execute_result"
    }
   ],
   "source": [
    "label1_users = first_iap_day_df[first_iap_day_df.days_to_first_purchase <= 45]\n",
    "label1_users[\"user_id\"].nunique()"
   ]
  },
  {
   "cell_type": "code",
   "execution_count": null,
   "id": "7346fe12",
   "metadata": {},
   "outputs": [],
   "source": []
  }
 ],
 "metadata": {
  "kernelspec": {
   "display_name": "Python 3",
   "language": "python",
   "name": "python3"
  },
  "language_info": {
   "codemirror_mode": {
    "name": "ipython",
    "version": 3
   },
   "file_extension": ".py",
   "mimetype": "text/x-python",
   "name": "python",
   "nbconvert_exporter": "python",
   "pygments_lexer": "ipython3",
   "version": "3.7.9"
  }
 },
 "nbformat": 4,
 "nbformat_minor": 5
}

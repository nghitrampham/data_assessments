{
 "cells": [
  {
   "cell_type": "code",
   "execution_count": 50,
   "id": "c1dd809b",
   "metadata": {},
   "outputs": [],
   "source": [
    "### basic package for data science project\n",
    "import pandas as pd\n",
    "import matplotlib.pyplot as plt\n",
    "import seaborn as sns\n",
    "import numpy as np\n",
    "import pickle\n",
    "import helpers\n",
    "\n",
    "import warnings\n",
    "warnings.filterwarnings(\"ignore\")\n",
    "%matplotlib inline\n",
    "sns.set()"
   ]
  },
  {
   "cell_type": "code",
   "execution_count": 49,
   "id": "ee64aa08",
   "metadata": {},
   "outputs": [],
   "source": [
    "from sklearn.preprocessing import OneHotEncoder, LabelEncoder\n",
    "from sklearn.experimental import enable_iterative_imputer\n",
    "from sklearn.impute import IterativeImputer"
   ]
  },
  {
   "cell_type": "code",
   "execution_count": 3,
   "id": "86079e46",
   "metadata": {},
   "outputs": [],
   "source": [
    "imp_mean = IterativeImputer(random_state=0)"
   ]
  },
  {
   "cell_type": "markdown",
   "id": "a626de6d",
   "metadata": {},
   "source": [
    "1. Remove columns with missing value more than 75% \n",
    "2. Remove col 'x39' and 'x99' since those two columns don't bring additional information \n",
    "3. Impute NAN for missing values in numerical methods \n",
    "4. We can use Catboost or Imputing categorical features is to replace missing values with the most common class. \n",
    "\n",
    "\n",
    "Alternative (if time permitted):\n",
    "    - Check each features to see if there exists outliers."
   ]
  },
  {
   "cell_type": "code",
   "execution_count": 12,
   "id": "a23dea62",
   "metadata": {},
   "outputs": [],
   "source": [
    "train_data = pd.read_csv('data/exercise_40_train.csv')\n",
    "test_data = pd.read_csv('data/exercise_40_test.csv')"
   ]
  },
  {
   "cell_type": "code",
   "execution_count": 20,
   "id": "eb2195e4",
   "metadata": {},
   "outputs": [],
   "source": [
    "most_missing_cols = list(set(train_data.columns[train_data.isnull().mean() > 0.4]))\n",
    "remove_cat_col = ['x39', 'x99']\n",
    "remove_cols = most_missing_cols + remove_cat_col"
   ]
  },
  {
   "cell_type": "code",
   "execution_count": null,
   "id": "67177800",
   "metadata": {},
   "outputs": [],
   "source": [
    "df = train_data.copy()\n",
    "df = df.loc[:, (~df.columns.isin(most_missing_cols + remove_cat_col))]\n",
    "\n",
    "#### find catergorical features\n",
    "cat_df = df.select_dtypes(include=['object'])\n",
    "\n",
    "#### clean col x7 and x19\n",
    "cat_df['x7'] = cat_df['x7'].str.replace('%','')\n",
    "cat_df[\"x19\"] = cat_df['x19'].str.replace('$','')\n",
    "cat_df = cat_df.astype({'x7': 'float', 'x19': 'float'})\n",
    "\n",
    "#### clean x3 col\n",
    "cat_df['x3'] = cat_df.apply(lambda x: helpers.clean_day_x3_col(x['x3']), axis = 1)\n",
    "\n",
    "### convert x7 and x19 back to numerical fts \n",
    "df['x7'] =  cat_df['x7']\n",
    "df['x19'] = cat_df[\"x19\"]\n",
    "\n",
    "#### categorical cols \n",
    "cat_cols = cat_df.select_dtypes(include=['object']).columns\n",
    "cat_df.drop(['x7','x19'], axis = 1, inplace = True)\n",
    "\n",
    "#### clean numerical features \n",
    "numerical_df = df.loc[:, (~df.columns.isin(cat_cols))]"
   ]
  },
  {
   "cell_type": "code",
   "execution_count": 40,
   "id": "2a39caea",
   "metadata": {},
   "outputs": [
    {
     "data": {
      "text/html": [
       "<div>\n",
       "<style scoped>\n",
       "    .dataframe tbody tr th:only-of-type {\n",
       "        vertical-align: middle;\n",
       "    }\n",
       "\n",
       "    .dataframe tbody tr th {\n",
       "        vertical-align: top;\n",
       "    }\n",
       "\n",
       "    .dataframe thead th {\n",
       "        text-align: right;\n",
       "    }\n",
       "</style>\n",
       "<table border=\"1\" class=\"dataframe\">\n",
       "  <thead>\n",
       "    <tr style=\"text-align: right;\">\n",
       "      <th></th>\n",
       "      <th>0</th>\n",
       "      <th>1</th>\n",
       "      <th>2</th>\n",
       "      <th>3</th>\n",
       "      <th>4</th>\n",
       "      <th>5</th>\n",
       "      <th>6</th>\n",
       "      <th>7</th>\n",
       "      <th>8</th>\n",
       "      <th>9</th>\n",
       "      <th>...</th>\n",
       "      <th>75</th>\n",
       "      <th>76</th>\n",
       "      <th>77</th>\n",
       "      <th>78</th>\n",
       "      <th>79</th>\n",
       "      <th>80</th>\n",
       "      <th>81</th>\n",
       "      <th>82</th>\n",
       "      <th>83</th>\n",
       "      <th>84</th>\n",
       "    </tr>\n",
       "  </thead>\n",
       "  <tbody>\n",
       "    <tr>\n",
       "      <th>0</th>\n",
       "      <td>0.165254</td>\n",
       "      <td>18.060003</td>\n",
       "      <td>1.077380</td>\n",
       "      <td>-1.339233</td>\n",
       "      <td>-1.584341</td>\n",
       "      <td>0.0062</td>\n",
       "      <td>0.220784</td>\n",
       "      <td>1.816481</td>\n",
       "      <td>1.171788</td>\n",
       "      <td>109.626841</td>\n",
       "      <td>...</td>\n",
       "      <td>10.602395</td>\n",
       "      <td>2.770844</td>\n",
       "      <td>-0.397427</td>\n",
       "      <td>0.909479</td>\n",
       "      <td>5.492487</td>\n",
       "      <td>-0.841821</td>\n",
       "      <td>10.255579</td>\n",
       "      <td>7.627730</td>\n",
       "      <td>0.0</td>\n",
       "      <td>104.251338</td>\n",
       "    </tr>\n",
       "    <tr>\n",
       "      <th>1</th>\n",
       "      <td>2.441471</td>\n",
       "      <td>18.416307</td>\n",
       "      <td>1.482586</td>\n",
       "      <td>0.920817</td>\n",
       "      <td>-0.759931</td>\n",
       "      <td>0.0064</td>\n",
       "      <td>1.192441</td>\n",
       "      <td>3.513950</td>\n",
       "      <td>1.419900</td>\n",
       "      <td>84.079367</td>\n",
       "      <td>...</td>\n",
       "      <td>10.408146</td>\n",
       "      <td>3.703013</td>\n",
       "      <td>0.656651</td>\n",
       "      <td>9.093466</td>\n",
       "      <td>3.346429</td>\n",
       "      <td>4.321172</td>\n",
       "      <td>7.367849</td>\n",
       "      <td>10.505284</td>\n",
       "      <td>1.0</td>\n",
       "      <td>101.230645</td>\n",
       "    </tr>\n",
       "    <tr>\n",
       "      <th>2</th>\n",
       "      <td>4.427278</td>\n",
       "      <td>19.188092</td>\n",
       "      <td>0.145652</td>\n",
       "      <td>0.366093</td>\n",
       "      <td>0.709962</td>\n",
       "      <td>-0.0008</td>\n",
       "      <td>0.952323</td>\n",
       "      <td>0.782974</td>\n",
       "      <td>-1.247022</td>\n",
       "      <td>95.375221</td>\n",
       "      <td>...</td>\n",
       "      <td>2.897000</td>\n",
       "      <td>3.997183</td>\n",
       "      <td>2.059615</td>\n",
       "      <td>0.305170</td>\n",
       "      <td>4.456565</td>\n",
       "      <td>-0.964016</td>\n",
       "      <td>8.754572</td>\n",
       "      <td>7.810979</td>\n",
       "      <td>0.0</td>\n",
       "      <td>109.345215</td>\n",
       "    </tr>\n",
       "    <tr>\n",
       "      <th>3</th>\n",
       "      <td>3.925235</td>\n",
       "      <td>19.901257</td>\n",
       "      <td>1.763602</td>\n",
       "      <td>-0.251926</td>\n",
       "      <td>-0.827461</td>\n",
       "      <td>-0.0057</td>\n",
       "      <td>-0.520756</td>\n",
       "      <td>1.825586</td>\n",
       "      <td>2.223038</td>\n",
       "      <td>96.420382</td>\n",
       "      <td>...</td>\n",
       "      <td>5.051607</td>\n",
       "      <td>2.933707</td>\n",
       "      <td>0.899392</td>\n",
       "      <td>5.971782</td>\n",
       "      <td>4.100022</td>\n",
       "      <td>1.151085</td>\n",
       "      <td>8.616315</td>\n",
       "      <td>9.178325</td>\n",
       "      <td>1.0</td>\n",
       "      <td>103.021970</td>\n",
       "    </tr>\n",
       "    <tr>\n",
       "      <th>4</th>\n",
       "      <td>2.868802</td>\n",
       "      <td>22.202473</td>\n",
       "      <td>3.405119</td>\n",
       "      <td>0.083162</td>\n",
       "      <td>1.381504</td>\n",
       "      <td>0.0109</td>\n",
       "      <td>-0.732739</td>\n",
       "      <td>2.151990</td>\n",
       "      <td>-0.275406</td>\n",
       "      <td>90.769952</td>\n",
       "      <td>...</td>\n",
       "      <td>4.823047</td>\n",
       "      <td>2.922302</td>\n",
       "      <td>3.003595</td>\n",
       "      <td>1.046096</td>\n",
       "      <td>3.234033</td>\n",
       "      <td>2.074927</td>\n",
       "      <td>9.987006</td>\n",
       "      <td>11.702664</td>\n",
       "      <td>0.0</td>\n",
       "      <td>92.925935</td>\n",
       "    </tr>\n",
       "  </tbody>\n",
       "</table>\n",
       "<p>5 rows × 85 columns</p>\n",
       "</div>"
      ],
      "text/plain": [
       "         0          1         2         3         4       5         6   \\\n",
       "0  0.165254  18.060003  1.077380 -1.339233 -1.584341  0.0062  0.220784   \n",
       "1  2.441471  18.416307  1.482586  0.920817 -0.759931  0.0064  1.192441   \n",
       "2  4.427278  19.188092  0.145652  0.366093  0.709962 -0.0008  0.952323   \n",
       "3  3.925235  19.901257  1.763602 -0.251926 -0.827461 -0.0057 -0.520756   \n",
       "4  2.868802  22.202473  3.405119  0.083162  1.381504  0.0109 -0.732739   \n",
       "\n",
       "         7         8           9   ...         75        76        77  \\\n",
       "0  1.816481  1.171788  109.626841  ...  10.602395  2.770844 -0.397427   \n",
       "1  3.513950  1.419900   84.079367  ...  10.408146  3.703013  0.656651   \n",
       "2  0.782974 -1.247022   95.375221  ...   2.897000  3.997183  2.059615   \n",
       "3  1.825586  2.223038   96.420382  ...   5.051607  2.933707  0.899392   \n",
       "4  2.151990 -0.275406   90.769952  ...   4.823047  2.922302  3.003595   \n",
       "\n",
       "         78        79        80         81         82   83          84  \n",
       "0  0.909479  5.492487 -0.841821  10.255579   7.627730  0.0  104.251338  \n",
       "1  9.093466  3.346429  4.321172   7.367849  10.505284  1.0  101.230645  \n",
       "2  0.305170  4.456565 -0.964016   8.754572   7.810979  0.0  109.345215  \n",
       "3  5.971782  4.100022  1.151085   8.616315   9.178325  1.0  103.021970  \n",
       "4  1.046096  3.234033  2.074927   9.987006  11.702664  0.0   92.925935  \n",
       "\n",
       "[5 rows x 85 columns]"
      ]
     },
     "execution_count": 40,
     "metadata": {},
     "output_type": "execute_result"
    }
   ],
   "source": [
    "### imputing missing values \n",
    "num_df_trasformed = pd.DataFrame(imp_mean.fit_transform(numerical_df.loc[:, ~(numerical_df.columns.isin([\"y\"]))]))\n",
    "num_df_trasformed.head()"
   ]
  },
  {
   "cell_type": "code",
   "execution_count": 42,
   "id": "7e255d85",
   "metadata": {},
   "outputs": [
    {
     "data": {
      "text/html": [
       "<div>\n",
       "<style scoped>\n",
       "    .dataframe tbody tr th:only-of-type {\n",
       "        vertical-align: middle;\n",
       "    }\n",
       "\n",
       "    .dataframe tbody tr th {\n",
       "        vertical-align: top;\n",
       "    }\n",
       "\n",
       "    .dataframe thead th {\n",
       "        text-align: right;\n",
       "    }\n",
       "</style>\n",
       "<table border=\"1\" class=\"dataframe\">\n",
       "  <thead>\n",
       "    <tr style=\"text-align: right;\">\n",
       "      <th></th>\n",
       "      <th>x3</th>\n",
       "      <th>x24</th>\n",
       "      <th>x31</th>\n",
       "      <th>x33</th>\n",
       "      <th>x60</th>\n",
       "      <th>x65</th>\n",
       "      <th>x77</th>\n",
       "      <th>x93</th>\n",
       "    </tr>\n",
       "  </thead>\n",
       "  <tbody>\n",
       "    <tr>\n",
       "      <th>0</th>\n",
       "      <td>Wednesday</td>\n",
       "      <td>female</td>\n",
       "      <td>no</td>\n",
       "      <td>Colorado</td>\n",
       "      <td>August</td>\n",
       "      <td>farmers</td>\n",
       "      <td>mercedes</td>\n",
       "      <td>no</td>\n",
       "    </tr>\n",
       "    <tr>\n",
       "      <th>1</th>\n",
       "      <td>Friday</td>\n",
       "      <td>male</td>\n",
       "      <td>no</td>\n",
       "      <td>Tennessee</td>\n",
       "      <td>April</td>\n",
       "      <td>allstate</td>\n",
       "      <td>mercedes</td>\n",
       "      <td>no</td>\n",
       "    </tr>\n",
       "  </tbody>\n",
       "</table>\n",
       "</div>"
      ],
      "text/plain": [
       "          x3     x24 x31        x33     x60       x65       x77 x93\n",
       "0  Wednesday  female  no   Colorado  August   farmers  mercedes  no\n",
       "1     Friday    male  no  Tennessee   April  allstate  mercedes  no"
      ]
     },
     "execution_count": 42,
     "metadata": {},
     "output_type": "execute_result"
    }
   ],
   "source": [
    "cat_df.head(2)"
   ]
  },
  {
   "cell_type": "code",
   "execution_count": 47,
   "id": "7d8abc71",
   "metadata": {},
   "outputs": [
    {
     "data": {
      "text/plain": [
       "Index(['x3', 'x24', 'x31', 'x60', 'x65', 'x77', 'x93'], dtype='object')"
      ]
     },
     "execution_count": 47,
     "metadata": {},
     "output_type": "execute_result"
    }
   ],
   "source": []
  },
  {
   "cell_type": "code",
   "execution_count": 39,
   "id": "699da113",
   "metadata": {},
   "outputs": [
    {
     "data": {
      "text/plain": [
       "array([[  0.165254,  18.060003,   1.07738 , ...,   7.62773 ,   0.      ,\n",
       "        104.251338],\n",
       "       [  2.441471,  18.416307,   1.482586, ...,  10.505284,   1.      ,\n",
       "        101.230645],\n",
       "       [  4.427278,  19.188092,   0.145652, ...,   7.810979,   0.      ,\n",
       "        109.345215],\n",
       "       ...,\n",
       "       [  1.704132,  17.824399,  -0.58136 , ...,   7.663763,   1.      ,\n",
       "        100.022536],\n",
       "       [  3.963408,  20.285597,   0.430116, ...,   8.644538,   0.      ,\n",
       "        109.460219],\n",
       "       [  2.574164,  16.44285 ,  -1.166067, ...,  12.52586 ,   1.      ,\n",
       "        110.334978]])"
      ]
     },
     "execution_count": 39,
     "metadata": {},
     "output_type": "execute_result"
    }
   ],
   "source": [
    "### if not using catboost model, then imputing categorical features \n",
    "### by replacing missing values with the most common class\n",
    "### use label encoder for col 'x33' and one-hot encoder for the rest\n",
    "if not catboost_model:\n",
    "    one_hot_cols = cat_df.columns[cat_df.columns != 'x33']  \n",
    "    cat_df_transformed = helpers.create_dummy_df(df, one_hot_cols = one_hot_cols, dummy_na)\n",
    "    \n",
    "    ### user label encoder for col 'x33'\n",
    "    le = LabelEncoder()\n",
    "    cat_df_transformed['x33'] = le.fit_transform(cat_df_transformed['x33'])\n",
    "    \n",
    "    ### save labelEncoder for test set\n",
    "    with open('le_dict', 'wb') as l:\n",
    "    pickle.dump(le_dict, l, pickle.HIGHEST_PROTOCOL)"
   ]
  },
  {
   "cell_type": "code",
   "execution_count": null,
   "id": "2ae2842a",
   "metadata": {},
   "outputs": [],
   "source": [
    "def clean_train_data(df, remove_cols, label_encoder_path = \"\", catboost_model = True):\n",
    "    \n",
    "    pass\n",
    "    return\n",
    "\n",
    "\n",
    "def clean_test_data(df):\n",
    "    pass \n",
    "    return"
   ]
  },
  {
   "cell_type": "code",
   "execution_count": null,
   "id": "9ee0376f",
   "metadata": {},
   "outputs": [],
   "source": [
    "def extract_features(df):"
   ]
  },
  {
   "cell_type": "code",
   "execution_count": 21,
   "id": "d0386f4a",
   "metadata": {},
   "outputs": [
    {
     "ename": "TypeError",
     "evalue": "unsupported operand type(s) for -: 'list' and 'list'",
     "output_type": "error",
     "traceback": [
      "\u001b[1;31m---------------------------------------------------------------------------\u001b[0m",
      "\u001b[1;31mTypeError\u001b[0m                                 Traceback (most recent call last)",
      "\u001b[1;32m<ipython-input-21-d152240208f6>\u001b[0m in \u001b[0;36m<module>\u001b[1;34m\u001b[0m\n\u001b[1;32m----> 1\u001b[1;33m \u001b[1;33m[\u001b[0m\u001b[1;34m'a'\u001b[0m\u001b[1;33m,\u001b[0m \u001b[1;34m'b'\u001b[0m\u001b[1;33m]\u001b[0m \u001b[1;33m-\u001b[0m \u001b[1;33m[\u001b[0m\u001b[1;34m'a'\u001b[0m\u001b[1;33m]\u001b[0m\u001b[1;33m\u001b[0m\u001b[1;33m\u001b[0m\u001b[0m\n\u001b[0m",
      "\u001b[1;31mTypeError\u001b[0m: unsupported operand type(s) for -: 'list' and 'list'"
     ]
    }
   ],
   "source": [
    "['a', 'b']"
   ]
  },
  {
   "cell_type": "code",
   "execution_count": null,
   "id": "3b740a4b",
   "metadata": {},
   "outputs": [],
   "source": []
  }
 ],
 "metadata": {
  "kernelspec": {
   "display_name": "Python 3",
   "language": "python",
   "name": "python3"
  },
  "language_info": {
   "codemirror_mode": {
    "name": "ipython",
    "version": 3
   },
   "file_extension": ".py",
   "mimetype": "text/x-python",
   "name": "python",
   "nbconvert_exporter": "python",
   "pygments_lexer": "ipython3",
   "version": "3.7.9"
  }
 },
 "nbformat": 4,
 "nbformat_minor": 5
}

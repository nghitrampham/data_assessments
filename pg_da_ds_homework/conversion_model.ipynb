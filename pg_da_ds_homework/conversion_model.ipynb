{
 "cells": [
  {
   "cell_type": "code",
   "execution_count": 2,
   "id": "526b5a6b",
   "metadata": {},
   "outputs": [],
   "source": [
    "import numpy as np \n",
    "import pandas as pd\n",
    "import matplotlib.pyplot as plt"
   ]
  },
  {
   "cell_type": "markdown",
   "id": "02e200d6",
   "metadata": {},
   "source": [
    "### EDA "
   ]
  },
  {
   "cell_type": "markdown",
   "id": "ab44eb49",
   "metadata": {},
   "source": [
    "### 1. users data \n",
    "- no duplicates in user_id\n",
    "- non-null objects"
   ]
  },
  {
   "cell_type": "code",
   "execution_count": 4,
   "id": "d899420e",
   "metadata": {},
   "outputs": [
    {
     "data": {
      "text/html": [
       "<div>\n",
       "<style scoped>\n",
       "    .dataframe tbody tr th:only-of-type {\n",
       "        vertical-align: middle;\n",
       "    }\n",
       "\n",
       "    .dataframe tbody tr th {\n",
       "        vertical-align: top;\n",
       "    }\n",
       "\n",
       "    .dataframe thead th {\n",
       "        text-align: right;\n",
       "    }\n",
       "</style>\n",
       "<table border=\"1\" class=\"dataframe\">\n",
       "  <thead>\n",
       "    <tr style=\"text-align: right;\">\n",
       "      <th></th>\n",
       "      <th>user_id</th>\n",
       "      <th>install_date</th>\n",
       "      <th>lang</th>\n",
       "      <th>country</th>\n",
       "      <th>hw_ver</th>\n",
       "      <th>os_ver</th>\n",
       "    </tr>\n",
       "  </thead>\n",
       "  <tbody>\n",
       "    <tr>\n",
       "      <th>0</th>\n",
       "      <td>0</td>\n",
       "      <td>2019-03-01</td>\n",
       "      <td>en</td>\n",
       "      <td>US</td>\n",
       "      <td>iPhone4,1</td>\n",
       "      <td>9.1</td>\n",
       "    </tr>\n",
       "    <tr>\n",
       "      <th>1</th>\n",
       "      <td>1</td>\n",
       "      <td>2019-03-01</td>\n",
       "      <td>en</td>\n",
       "      <td>IN</td>\n",
       "      <td>iPod5,1</td>\n",
       "      <td>8.1.2</td>\n",
       "    </tr>\n",
       "    <tr>\n",
       "      <th>2</th>\n",
       "      <td>2</td>\n",
       "      <td>2019-03-06</td>\n",
       "      <td>en</td>\n",
       "      <td>US</td>\n",
       "      <td>iPod7,1</td>\n",
       "      <td>8.4.1</td>\n",
       "    </tr>\n",
       "    <tr>\n",
       "      <th>3</th>\n",
       "      <td>3</td>\n",
       "      <td>2019-03-03</td>\n",
       "      <td>nb</td>\n",
       "      <td>NO</td>\n",
       "      <td>iPhone8,1</td>\n",
       "      <td>9.2.1</td>\n",
       "    </tr>\n",
       "    <tr>\n",
       "      <th>4</th>\n",
       "      <td>4</td>\n",
       "      <td>2019-03-03</td>\n",
       "      <td>en</td>\n",
       "      <td>GB</td>\n",
       "      <td>iPhone5,4</td>\n",
       "      <td>9.2.1</td>\n",
       "    </tr>\n",
       "  </tbody>\n",
       "</table>\n",
       "</div>"
      ],
      "text/plain": [
       "   user_id install_date lang country     hw_ver os_ver\n",
       "0        0   2019-03-01   en      US  iPhone4,1    9.1\n",
       "1        1   2019-03-01   en      IN    iPod5,1  8.1.2\n",
       "2        2   2019-03-06   en      US    iPod7,1  8.4.1\n",
       "3        3   2019-03-03   nb      NO  iPhone8,1  9.2.1\n",
       "4        4   2019-03-03   en      GB  iPhone5,4  9.2.1"
      ]
     },
     "execution_count": 4,
     "metadata": {},
     "output_type": "execute_result"
    }
   ],
   "source": [
    "user_df = pd.read_csv(\"users.csv\")\n",
    "user_df.head()"
   ]
  },
  {
   "cell_type": "code",
   "execution_count": 28,
   "id": "9a4e523a",
   "metadata": {},
   "outputs": [
    {
     "data": {
      "text/plain": [
       "22576"
      ]
     },
     "execution_count": 28,
     "metadata": {},
     "output_type": "execute_result"
    }
   ],
   "source": [
    "user_df[\"user_id\"].nunique()"
   ]
  },
  {
   "cell_type": "code",
   "execution_count": 21,
   "id": "792e38e1",
   "metadata": {},
   "outputs": [
    {
     "data": {
      "text/plain": [
       "True"
      ]
     },
     "execution_count": 21,
     "metadata": {},
     "output_type": "execute_result"
    }
   ],
   "source": [
    "user_df.shape[0] == user_df[\"user_id\"].nunique()"
   ]
  },
  {
   "cell_type": "code",
   "execution_count": 23,
   "id": "19fd9bde",
   "metadata": {},
   "outputs": [
    {
     "name": "stdout",
     "output_type": "stream",
     "text": [
      "<class 'pandas.core.frame.DataFrame'>\n",
      "RangeIndex: 22576 entries, 0 to 22575\n",
      "Data columns (total 6 columns):\n",
      " #   Column        Non-Null Count  Dtype \n",
      "---  ------        --------------  ----- \n",
      " 0   user_id       22576 non-null  int64 \n",
      " 1   install_date  22576 non-null  object\n",
      " 2   lang          22576 non-null  object\n",
      " 3   country       22564 non-null  object\n",
      " 4   hw_ver        22576 non-null  object\n",
      " 5   os_ver        22576 non-null  object\n",
      "dtypes: int64(1), object(5)\n",
      "memory usage: 1.0+ MB\n"
     ]
    },
    {
     "data": {
      "text/plain": [
       "None"
      ]
     },
     "metadata": {},
     "output_type": "display_data"
    }
   ],
   "source": [
    "display(user_df.info())"
   ]
  },
  {
   "cell_type": "markdown",
   "id": "16402dda",
   "metadata": {},
   "source": [
    "### 2. sessions data "
   ]
  },
  {
   "cell_type": "code",
   "execution_count": 5,
   "id": "cd2ef981",
   "metadata": {},
   "outputs": [
    {
     "data": {
      "text/html": [
       "<div>\n",
       "<style scoped>\n",
       "    .dataframe tbody tr th:only-of-type {\n",
       "        vertical-align: middle;\n",
       "    }\n",
       "\n",
       "    .dataframe tbody tr th {\n",
       "        vertical-align: top;\n",
       "    }\n",
       "\n",
       "    .dataframe thead th {\n",
       "        text-align: right;\n",
       "    }\n",
       "</style>\n",
       "<table border=\"1\" class=\"dataframe\">\n",
       "  <thead>\n",
       "    <tr style=\"text-align: right;\">\n",
       "      <th></th>\n",
       "      <th>user_id</th>\n",
       "      <th>ts</th>\n",
       "      <th>date</th>\n",
       "      <th>session_num</th>\n",
       "      <th>last_session_termination_type</th>\n",
       "    </tr>\n",
       "  </thead>\n",
       "  <tbody>\n",
       "    <tr>\n",
       "      <th>0</th>\n",
       "      <td>14067</td>\n",
       "      <td>2019-03-01 00:06:50</td>\n",
       "      <td>2019-03-01</td>\n",
       "      <td>1</td>\n",
       "      <td>NaN</td>\n",
       "    </tr>\n",
       "    <tr>\n",
       "      <th>1</th>\n",
       "      <td>14067</td>\n",
       "      <td>2019-03-01 00:22:27</td>\n",
       "      <td>2019-03-01</td>\n",
       "      <td>2</td>\n",
       "      <td>NaN</td>\n",
       "    </tr>\n",
       "    <tr>\n",
       "      <th>2</th>\n",
       "      <td>16275</td>\n",
       "      <td>2019-03-01 01:23:03</td>\n",
       "      <td>2019-03-01</td>\n",
       "      <td>1</td>\n",
       "      <td>NaN</td>\n",
       "    </tr>\n",
       "    <tr>\n",
       "      <th>3</th>\n",
       "      <td>16275</td>\n",
       "      <td>2019-03-01 01:31:16</td>\n",
       "      <td>2019-03-01</td>\n",
       "      <td>2</td>\n",
       "      <td>NaN</td>\n",
       "    </tr>\n",
       "    <tr>\n",
       "      <th>4</th>\n",
       "      <td>16275</td>\n",
       "      <td>2019-03-01 01:47:22</td>\n",
       "      <td>2019-03-01</td>\n",
       "      <td>3</td>\n",
       "      <td>NaN</td>\n",
       "    </tr>\n",
       "  </tbody>\n",
       "</table>\n",
       "</div>"
      ],
      "text/plain": [
       "   user_id                   ts        date  session_num  \\\n",
       "0    14067  2019-03-01 00:06:50  2019-03-01            1   \n",
       "1    14067  2019-03-01 00:22:27  2019-03-01            2   \n",
       "2    16275  2019-03-01 01:23:03  2019-03-01            1   \n",
       "3    16275  2019-03-01 01:31:16  2019-03-01            2   \n",
       "4    16275  2019-03-01 01:47:22  2019-03-01            3   \n",
       "\n",
       "   last_session_termination_type  \n",
       "0                            NaN  \n",
       "1                            NaN  \n",
       "2                            NaN  \n",
       "3                            NaN  \n",
       "4                            NaN  "
      ]
     },
     "execution_count": 5,
     "metadata": {},
     "output_type": "execute_result"
    }
   ],
   "source": [
    "sessions_df = pd.read_csv(\"sessions.csv\")\n",
    "sessions_df.head()"
   ]
  },
  {
   "cell_type": "code",
   "execution_count": 25,
   "id": "91e04ea5",
   "metadata": {},
   "outputs": [
    {
     "data": {
      "text/plain": [
       "(722831, 5)"
      ]
     },
     "execution_count": 25,
     "metadata": {},
     "output_type": "execute_result"
    }
   ],
   "source": [
    "sessions_df.drop_duplicates().shape"
   ]
  },
  {
   "cell_type": "code",
   "execution_count": 26,
   "id": "838125a3",
   "metadata": {},
   "outputs": [
    {
     "data": {
      "text/plain": [
       "(722955, 5)"
      ]
     },
     "execution_count": 26,
     "metadata": {},
     "output_type": "execute_result"
    }
   ],
   "source": [
    "sessions_df.shape"
   ]
  },
  {
   "cell_type": "markdown",
   "id": "8f2253d4",
   "metadata": {},
   "source": [
    "### 3. iaps data "
   ]
  },
  {
   "cell_type": "code",
   "execution_count": 6,
   "id": "0be51b09",
   "metadata": {},
   "outputs": [
    {
     "data": {
      "text/html": [
       "<div>\n",
       "<style scoped>\n",
       "    .dataframe tbody tr th:only-of-type {\n",
       "        vertical-align: middle;\n",
       "    }\n",
       "\n",
       "    .dataframe tbody tr th {\n",
       "        vertical-align: top;\n",
       "    }\n",
       "\n",
       "    .dataframe thead th {\n",
       "        text-align: right;\n",
       "    }\n",
       "</style>\n",
       "<table border=\"1\" class=\"dataframe\">\n",
       "  <thead>\n",
       "    <tr style=\"text-align: right;\">\n",
       "      <th></th>\n",
       "      <th>user_id</th>\n",
       "      <th>ts</th>\n",
       "      <th>date</th>\n",
       "      <th>prod_name</th>\n",
       "      <th>prod_type</th>\n",
       "      <th>rev</th>\n",
       "    </tr>\n",
       "  </thead>\n",
       "  <tbody>\n",
       "    <tr>\n",
       "      <th>0</th>\n",
       "      <td>7480</td>\n",
       "      <td>2019-03-04 08:15:49</td>\n",
       "      <td>2019-03-04</td>\n",
       "      <td>iap_1_gems_2</td>\n",
       "      <td>gems</td>\n",
       "      <td>760</td>\n",
       "    </tr>\n",
       "    <tr>\n",
       "      <th>1</th>\n",
       "      <td>7480</td>\n",
       "      <td>2019-03-04 08:24:15</td>\n",
       "      <td>2019-03-04</td>\n",
       "      <td>iap_1_passes_2</td>\n",
       "      <td>chapterPasses</td>\n",
       "      <td>760</td>\n",
       "    </tr>\n",
       "    <tr>\n",
       "      <th>2</th>\n",
       "      <td>7480</td>\n",
       "      <td>2019-03-04 22:49:08</td>\n",
       "      <td>2019-03-04</td>\n",
       "      <td>iap_1_gems_1</td>\n",
       "      <td>gems</td>\n",
       "      <td>410</td>\n",
       "    </tr>\n",
       "    <tr>\n",
       "      <th>3</th>\n",
       "      <td>2466</td>\n",
       "      <td>2019-03-06 00:16:48</td>\n",
       "      <td>2019-03-06</td>\n",
       "      <td>iap_1_gems_2</td>\n",
       "      <td>gems</td>\n",
       "      <td>760</td>\n",
       "    </tr>\n",
       "    <tr>\n",
       "      <th>4</th>\n",
       "      <td>22001</td>\n",
       "      <td>2019-03-06 09:13:45</td>\n",
       "      <td>2019-03-06</td>\n",
       "      <td>iap_1_gems_2</td>\n",
       "      <td>gems</td>\n",
       "      <td>760</td>\n",
       "    </tr>\n",
       "  </tbody>\n",
       "</table>\n",
       "</div>"
      ],
      "text/plain": [
       "   user_id                   ts        date       prod_name      prod_type  \\\n",
       "0     7480  2019-03-04 08:15:49  2019-03-04    iap_1_gems_2           gems   \n",
       "1     7480  2019-03-04 08:24:15  2019-03-04  iap_1_passes_2  chapterPasses   \n",
       "2     7480  2019-03-04 22:49:08  2019-03-04    iap_1_gems_1           gems   \n",
       "3     2466  2019-03-06 00:16:48  2019-03-06    iap_1_gems_2           gems   \n",
       "4    22001  2019-03-06 09:13:45  2019-03-06    iap_1_gems_2           gems   \n",
       "\n",
       "   rev  \n",
       "0  760  \n",
       "1  760  \n",
       "2  410  \n",
       "3  760  \n",
       "4  760  "
      ]
     },
     "execution_count": 6,
     "metadata": {},
     "output_type": "execute_result"
    }
   ],
   "source": [
    "iaps_df = pd.read_csv(\"iaps.csv\") ## this is for game adminitratiion's side\n",
    "iaps_df.head()"
   ]
  },
  {
   "cell_type": "code",
   "execution_count": 29,
   "id": "b129da52",
   "metadata": {},
   "outputs": [
    {
     "data": {
      "text/plain": [
       "(6685, 6)"
      ]
     },
     "execution_count": 29,
     "metadata": {},
     "output_type": "execute_result"
    }
   ],
   "source": [
    "iaps_df.shape"
   ]
  },
  {
   "cell_type": "code",
   "execution_count": 27,
   "id": "e12cdcf7",
   "metadata": {},
   "outputs": [
    {
     "data": {
      "text/plain": [
       "1526"
      ]
     },
     "execution_count": 27,
     "metadata": {},
     "output_type": "execute_result"
    }
   ],
   "source": [
    "iaps_df.user_id.nunique()"
   ]
  },
  {
   "cell_type": "code",
   "execution_count": 11,
   "id": "98729bbe",
   "metadata": {},
   "outputs": [
    {
     "data": {
      "text/html": [
       "<div>\n",
       "<style scoped>\n",
       "    .dataframe tbody tr th:only-of-type {\n",
       "        vertical-align: middle;\n",
       "    }\n",
       "\n",
       "    .dataframe tbody tr th {\n",
       "        vertical-align: top;\n",
       "    }\n",
       "\n",
       "    .dataframe thead th {\n",
       "        text-align: right;\n",
       "    }\n",
       "</style>\n",
       "<table border=\"1\" class=\"dataframe\">\n",
       "  <thead>\n",
       "    <tr style=\"text-align: right;\">\n",
       "      <th></th>\n",
       "      <th>user_id</th>\n",
       "      <th>ts</th>\n",
       "      <th>date</th>\n",
       "      <th>prod_name</th>\n",
       "      <th>prod_type</th>\n",
       "      <th>rev</th>\n",
       "    </tr>\n",
       "  </thead>\n",
       "  <tbody>\n",
       "    <tr>\n",
       "      <th>3795</th>\n",
       "      <td>2062</td>\n",
       "      <td>2019-03-03 03:50:45</td>\n",
       "      <td>2019-03-03</td>\n",
       "      <td>iap_1_gems_2</td>\n",
       "      <td>gems</td>\n",
       "      <td>760</td>\n",
       "    </tr>\n",
       "    <tr>\n",
       "      <th>3796</th>\n",
       "      <td>2062</td>\n",
       "      <td>2019-03-03 03:50:58</td>\n",
       "      <td>2019-03-03</td>\n",
       "      <td>iap_1_gems_2</td>\n",
       "      <td>gems</td>\n",
       "      <td>760</td>\n",
       "    </tr>\n",
       "    <tr>\n",
       "      <th>3797</th>\n",
       "      <td>2062</td>\n",
       "      <td>2019-03-03 04:01:32</td>\n",
       "      <td>2019-03-03</td>\n",
       "      <td>iap_1_passes_2</td>\n",
       "      <td>chapterPasses</td>\n",
       "      <td>760</td>\n",
       "    </tr>\n",
       "    <tr>\n",
       "      <th>3798</th>\n",
       "      <td>2062</td>\n",
       "      <td>2019-03-03 04:07:34</td>\n",
       "      <td>2019-03-03</td>\n",
       "      <td>iap_1_gems_2</td>\n",
       "      <td>gems</td>\n",
       "      <td>760</td>\n",
       "    </tr>\n",
       "    <tr>\n",
       "      <th>3799</th>\n",
       "      <td>2062</td>\n",
       "      <td>2019-03-03 10:40:27</td>\n",
       "      <td>2019-03-03</td>\n",
       "      <td>iap_1_passes_2</td>\n",
       "      <td>chapterPasses</td>\n",
       "      <td>760</td>\n",
       "    </tr>\n",
       "  </tbody>\n",
       "</table>\n",
       "</div>"
      ],
      "text/plain": [
       "      user_id                   ts        date       prod_name      prod_type  \\\n",
       "3795     2062  2019-03-03 03:50:45  2019-03-03    iap_1_gems_2           gems   \n",
       "3796     2062  2019-03-03 03:50:58  2019-03-03    iap_1_gems_2           gems   \n",
       "3797     2062  2019-03-03 04:01:32  2019-03-03  iap_1_passes_2  chapterPasses   \n",
       "3798     2062  2019-03-03 04:07:34  2019-03-03    iap_1_gems_2           gems   \n",
       "3799     2062  2019-03-03 10:40:27  2019-03-03  iap_1_passes_2  chapterPasses   \n",
       "\n",
       "      rev  \n",
       "3795  760  \n",
       "3796  760  \n",
       "3797  760  \n",
       "3798  760  \n",
       "3799  760  "
      ]
     },
     "execution_count": 11,
     "metadata": {},
     "output_type": "execute_result"
    }
   ],
   "source": [
    "iaps_df[iaps_df.user_id == 2062].sort_values(by=\"ts\") "
   ]
  },
  {
   "cell_type": "markdown",
   "id": "ba793c5d",
   "metadata": {},
   "source": [
    "### 4. spendevents data "
   ]
  },
  {
   "cell_type": "code",
   "execution_count": 7,
   "id": "13627c42",
   "metadata": {},
   "outputs": [
    {
     "data": {
      "text/html": [
       "<div>\n",
       "<style scoped>\n",
       "    .dataframe tbody tr th:only-of-type {\n",
       "        vertical-align: middle;\n",
       "    }\n",
       "\n",
       "    .dataframe tbody tr th {\n",
       "        vertical-align: top;\n",
       "    }\n",
       "\n",
       "    .dataframe thead th {\n",
       "        text-align: right;\n",
       "    }\n",
       "</style>\n",
       "<table border=\"1\" class=\"dataframe\">\n",
       "  <thead>\n",
       "    <tr style=\"text-align: right;\">\n",
       "      <th></th>\n",
       "      <th>user_id</th>\n",
       "      <th>ts</th>\n",
       "      <th>date</th>\n",
       "      <th>story</th>\n",
       "      <th>chapter</th>\n",
       "      <th>spendtype</th>\n",
       "      <th>currency</th>\n",
       "      <th>amount</th>\n",
       "    </tr>\n",
       "  </thead>\n",
       "  <tbody>\n",
       "    <tr>\n",
       "      <th>0</th>\n",
       "      <td>9829</td>\n",
       "      <td>2019-03-01 03:03:04</td>\n",
       "      <td>2019-03-01</td>\n",
       "      <td>story_1</td>\n",
       "      <td>0</td>\n",
       "      <td>earnGemsCounter</td>\n",
       "      <td>gems</td>\n",
       "      <td>-22</td>\n",
       "    </tr>\n",
       "    <tr>\n",
       "      <th>1</th>\n",
       "      <td>13757</td>\n",
       "      <td>2019-03-01 03:35:53</td>\n",
       "      <td>2019-03-01</td>\n",
       "      <td>story_1</td>\n",
       "      <td>0</td>\n",
       "      <td>earnGemsCounter</td>\n",
       "      <td>gems</td>\n",
       "      <td>-22</td>\n",
       "    </tr>\n",
       "    <tr>\n",
       "      <th>2</th>\n",
       "      <td>13757</td>\n",
       "      <td>2019-03-01 03:52:10</td>\n",
       "      <td>2019-03-01</td>\n",
       "      <td>story_2</td>\n",
       "      <td>0</td>\n",
       "      <td>earnGemsCounter</td>\n",
       "      <td>gems</td>\n",
       "      <td>-22</td>\n",
       "    </tr>\n",
       "    <tr>\n",
       "      <th>3</th>\n",
       "      <td>10009</td>\n",
       "      <td>2019-03-01 04:10:00</td>\n",
       "      <td>2019-03-01</td>\n",
       "      <td>story_1</td>\n",
       "      <td>0</td>\n",
       "      <td>earnGemsCounter</td>\n",
       "      <td>gems</td>\n",
       "      <td>-22</td>\n",
       "    </tr>\n",
       "    <tr>\n",
       "      <th>4</th>\n",
       "      <td>10009</td>\n",
       "      <td>2019-03-01 04:26:46</td>\n",
       "      <td>2019-03-01</td>\n",
       "      <td>story_2</td>\n",
       "      <td>0</td>\n",
       "      <td>earnGemsCounter</td>\n",
       "      <td>gems</td>\n",
       "      <td>-22</td>\n",
       "    </tr>\n",
       "  </tbody>\n",
       "</table>\n",
       "</div>"
      ],
      "text/plain": [
       "   user_id                   ts        date    story  chapter  \\\n",
       "0     9829  2019-03-01 03:03:04  2019-03-01  story_1        0   \n",
       "1    13757  2019-03-01 03:35:53  2019-03-01  story_1        0   \n",
       "2    13757  2019-03-01 03:52:10  2019-03-01  story_2        0   \n",
       "3    10009  2019-03-01 04:10:00  2019-03-01  story_1        0   \n",
       "4    10009  2019-03-01 04:26:46  2019-03-01  story_2        0   \n",
       "\n",
       "         spendtype currency  amount  \n",
       "0  earnGemsCounter     gems     -22  \n",
       "1  earnGemsCounter     gems     -22  \n",
       "2  earnGemsCounter     gems     -22  \n",
       "3  earnGemsCounter     gems     -22  \n",
       "4  earnGemsCounter     gems     -22  "
      ]
     },
     "execution_count": 7,
     "metadata": {},
     "output_type": "execute_result"
    }
   ],
   "source": [
    "spending_df = pd.read_csv(\"spendevents.csv\")\n",
    "spending_df.head()"
   ]
  },
  {
   "cell_type": "code",
   "execution_count": 10,
   "id": "ef596a70",
   "metadata": {},
   "outputs": [
    {
     "data": {
      "text/html": [
       "<div>\n",
       "<style scoped>\n",
       "    .dataframe tbody tr th:only-of-type {\n",
       "        vertical-align: middle;\n",
       "    }\n",
       "\n",
       "    .dataframe tbody tr th {\n",
       "        vertical-align: top;\n",
       "    }\n",
       "\n",
       "    .dataframe thead th {\n",
       "        text-align: right;\n",
       "    }\n",
       "</style>\n",
       "<table border=\"1\" class=\"dataframe\">\n",
       "  <thead>\n",
       "    <tr style=\"text-align: right;\">\n",
       "      <th></th>\n",
       "      <th>user_id</th>\n",
       "      <th>ts</th>\n",
       "      <th>date</th>\n",
       "      <th>story</th>\n",
       "      <th>chapter</th>\n",
       "      <th>spendtype</th>\n",
       "      <th>currency</th>\n",
       "      <th>amount</th>\n",
       "    </tr>\n",
       "  </thead>\n",
       "  <tbody>\n",
       "    <tr>\n",
       "      <th>15694</th>\n",
       "      <td>2062</td>\n",
       "      <td>2019-03-02 20:01:22</td>\n",
       "      <td>2019-03-03</td>\n",
       "      <td>story_1</td>\n",
       "      <td>0</td>\n",
       "      <td>earnGemsCounter</td>\n",
       "      <td>gems</td>\n",
       "      <td>-22</td>\n",
       "    </tr>\n",
       "    <tr>\n",
       "      <th>15721</th>\n",
       "      <td>2062</td>\n",
       "      <td>2019-03-03 03:50:45</td>\n",
       "      <td>2019-03-03</td>\n",
       "      <td>story_1</td>\n",
       "      <td>5</td>\n",
       "      <td>IAP</td>\n",
       "      <td>gems</td>\n",
       "      <td>-73</td>\n",
       "    </tr>\n",
       "    <tr>\n",
       "      <th>15722</th>\n",
       "      <td>2062</td>\n",
       "      <td>2019-03-03 03:50:58</td>\n",
       "      <td>2019-03-03</td>\n",
       "      <td>story_1</td>\n",
       "      <td>5</td>\n",
       "      <td>IAP</td>\n",
       "      <td>gems</td>\n",
       "      <td>-73</td>\n",
       "    </tr>\n",
       "    <tr>\n",
       "      <th>15723</th>\n",
       "      <td>2062</td>\n",
       "      <td>2019-03-03 03:51:00</td>\n",
       "      <td>2019-03-03</td>\n",
       "      <td>story_1</td>\n",
       "      <td>5</td>\n",
       "      <td>premiumChoice</td>\n",
       "      <td>gems</td>\n",
       "      <td>64</td>\n",
       "    </tr>\n",
       "    <tr>\n",
       "      <th>15724</th>\n",
       "      <td>2062</td>\n",
       "      <td>2019-03-03 04:07:34</td>\n",
       "      <td>2019-03-03</td>\n",
       "      <td>story_1</td>\n",
       "      <td>6</td>\n",
       "      <td>IAP</td>\n",
       "      <td>gems</td>\n",
       "      <td>-73</td>\n",
       "    </tr>\n",
       "    <tr>\n",
       "      <th>15725</th>\n",
       "      <td>2062</td>\n",
       "      <td>2019-03-03 04:07:37</td>\n",
       "      <td>2019-03-03</td>\n",
       "      <td>story_1</td>\n",
       "      <td>6</td>\n",
       "      <td>premiumChoice</td>\n",
       "      <td>gems</td>\n",
       "      <td>55</td>\n",
       "    </tr>\n",
       "    <tr>\n",
       "      <th>15726</th>\n",
       "      <td>2062</td>\n",
       "      <td>2019-03-03 04:24:58</td>\n",
       "      <td>2019-03-03</td>\n",
       "      <td>story_1</td>\n",
       "      <td>8</td>\n",
       "      <td>premiumChoice</td>\n",
       "      <td>gems</td>\n",
       "      <td>27</td>\n",
       "    </tr>\n",
       "  </tbody>\n",
       "</table>\n",
       "</div>"
      ],
      "text/plain": [
       "       user_id                   ts        date    story  chapter  \\\n",
       "15694     2062  2019-03-02 20:01:22  2019-03-03  story_1        0   \n",
       "15721     2062  2019-03-03 03:50:45  2019-03-03  story_1        5   \n",
       "15722     2062  2019-03-03 03:50:58  2019-03-03  story_1        5   \n",
       "15723     2062  2019-03-03 03:51:00  2019-03-03  story_1        5   \n",
       "15724     2062  2019-03-03 04:07:34  2019-03-03  story_1        6   \n",
       "15725     2062  2019-03-03 04:07:37  2019-03-03  story_1        6   \n",
       "15726     2062  2019-03-03 04:24:58  2019-03-03  story_1        8   \n",
       "\n",
       "             spendtype currency  amount  \n",
       "15694  earnGemsCounter     gems     -22  \n",
       "15721              IAP     gems     -73  \n",
       "15722              IAP     gems     -73  \n",
       "15723    premiumChoice     gems      64  \n",
       "15724              IAP     gems     -73  \n",
       "15725    premiumChoice     gems      55  \n",
       "15726    premiumChoice     gems      27  "
      ]
     },
     "execution_count": 10,
     "metadata": {},
     "output_type": "execute_result"
    }
   ],
   "source": [
    "spending_df[spending_df.user_id == 2062].sort_values(by=\"ts\") ### this is for game adminitratiion's side"
   ]
  },
  {
   "cell_type": "markdown",
   "id": "1f799170",
   "metadata": {},
   "source": [
    "# Graphical EDA and insights "
   ]
  },
  {
   "cell_type": "markdown",
   "id": "d4016576",
   "metadata": {},
   "source": [
    "### 1. Find the golden time \n",
    "- how long does it take for a new user to make the firsr in-app purchase"
   ]
  },
  {
   "cell_type": "code",
   "execution_count": null,
   "id": "e3405317",
   "metadata": {},
   "outputs": [],
   "source": [
    "users_iaps = "
   ]
  },
  {
   "cell_type": "code",
   "execution_count": null,
   "id": "b898a40d",
   "metadata": {},
   "outputs": [],
   "source": [
    "\n",
    "### 2. Find the main difference features/distribution ft that seperates two groups well \n",
    "### 3. Cluster according that features\n",
    "### 4. "
   ]
  },
  {
   "cell_type": "code",
   "execution_count": null,
   "id": "d59132e6",
   "metadata": {},
   "outputs": [],
   "source": [
    "# Model \n",
    "- Paying users are class 1 \n",
    "- Non-paying users are class 0\n"
   ]
  }
 ],
 "metadata": {
  "kernelspec": {
   "display_name": "Python 3",
   "language": "python",
   "name": "python3"
  },
  "language_info": {
   "codemirror_mode": {
    "name": "ipython",
    "version": 3
   },
   "file_extension": ".py",
   "mimetype": "text/x-python",
   "name": "python",
   "nbconvert_exporter": "python",
   "pygments_lexer": "ipython3",
   "version": "3.7.9"
  }
 },
 "nbformat": 4,
 "nbformat_minor": 5
}

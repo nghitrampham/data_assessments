{
 "cells": [
  {
   "cell_type": "code",
   "execution_count": 103,
   "id": "87debd96",
   "metadata": {},
   "outputs": [],
   "source": [
    "### basic package for data science project\n",
    "import pandas as pd\n",
    "import matplotlib.pyplot as plt\n",
    "import seaborn as sns\n",
    "import numpy as np\n",
    "\n",
    "import warnings\n",
    "warnings.filterwarnings(\"ignore\")\n",
    "%matplotlib inline\n",
    "sns.set()"
   ]
  },
  {
   "cell_type": "markdown",
   "id": "a67264b2",
   "metadata": {},
   "source": [
    "#### Thoughts: \n",
    "    - Since data dictionary is not provided, it is hard to tell the meaning of numerical features\n",
    "    - Given a large amount of features,  I think it is best to first seperate the categorical fts and numerical fts. \n",
    "    \n",
    "#### For numerical features: \n",
    "    - Exclude columns with more than 75% of the values missing\n",
    "    - Impute missing values with mean/median/mode\n",
    "#### For categorical features: \n",
    "    - Focus on understand the features \n",
    "    - Creat dummy variable to represent the feature in an appropriate format for training data "
   ]
  },
  {
   "cell_type": "markdown",
   "id": "8aa8e01e",
   "metadata": {},
   "source": [
    "### Data summary "
   ]
  },
  {
   "cell_type": "code",
   "execution_count": 51,
   "id": "7a242345",
   "metadata": {},
   "outputs": [
    {
     "data": {
      "text/html": [
       "<div>\n",
       "<style scoped>\n",
       "    .dataframe tbody tr th:only-of-type {\n",
       "        vertical-align: middle;\n",
       "    }\n",
       "\n",
       "    .dataframe tbody tr th {\n",
       "        vertical-align: top;\n",
       "    }\n",
       "\n",
       "    .dataframe thead th {\n",
       "        text-align: right;\n",
       "    }\n",
       "</style>\n",
       "<table border=\"1\" class=\"dataframe\">\n",
       "  <thead>\n",
       "    <tr style=\"text-align: right;\">\n",
       "      <th></th>\n",
       "      <th>y</th>\n",
       "      <th>x1</th>\n",
       "      <th>x2</th>\n",
       "      <th>x4</th>\n",
       "      <th>x5</th>\n",
       "      <th>x6</th>\n",
       "      <th>x8</th>\n",
       "      <th>x9</th>\n",
       "      <th>x10</th>\n",
       "      <th>x11</th>\n",
       "      <th>...</th>\n",
       "      <th>x89</th>\n",
       "      <th>x90</th>\n",
       "      <th>x91</th>\n",
       "      <th>x92</th>\n",
       "      <th>x94</th>\n",
       "      <th>x95</th>\n",
       "      <th>x96</th>\n",
       "      <th>x97</th>\n",
       "      <th>x98</th>\n",
       "      <th>x100</th>\n",
       "    </tr>\n",
       "  </thead>\n",
       "  <tbody>\n",
       "    <tr>\n",
       "      <th>count</th>\n",
       "      <td>40000.000000</td>\n",
       "      <td>40000.000000</td>\n",
       "      <td>40000.000000</td>\n",
       "      <td>40000.000000</td>\n",
       "      <td>37572.000000</td>\n",
       "      <td>40000.000000</td>\n",
       "      <td>40000.000000</td>\n",
       "      <td>40000.000000</td>\n",
       "      <td>40000.000000</td>\n",
       "      <td>34890.000000</td>\n",
       "      <td>...</td>\n",
       "      <td>29309.000000</td>\n",
       "      <td>40000.000000</td>\n",
       "      <td>34741.000000</td>\n",
       "      <td>37565.000000</td>\n",
       "      <td>37660.000000</td>\n",
       "      <td>27396.000000</td>\n",
       "      <td>33362.000000</td>\n",
       "      <td>40000.000000</td>\n",
       "      <td>40000.000000</td>\n",
       "      <td>40000.000000</td>\n",
       "    </tr>\n",
       "    <tr>\n",
       "      <th>mean</th>\n",
       "      <td>0.145075</td>\n",
       "      <td>2.999958</td>\n",
       "      <td>20.004865</td>\n",
       "      <td>0.002950</td>\n",
       "      <td>0.005396</td>\n",
       "      <td>0.007234</td>\n",
       "      <td>0.004371</td>\n",
       "      <td>2.722334</td>\n",
       "      <td>0.490339</td>\n",
       "      <td>100.008988</td>\n",
       "      <td>...</td>\n",
       "      <td>10.767838</td>\n",
       "      <td>3.000166</td>\n",
       "      <td>0.001636</td>\n",
       "      <td>4.002896</td>\n",
       "      <td>3.969385</td>\n",
       "      <td>0.031886</td>\n",
       "      <td>10.525530</td>\n",
       "      <td>10.002814</td>\n",
       "      <td>0.497650</td>\n",
       "      <td>100.024743</td>\n",
       "    </tr>\n",
       "    <tr>\n",
       "      <th>std</th>\n",
       "      <td>0.352181</td>\n",
       "      <td>1.994490</td>\n",
       "      <td>1.604291</td>\n",
       "      <td>1.462185</td>\n",
       "      <td>1.297952</td>\n",
       "      <td>1.358551</td>\n",
       "      <td>1.447223</td>\n",
       "      <td>1.966828</td>\n",
       "      <td>1.029863</td>\n",
       "      <td>13.343010</td>\n",
       "      <td>...</td>\n",
       "      <td>3.732763</td>\n",
       "      <td>1.164411</td>\n",
       "      <td>1.468790</td>\n",
       "      <td>3.017420</td>\n",
       "      <td>1.473939</td>\n",
       "      <td>1.823091</td>\n",
       "      <td>1.437581</td>\n",
       "      <td>1.986984</td>\n",
       "      <td>0.500001</td>\n",
       "      <td>5.247514</td>\n",
       "    </tr>\n",
       "    <tr>\n",
       "      <th>min</th>\n",
       "      <td>0.000000</td>\n",
       "      <td>-3.648431</td>\n",
       "      <td>13.714945</td>\n",
       "      <td>-5.137161</td>\n",
       "      <td>-5.616412</td>\n",
       "      <td>-6.113153</td>\n",
       "      <td>-6.376810</td>\n",
       "      <td>-3.143438</td>\n",
       "      <td>-3.538129</td>\n",
       "      <td>50.526543</td>\n",
       "      <td>...</td>\n",
       "      <td>6.106024</td>\n",
       "      <td>-2.173310</td>\n",
       "      <td>-6.328126</td>\n",
       "      <td>-3.384399</td>\n",
       "      <td>-1.663063</td>\n",
       "      <td>-6.885150</td>\n",
       "      <td>8.210456</td>\n",
       "      <td>1.911272</td>\n",
       "      <td>0.000000</td>\n",
       "      <td>78.340735</td>\n",
       "    </tr>\n",
       "    <tr>\n",
       "      <th>25%</th>\n",
       "      <td>0.000000</td>\n",
       "      <td>1.592714</td>\n",
       "      <td>18.921388</td>\n",
       "      <td>-1.026798</td>\n",
       "      <td>-0.872354</td>\n",
       "      <td>-0.909831</td>\n",
       "      <td>-0.971167</td>\n",
       "      <td>1.340450</td>\n",
       "      <td>-0.207833</td>\n",
       "      <td>91.056682</td>\n",
       "      <td>...</td>\n",
       "      <td>7.927605</td>\n",
       "      <td>2.211125</td>\n",
       "      <td>-0.982679</td>\n",
       "      <td>1.610899</td>\n",
       "      <td>2.943758</td>\n",
       "      <td>-1.190682</td>\n",
       "      <td>9.397548</td>\n",
       "      <td>8.665103</td>\n",
       "      <td>0.000000</td>\n",
       "      <td>96.516856</td>\n",
       "    </tr>\n",
       "    <tr>\n",
       "      <th>50%</th>\n",
       "      <td>0.000000</td>\n",
       "      <td>2.875892</td>\n",
       "      <td>20.005944</td>\n",
       "      <td>0.002263</td>\n",
       "      <td>0.008822</td>\n",
       "      <td>0.007335</td>\n",
       "      <td>0.002226</td>\n",
       "      <td>2.498876</td>\n",
       "      <td>0.486926</td>\n",
       "      <td>100.020965</td>\n",
       "      <td>...</td>\n",
       "      <td>9.931831</td>\n",
       "      <td>2.998776</td>\n",
       "      <td>0.005664</td>\n",
       "      <td>4.099763</td>\n",
       "      <td>3.912526</td>\n",
       "      <td>0.001523</td>\n",
       "      <td>10.358355</td>\n",
       "      <td>9.994318</td>\n",
       "      <td>0.000000</td>\n",
       "      <td>100.024977</td>\n",
       "    </tr>\n",
       "    <tr>\n",
       "      <th>75%</th>\n",
       "      <td>0.000000</td>\n",
       "      <td>4.270295</td>\n",
       "      <td>21.083465</td>\n",
       "      <td>1.043354</td>\n",
       "      <td>0.892467</td>\n",
       "      <td>0.926222</td>\n",
       "      <td>0.985023</td>\n",
       "      <td>3.827712</td>\n",
       "      <td>1.182994</td>\n",
       "      <td>109.025025</td>\n",
       "      <td>...</td>\n",
       "      <td>12.710543</td>\n",
       "      <td>3.786751</td>\n",
       "      <td>0.989632</td>\n",
       "      <td>6.113157</td>\n",
       "      <td>4.930563</td>\n",
       "      <td>1.248742</td>\n",
       "      <td>11.448559</td>\n",
       "      <td>11.342574</td>\n",
       "      <td>1.000000</td>\n",
       "      <td>103.558762</td>\n",
       "    </tr>\n",
       "    <tr>\n",
       "      <th>max</th>\n",
       "      <td>1.000000</td>\n",
       "      <td>13.837591</td>\n",
       "      <td>27.086468</td>\n",
       "      <td>5.150153</td>\n",
       "      <td>5.698128</td>\n",
       "      <td>5.639372</td>\n",
       "      <td>5.869889</td>\n",
       "      <td>18.006669</td>\n",
       "      <td>4.724186</td>\n",
       "      <td>148.784484</td>\n",
       "      <td>...</td>\n",
       "      <td>38.566041</td>\n",
       "      <td>7.130058</td>\n",
       "      <td>6.868747</td>\n",
       "      <td>16.734658</td>\n",
       "      <td>11.669024</td>\n",
       "      <td>7.631773</td>\n",
       "      <td>18.725468</td>\n",
       "      <td>17.861580</td>\n",
       "      <td>1.000000</td>\n",
       "      <td>122.406809</td>\n",
       "    </tr>\n",
       "  </tbody>\n",
       "</table>\n",
       "<p>8 rows × 89 columns</p>\n",
       "</div>"
      ],
      "text/plain": [
       "                  y            x1            x2            x4            x5  \\\n",
       "count  40000.000000  40000.000000  40000.000000  40000.000000  37572.000000   \n",
       "mean       0.145075      2.999958     20.004865      0.002950      0.005396   \n",
       "std        0.352181      1.994490      1.604291      1.462185      1.297952   \n",
       "min        0.000000     -3.648431     13.714945     -5.137161     -5.616412   \n",
       "25%        0.000000      1.592714     18.921388     -1.026798     -0.872354   \n",
       "50%        0.000000      2.875892     20.005944      0.002263      0.008822   \n",
       "75%        0.000000      4.270295     21.083465      1.043354      0.892467   \n",
       "max        1.000000     13.837591     27.086468      5.150153      5.698128   \n",
       "\n",
       "                 x6            x8            x9           x10           x11  \\\n",
       "count  40000.000000  40000.000000  40000.000000  40000.000000  34890.000000   \n",
       "mean       0.007234      0.004371      2.722334      0.490339    100.008988   \n",
       "std        1.358551      1.447223      1.966828      1.029863     13.343010   \n",
       "min       -6.113153     -6.376810     -3.143438     -3.538129     50.526543   \n",
       "25%       -0.909831     -0.971167      1.340450     -0.207833     91.056682   \n",
       "50%        0.007335      0.002226      2.498876      0.486926    100.020965   \n",
       "75%        0.926222      0.985023      3.827712      1.182994    109.025025   \n",
       "max        5.639372      5.869889     18.006669      4.724186    148.784484   \n",
       "\n",
       "       ...           x89           x90           x91           x92  \\\n",
       "count  ...  29309.000000  40000.000000  34741.000000  37565.000000   \n",
       "mean   ...     10.767838      3.000166      0.001636      4.002896   \n",
       "std    ...      3.732763      1.164411      1.468790      3.017420   \n",
       "min    ...      6.106024     -2.173310     -6.328126     -3.384399   \n",
       "25%    ...      7.927605      2.211125     -0.982679      1.610899   \n",
       "50%    ...      9.931831      2.998776      0.005664      4.099763   \n",
       "75%    ...     12.710543      3.786751      0.989632      6.113157   \n",
       "max    ...     38.566041      7.130058      6.868747     16.734658   \n",
       "\n",
       "                x94           x95           x96           x97           x98  \\\n",
       "count  37660.000000  27396.000000  33362.000000  40000.000000  40000.000000   \n",
       "mean       3.969385      0.031886     10.525530     10.002814      0.497650   \n",
       "std        1.473939      1.823091      1.437581      1.986984      0.500001   \n",
       "min       -1.663063     -6.885150      8.210456      1.911272      0.000000   \n",
       "25%        2.943758     -1.190682      9.397548      8.665103      0.000000   \n",
       "50%        3.912526      0.001523     10.358355      9.994318      0.000000   \n",
       "75%        4.930563      1.248742     11.448559     11.342574      1.000000   \n",
       "max       11.669024      7.631773     18.725468     17.861580      1.000000   \n",
       "\n",
       "               x100  \n",
       "count  40000.000000  \n",
       "mean     100.024743  \n",
       "std        5.247514  \n",
       "min       78.340735  \n",
       "25%       96.516856  \n",
       "50%      100.024977  \n",
       "75%      103.558762  \n",
       "max      122.406809  \n",
       "\n",
       "[8 rows x 89 columns]"
      ]
     },
     "execution_count": 51,
     "metadata": {},
     "output_type": "execute_result"
    }
   ],
   "source": [
    "df = pd.read_csv(\"data/exercise_40_train.csv\")\n",
    "df.describe()"
   ]
  },
  {
   "cell_type": "code",
   "execution_count": 8,
   "id": "f5ec4d0f",
   "metadata": {},
   "outputs": [
    {
     "name": "stdout",
     "output_type": "stream",
     "text": [
      "<class 'pandas.core.frame.DataFrame'>\n",
      "RangeIndex: 40000 entries, 0 to 39999\n",
      "Columns: 101 entries, y to x100\n",
      "dtypes: float64(86), int64(3), object(12)\n",
      "memory usage: 30.8+ MB\n"
     ]
    },
    {
     "data": {
      "text/plain": [
       "None"
      ]
     },
     "metadata": {},
     "output_type": "display_data"
    }
   ],
   "source": [
    "display(df.info())"
   ]
  },
  {
   "cell_type": "code",
   "execution_count": 10,
   "id": "58c08bee",
   "metadata": {},
   "outputs": [
    {
     "data": {
      "text/html": [
       "<div>\n",
       "<style scoped>\n",
       "    .dataframe tbody tr th:only-of-type {\n",
       "        vertical-align: middle;\n",
       "    }\n",
       "\n",
       "    .dataframe tbody tr th {\n",
       "        vertical-align: top;\n",
       "    }\n",
       "\n",
       "    .dataframe thead th {\n",
       "        text-align: right;\n",
       "    }\n",
       "</style>\n",
       "<table border=\"1\" class=\"dataframe\">\n",
       "  <thead>\n",
       "    <tr style=\"text-align: right;\">\n",
       "      <th></th>\n",
       "      <th>y</th>\n",
       "      <th>x1</th>\n",
       "      <th>x2</th>\n",
       "      <th>x3</th>\n",
       "      <th>x4</th>\n",
       "      <th>x5</th>\n",
       "      <th>x6</th>\n",
       "      <th>x7</th>\n",
       "      <th>x8</th>\n",
       "      <th>x9</th>\n",
       "      <th>...</th>\n",
       "      <th>x91</th>\n",
       "      <th>x92</th>\n",
       "      <th>x93</th>\n",
       "      <th>x94</th>\n",
       "      <th>x95</th>\n",
       "      <th>x96</th>\n",
       "      <th>x97</th>\n",
       "      <th>x98</th>\n",
       "      <th>x99</th>\n",
       "      <th>x100</th>\n",
       "    </tr>\n",
       "  </thead>\n",
       "  <tbody>\n",
       "    <tr>\n",
       "      <th>0</th>\n",
       "      <td>0</td>\n",
       "      <td>0.165254</td>\n",
       "      <td>18.060003</td>\n",
       "      <td>Wed</td>\n",
       "      <td>1.077380</td>\n",
       "      <td>-1.339233</td>\n",
       "      <td>-1.584341</td>\n",
       "      <td>0.0062%</td>\n",
       "      <td>0.220784</td>\n",
       "      <td>1.816481</td>\n",
       "      <td>...</td>\n",
       "      <td>-0.397427</td>\n",
       "      <td>0.909479</td>\n",
       "      <td>no</td>\n",
       "      <td>5.492487</td>\n",
       "      <td>NaN</td>\n",
       "      <td>10.255579</td>\n",
       "      <td>7.627730</td>\n",
       "      <td>0</td>\n",
       "      <td>yes</td>\n",
       "      <td>104.251338</td>\n",
       "    </tr>\n",
       "    <tr>\n",
       "      <th>1</th>\n",
       "      <td>1</td>\n",
       "      <td>2.441471</td>\n",
       "      <td>18.416307</td>\n",
       "      <td>Friday</td>\n",
       "      <td>1.482586</td>\n",
       "      <td>0.920817</td>\n",
       "      <td>-0.759931</td>\n",
       "      <td>0.0064%</td>\n",
       "      <td>1.192441</td>\n",
       "      <td>3.513950</td>\n",
       "      <td>...</td>\n",
       "      <td>0.656651</td>\n",
       "      <td>9.093466</td>\n",
       "      <td>no</td>\n",
       "      <td>3.346429</td>\n",
       "      <td>4.321172</td>\n",
       "      <td>NaN</td>\n",
       "      <td>10.505284</td>\n",
       "      <td>1</td>\n",
       "      <td>yes</td>\n",
       "      <td>101.230645</td>\n",
       "    </tr>\n",
       "    <tr>\n",
       "      <th>2</th>\n",
       "      <td>1</td>\n",
       "      <td>4.427278</td>\n",
       "      <td>19.188092</td>\n",
       "      <td>Thursday</td>\n",
       "      <td>0.145652</td>\n",
       "      <td>0.366093</td>\n",
       "      <td>0.709962</td>\n",
       "      <td>-8e-04%</td>\n",
       "      <td>0.952323</td>\n",
       "      <td>0.782974</td>\n",
       "      <td>...</td>\n",
       "      <td>2.059615</td>\n",
       "      <td>0.305170</td>\n",
       "      <td>no</td>\n",
       "      <td>4.456565</td>\n",
       "      <td>NaN</td>\n",
       "      <td>8.754572</td>\n",
       "      <td>7.810979</td>\n",
       "      <td>0</td>\n",
       "      <td>yes</td>\n",
       "      <td>109.345215</td>\n",
       "    </tr>\n",
       "    <tr>\n",
       "      <th>3</th>\n",
       "      <td>0</td>\n",
       "      <td>3.925235</td>\n",
       "      <td>19.901257</td>\n",
       "      <td>Tuesday</td>\n",
       "      <td>1.763602</td>\n",
       "      <td>-0.251926</td>\n",
       "      <td>-0.827461</td>\n",
       "      <td>-0.0057%</td>\n",
       "      <td>-0.520756</td>\n",
       "      <td>1.825586</td>\n",
       "      <td>...</td>\n",
       "      <td>0.899392</td>\n",
       "      <td>5.971782</td>\n",
       "      <td>no</td>\n",
       "      <td>4.100022</td>\n",
       "      <td>1.151085</td>\n",
       "      <td>NaN</td>\n",
       "      <td>9.178325</td>\n",
       "      <td>1</td>\n",
       "      <td>yes</td>\n",
       "      <td>103.021970</td>\n",
       "    </tr>\n",
       "    <tr>\n",
       "      <th>4</th>\n",
       "      <td>0</td>\n",
       "      <td>2.868802</td>\n",
       "      <td>22.202473</td>\n",
       "      <td>Sunday</td>\n",
       "      <td>3.405119</td>\n",
       "      <td>0.083162</td>\n",
       "      <td>1.381504</td>\n",
       "      <td>0.0109%</td>\n",
       "      <td>-0.732739</td>\n",
       "      <td>2.151990</td>\n",
       "      <td>...</td>\n",
       "      <td>3.003595</td>\n",
       "      <td>1.046096</td>\n",
       "      <td>yes</td>\n",
       "      <td>3.234033</td>\n",
       "      <td>2.074927</td>\n",
       "      <td>9.987006</td>\n",
       "      <td>11.702664</td>\n",
       "      <td>0</td>\n",
       "      <td>yes</td>\n",
       "      <td>92.925935</td>\n",
       "    </tr>\n",
       "  </tbody>\n",
       "</table>\n",
       "<p>5 rows × 101 columns</p>\n",
       "</div>"
      ],
      "text/plain": [
       "   y        x1         x2        x3        x4        x5        x6        x7  \\\n",
       "0  0  0.165254  18.060003       Wed  1.077380 -1.339233 -1.584341   0.0062%   \n",
       "1  1  2.441471  18.416307    Friday  1.482586  0.920817 -0.759931   0.0064%   \n",
       "2  1  4.427278  19.188092  Thursday  0.145652  0.366093  0.709962   -8e-04%   \n",
       "3  0  3.925235  19.901257   Tuesday  1.763602 -0.251926 -0.827461  -0.0057%   \n",
       "4  0  2.868802  22.202473    Sunday  3.405119  0.083162  1.381504   0.0109%   \n",
       "\n",
       "         x8        x9  ...       x91       x92  x93       x94       x95  \\\n",
       "0  0.220784  1.816481  ... -0.397427  0.909479   no  5.492487       NaN   \n",
       "1  1.192441  3.513950  ...  0.656651  9.093466   no  3.346429  4.321172   \n",
       "2  0.952323  0.782974  ...  2.059615  0.305170   no  4.456565       NaN   \n",
       "3 -0.520756  1.825586  ...  0.899392  5.971782   no  4.100022  1.151085   \n",
       "4 -0.732739  2.151990  ...  3.003595  1.046096  yes  3.234033  2.074927   \n",
       "\n",
       "         x96        x97  x98  x99        x100  \n",
       "0  10.255579   7.627730    0  yes  104.251338  \n",
       "1        NaN  10.505284    1  yes  101.230645  \n",
       "2   8.754572   7.810979    0  yes  109.345215  \n",
       "3        NaN   9.178325    1  yes  103.021970  \n",
       "4   9.987006  11.702664    0  yes   92.925935  \n",
       "\n",
       "[5 rows x 101 columns]"
      ]
     },
     "execution_count": 10,
     "metadata": {},
     "output_type": "execute_result"
    }
   ],
   "source": [
    "df.head()"
   ]
  },
  {
   "cell_type": "markdown",
   "id": "467f1aea",
   "metadata": {},
   "source": [
    "### Missing value "
   ]
  },
  {
   "cell_type": "code",
   "execution_count": 12,
   "id": "b32d7d13",
   "metadata": {},
   "outputs": [
    {
     "data": {
      "text/plain": [
       "59"
      ]
     },
     "execution_count": 12,
     "metadata": {},
     "output_type": "execute_result"
    }
   ],
   "source": [
    "no_nulls = set(df.columns[df.isnull().mean()==0])\n",
    "len(no_nulls)"
   ]
  },
  {
   "cell_type": "code",
   "execution_count": 50,
   "id": "986b8b3d",
   "metadata": {},
   "outputs": [
    {
     "data": {
      "text/plain": [
       "42"
      ]
     },
     "execution_count": 50,
     "metadata": {},
     "output_type": "execute_result"
    }
   ],
   "source": [
    "null_cols = set(df.columns[df.isnull().mean()!=0])\n",
    "len(null_cols)"
   ]
  },
  {
   "cell_type": "code",
   "execution_count": 18,
   "id": "aef9c8eb",
   "metadata": {},
   "outputs": [
    {
     "data": {
      "text/plain": [
       "{'x30', 'x44', 'x57'}"
      ]
     },
     "execution_count": 18,
     "metadata": {},
     "output_type": "execute_result"
    }
   ],
   "source": [
    "most_missing_cols = set(df.columns[df.isnull().mean() > 0.75])\n",
    "most_missing_cols"
   ]
  },
  {
   "cell_type": "code",
   "execution_count": 45,
   "id": "032572cf",
   "metadata": {},
   "outputs": [
    {
     "data": {
      "text/plain": [
       "Index(['x14', 'x16', 'x30', 'x41', 'x42', 'x44', 'x45', 'x49', 'x52', 'x54',\n",
       "       'x55', 'x57', 'x74', 'x77', 'x78', 'x85', 'x89', 'x95', 'x99'],\n",
       "      dtype='object')"
      ]
     },
     "execution_count": 45,
     "metadata": {},
     "output_type": "execute_result"
    }
   ],
   "source": [
    "df.columns[df.isnull().mean() > 0.2]"
   ]
  },
  {
   "cell_type": "code",
   "execution_count": 65,
   "id": "480425fe",
   "metadata": {},
   "outputs": [
    {
     "data": {
      "text/plain": [
       "(30136, 101)"
      ]
     },
     "execution_count": 65,
     "metadata": {},
     "output_type": "execute_result"
    }
   ],
   "source": [
    "drop_sal_df = df.dropna(subset=['x14'], axis=0)\n",
    "drop_sal_df.shape"
   ]
  },
  {
   "cell_type": "markdown",
   "id": "f85635dd",
   "metadata": {},
   "source": [
    "### Categorial features EDA "
   ]
  },
  {
   "cell_type": "code",
   "execution_count": 104,
   "id": "697df78b",
   "metadata": {},
   "outputs": [
    {
     "data": {
      "text/html": [
       "<div>\n",
       "<style scoped>\n",
       "    .dataframe tbody tr th:only-of-type {\n",
       "        vertical-align: middle;\n",
       "    }\n",
       "\n",
       "    .dataframe tbody tr th {\n",
       "        vertical-align: top;\n",
       "    }\n",
       "\n",
       "    .dataframe thead th {\n",
       "        text-align: right;\n",
       "    }\n",
       "</style>\n",
       "<table border=\"1\" class=\"dataframe\">\n",
       "  <thead>\n",
       "    <tr style=\"text-align: right;\">\n",
       "      <th></th>\n",
       "      <th>x3</th>\n",
       "      <th>x7</th>\n",
       "      <th>x19</th>\n",
       "      <th>x24</th>\n",
       "      <th>x31</th>\n",
       "      <th>x33</th>\n",
       "      <th>x39</th>\n",
       "      <th>x60</th>\n",
       "      <th>x65</th>\n",
       "      <th>x77</th>\n",
       "      <th>x93</th>\n",
       "      <th>x99</th>\n",
       "      <th>y</th>\n",
       "    </tr>\n",
       "  </thead>\n",
       "  <tbody>\n",
       "    <tr>\n",
       "      <th>0</th>\n",
       "      <td>Wed</td>\n",
       "      <td>0.0062</td>\n",
       "      <td>-908.650758</td>\n",
       "      <td>female</td>\n",
       "      <td>no</td>\n",
       "      <td>Colorado</td>\n",
       "      <td>5-10 miles</td>\n",
       "      <td>August</td>\n",
       "      <td>farmers</td>\n",
       "      <td>mercedes</td>\n",
       "      <td>no</td>\n",
       "      <td>yes</td>\n",
       "      <td>0</td>\n",
       "    </tr>\n",
       "    <tr>\n",
       "      <th>1</th>\n",
       "      <td>Friday</td>\n",
       "      <td>0.0064</td>\n",
       "      <td>-1864.962288</td>\n",
       "      <td>male</td>\n",
       "      <td>no</td>\n",
       "      <td>Tennessee</td>\n",
       "      <td>5-10 miles</td>\n",
       "      <td>April</td>\n",
       "      <td>allstate</td>\n",
       "      <td>mercedes</td>\n",
       "      <td>no</td>\n",
       "      <td>yes</td>\n",
       "      <td>1</td>\n",
       "    </tr>\n",
       "    <tr>\n",
       "      <th>2</th>\n",
       "      <td>Thursday</td>\n",
       "      <td>-0.0008</td>\n",
       "      <td>-543.187403</td>\n",
       "      <td>male</td>\n",
       "      <td>no</td>\n",
       "      <td>Texas</td>\n",
       "      <td>5-10 miles</td>\n",
       "      <td>September</td>\n",
       "      <td>geico</td>\n",
       "      <td>subaru</td>\n",
       "      <td>no</td>\n",
       "      <td>yes</td>\n",
       "      <td>1</td>\n",
       "    </tr>\n",
       "    <tr>\n",
       "      <th>3</th>\n",
       "      <td>Tuesday</td>\n",
       "      <td>-0.0057</td>\n",
       "      <td>-182.626381</td>\n",
       "      <td>male</td>\n",
       "      <td>no</td>\n",
       "      <td>Minnesota</td>\n",
       "      <td>5-10 miles</td>\n",
       "      <td>September</td>\n",
       "      <td>geico</td>\n",
       "      <td>nissan</td>\n",
       "      <td>no</td>\n",
       "      <td>yes</td>\n",
       "      <td>0</td>\n",
       "    </tr>\n",
       "    <tr>\n",
       "      <th>4</th>\n",
       "      <td>Sunday</td>\n",
       "      <td>0.0109</td>\n",
       "      <td>967.007091</td>\n",
       "      <td>male</td>\n",
       "      <td>yes</td>\n",
       "      <td>New York</td>\n",
       "      <td>5-10 miles</td>\n",
       "      <td>January</td>\n",
       "      <td>geico</td>\n",
       "      <td>toyota</td>\n",
       "      <td>yes</td>\n",
       "      <td>yes</td>\n",
       "      <td>0</td>\n",
       "    </tr>\n",
       "  </tbody>\n",
       "</table>\n",
       "</div>"
      ],
      "text/plain": [
       "         x3      x7          x19     x24  x31        x33         x39  \\\n",
       "0       Wed  0.0062  -908.650758  female   no   Colorado  5-10 miles   \n",
       "1    Friday  0.0064 -1864.962288    male   no  Tennessee  5-10 miles   \n",
       "2  Thursday -0.0008  -543.187403    male   no      Texas  5-10 miles   \n",
       "3   Tuesday -0.0057  -182.626381    male   no  Minnesota  5-10 miles   \n",
       "4    Sunday  0.0109   967.007091    male  yes   New York  5-10 miles   \n",
       "\n",
       "         x60       x65       x77  x93  x99  y  \n",
       "0     August   farmers  mercedes   no  yes  0  \n",
       "1      April  allstate  mercedes   no  yes  1  \n",
       "2  September     geico    subaru   no  yes  1  \n",
       "3  September     geico    nissan   no  yes  0  \n",
       "4    January     geico    toyota  yes  yes  0  "
      ]
     },
     "execution_count": 104,
     "metadata": {},
     "output_type": "execute_result"
    }
   ],
   "source": [
    "#### find catergorical features\n",
    "cat_cols = df.select_dtypes(include=['object']).columns\n",
    "cat_df = df.select_dtypes(include=['object'])\n",
    "cat_df['y'] = df['y']\n",
    "#### clean col x7 and x19\n",
    "cat_df['x7'] = cat_df['x7'].str.replace('%','')\n",
    "cat_df[\"x19\"] = cat_df['x19'].str.replace('$','')\n",
    "cat_df = cat_df.astype({'x7': 'float', 'x19': 'float'})\n",
    "\n",
    "cat_df.head()"
   ]
  },
  {
   "cell_type": "code",
   "execution_count": 99,
   "id": "b10793da",
   "metadata": {},
   "outputs": [
    {
     "data": {
      "text/plain": [
       "{'x24', 'x33', 'x77', 'x99'}"
      ]
     },
     "execution_count": 99,
     "metadata": {},
     "output_type": "execute_result"
    }
   ],
   "source": [
    "### cat columns with missing values\n",
    "set(cat_df.columns[cat_df.isnull().mean()!=0])"
   ]
  },
  {
   "cell_type": "code",
   "execution_count": 70,
   "id": "161b480e",
   "metadata": {},
   "outputs": [
    {
     "data": {
      "text/plain": [
       "x3     0.000000\n",
       "x7     0.000000\n",
       "x19    0.000000\n",
       "x24    0.096400\n",
       "x31    0.000000\n",
       "x33    0.179275\n",
       "x39    0.000000\n",
       "x60    0.000000\n",
       "x65    0.000000\n",
       "x77    0.231425\n",
       "x93    0.000000\n",
       "x99    0.320900\n",
       "dtype: float64"
      ]
     },
     "execution_count": 70,
     "metadata": {},
     "output_type": "execute_result"
    }
   ],
   "source": [
    "cat_df.isnull().mean()"
   ]
  },
  {
   "cell_type": "code",
   "execution_count": 106,
   "id": "10712bc6",
   "metadata": {},
   "outputs": [
    {
     "ename": "NameError",
     "evalue": "name 'lower' is not defined",
     "output_type": "error",
     "traceback": [
      "\u001b[1;31m---------------------------------------------------------------------------\u001b[0m",
      "\u001b[1;31mNameError\u001b[0m                                 Traceback (most recent call last)",
      "\u001b[1;32m<ipython-input-106-423e65bcc048>\u001b[0m in \u001b[0;36m<module>\u001b[1;34m\u001b[0m\n\u001b[1;32m----> 1\u001b[1;33m \u001b[0mcat_df\u001b[0m\u001b[1;33m[\u001b[0m\u001b[1;34m'x3'\u001b[0m\u001b[1;33m]\u001b[0m \u001b[1;33m=\u001b[0m \u001b[0mcat_df\u001b[0m\u001b[1;33m.\u001b[0m\u001b[0mapply\u001b[0m\u001b[1;33m(\u001b[0m\u001b[1;32mlambda\u001b[0m \u001b[0mx\u001b[0m\u001b[1;33m:\u001b[0m \u001b[0mclean_day_x3_col\u001b[0m\u001b[1;33m(\u001b[0m\u001b[0mx\u001b[0m\u001b[1;33m[\u001b[0m\u001b[1;34m'x3'\u001b[0m\u001b[1;33m]\u001b[0m\u001b[1;33m)\u001b[0m\u001b[1;33m,\u001b[0m \u001b[0maxis\u001b[0m \u001b[1;33m=\u001b[0m \u001b[1;36m1\u001b[0m\u001b[1;33m)\u001b[0m\u001b[1;33m\u001b[0m\u001b[1;33m\u001b[0m\u001b[0m\n\u001b[0m",
      "\u001b[1;32m~\\anaconda3\\envs\\kaggleEnv\\lib\\site-packages\\pandas\\core\\frame.py\u001b[0m in \u001b[0;36mapply\u001b[1;34m(self, func, axis, raw, result_type, args, **kwds)\u001b[0m\n\u001b[0;32m   7766\u001b[0m             \u001b[0mkwds\u001b[0m\u001b[1;33m=\u001b[0m\u001b[0mkwds\u001b[0m\u001b[1;33m,\u001b[0m\u001b[1;33m\u001b[0m\u001b[1;33m\u001b[0m\u001b[0m\n\u001b[0;32m   7767\u001b[0m         )\n\u001b[1;32m-> 7768\u001b[1;33m         \u001b[1;32mreturn\u001b[0m \u001b[0mop\u001b[0m\u001b[1;33m.\u001b[0m\u001b[0mget_result\u001b[0m\u001b[1;33m(\u001b[0m\u001b[1;33m)\u001b[0m\u001b[1;33m\u001b[0m\u001b[1;33m\u001b[0m\u001b[0m\n\u001b[0m\u001b[0;32m   7769\u001b[0m \u001b[1;33m\u001b[0m\u001b[0m\n\u001b[0;32m   7770\u001b[0m     \u001b[1;32mdef\u001b[0m \u001b[0mapplymap\u001b[0m\u001b[1;33m(\u001b[0m\u001b[0mself\u001b[0m\u001b[1;33m,\u001b[0m \u001b[0mfunc\u001b[0m\u001b[1;33m,\u001b[0m \u001b[0mna_action\u001b[0m\u001b[1;33m:\u001b[0m \u001b[0mOptional\u001b[0m\u001b[1;33m[\u001b[0m\u001b[0mstr\u001b[0m\u001b[1;33m]\u001b[0m \u001b[1;33m=\u001b[0m \u001b[1;32mNone\u001b[0m\u001b[1;33m)\u001b[0m \u001b[1;33m->\u001b[0m \u001b[0mDataFrame\u001b[0m\u001b[1;33m:\u001b[0m\u001b[1;33m\u001b[0m\u001b[1;33m\u001b[0m\u001b[0m\n",
      "\u001b[1;32m~\\anaconda3\\envs\\kaggleEnv\\lib\\site-packages\\pandas\\core\\apply.py\u001b[0m in \u001b[0;36mget_result\u001b[1;34m(self)\u001b[0m\n\u001b[0;32m    183\u001b[0m             \u001b[1;32mreturn\u001b[0m \u001b[0mself\u001b[0m\u001b[1;33m.\u001b[0m\u001b[0mapply_raw\u001b[0m\u001b[1;33m(\u001b[0m\u001b[1;33m)\u001b[0m\u001b[1;33m\u001b[0m\u001b[1;33m\u001b[0m\u001b[0m\n\u001b[0;32m    184\u001b[0m \u001b[1;33m\u001b[0m\u001b[0m\n\u001b[1;32m--> 185\u001b[1;33m         \u001b[1;32mreturn\u001b[0m \u001b[0mself\u001b[0m\u001b[1;33m.\u001b[0m\u001b[0mapply_standard\u001b[0m\u001b[1;33m(\u001b[0m\u001b[1;33m)\u001b[0m\u001b[1;33m\u001b[0m\u001b[1;33m\u001b[0m\u001b[0m\n\u001b[0m\u001b[0;32m    186\u001b[0m \u001b[1;33m\u001b[0m\u001b[0m\n\u001b[0;32m    187\u001b[0m     \u001b[1;32mdef\u001b[0m \u001b[0mapply_empty_result\u001b[0m\u001b[1;33m(\u001b[0m\u001b[0mself\u001b[0m\u001b[1;33m)\u001b[0m\u001b[1;33m:\u001b[0m\u001b[1;33m\u001b[0m\u001b[1;33m\u001b[0m\u001b[0m\n",
      "\u001b[1;32m~\\anaconda3\\envs\\kaggleEnv\\lib\\site-packages\\pandas\\core\\apply.py\u001b[0m in \u001b[0;36mapply_standard\u001b[1;34m(self)\u001b[0m\n\u001b[0;32m    274\u001b[0m \u001b[1;33m\u001b[0m\u001b[0m\n\u001b[0;32m    275\u001b[0m     \u001b[1;32mdef\u001b[0m \u001b[0mapply_standard\u001b[0m\u001b[1;33m(\u001b[0m\u001b[0mself\u001b[0m\u001b[1;33m)\u001b[0m\u001b[1;33m:\u001b[0m\u001b[1;33m\u001b[0m\u001b[1;33m\u001b[0m\u001b[0m\n\u001b[1;32m--> 276\u001b[1;33m         \u001b[0mresults\u001b[0m\u001b[1;33m,\u001b[0m \u001b[0mres_index\u001b[0m \u001b[1;33m=\u001b[0m \u001b[0mself\u001b[0m\u001b[1;33m.\u001b[0m\u001b[0mapply_series_generator\u001b[0m\u001b[1;33m(\u001b[0m\u001b[1;33m)\u001b[0m\u001b[1;33m\u001b[0m\u001b[1;33m\u001b[0m\u001b[0m\n\u001b[0m\u001b[0;32m    277\u001b[0m \u001b[1;33m\u001b[0m\u001b[0m\n\u001b[0;32m    278\u001b[0m         \u001b[1;31m# wrap results\u001b[0m\u001b[1;33m\u001b[0m\u001b[1;33m\u001b[0m\u001b[1;33m\u001b[0m\u001b[0m\n",
      "\u001b[1;32m~\\anaconda3\\envs\\kaggleEnv\\lib\\site-packages\\pandas\\core\\apply.py\u001b[0m in \u001b[0;36mapply_series_generator\u001b[1;34m(self)\u001b[0m\n\u001b[0;32m    288\u001b[0m             \u001b[1;32mfor\u001b[0m \u001b[0mi\u001b[0m\u001b[1;33m,\u001b[0m \u001b[0mv\u001b[0m \u001b[1;32min\u001b[0m \u001b[0menumerate\u001b[0m\u001b[1;33m(\u001b[0m\u001b[0mseries_gen\u001b[0m\u001b[1;33m)\u001b[0m\u001b[1;33m:\u001b[0m\u001b[1;33m\u001b[0m\u001b[1;33m\u001b[0m\u001b[0m\n\u001b[0;32m    289\u001b[0m                 \u001b[1;31m# ignore SettingWithCopy here in case the user mutates\u001b[0m\u001b[1;33m\u001b[0m\u001b[1;33m\u001b[0m\u001b[1;33m\u001b[0m\u001b[0m\n\u001b[1;32m--> 290\u001b[1;33m                 \u001b[0mresults\u001b[0m\u001b[1;33m[\u001b[0m\u001b[0mi\u001b[0m\u001b[1;33m]\u001b[0m \u001b[1;33m=\u001b[0m \u001b[0mself\u001b[0m\u001b[1;33m.\u001b[0m\u001b[0mf\u001b[0m\u001b[1;33m(\u001b[0m\u001b[0mv\u001b[0m\u001b[1;33m)\u001b[0m\u001b[1;33m\u001b[0m\u001b[1;33m\u001b[0m\u001b[0m\n\u001b[0m\u001b[0;32m    291\u001b[0m                 \u001b[1;32mif\u001b[0m \u001b[0misinstance\u001b[0m\u001b[1;33m(\u001b[0m\u001b[0mresults\u001b[0m\u001b[1;33m[\u001b[0m\u001b[0mi\u001b[0m\u001b[1;33m]\u001b[0m\u001b[1;33m,\u001b[0m \u001b[0mABCSeries\u001b[0m\u001b[1;33m)\u001b[0m\u001b[1;33m:\u001b[0m\u001b[1;33m\u001b[0m\u001b[1;33m\u001b[0m\u001b[0m\n\u001b[0;32m    292\u001b[0m                     \u001b[1;31m# If we have a view on v, we need to make a copy because\u001b[0m\u001b[1;33m\u001b[0m\u001b[1;33m\u001b[0m\u001b[1;33m\u001b[0m\u001b[0m\n",
      "\u001b[1;32m<ipython-input-106-423e65bcc048>\u001b[0m in \u001b[0;36m<lambda>\u001b[1;34m(x)\u001b[0m\n\u001b[1;32m----> 1\u001b[1;33m \u001b[0mcat_df\u001b[0m\u001b[1;33m[\u001b[0m\u001b[1;34m'x3'\u001b[0m\u001b[1;33m]\u001b[0m \u001b[1;33m=\u001b[0m \u001b[0mcat_df\u001b[0m\u001b[1;33m.\u001b[0m\u001b[0mapply\u001b[0m\u001b[1;33m(\u001b[0m\u001b[1;32mlambda\u001b[0m \u001b[0mx\u001b[0m\u001b[1;33m:\u001b[0m \u001b[0mclean_day_x3_col\u001b[0m\u001b[1;33m(\u001b[0m\u001b[0mx\u001b[0m\u001b[1;33m[\u001b[0m\u001b[1;34m'x3'\u001b[0m\u001b[1;33m]\u001b[0m\u001b[1;33m)\u001b[0m\u001b[1;33m,\u001b[0m \u001b[0maxis\u001b[0m \u001b[1;33m=\u001b[0m \u001b[1;36m1\u001b[0m\u001b[1;33m)\u001b[0m\u001b[1;33m\u001b[0m\u001b[1;33m\u001b[0m\u001b[0m\n\u001b[0m",
      "\u001b[1;32m<ipython-input-102-989864af1850>\u001b[0m in \u001b[0;36mclean_day_x3_col\u001b[1;34m(date)\u001b[0m\n\u001b[0;32m      1\u001b[0m \u001b[1;32mdef\u001b[0m \u001b[0mclean_day_x3_col\u001b[0m\u001b[1;33m(\u001b[0m\u001b[0mdate\u001b[0m\u001b[1;33m)\u001b[0m\u001b[1;33m:\u001b[0m\u001b[1;33m\u001b[0m\u001b[1;33m\u001b[0m\u001b[0m\n\u001b[0;32m      2\u001b[0m \u001b[1;33m\u001b[0m\u001b[0m\n\u001b[1;32m----> 3\u001b[1;33m     \u001b[1;32mif\u001b[0m \u001b[0mlower\u001b[0m\u001b[1;33m(\u001b[0m\u001b[0mdate\u001b[0m\u001b[1;33m)\u001b[0m \u001b[1;33m==\u001b[0m \u001b[1;34m'tue'\u001b[0m\u001b[1;33m:\u001b[0m\u001b[1;33m\u001b[0m\u001b[1;33m\u001b[0m\u001b[0m\n\u001b[0m\u001b[0;32m      4\u001b[0m         \u001b[1;32mreturn\u001b[0m \u001b[1;34m'Tuesday'\u001b[0m\u001b[1;33m\u001b[0m\u001b[1;33m\u001b[0m\u001b[0m\n\u001b[0;32m      5\u001b[0m     \u001b[1;32melif\u001b[0m \u001b[0mlower\u001b[0m\u001b[1;33m(\u001b[0m\u001b[0mdate\u001b[0m\u001b[1;33m)\u001b[0m \u001b[1;33m==\u001b[0m \u001b[1;34m'mon'\u001b[0m\u001b[1;33m:\u001b[0m\u001b[1;33m\u001b[0m\u001b[1;33m\u001b[0m\u001b[0m\n",
      "\u001b[1;31mNameError\u001b[0m: name 'lower' is not defined"
     ]
    }
   ],
   "source": [
    "cat_df['x3'] = cat_df.apply(lambda x: clean_day_x3_col(x['x3']), axis = 1)"
   ]
  },
  {
   "cell_type": "code",
   "execution_count": 100,
   "id": "ac5c22c8",
   "metadata": {},
   "outputs": [
    {
     "data": {
      "image/png": "[encoded data removed]",
      "text/plain": [
       "<Figure size 432x288 with 1 Axes>"
      ]
     },
     "metadata": {},
     "output_type": "display_data"
    }
   ],
   "source": [
    "sns.countplot(x='x3', data=cat_df);"
   ]
  },
  {
   "cell_type": "code",
   "execution_count": null,
   "id": "e94328c9",
   "metadata": {},
   "outputs": [],
   "source": [
    "def clean_day_x3_col(date):\n",
    "    date = date.lower()\n",
    "    hash_day = {'tue': 'Tuesday', 'mon': 'Monday', 'wed': 'Wednesday'\\\n",
    "                'thur': 'Thursday', 'fri': 'Friday', 'sat': 'Saturday',\\\n",
    "                'sun': 'Sunday'}\n",
    "    try:\n",
    "        return hash_day[date]\n",
    "    except:\n",
    "        raise('Error in clean_day_x3_col')"
   ]
  },
  {
   "cell_type": "code",
   "execution_count": 101,
   "id": "cca733bd",
   "metadata": {},
   "outputs": [
    {
     "data": {
      "text/plain": [
       "Wednesday    4930\n",
       "Monday       4144\n",
       "Friday       3975\n",
       "Tuesday      3915\n",
       "Sunday       3610\n",
       "Saturday     3596\n",
       "Tue          2948\n",
       "Thursday     2791\n",
       "Mon          2200\n",
       "Wed          2043\n",
       "Sat          1787\n",
       "Thur         1643\n",
       "Fri          1620\n",
       "Sun           798\n",
       "Name: x3, dtype: int64"
      ]
     },
     "execution_count": 101,
     "metadata": {},
     "output_type": "execute_result"
    }
   ],
   "source": [
    "cat_df['x3'].value_counts()"
   ]
  },
  {
   "cell_type": "code",
   "execution_count": 61,
   "id": "d0aed93a",
   "metadata": {},
   "outputs": [
    {
     "name": "stderr",
     "output_type": "stream",
     "text": [
      "C:\\Users\\NghiTram\\anaconda3\\envs\\kaggleEnv\\lib\\site-packages\\seaborn\\categorical.py:3714: UserWarning: The `factorplot` function has been renamed to `catplot`. The original name will be removed in a future release. Please update your code. Note that the default `kind` in `factorplot` (`'point'`) has changed `'strip'` in `catplot`.\n",
      "  warnings.warn(msg)\n"
     ]
    },
    {
     "data": {
      "image/png": "[encoded data removed]",
      "text/plain": [
       "<Figure size 720x360 with 2 Axes>"
      ]
     },
     "metadata": {},
     "output_type": "display_data"
    }
   ],
   "source": [
    "sns.factorplot(x='x98', col='y', kind='count', data=df);"
   ]
  },
  {
   "cell_type": "code",
   "execution_count": null,
   "id": "514520f9",
   "metadata": {},
   "outputs": [],
   "source": []
  }
 ],
 "metadata": {
  "kernelspec": {
   "display_name": "Python 3",
   "language": "python",
   "name": "python3"
  },
  "language_info": {
   "codemirror_mode": {
    "name": "ipython",
    "version": 3
   },
   "file_extension": ".py",
   "mimetype": "text/x-python",
   "name": "python",
   "nbconvert_exporter": "python",
   "pygments_lexer": "ipython3",
   "version": "3.7.9"
  }
 },
 "nbformat": 4,
 "nbformat_minor": 5
}

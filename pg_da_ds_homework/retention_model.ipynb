{
 "cells": [
  {
   "cell_type": "code",
   "execution_count": 1,
   "id": "ea18cf96",
   "metadata": {},
   "outputs": [],
   "source": [
    "import pandas as pd\n",
    "\n",
    "### import extra package\n",
    "import matplotlib.pyplot as plt\n",
    "import seaborn as sns\n",
    "import numpy as np\n",
    "\n",
    "#### modelling package\n",
    "from statsmodels.graphics.mosaicplot import mosaic\n",
    "import statsmodels\n",
    "from statsmodels.formula.api import logit\n",
    "from sklearn.linear_model import LogisticRegression\n",
    "from sklearn.model_selection import train_test_split\n",
    "\n",
    "\n",
    "#### importing evaluation package \n",
    "from sklearn.metrics import f1_score, confusion_matrix, roc_auc_score, auc,\\\n",
    "precision_recall_curve, roc_curve, average_precision_score\n",
    "from sklearn import metrics"
   ]
  },
  {
   "cell_type": "markdown",
   "id": "cd1eab0c",
   "metadata": {},
   "source": [
    "### Helper functions"
   ]
  },
  {
   "cell_type": "code",
   "execution_count": 2,
   "id": "b513a41d",
   "metadata": {},
   "outputs": [],
   "source": [
    "def evaluation(y_true, y_pred, title = \"\"):\n",
    "    \"\"\"\n",
    "    This function is used to compute the confusion matrix \n",
    "    and other evaluation metrics.\n",
    "    \"\"\"\n",
    "    cm = confusion_matrix(y_true, y_pred)\n",
    "    print('Confusion Matrix for {}: \\n'.format(title), cm)\n",
    "    total = sum(sum(cm))\n",
    "    \n",
    "    print('=============')\n",
    "    accuracy = (cm[0,0] + cm[1,1]) /total\n",
    "    print ('Accuracy    : {}'.format(accuracy))\n",
    "    Specificity = cm[0,0] / (cm[0,0] + cm[0,1])\n",
    "    print('Specificity :  {}'.format(Specificity))\n",
    "    sensitivity = cm[1,1] / (cm[1,0] + cm[1,1])\n",
    "    print('Sensitivity :  {}'.format(sensitivity))\n",
    "    \n",
    "    \n",
    "def plot_swarm(x, y, df):\n",
    "    sns.set()\n",
    "    sns.swarmplot(x=x, y = y, data = df)\n",
    "    plt.xlabel(x)\n",
    "    plt.ylabel(y)\n",
    "    plt.show()\n",
    "    \n",
    "def ecdf(data):\n",
    "    n = len(data)\n",
    "    x = np.sort(data)\n",
    "    y = np.arange(1, n+1) / n\n",
    "    return x, y"
   ]
  },
  {
   "cell_type": "markdown",
   "id": "701056da",
   "metadata": {},
   "source": [
    "### Global parameter "
   ]
  },
  {
   "cell_type": "code",
   "execution_count": 3,
   "id": "4cf70d0f",
   "metadata": {},
   "outputs": [],
   "source": [
    "look_back_days = 7"
   ]
  },
  {
   "cell_type": "markdown",
   "id": "fedc299d",
   "metadata": {},
   "source": [
    "## 1. Data Preparation "
   ]
  },
  {
   "cell_type": "code",
   "execution_count": 4,
   "id": "99319e14",
   "metadata": {},
   "outputs": [],
   "source": [
    "### load data \n",
    "user_df = pd.read_csv(\"users.csv\")\n",
    "sessions_df = pd.read_csv(\"sessions.csv\").drop_duplicates()\n",
    "iaps_df = pd.read_csv(\"iaps.csv\").drop_duplicates()\n",
    "spending_df = pd.read_csv(\"spendevents.csv\").drop_duplicates()\n",
    "\n",
    "### change to datetime format\n",
    "spending_df[\"date\"] = pd.to_datetime(spending_df[\"date\"])\n",
    "sessions_df[\"date\"] = pd.to_datetime(sessions_df[\"date\"])\n",
    "user_df[\"install_date\"] = pd.to_datetime(user_df[\"install_date\"])\n",
    "iaps_df[\"date\"] = pd.to_datetime(iaps_df[\"date\"])"
   ]
  },
  {
   "cell_type": "code",
   "execution_count": 5,
   "id": "6e279ab5",
   "metadata": {},
   "outputs": [],
   "source": [
    "sessions_df = pd.merge(sessions_df, user_df[[\"user_id\", \"install_date\"]], on = \"user_id\")\n",
    "spending_df = pd.merge(spending_df, user_df[[\"user_id\", \"install_date\"]], on = \"user_id\")"
   ]
  },
  {
   "cell_type": "code",
   "execution_count": 6,
   "id": "fbc24faa",
   "metadata": {},
   "outputs": [
    {
     "data": {
      "text/html": [
       "<div>\n",
       "<style scoped>\n",
       "    .dataframe tbody tr th:only-of-type {\n",
       "        vertical-align: middle;\n",
       "    }\n",
       "\n",
       "    .dataframe tbody tr th {\n",
       "        vertical-align: top;\n",
       "    }\n",
       "\n",
       "    .dataframe thead th {\n",
       "        text-align: right;\n",
       "    }\n",
       "</style>\n",
       "<table border=\"1\" class=\"dataframe\">\n",
       "  <thead>\n",
       "    <tr style=\"text-align: right;\">\n",
       "      <th></th>\n",
       "      <th>user_id</th>\n",
       "      <th>ts</th>\n",
       "      <th>date</th>\n",
       "      <th>story</th>\n",
       "      <th>chapter</th>\n",
       "      <th>spendtype</th>\n",
       "      <th>currency</th>\n",
       "      <th>amount</th>\n",
       "      <th>install_date</th>\n",
       "    </tr>\n",
       "  </thead>\n",
       "  <tbody>\n",
       "    <tr>\n",
       "      <th>0</th>\n",
       "      <td>9829</td>\n",
       "      <td>2019-03-01 03:03:04</td>\n",
       "      <td>2019-03-01</td>\n",
       "      <td>story_1</td>\n",
       "      <td>0</td>\n",
       "      <td>earnGemsCounter</td>\n",
       "      <td>gems</td>\n",
       "      <td>-22</td>\n",
       "      <td>2019-03-01</td>\n",
       "    </tr>\n",
       "    <tr>\n",
       "      <th>1</th>\n",
       "      <td>13757</td>\n",
       "      <td>2019-03-01 03:35:53</td>\n",
       "      <td>2019-03-01</td>\n",
       "      <td>story_1</td>\n",
       "      <td>0</td>\n",
       "      <td>earnGemsCounter</td>\n",
       "      <td>gems</td>\n",
       "      <td>-22</td>\n",
       "      <td>2019-03-01</td>\n",
       "    </tr>\n",
       "    <tr>\n",
       "      <th>2</th>\n",
       "      <td>13757</td>\n",
       "      <td>2019-03-01 03:52:10</td>\n",
       "      <td>2019-03-01</td>\n",
       "      <td>story_2</td>\n",
       "      <td>0</td>\n",
       "      <td>earnGemsCounter</td>\n",
       "      <td>gems</td>\n",
       "      <td>-22</td>\n",
       "      <td>2019-03-01</td>\n",
       "    </tr>\n",
       "    <tr>\n",
       "      <th>3</th>\n",
       "      <td>13757</td>\n",
       "      <td>2019-04-16 04:29:18</td>\n",
       "      <td>2019-04-16</td>\n",
       "      <td>story_1</td>\n",
       "      <td>9</td>\n",
       "      <td>premiumChoice</td>\n",
       "      <td>gems</td>\n",
       "      <td>24</td>\n",
       "      <td>2019-03-01</td>\n",
       "    </tr>\n",
       "    <tr>\n",
       "      <th>4</th>\n",
       "      <td>13757</td>\n",
       "      <td>2019-04-17 04:41:31</td>\n",
       "      <td>2019-04-17</td>\n",
       "      <td>story_2</td>\n",
       "      <td>2</td>\n",
       "      <td>earnGemsCounter</td>\n",
       "      <td>gems</td>\n",
       "      <td>-10</td>\n",
       "      <td>2019-03-01</td>\n",
       "    </tr>\n",
       "  </tbody>\n",
       "</table>\n",
       "</div>"
      ],
      "text/plain": [
       "   user_id                   ts       date    story  chapter        spendtype  \\\n",
       "0     9829  2019-03-01 03:03:04 2019-03-01  story_1        0  earnGemsCounter   \n",
       "1    13757  2019-03-01 03:35:53 2019-03-01  story_1        0  earnGemsCounter   \n",
       "2    13757  2019-03-01 03:52:10 2019-03-01  story_2        0  earnGemsCounter   \n",
       "3    13757  2019-04-16 04:29:18 2019-04-16  story_1        9    premiumChoice   \n",
       "4    13757  2019-04-17 04:41:31 2019-04-17  story_2        2  earnGemsCounter   \n",
       "\n",
       "  currency  amount install_date  \n",
       "0     gems     -22   2019-03-01  \n",
       "1     gems     -22   2019-03-01  \n",
       "2     gems     -22   2019-03-01  \n",
       "3     gems      24   2019-03-01  \n",
       "4     gems     -10   2019-03-01  "
      ]
     },
     "execution_count": 6,
     "metadata": {},
     "output_type": "execute_result"
    }
   ],
   "source": [
    "spending_df.head()"
   ]
  },
  {
   "cell_type": "code",
   "execution_count": 7,
   "id": "eccdd373",
   "metadata": {},
   "outputs": [],
   "source": [
    "def add_num_active_days_column(df):\n",
    "    df[\"days_from_installed\"] = df[\"date\"] - df[\"install_date\"]\n",
    "    df[\"days_from_installed\"] = df[\"days_from_installed\"].dt.days\n",
    "    idx = df.groupby(\"user_id\")[\"days_from_installed\"].transform(max)\\\n",
    "        == df[\"days_from_installed\"]\n",
    "    num_days_active_sessions = df[idx][[\"user_id\", \"days_from_installed\"]]\\\n",
    "                                .drop_duplicates().rename(columns={\"days_from_installed\": \"active_days_sessions\"})\n",
    "    df = pd.merge(df, num_days_active_sessions, on = \"user_id\")\n",
    "    return df\n",
    "sessions_df = add_num_active_days_column(sessions_df)\n",
    "spending_df = add_num_active_days_column(spending_df)"
   ]
  },
  {
   "cell_type": "code",
   "execution_count": 8,
   "id": "16ecb7b4",
   "metadata": {},
   "outputs": [],
   "source": [
    "def add_last_active_date_column(sessions, spending):\n",
    "    idx = sessions.groupby(\"user_id\")[\"ts\"].transform(max) == sessions[\"ts\"]\n",
    "    last_day_session = sessions[idx][[\"user_id\", \"ts\"]].rename(columns={\"ts\": \"last_active_date\"})\n",
    "    sessions = pd.merge(sessions, last_day_session, on = \"user_id\")\n",
    "    spending = pd.merge(spending, last_day_session, on = \"user_id\")\n",
    "    \n",
    "    return sessions, spending\n",
    "sessions_df, spending_df = add_last_active_date_column(sessions_df, spending_df)"
   ]
  },
  {
   "cell_type": "code",
   "execution_count": 9,
   "id": "6adbda9f",
   "metadata": {},
   "outputs": [
    {
     "data": {
      "text/html": [
       "<div>\n",
       "<style scoped>\n",
       "    .dataframe tbody tr th:only-of-type {\n",
       "        vertical-align: middle;\n",
       "    }\n",
       "\n",
       "    .dataframe tbody tr th {\n",
       "        vertical-align: top;\n",
       "    }\n",
       "\n",
       "    .dataframe thead th {\n",
       "        text-align: right;\n",
       "    }\n",
       "</style>\n",
       "<table border=\"1\" class=\"dataframe\">\n",
       "  <thead>\n",
       "    <tr style=\"text-align: right;\">\n",
       "      <th></th>\n",
       "      <th>user_id</th>\n",
       "      <th>ts</th>\n",
       "      <th>date</th>\n",
       "      <th>session_num</th>\n",
       "      <th>last_session_termination_type</th>\n",
       "      <th>install_date</th>\n",
       "      <th>days_from_installed</th>\n",
       "      <th>active_days_sessions</th>\n",
       "      <th>last_active_date</th>\n",
       "    </tr>\n",
       "  </thead>\n",
       "  <tbody>\n",
       "    <tr>\n",
       "      <th>0</th>\n",
       "      <td>14067</td>\n",
       "      <td>2019-03-01 00:06:50</td>\n",
       "      <td>2019-03-01</td>\n",
       "      <td>1</td>\n",
       "      <td>NaN</td>\n",
       "      <td>2019-03-01</td>\n",
       "      <td>0</td>\n",
       "      <td>22</td>\n",
       "      <td>2019-03-23 22:57:59</td>\n",
       "    </tr>\n",
       "    <tr>\n",
       "      <th>1</th>\n",
       "      <td>14067</td>\n",
       "      <td>2019-03-01 00:22:27</td>\n",
       "      <td>2019-03-01</td>\n",
       "      <td>2</td>\n",
       "      <td>NaN</td>\n",
       "      <td>2019-03-01</td>\n",
       "      <td>0</td>\n",
       "      <td>22</td>\n",
       "      <td>2019-03-23 22:57:59</td>\n",
       "    </tr>\n",
       "    <tr>\n",
       "      <th>2</th>\n",
       "      <td>14067</td>\n",
       "      <td>2019-03-01 09:42:32</td>\n",
       "      <td>2019-03-01</td>\n",
       "      <td>3</td>\n",
       "      <td>NaN</td>\n",
       "      <td>2019-03-01</td>\n",
       "      <td>0</td>\n",
       "      <td>22</td>\n",
       "      <td>2019-03-23 22:57:59</td>\n",
       "    </tr>\n",
       "    <tr>\n",
       "      <th>3</th>\n",
       "      <td>14067</td>\n",
       "      <td>2019-03-01 09:43:33</td>\n",
       "      <td>2019-03-01</td>\n",
       "      <td>4</td>\n",
       "      <td>NaN</td>\n",
       "      <td>2019-03-01</td>\n",
       "      <td>0</td>\n",
       "      <td>22</td>\n",
       "      <td>2019-03-23 22:57:59</td>\n",
       "    </tr>\n",
       "    <tr>\n",
       "      <th>4</th>\n",
       "      <td>14067</td>\n",
       "      <td>2019-03-01 09:55:33</td>\n",
       "      <td>2019-03-01</td>\n",
       "      <td>5</td>\n",
       "      <td>NaN</td>\n",
       "      <td>2019-03-01</td>\n",
       "      <td>0</td>\n",
       "      <td>22</td>\n",
       "      <td>2019-03-23 22:57:59</td>\n",
       "    </tr>\n",
       "  </tbody>\n",
       "</table>\n",
       "</div>"
      ],
      "text/plain": [
       "   user_id                   ts       date  session_num  \\\n",
       "0    14067  2019-03-01 00:06:50 2019-03-01            1   \n",
       "1    14067  2019-03-01 00:22:27 2019-03-01            2   \n",
       "2    14067  2019-03-01 09:42:32 2019-03-01            3   \n",
       "3    14067  2019-03-01 09:43:33 2019-03-01            4   \n",
       "4    14067  2019-03-01 09:55:33 2019-03-01            5   \n",
       "\n",
       "   last_session_termination_type install_date  days_from_installed  \\\n",
       "0                            NaN   2019-03-01                    0   \n",
       "1                            NaN   2019-03-01                    0   \n",
       "2                            NaN   2019-03-01                    0   \n",
       "3                            NaN   2019-03-01                    0   \n",
       "4                            NaN   2019-03-01                    0   \n",
       "\n",
       "   active_days_sessions     last_active_date  \n",
       "0                    22  2019-03-23 22:57:59  \n",
       "1                    22  2019-03-23 22:57:59  \n",
       "2                    22  2019-03-23 22:57:59  \n",
       "3                    22  2019-03-23 22:57:59  \n",
       "4                    22  2019-03-23 22:57:59  "
      ]
     },
     "execution_count": 9,
     "metadata": {},
     "output_type": "execute_result"
    }
   ],
   "source": [
    "sessions_df.head()"
   ]
  },
  {
   "cell_type": "markdown",
   "id": "abc9b1dc",
   "metadata": {},
   "source": [
    "### extract paying users and their info"
   ]
  },
  {
   "cell_type": "code",
   "execution_count": 10,
   "id": "ac003605",
   "metadata": {},
   "outputs": [
    {
     "data": {
      "text/html": [
       "<div>\n",
       "<style scoped>\n",
       "    .dataframe tbody tr th:only-of-type {\n",
       "        vertical-align: middle;\n",
       "    }\n",
       "\n",
       "    .dataframe tbody tr th {\n",
       "        vertical-align: top;\n",
       "    }\n",
       "\n",
       "    .dataframe thead th {\n",
       "        text-align: right;\n",
       "    }\n",
       "</style>\n",
       "<table border=\"1\" class=\"dataframe\">\n",
       "  <thead>\n",
       "    <tr style=\"text-align: right;\">\n",
       "      <th></th>\n",
       "      <th>user_id</th>\n",
       "      <th>iap_date</th>\n",
       "      <th>days_to_first_purchase</th>\n",
       "      <th>install_date</th>\n",
       "    </tr>\n",
       "  </thead>\n",
       "  <tbody>\n",
       "    <tr>\n",
       "      <th>0</th>\n",
       "      <td>2</td>\n",
       "      <td>2019-03-07 11:50:37</td>\n",
       "      <td>1</td>\n",
       "      <td>2019-03-06</td>\n",
       "    </tr>\n",
       "    <tr>\n",
       "      <th>1</th>\n",
       "      <td>21</td>\n",
       "      <td>2019-03-09 10:18:32</td>\n",
       "      <td>2</td>\n",
       "      <td>2019-03-07</td>\n",
       "    </tr>\n",
       "    <tr>\n",
       "      <th>4</th>\n",
       "      <td>36</td>\n",
       "      <td>2019-03-02 23:34:17</td>\n",
       "      <td>0</td>\n",
       "      <td>2019-03-02</td>\n",
       "    </tr>\n",
       "    <tr>\n",
       "      <th>10</th>\n",
       "      <td>51</td>\n",
       "      <td>2019-03-02 21:19:39</td>\n",
       "      <td>0</td>\n",
       "      <td>2019-03-02</td>\n",
       "    </tr>\n",
       "    <tr>\n",
       "      <th>20</th>\n",
       "      <td>85</td>\n",
       "      <td>2019-04-17 18:26:44</td>\n",
       "      <td>41</td>\n",
       "      <td>2019-03-07</td>\n",
       "    </tr>\n",
       "  </tbody>\n",
       "</table>\n",
       "</div>"
      ],
      "text/plain": [
       "    user_id             iap_date  days_to_first_purchase install_date\n",
       "0         2  2019-03-07 11:50:37                       1   2019-03-06\n",
       "1        21  2019-03-09 10:18:32                       2   2019-03-07\n",
       "4        36  2019-03-02 23:34:17                       0   2019-03-02\n",
       "10       51  2019-03-02 21:19:39                       0   2019-03-02\n",
       "20       85  2019-04-17 18:26:44                      41   2019-03-07"
      ]
     },
     "execution_count": 10,
     "metadata": {},
     "output_type": "execute_result"
    }
   ],
   "source": [
    "users_iaps = pd.merge(user_df, iaps_df, on = \"user_id\")\n",
    "users_iaps[\"days_to_first_purchase\"] = users_iaps[\"date\"] - users_iaps[\"install_date\"]\n",
    "users_iaps[\"days_to_first_purchase\"] = users_iaps[\"days_to_first_purchase\"].dt.days\n",
    "users_iaps[\"rank\"] = users_iaps.groupby([\"user_id\"])[\"days_to_first_purchase\"].rank(method=\"first\", ascending=True)\n",
    "users_iaps[\"rank\"] = users_iaps[\"rank\"].astype(int)\n",
    "paying_users_df = users_iaps[users_iaps[\"rank\"]==1]\n",
    "first_iap_day_df = paying_users_df[[\"user_id\", \"ts\", \"days_to_first_purchase\",\\\n",
    "                                    \"install_date\"]].rename(columns={\"ts\": \"iap_date\"}) #### 1526 paying users\n",
    "first_iap_day_df.head()"
   ]
  },
  {
   "cell_type": "code",
   "execution_count": 11,
   "id": "07b493ef",
   "metadata": {},
   "outputs": [],
   "source": [
    "earnGemsCounter_df = spending_df[spending_df.spendtype=='earnGemsCounter']\n",
    "premiumChoice_df = spending_df[spending_df.spendtype=='premiumChoice']\n",
    "IAP_df = spending_df[spending_df.spendtype=='IAP']"
   ]
  },
  {
   "cell_type": "markdown",
   "id": "0936c09d",
   "metadata": {},
   "source": [
    "### extract non-paying users \n",
    "- Remove non-active players (those are not active within 7 days)\n",
    "- All users who haven’t converted after 45 days and still active will be labeled as 0.\n",
    "- In the label 0 group of 2463 non-paying users, 186 of them don't have record in spendevents. We will exclude them "
   ]
  },
  {
   "cell_type": "code",
   "execution_count": 12,
   "id": "2185986c",
   "metadata": {},
   "outputs": [
    {
     "data": {
      "text/html": [
       "<div>\n",
       "<style scoped>\n",
       "    .dataframe tbody tr th:only-of-type {\n",
       "        vertical-align: middle;\n",
       "    }\n",
       "\n",
       "    .dataframe tbody tr th {\n",
       "        vertical-align: top;\n",
       "    }\n",
       "\n",
       "    .dataframe thead th {\n",
       "        text-align: right;\n",
       "    }\n",
       "</style>\n",
       "<table border=\"1\" class=\"dataframe\">\n",
       "  <thead>\n",
       "    <tr style=\"text-align: right;\">\n",
       "      <th></th>\n",
       "      <th>user_id</th>\n",
       "      <th>install_date</th>\n",
       "      <th>lang</th>\n",
       "      <th>country</th>\n",
       "      <th>hw_ver</th>\n",
       "      <th>os_ver</th>\n",
       "    </tr>\n",
       "  </thead>\n",
       "  <tbody>\n",
       "    <tr>\n",
       "      <th>0</th>\n",
       "      <td>0</td>\n",
       "      <td>2019-03-01</td>\n",
       "      <td>en</td>\n",
       "      <td>US</td>\n",
       "      <td>iPhone4,1</td>\n",
       "      <td>9.1</td>\n",
       "    </tr>\n",
       "    <tr>\n",
       "      <th>1</th>\n",
       "      <td>1</td>\n",
       "      <td>2019-03-01</td>\n",
       "      <td>en</td>\n",
       "      <td>IN</td>\n",
       "      <td>iPod5,1</td>\n",
       "      <td>8.1.2</td>\n",
       "    </tr>\n",
       "  </tbody>\n",
       "</table>\n",
       "</div>"
      ],
      "text/plain": [
       "   user_id install_date lang country     hw_ver os_ver\n",
       "0        0   2019-03-01   en      US  iPhone4,1    9.1\n",
       "1        1   2019-03-01   en      IN    iPod5,1  8.1.2"
      ]
     },
     "execution_count": 12,
     "metadata": {},
     "output_type": "execute_result"
    }
   ],
   "source": [
    "non_payer_df = user_df[~user_df.user_id.isin(iaps_df[\"user_id\"].unique())]\n",
    "non_payer_df.head(2)"
   ]
  },
  {
   "cell_type": "code",
   "execution_count": 13,
   "id": "185ef464",
   "metadata": {},
   "outputs": [
    {
     "data": {
      "text/html": [
       "<div>\n",
       "<style scoped>\n",
       "    .dataframe tbody tr th:only-of-type {\n",
       "        vertical-align: middle;\n",
       "    }\n",
       "\n",
       "    .dataframe tbody tr th {\n",
       "        vertical-align: top;\n",
       "    }\n",
       "\n",
       "    .dataframe thead th {\n",
       "        text-align: right;\n",
       "    }\n",
       "</style>\n",
       "<table border=\"1\" class=\"dataframe\">\n",
       "  <thead>\n",
       "    <tr style=\"text-align: right;\">\n",
       "      <th></th>\n",
       "      <th>user_id</th>\n",
       "      <th>ts</th>\n",
       "      <th>date</th>\n",
       "      <th>session_num</th>\n",
       "      <th>last_session_termination_type</th>\n",
       "      <th>install_date</th>\n",
       "      <th>days_from_installed</th>\n",
       "      <th>active_days_sessions</th>\n",
       "      <th>last_active_date</th>\n",
       "    </tr>\n",
       "  </thead>\n",
       "  <tbody>\n",
       "    <tr>\n",
       "      <th>0</th>\n",
       "      <td>0</td>\n",
       "      <td>2019-03-01 12:39:19</td>\n",
       "      <td>2019-03-01</td>\n",
       "      <td>1</td>\n",
       "      <td>NaN</td>\n",
       "      <td>2019-03-01</td>\n",
       "      <td>0</td>\n",
       "      <td>4</td>\n",
       "      <td>2019-03-05 05:39:29</td>\n",
       "    </tr>\n",
       "    <tr>\n",
       "      <th>1</th>\n",
       "      <td>0</td>\n",
       "      <td>2019-03-01 12:45:47</td>\n",
       "      <td>2019-03-01</td>\n",
       "      <td>2</td>\n",
       "      <td>NaN</td>\n",
       "      <td>2019-03-01</td>\n",
       "      <td>0</td>\n",
       "      <td>4</td>\n",
       "      <td>2019-03-05 05:39:29</td>\n",
       "    </tr>\n",
       "  </tbody>\n",
       "</table>\n",
       "</div>"
      ],
      "text/plain": [
       "   user_id                   ts       date  session_num  \\\n",
       "0        0  2019-03-01 12:39:19 2019-03-01            1   \n",
       "1        0  2019-03-01 12:45:47 2019-03-01            2   \n",
       "\n",
       "   last_session_termination_type install_date  days_from_installed  \\\n",
       "0                            NaN   2019-03-01                    0   \n",
       "1                            NaN   2019-03-01                    0   \n",
       "\n",
       "   active_days_sessions     last_active_date  \n",
       "0                     4  2019-03-05 05:39:29  \n",
       "1                     4  2019-03-05 05:39:29  "
      ]
     },
     "execution_count": 13,
     "metadata": {},
     "output_type": "execute_result"
    }
   ],
   "source": [
    "non_payer_df = user_df[~user_df.user_id.isin(iaps_df[\"user_id\"].unique())][[\"user_id\"]] ## total of 21050 non-paying users\n",
    "session_non_payer_df = pd.merge(non_payer_df[[\"user_id\"]], sessions_df, on = \"user_id\")\n",
    "session_non_payer_df.head(2) #### 21018 unique users"
   ]
  },
  {
   "cell_type": "code",
   "execution_count": 14,
   "id": "ed67798d",
   "metadata": {},
   "outputs": [
    {
     "data": {
      "text/html": [
       "<div>\n",
       "<style scoped>\n",
       "    .dataframe tbody tr th:only-of-type {\n",
       "        vertical-align: middle;\n",
       "    }\n",
       "\n",
       "    .dataframe tbody tr th {\n",
       "        vertical-align: top;\n",
       "    }\n",
       "\n",
       "    .dataframe thead th {\n",
       "        text-align: right;\n",
       "    }\n",
       "</style>\n",
       "<table border=\"1\" class=\"dataframe\">\n",
       "  <thead>\n",
       "    <tr style=\"text-align: right;\">\n",
       "      <th></th>\n",
       "      <th>user_id</th>\n",
       "      <th>ts</th>\n",
       "      <th>date</th>\n",
       "      <th>session_num</th>\n",
       "      <th>last_session_termination_type</th>\n",
       "      <th>install_date</th>\n",
       "      <th>days_from_installed</th>\n",
       "      <th>active_days_sessions</th>\n",
       "      <th>last_active_date</th>\n",
       "      <th>most_recent_date</th>\n",
       "      <th>days_to_most_recent</th>\n",
       "    </tr>\n",
       "  </thead>\n",
       "  <tbody>\n",
       "    <tr>\n",
       "      <th>0</th>\n",
       "      <td>0</td>\n",
       "      <td>2019-03-01 12:39:19</td>\n",
       "      <td>2019-03-01</td>\n",
       "      <td>1</td>\n",
       "      <td>NaN</td>\n",
       "      <td>2019-03-01</td>\n",
       "      <td>0</td>\n",
       "      <td>4</td>\n",
       "      <td>2019-03-05 05:39:29</td>\n",
       "      <td>2019-05-06</td>\n",
       "      <td>66</td>\n",
       "    </tr>\n",
       "    <tr>\n",
       "      <th>1</th>\n",
       "      <td>0</td>\n",
       "      <td>2019-03-01 12:45:47</td>\n",
       "      <td>2019-03-01</td>\n",
       "      <td>2</td>\n",
       "      <td>NaN</td>\n",
       "      <td>2019-03-01</td>\n",
       "      <td>0</td>\n",
       "      <td>4</td>\n",
       "      <td>2019-03-05 05:39:29</td>\n",
       "      <td>2019-05-06</td>\n",
       "      <td>66</td>\n",
       "    </tr>\n",
       "  </tbody>\n",
       "</table>\n",
       "</div>"
      ],
      "text/plain": [
       "   user_id                   ts       date  session_num  \\\n",
       "0        0  2019-03-01 12:39:19 2019-03-01            1   \n",
       "1        0  2019-03-01 12:45:47 2019-03-01            2   \n",
       "\n",
       "   last_session_termination_type install_date  days_from_installed  \\\n",
       "0                            NaN   2019-03-01                    0   \n",
       "1                            NaN   2019-03-01                    0   \n",
       "\n",
       "   active_days_sessions     last_active_date most_recent_date  \\\n",
       "0                     4  2019-03-05 05:39:29       2019-05-06   \n",
       "1                     4  2019-03-05 05:39:29       2019-05-06   \n",
       "\n",
       "   days_to_most_recent  \n",
       "0                   66  \n",
       "1                   66  "
      ]
     },
     "execution_count": 14,
     "metadata": {},
     "output_type": "execute_result"
    }
   ],
   "source": [
    "session_non_payer_df[\"most_recent_date\"] = pd.to_datetime('2019-05-06')\n",
    "session_non_payer_df[\"days_to_most_recent\"] = session_non_payer_df[\"most_recent_date\"] - session_non_payer_df[\"date\"]\n",
    "session_non_payer_df[\"days_to_most_recent\"] = session_non_payer_df[\"days_to_most_recent\"].dt.days\n",
    "session_non_payer_df.head(2)"
   ]
  },
  {
   "cell_type": "markdown",
   "id": "aeb6e275",
   "metadata": {},
   "source": [
    "## 2. Extract Potential Users for promotion"
   ]
  },
  {
   "cell_type": "code",
   "execution_count": 15,
   "id": "b59bd771",
   "metadata": {},
   "outputs": [
    {
     "data": {
      "text/html": [
       "<div>\n",
       "<style scoped>\n",
       "    .dataframe tbody tr th:only-of-type {\n",
       "        vertical-align: middle;\n",
       "    }\n",
       "\n",
       "    .dataframe tbody tr th {\n",
       "        vertical-align: top;\n",
       "    }\n",
       "\n",
       "    .dataframe thead th {\n",
       "        text-align: right;\n",
       "    }\n",
       "</style>\n",
       "<table border=\"1\" class=\"dataframe\">\n",
       "  <thead>\n",
       "    <tr style=\"text-align: right;\">\n",
       "      <th></th>\n",
       "      <th>user_id</th>\n",
       "      <th>install_date</th>\n",
       "    </tr>\n",
       "  </thead>\n",
       "  <tbody>\n",
       "    <tr>\n",
       "      <th>285</th>\n",
       "      <td>10</td>\n",
       "      <td>2019-03-05</td>\n",
       "    </tr>\n",
       "    <tr>\n",
       "      <th>337</th>\n",
       "      <td>11</td>\n",
       "      <td>2019-03-04</td>\n",
       "    </tr>\n",
       "  </tbody>\n",
       "</table>\n",
       "</div>"
      ],
      "text/plain": [
       "     user_id install_date\n",
       "285       10   2019-03-05\n",
       "337       11   2019-03-04"
      ]
     },
     "execution_count": 15,
     "metadata": {},
     "output_type": "execute_result"
    }
   ],
   "source": [
    "NPU_active_users = session_non_payer_df[session_non_payer_df[\"days_to_most_recent\"] <= 10]\n",
    "NPU_active_users = NPU_active_users[[\"user_id\", \"install_date\"]].drop_duplicates()\n",
    "NPU_active_users.head(2) ### 1733 users"
   ]
  },
  {
   "cell_type": "code",
   "execution_count": 16,
   "id": "afbcb86b",
   "metadata": {},
   "outputs": [
    {
     "data": {
      "text/html": [
       "<div>\n",
       "<style scoped>\n",
       "    .dataframe tbody tr th:only-of-type {\n",
       "        vertical-align: middle;\n",
       "    }\n",
       "\n",
       "    .dataframe tbody tr th {\n",
       "        vertical-align: top;\n",
       "    }\n",
       "\n",
       "    .dataframe thead th {\n",
       "        text-align: right;\n",
       "    }\n",
       "</style>\n",
       "<table border=\"1\" class=\"dataframe\">\n",
       "  <thead>\n",
       "    <tr style=\"text-align: right;\">\n",
       "      <th></th>\n",
       "      <th>user_id</th>\n",
       "      <th>install_date_x</th>\n",
       "      <th>ts</th>\n",
       "      <th>date</th>\n",
       "      <th>session_num</th>\n",
       "      <th>last_session_termination_type</th>\n",
       "      <th>install_date_y</th>\n",
       "      <th>days_from_installed</th>\n",
       "      <th>active_days_sessions</th>\n",
       "      <th>last_active_date</th>\n",
       "    </tr>\n",
       "  </thead>\n",
       "  <tbody>\n",
       "    <tr>\n",
       "      <th>0</th>\n",
       "      <td>10</td>\n",
       "      <td>2019-03-05</td>\n",
       "      <td>2019-03-05 05:56:59</td>\n",
       "      <td>2019-03-05</td>\n",
       "      <td>1</td>\n",
       "      <td>NaN</td>\n",
       "      <td>2019-03-05</td>\n",
       "      <td>0</td>\n",
       "      <td>60</td>\n",
       "      <td>2019-05-04 23:16:31</td>\n",
       "    </tr>\n",
       "    <tr>\n",
       "      <th>1</th>\n",
       "      <td>10</td>\n",
       "      <td>2019-03-05</td>\n",
       "      <td>2019-03-05 05:58:30</td>\n",
       "      <td>2019-03-05</td>\n",
       "      <td>2</td>\n",
       "      <td>NaN</td>\n",
       "      <td>2019-03-05</td>\n",
       "      <td>0</td>\n",
       "      <td>60</td>\n",
       "      <td>2019-05-04 23:16:31</td>\n",
       "    </tr>\n",
       "  </tbody>\n",
       "</table>\n",
       "</div>"
      ],
      "text/plain": [
       "   user_id install_date_x                   ts       date  session_num  \\\n",
       "0       10     2019-03-05  2019-03-05 05:56:59 2019-03-05            1   \n",
       "1       10     2019-03-05  2019-03-05 05:58:30 2019-03-05            2   \n",
       "\n",
       "   last_session_termination_type install_date_y  days_from_installed  \\\n",
       "0                            NaN     2019-03-05                    0   \n",
       "1                            NaN     2019-03-05                    0   \n",
       "\n",
       "   active_days_sessions     last_active_date  \n",
       "0                    60  2019-05-04 23:16:31  \n",
       "1                    60  2019-05-04 23:16:31  "
      ]
     },
     "execution_count": 16,
     "metadata": {},
     "output_type": "execute_result"
    }
   ],
   "source": [
    "### characteristics of churning users \n",
    "NPU_active_users_spending = pd.merge(NPU_active_users, spending_df, on=\"user_id\")\n",
    "NPU_active_users_spending.head(2) ### 1608 users\n",
    "\n",
    "NPU_active_users_sessions = pd.merge(NPU_active_users, sessions_df, on=\"user_id\")\n",
    "NPU_active_users_sessions.head(2) ### 1401 users"
   ]
  },
  {
   "cell_type": "code",
   "execution_count": 17,
   "id": "0ebd066d",
   "metadata": {},
   "outputs": [],
   "source": [
    "NPU_active_users_sessions[\"n_days_before_last_date\"] = pd.to_datetime(NPU_active_users_sessions[\"last_active_date\"]) \\\n",
    "                                                                    - pd.Timedelta(days=look_back_days)\n",
    "NPU_active_users_sessions_ft = NPU_active_users_sessions[(NPU_active_users_sessions.ts\\\n",
    "                                                       >= NPU_active_users_sessions.n_days_before_last_date) \\\n",
    "                                                      & (NPU_active_users_sessions.ts <= NPU_active_users_sessions.last_active_date)]\n",
    "\n",
    "NPU_active_users_spending[\"n_days_before_last_date\"] = \\\n",
    "                                pd.to_datetime(NPU_active_users_spending[\"last_active_date\"]) - pd.Timedelta(days=look_back_days)\n",
    "NPU_active_users_spending_ft = NPU_active_users_spending[(NPU_active_users_spending.ts\\\n",
    "                                                       >= NPU_active_users_spending.n_days_before_last_date) \\\n",
    "                                                      & (NPU_active_users_spending.ts <= NPU_active_users_spending.last_active_date)]"
   ]
  },
  {
   "cell_type": "code",
   "execution_count": 18,
   "id": "316f3b66",
   "metadata": {},
   "outputs": [
    {
     "data": {
      "image/png": "[encoded data removed]",
      "text/plain": [
       "<Figure size 432x288 with 1 Axes>"
      ]
     },
     "metadata": {},
     "output_type": "display_data"
    }
   ],
   "source": [
    "def plot_ecdf(series, title=\"\"):\n",
    "    \"\"\"\n",
    "    series = df_eargems_sum[\"gems_spent\"]\n",
    "    \"\"\"\n",
    "    sns.set()\n",
    "    x_ecdf, y_ecdf = ecdf(series)\n",
    "    sns.scatterplot(x=x_ecdf, y=y_ecdf)\n",
    "    plt.title(title)\n",
    "    \n",
    "def spent_gems_rate(df_user):\n",
    "    df_eargems = df_user[df_user.spendtype == 'premiumChoice']\n",
    "    df_eargems_sum = df_eargems.groupby(\"user_id\")['amount'].sum().reset_index()\n",
    "    df_eargems_sum = pd.merge(df_eargems_sum, sessions_df[[\"user_id\",\\\n",
    "                                                           \"active_days_sessions\"]].drop_duplicates(), on = \"user_id\")\n",
    "    df_eargems_sum[\"gems_spent\"] = df_eargems_sum[\"amount\"]\n",
    "    df_eargems_sum = df_eargems_sum[df_eargems_sum.user_id != 12486] \n",
    "    return df_eargems_sum[[\"user_id\",\"gems_spent\"]]\n",
    "\n",
    "potentialUser_spent_gems = spent_gems_rate(NPU_active_users_spending_ft)\n",
    "potentialUser_spent_gems = pd.merge(NPU_active_users[[\"user_id\"]].drop_duplicates(),\\\n",
    "                                    potentialUser_spent_gems, how='left', on =\"user_id\").fillna(0)\n",
    "plot_ecdf(potentialUser_spent_gems[\"gems_spent\"], \"ECDF plot of gems_spent\")"
   ]
  },
  {
   "cell_type": "code",
   "execution_count": 19,
   "id": "e60b2130",
   "metadata": {},
   "outputs": [
    {
     "data": {
      "image/png": "[encoded data removed]",
      "text/plain": [
       "<Figure size 432x288 with 1 Axes>"
      ]
     },
     "metadata": {},
     "output_type": "display_data"
    }
   ],
   "source": [
    "def earn_gems_rate(df_user):\n",
    "    df_eargems = df_user[df_user.spendtype == 'earnGemsCounter']\n",
    "    df_eargems_sum = df_eargems.groupby(\"user_id\")['amount'].sum().reset_index()\n",
    "    df_eargems_sum = pd.merge(df_eargems_sum, sessions_df[[\"user_id\",\\\n",
    "                                                           \"active_days_sessions\"]].drop_duplicates(), on = \"user_id\")\n",
    "    df_eargems_sum[\"gems_earn\"] = df_eargems_sum[\"amount\"]*(-1)\n",
    "    df_eargems_sum = df_eargems_sum[df_eargems_sum.user_id != 12486]\n",
    "    \n",
    "    return df_eargems_sum[[\"user_id\",\"gems_earn\"]]\n",
    "potentialUser_earn_gems = earn_gems_rate(NPU_active_users_spending_ft)\n",
    "potentialUser_earn_gems = pd.merge(NPU_active_users[[\"user_id\"]].drop_duplicates(),\\\n",
    "                                    potentialUser_earn_gems, how='left', on =\"user_id\").fillna(0)\n",
    "plot_ecdf(potentialUser_earn_gems[\"gems_earn\"], \"ECDF plot of gems earned\")"
   ]
  },
  {
   "cell_type": "code",
   "execution_count": 20,
   "id": "71999f91",
   "metadata": {},
   "outputs": [
    {
     "data": {
      "text/plain": [
       "1733"
      ]
     },
     "execution_count": 20,
     "metadata": {},
     "output_type": "execute_result"
    }
   ],
   "source": [
    "NPU_active_users_sessions[\"user_id\"].nunique()"
   ]
  },
  {
   "cell_type": "code",
   "execution_count": 21,
   "id": "8651eefc",
   "metadata": {},
   "outputs": [
    {
     "data": {
      "image/png": "[encoded data removed]",
      "text/plain": [
       "<Figure size 432x288 with 1 Axes>"
      ]
     },
     "metadata": {},
     "output_type": "display_data"
    }
   ],
   "source": [
    "def total_gems_left(df_user):\n",
    "    df_eargems_sum = df_user.groupby(\"user_id\")['amount'].sum().reset_index().rename(columns={'amount': 'gems_amount'})\n",
    "    df_eargems_sum = pd.merge(df_eargems_sum, sessions_df[[\"user_id\",\\\n",
    "                                                           \"active_days_sessions\"]].drop_duplicates(), on = \"user_id\")\n",
    "    df_eargems_sum[\"total_gems\"] = df_eargems_sum[\"gems_amount\"]*(-1)\n",
    "    df_eargems_sum = df_eargems_sum[df_eargems_sum.user_id != 12486]\n",
    "    return df_eargems_sum[[\"user_id\", \"total_gems\"]]\n",
    "\n",
    "potentialUser_total_gems = total_gems_left(NPU_active_users_spending)  \n",
    "potentialUser_total_gems = pd.merge(NPU_active_users[[\"user_id\"]].drop_duplicates(),\\\n",
    "                                    potentialUser_total_gems, how='left', on =\"user_id\").fillna(0)\n",
    "plot_ecdf(potentialUser_total_gems[\"total_gems\"], \"ECDF plot of total gems\")"
   ]
  },
  {
   "cell_type": "code",
   "execution_count": 22,
   "id": "44c625ec",
   "metadata": {},
   "outputs": [
    {
     "data": {
      "image/png": "[encoded data removed]",
      "text/plain": [
       "<Figure size 432x288 with 1 Axes>"
      ]
     },
     "metadata": {},
     "output_type": "display_data"
    }
   ],
   "source": [
    "def change_in_chapter(df):\n",
    "    idx = df.groupby(\"user_id\")[\"chapter\"].transform(max) == df[\"chapter\"]\n",
    "    max_chapter = df[idx]\n",
    "    max_chapter = max_chapter[[\"user_id\", \"chapter\"]].drop_duplicates().rename(columns={\"chapter\": \"max_chapter\"})\n",
    "    \n",
    "    idx = df.groupby(\"user_id\")[\"chapter\"].transform(min) == df[\"chapter\"]\n",
    "    min_chapter = df[idx]\n",
    "    min_chapter = min_chapter[[\"user_id\", \"chapter\"]].drop_duplicates().rename(columns={\"chapter\": \"min_chapter\"})\n",
    "    \n",
    "    df_join = pd.merge(max_chapter, min_chapter, on = \"user_id\")\n",
    "    df_join[\"chapter_changes\"] = df_join[\"max_chapter\"] - df_join[\"min_chapter\"]\n",
    "    \n",
    "    return df_join[[\"user_id\",\"chapter_changes\"]]\n",
    "\n",
    "potentialUser_chapter_change = change_in_chapter(NPU_active_users_spending_ft)  \n",
    "potentialUser_chapter_change = pd.merge(NPU_active_users[[\"user_id\"]].drop_duplicates(),\\\n",
    "                                    potentialUser_chapter_change, how='left', on =\"user_id\").fillna(0)\n",
    "plot_ecdf(potentialUser_chapter_change[\"chapter_changes\"], \"ECDF plot of changes in chapter\")"
   ]
  },
  {
   "cell_type": "code",
   "execution_count": 23,
   "id": "97b786b3",
   "metadata": {},
   "outputs": [
    {
     "data": {
      "image/png": "[encoded data removed]",
      "text/plain": [
       "<Figure size 432x288 with 1 Axes>"
      ]
     },
     "metadata": {},
     "output_type": "display_data"
    }
   ],
   "source": [
    "def sessions_num_rate(df_user):\n",
    "    idx = df_user.groupby(\"user_id\")[\"session_num\"].transform(max) == df_user[\"session_num\"]\n",
    "    session_max = df_user[idx]\n",
    "    session_max = session_max[[\"user_id\", \"session_num\"]].drop_duplicates().rename(columns = {\"session_num\": \"max_session\"})\n",
    "   \n",
    "    idx = df_user.groupby(\"user_id\")[\"session_num\"].transform(min) == df_user[\"session_num\"]\n",
    "    session_min = df_user[idx]\n",
    "    session_min = session_min[[\"user_id\", \"session_num\"]].drop_duplicates().rename(columns = {\"session_num\": \"min_session\"})\n",
    "    \n",
    "    df_join = pd.merge(session_max, session_min, on=\"user_id\")\n",
    "    df_join[\"changes_session\"] = df_join[\"max_session\"] - df_join[\"min_session\"]\n",
    "    \n",
    "    return df_join[[\"user_id\",\"changes_session\"]]\n",
    " \n",
    "\n",
    "potentialUser_session_change = sessions_num_rate(NPU_active_users_sessions_ft)   \n",
    "potentialUser_session_change = pd.merge(NPU_active_users[[\"user_id\"]].drop_duplicates(),\\\n",
    "                                    potentialUser_session_change, how='left', on =\"user_id\").fillna(0)\n",
    "plot_ecdf(potentialUser_session_change[\"changes_session\"], \"ECDF plot of session_num rate\")"
   ]
  },
  {
   "cell_type": "markdown",
   "id": "80a15eb7",
   "metadata": {},
   "source": [
    "## 3. Extract label 0 class and their characteristics\n",
    "- churn users"
   ]
  },
  {
   "cell_type": "code",
   "execution_count": 24,
   "id": "4d8d8c9b",
   "metadata": {},
   "outputs": [
    {
     "data": {
      "text/html": [
       "<div>\n",
       "<style scoped>\n",
       "    .dataframe tbody tr th:only-of-type {\n",
       "        vertical-align: middle;\n",
       "    }\n",
       "\n",
       "    .dataframe tbody tr th {\n",
       "        vertical-align: top;\n",
       "    }\n",
       "\n",
       "    .dataframe thead th {\n",
       "        text-align: right;\n",
       "    }\n",
       "</style>\n",
       "<table border=\"1\" class=\"dataframe\">\n",
       "  <thead>\n",
       "    <tr style=\"text-align: right;\">\n",
       "      <th></th>\n",
       "      <th>user_id</th>\n",
       "      <th>install_date</th>\n",
       "    </tr>\n",
       "  </thead>\n",
       "  <tbody>\n",
       "    <tr>\n",
       "      <th>1870</th>\n",
       "      <td>76</td>\n",
       "      <td>2019-03-01</td>\n",
       "    </tr>\n",
       "    <tr>\n",
       "      <th>1900</th>\n",
       "      <td>81</td>\n",
       "      <td>2019-03-04</td>\n",
       "    </tr>\n",
       "  </tbody>\n",
       "</table>\n",
       "</div>"
      ],
      "text/plain": [
       "      user_id install_date\n",
       "1870       76   2019-03-01\n",
       "1900       81   2019-03-04"
      ]
     },
     "execution_count": 24,
     "metadata": {},
     "output_type": "execute_result"
    }
   ],
   "source": [
    "label0_users_df = session_non_payer_df[(session_non_payer_df[\"days_to_most_recent\"] <= 25)\\\n",
    "                                        & ((session_non_payer_df[\"days_to_most_recent\"] > 10))]\n",
    "label0_users_df = label0_users_df[[\"user_id\", \"install_date\"]].drop_duplicates()\n",
    "label0_users_df = label0_users_df[~label0_users_df[\"user_id\"].isin(set(NPU_active_users[\"user_id\"]))]\n",
    "label0_users_df.head(2)"
   ]
  },
  {
   "cell_type": "code",
   "execution_count": 25,
   "id": "50f2cc5d",
   "metadata": {},
   "outputs": [
    {
     "data": {
      "text/plain": [
       "1386"
      ]
     },
     "execution_count": 25,
     "metadata": {},
     "output_type": "execute_result"
    }
   ],
   "source": [
    "label0_users_spending = pd.merge(label0_users_df, spending_df, on=\"user_id\")\n",
    "label0_users_spending[\"user_id\"].nunique()"
   ]
  },
  {
   "cell_type": "code",
   "execution_count": 26,
   "id": "ae4c271c",
   "metadata": {},
   "outputs": [
    {
     "data": {
      "text/plain": [
       "1518"
      ]
     },
     "execution_count": 26,
     "metadata": {},
     "output_type": "execute_result"
    }
   ],
   "source": [
    "label0_users_sessions = pd.merge(label0_users_df, sessions_df, on=\"user_id\")\n",
    "label0_users_sessions[\"user_id\"].nunique()"
   ]
  },
  {
   "cell_type": "code",
   "execution_count": 27,
   "id": "0194ba21",
   "metadata": {},
   "outputs": [],
   "source": [
    "label0_users_sessions[\"n_days_before_iap\"] = pd.to_datetime(label0_users_sessions[\"last_active_date\"]) \\\n",
    "                                                                    - pd.Timedelta(days=look_back_days)\n",
    "label0_users_sessions_ft = label0_users_sessions[(label0_users_sessions.ts\\\n",
    "                                                       >= label0_users_sessions.n_days_before_iap) \\\n",
    "                                                      & (label0_users_sessions.ts <= label0_users_sessions.last_active_date)]\n",
    "\n",
    "label0_users_spending[\"n_days_before_iap\"] = \\\n",
    "                                pd.to_datetime(label0_users_spending[\"last_active_date\"]) - pd.Timedelta(days=look_back_days)\n",
    "label0_users_spending_ft = label0_users_spending[(label0_users_spending.ts\\\n",
    "                                                       >= label0_users_spending.n_days_before_iap) \\\n",
    "                                                      & (label0_users_spending.ts <= label0_users_spending.last_active_date)]"
   ]
  },
  {
   "cell_type": "code",
   "execution_count": 28,
   "id": "ca65c159",
   "metadata": {},
   "outputs": [
    {
     "data": {
      "image/png": "[encoded data removed]",
      "text/plain": [
       "<Figure size 432x288 with 1 Axes>"
      ]
     },
     "metadata": {},
     "output_type": "display_data"
    }
   ],
   "source": [
    "label0_spent_gems = spent_gems_rate(label0_users_spending_ft)\n",
    "label0_spent_gems = pd.merge(label0_users_df[[\"user_id\"]].drop_duplicates(),\\\n",
    "                                    label0_spent_gems, how='left', on =\"user_id\").fillna(0)\n",
    "plot_ecdf(label0_spent_gems[\"gems_spent\"], \"ECDF plot of gems_spent\")"
   ]
  },
  {
   "cell_type": "code",
   "execution_count": 29,
   "id": "d7bce48b",
   "metadata": {},
   "outputs": [
    {
     "data": {
      "image/png": "[encoded data removed]",
      "text/plain": [
       "<Figure size 432x288 with 1 Axes>"
      ]
     },
     "metadata": {},
     "output_type": "display_data"
    }
   ],
   "source": [
    "label0_earn_gems = earn_gems_rate(label0_users_spending_ft)\n",
    "label0_earn_gems = pd.merge(label0_users_df[[\"user_id\"]].drop_duplicates(),\\\n",
    "                                    label0_earn_gems, how='left', on =\"user_id\").fillna(0)\n",
    "plot_ecdf(label0_earn_gems[\"gems_earn\"], \"ECDF plot of gems earned\")"
   ]
  },
  {
   "cell_type": "code",
   "execution_count": 30,
   "id": "55c51cce",
   "metadata": {},
   "outputs": [
    {
     "data": {
      "image/png": "[encoded data removed]",
      "text/plain": [
       "<Figure size 432x288 with 1 Axes>"
      ]
     },
     "metadata": {},
     "output_type": "display_data"
    }
   ],
   "source": [
    "label0_total_gems = total_gems_left(label0_users_spending[label0_users_spending.ts < label0_users_spending.last_active_date])\n",
    "label0_total_gems = pd.merge(label0_users_df[[\"user_id\"]].drop_duplicates(),\\\n",
    "                                    label0_total_gems, how='left', on =\"user_id\").fillna(0)\n",
    "plot_ecdf(label0_total_gems[\"total_gems\"], \"ECDF plot of total gems\")"
   ]
  },
  {
   "cell_type": "code",
   "execution_count": 31,
   "id": "d0b06d73",
   "metadata": {},
   "outputs": [
    {
     "data": {
      "image/png": "[encoded data removed]",
      "text/plain": [
       "<Figure size 432x288 with 1 Axes>"
      ]
     },
     "metadata": {},
     "output_type": "display_data"
    }
   ],
   "source": [
    "label0_chapter_change = change_in_chapter(label0_users_spending_ft) \n",
    "label0_chapter_change = pd.merge(label0_users_df[[\"user_id\"]].drop_duplicates(),\\\n",
    "                                    label0_chapter_change, how='left', on =\"user_id\").fillna(0)\n",
    "plot_ecdf(label0_chapter_change[\"chapter_changes\"], \"ECDF plot of changes in chapter\")"
   ]
  },
  {
   "cell_type": "code",
   "execution_count": 32,
   "id": "be46d5e2",
   "metadata": {},
   "outputs": [
    {
     "data": {
      "image/png": "[encoded data removed]",
      "text/plain": [
       "<Figure size 432x288 with 1 Axes>"
      ]
     },
     "metadata": {},
     "output_type": "display_data"
    }
   ],
   "source": [
    "label0_session_change = sessions_num_rate(label0_users_sessions_ft)   \n",
    "label0_session_change = pd.merge(label0_users_df[[\"user_id\"]].drop_duplicates(),\\\n",
    "                                    label0_session_change, how='left', on =\"user_id\").fillna(0)\n",
    "plot_ecdf(label0_session_change[\"changes_session\"], \"ECDF plot of session_num rate\")"
   ]
  },
  {
   "cell_type": "markdown",
   "id": "e2eb2d25",
   "metadata": {},
   "source": [
    "## 4. Extract label 1 class and their characteristics\n",
    "- Users who already made their first in-app purchase within 45 days since the date they installed in the app \n",
    "- A user makes an in-app purchase, but that purchase is not recorded in the spendevent.csv (51 users have this issue, i.e spendevents file faliled to record iap and gems flow for 51 paying users). "
   ]
  },
  {
   "cell_type": "code",
   "execution_count": 94,
   "id": "1fb801d9",
   "metadata": {},
   "outputs": [
    {
     "data": {
      "text/plain": [
       "53"
      ]
     },
     "execution_count": 94,
     "metadata": {},
     "output_type": "execute_result"
    }
   ],
   "source": [
    "label1_users = first_iap_day_df[first_iap_day_df.days_to_first_purchase >= 40][[\"user_id\", \"iap_date\"]].drop_duplicates()\n",
    "label1_users[\"user_id\"].nunique()"
   ]
  },
  {
   "cell_type": "code",
   "execution_count": 95,
   "id": "0afe15e9",
   "metadata": {},
   "outputs": [
    {
     "data": {
      "text/html": [
       "<div>\n",
       "<style scoped>\n",
       "    .dataframe tbody tr th:only-of-type {\n",
       "        vertical-align: middle;\n",
       "    }\n",
       "\n",
       "    .dataframe tbody tr th {\n",
       "        vertical-align: top;\n",
       "    }\n",
       "\n",
       "    .dataframe thead th {\n",
       "        text-align: right;\n",
       "    }\n",
       "</style>\n",
       "<table border=\"1\" class=\"dataframe\">\n",
       "  <thead>\n",
       "    <tr style=\"text-align: right;\">\n",
       "      <th></th>\n",
       "      <th>user_id</th>\n",
       "      <th>iap_date</th>\n",
       "    </tr>\n",
       "  </thead>\n",
       "  <tbody>\n",
       "    <tr>\n",
       "      <th>20</th>\n",
       "      <td>85</td>\n",
       "      <td>2019-04-17 18:26:44</td>\n",
       "    </tr>\n",
       "    <tr>\n",
       "      <th>331</th>\n",
       "      <td>923</td>\n",
       "      <td>2019-04-29 19:14:50</td>\n",
       "    </tr>\n",
       "    <tr>\n",
       "      <th>336</th>\n",
       "      <td>1056</td>\n",
       "      <td>2019-04-15 16:36:58</td>\n",
       "    </tr>\n",
       "    <tr>\n",
       "      <th>431</th>\n",
       "      <td>1314</td>\n",
       "      <td>2019-05-01 12:25:47</td>\n",
       "    </tr>\n",
       "    <tr>\n",
       "      <th>522</th>\n",
       "      <td>1586</td>\n",
       "      <td>2019-05-02 14:34:11</td>\n",
       "    </tr>\n",
       "  </tbody>\n",
       "</table>\n",
       "</div>"
      ],
      "text/plain": [
       "     user_id             iap_date\n",
       "20        85  2019-04-17 18:26:44\n",
       "331      923  2019-04-29 19:14:50\n",
       "336     1056  2019-04-15 16:36:58\n",
       "431     1314  2019-05-01 12:25:47\n",
       "522     1586  2019-05-02 14:34:11"
      ]
     },
     "execution_count": 95,
     "metadata": {},
     "output_type": "execute_result"
    }
   ],
   "source": [
    "label1_users.head()"
   ]
  },
  {
   "cell_type": "markdown",
   "id": "d329a1b4",
   "metadata": {},
   "source": [
    "### Extracting features for label 1 group"
   ]
  },
  {
   "cell_type": "code",
   "execution_count": 96,
   "id": "1a847cec",
   "metadata": {},
   "outputs": [
    {
     "data": {
      "text/html": [
       "<div>\n",
       "<style scoped>\n",
       "    .dataframe tbody tr th:only-of-type {\n",
       "        vertical-align: middle;\n",
       "    }\n",
       "\n",
       "    .dataframe tbody tr th {\n",
       "        vertical-align: top;\n",
       "    }\n",
       "\n",
       "    .dataframe thead th {\n",
       "        text-align: right;\n",
       "    }\n",
       "</style>\n",
       "<table border=\"1\" class=\"dataframe\">\n",
       "  <thead>\n",
       "    <tr style=\"text-align: right;\">\n",
       "      <th></th>\n",
       "      <th>user_id</th>\n",
       "      <th>iap_date</th>\n",
       "      <th>ts</th>\n",
       "      <th>date</th>\n",
       "      <th>session_num</th>\n",
       "      <th>last_session_termination_type</th>\n",
       "      <th>install_date</th>\n",
       "      <th>days_from_installed</th>\n",
       "      <th>active_days_sessions</th>\n",
       "      <th>last_active_date</th>\n",
       "      <th>n_days_before_iap</th>\n",
       "    </tr>\n",
       "  </thead>\n",
       "  <tbody>\n",
       "    <tr>\n",
       "      <th>12</th>\n",
       "      <td>85</td>\n",
       "      <td>2019-04-17 18:26:44</td>\n",
       "      <td>2019-04-17 18:09:05</td>\n",
       "      <td>2019-04-17</td>\n",
       "      <td>13</td>\n",
       "      <td>NaN</td>\n",
       "      <td>2019-03-07</td>\n",
       "      <td>41</td>\n",
       "      <td>41</td>\n",
       "      <td>2019-04-17 18:09:05</td>\n",
       "      <td>2019-04-10 18:26:44</td>\n",
       "    </tr>\n",
       "    <tr>\n",
       "      <th>106</th>\n",
       "      <td>923</td>\n",
       "      <td>2019-04-29 19:14:50</td>\n",
       "      <td>2019-04-25 14:47:53</td>\n",
       "      <td>2019-04-25</td>\n",
       "      <td>94</td>\n",
       "      <td>NaN</td>\n",
       "      <td>2019-03-04</td>\n",
       "      <td>52</td>\n",
       "      <td>60</td>\n",
       "      <td>2019-05-03 16:56:24</td>\n",
       "      <td>2019-04-22 19:14:50</td>\n",
       "    </tr>\n",
       "  </tbody>\n",
       "</table>\n",
       "</div>"
      ],
      "text/plain": [
       "     user_id             iap_date                   ts       date  \\\n",
       "12        85  2019-04-17 18:26:44  2019-04-17 18:09:05 2019-04-17   \n",
       "106      923  2019-04-29 19:14:50  2019-04-25 14:47:53 2019-04-25   \n",
       "\n",
       "     session_num  last_session_termination_type install_date  \\\n",
       "12            13                            NaN   2019-03-07   \n",
       "106           94                            NaN   2019-03-04   \n",
       "\n",
       "     days_from_installed  active_days_sessions     last_active_date  \\\n",
       "12                    41                    41  2019-04-17 18:09:05   \n",
       "106                   52                    60  2019-05-03 16:56:24   \n",
       "\n",
       "      n_days_before_iap  \n",
       "12  2019-04-10 18:26:44  \n",
       "106 2019-04-22 19:14:50  "
      ]
     },
     "execution_count": 96,
     "metadata": {},
     "output_type": "execute_result"
    }
   ],
   "source": [
    "df1 = pd.merge(label1_users, sessions_df, on=\"user_id\")\n",
    "df1[\"n_days_before_iap\"] = pd.to_datetime(df1[\"iap_date\"]) - pd.Timedelta(days=7)\n",
    "df_session_ft = df1[(df1.ts > df1.n_days_before_iap) & (df1.ts < df1.iap_date)]\n",
    "df_session_ft.head(2)"
   ]
  },
  {
   "cell_type": "code",
   "execution_count": 97,
   "id": "3cc7678c",
   "metadata": {},
   "outputs": [
    {
     "data": {
      "text/html": [
       "<div>\n",
       "<style scoped>\n",
       "    .dataframe tbody tr th:only-of-type {\n",
       "        vertical-align: middle;\n",
       "    }\n",
       "\n",
       "    .dataframe tbody tr th {\n",
       "        vertical-align: top;\n",
       "    }\n",
       "\n",
       "    .dataframe thead th {\n",
       "        text-align: right;\n",
       "    }\n",
       "</style>\n",
       "<table border=\"1\" class=\"dataframe\">\n",
       "  <thead>\n",
       "    <tr style=\"text-align: right;\">\n",
       "      <th></th>\n",
       "      <th>user_id</th>\n",
       "      <th>iap_date</th>\n",
       "      <th>ts</th>\n",
       "      <th>date</th>\n",
       "      <th>story</th>\n",
       "      <th>chapter</th>\n",
       "      <th>spendtype</th>\n",
       "      <th>currency</th>\n",
       "      <th>amount</th>\n",
       "      <th>install_date</th>\n",
       "      <th>days_from_installed</th>\n",
       "      <th>active_days_sessions</th>\n",
       "      <th>last_active_date</th>\n",
       "      <th>n_days_before_iap</th>\n",
       "    </tr>\n",
       "  </thead>\n",
       "  <tbody>\n",
       "    <tr>\n",
       "      <th>28</th>\n",
       "      <td>1056</td>\n",
       "      <td>2019-04-15 16:36:58</td>\n",
       "      <td>2019-04-11 10:52:14</td>\n",
       "      <td>2019-04-11</td>\n",
       "      <td>story_1</td>\n",
       "      <td>10</td>\n",
       "      <td>premiumChoice</td>\n",
       "      <td>gems</td>\n",
       "      <td>22</td>\n",
       "      <td>2019-03-01</td>\n",
       "      <td>41</td>\n",
       "      <td>54</td>\n",
       "      <td>2019-04-24 13:14:33</td>\n",
       "      <td>2019-04-08 16:36:58</td>\n",
       "    </tr>\n",
       "    <tr>\n",
       "      <th>29</th>\n",
       "      <td>1056</td>\n",
       "      <td>2019-04-15 16:36:58</td>\n",
       "      <td>2019-04-13 16:42:19</td>\n",
       "      <td>2019-04-13</td>\n",
       "      <td>story_6</td>\n",
       "      <td>2</td>\n",
       "      <td>earnGemsCounter</td>\n",
       "      <td>gems</td>\n",
       "      <td>-22</td>\n",
       "      <td>2019-03-01</td>\n",
       "      <td>43</td>\n",
       "      <td>54</td>\n",
       "      <td>2019-04-24 13:14:33</td>\n",
       "      <td>2019-04-08 16:36:58</td>\n",
       "    </tr>\n",
       "  </tbody>\n",
       "</table>\n",
       "</div>"
      ],
      "text/plain": [
       "    user_id             iap_date                   ts       date    story  \\\n",
       "28     1056  2019-04-15 16:36:58  2019-04-11 10:52:14 2019-04-11  story_1   \n",
       "29     1056  2019-04-15 16:36:58  2019-04-13 16:42:19 2019-04-13  story_6   \n",
       "\n",
       "    chapter        spendtype currency  amount install_date  \\\n",
       "28       10    premiumChoice     gems      22   2019-03-01   \n",
       "29        2  earnGemsCounter     gems     -22   2019-03-01   \n",
       "\n",
       "    days_from_installed  active_days_sessions     last_active_date  \\\n",
       "28                   41                    54  2019-04-24 13:14:33   \n",
       "29                   43                    54  2019-04-24 13:14:33   \n",
       "\n",
       "     n_days_before_iap  \n",
       "28 2019-04-08 16:36:58  \n",
       "29 2019-04-08 16:36:58  "
      ]
     },
     "execution_count": 97,
     "metadata": {},
     "output_type": "execute_result"
    }
   ],
   "source": [
    "df2 = pd.merge(label1_users, spending_df, on=\"user_id\")\n",
    "df2[\"n_days_before_iap\"] = pd.to_datetime(df2[\"iap_date\"]) - pd.Timedelta(days=7)\n",
    "df_spend_ft = df2[(df2.ts > df2.n_days_before_iap) & (df2.ts < df2.iap_date)]\n",
    "df_spend_ft = df_spend_ft[df_spend_ft.spendtype != \"IAP\"]\n",
    "df_spend_ft = df_spend_ft[df_spend_ft.spendtype != \"valuepack\"]\n",
    "df_spend_ft.head(2)"
   ]
  },
  {
   "cell_type": "code",
   "execution_count": 98,
   "id": "86ed798a",
   "metadata": {},
   "outputs": [
    {
     "data": {
      "image/png": "[encoded data removed]",
      "text/plain": [
       "<Figure size 432x288 with 1 Axes>"
      ]
     },
     "metadata": {},
     "output_type": "display_data"
    }
   ],
   "source": [
    "label1_spent_gems = spent_gems_rate(df_spend_ft)\n",
    "label1_spent_gems = pd.merge(label1_users[[\"user_id\"]].drop_duplicates(),\\\n",
    "                                    label1_spent_gems, how='left', on =\"user_id\").fillna(0)\n",
    "plot_ecdf(label1_spent_gems[\"gems_spent\"], \"ECDF plot of gems_spent\")"
   ]
  },
  {
   "cell_type": "code",
   "execution_count": 99,
   "id": "eed4cedd",
   "metadata": {},
   "outputs": [
    {
     "data": {
      "image/png": "[encoded data removed]",
      "text/plain": [
       "<Figure size 432x288 with 1 Axes>"
      ]
     },
     "metadata": {},
     "output_type": "display_data"
    }
   ],
   "source": [
    "label1_earn_gems = earn_gems_rate(df_spend_ft)\n",
    "label1_earn_gems = pd.merge(label1_users[[\"user_id\"]].drop_duplicates(),\\\n",
    "                                    label1_earn_gems, how='left', on =\"user_id\").fillna(0)\n",
    "plot_ecdf(label1_earn_gems[\"gems_earn\"], \"ECDF plot of gems earned\")"
   ]
  },
  {
   "cell_type": "code",
   "execution_count": 100,
   "id": "db2c15c9",
   "metadata": {},
   "outputs": [
    {
     "data": {
      "image/png": "[encoded data removed]",
      "text/plain": [
       "<Figure size 432x288 with 1 Axes>"
      ]
     },
     "metadata": {},
     "output_type": "display_data"
    }
   ],
   "source": [
    "label1_total_gems = total_gems_left(df2[(df2.ts < df2.iap_date)])\n",
    "label1_total_gems = pd.merge(label1_users[[\"user_id\"]].drop_duplicates(),\\\n",
    "                                    label1_total_gems, how='left', on =\"user_id\").fillna(0)\n",
    "plot_ecdf(label1_total_gems[\"total_gems\"], \"ECDF plot of total gems\")"
   ]
  },
  {
   "cell_type": "code",
   "execution_count": 101,
   "id": "cf78a74d",
   "metadata": {},
   "outputs": [
    {
     "data": {
      "image/png": "[encoded data removed]",
      "text/plain": [
       "<Figure size 432x288 with 1 Axes>"
      ]
     },
     "metadata": {},
     "output_type": "display_data"
    }
   ],
   "source": [
    "label1_chapter_change = change_in_chapter(df_spend_ft)\n",
    "label1_chapter_change = pd.merge(label1_users[[\"user_id\"]].drop_duplicates(),\\\n",
    "                                    label1_chapter_change, how='left', on =\"user_id\").fillna(0)\n",
    "plot_ecdf(label1_chapter_change[\"chapter_changes\"], \"ECDF plot of changes in chapter\")"
   ]
  },
  {
   "cell_type": "code",
   "execution_count": 102,
   "id": "8245de96",
   "metadata": {},
   "outputs": [
    {
     "data": {
      "image/png": "[encoded data removed]",
      "text/plain": [
       "<Figure size 432x288 with 1 Axes>"
      ]
     },
     "metadata": {},
     "output_type": "display_data"
    }
   ],
   "source": [
    "label1_session_change = sessions_num_rate(df_session_ft)    \n",
    "label1_session_change = pd.merge(label1_users[[\"user_id\"]].drop_duplicates(),\\\n",
    "                                    label1_session_change, how='left', on =\"user_id\").fillna(0)\n",
    "plot_ecdf(label1_session_change[\"changes_session\"], \"ECDF plot of how many times iap users log-in into \\n the game within 7 days before making first iap \\n (only include users who made first iap after 40 days of install date)\")"
   ]
  },
  {
   "cell_type": "markdown",
   "id": "c4510d37",
   "metadata": {},
   "source": [
    "## 5.  Feature Engineering "
   ]
  },
  {
   "cell_type": "code",
   "execution_count": 82,
   "id": "f64044bd",
   "metadata": {},
   "outputs": [],
   "source": [
    "def feature_engineering_spend(users, df_spend, df_session, ls_ft):\n",
    "    df_session[\"ts\"] = pd.to_datetime(df_session[\"ts\"])\n",
    "    df_session[\"days_of_week\"] = df_session[\"ts\"].dt.dayofweek\n",
    "    df_session[\"holder\"] = 1\n",
    "    label0_date = pd.pivot_table(df_session, values =\"holder\", index=\"user_id\", \\\n",
    "                         columns='days_of_week', aggfunc='count').fillna(0).reset_index(col_level=0)\n",
    "    df_story = df_spend.groupby('user_id')['story'].nunique().reset_index()\n",
    "    df_chapter = df_spend.groupby('user_id')['chapter'].nunique().reset_index()\n",
    "    df_days = df_spend.groupby('user_id')['days_from_installed'].max().reset_index()\n",
    "    \n",
    "    ls_ft.extend([df_story, df_chapter, df_days, label0_date]) \n",
    "    label_fts = users\n",
    "    for data in ls_ft:\n",
    "        label_fts = pd.merge(label_fts, data, how = 'left', on=\"user_id\").fillna(0)\n",
    "    \n",
    "    return label_fts"
   ]
  },
  {
   "cell_type": "code",
   "execution_count": 83,
   "id": "5aae5877",
   "metadata": {},
   "outputs": [
    {
     "name": "stderr",
     "output_type": "stream",
     "text": [
      "C:\\Users\\NghiTram\\anaconda3\\envs\\kaggleEnv\\lib\\site-packages\\ipykernel_launcher.py:2: SettingWithCopyWarning: \n",
      "A value is trying to be set on a copy of a slice from a DataFrame.\n",
      "Try using .loc[row_indexer,col_indexer] = value instead\n",
      "\n",
      "See the caveats in the documentation: https://pandas.pydata.org/pandas-docs/stable/user_guide/indexing.html#returning-a-view-versus-a-copy\n",
      "  \n",
      "C:\\Users\\NghiTram\\anaconda3\\envs\\kaggleEnv\\lib\\site-packages\\ipykernel_launcher.py:3: SettingWithCopyWarning: \n",
      "A value is trying to be set on a copy of a slice from a DataFrame.\n",
      "Try using .loc[row_indexer,col_indexer] = value instead\n",
      "\n",
      "See the caveats in the documentation: https://pandas.pydata.org/pandas-docs/stable/user_guide/indexing.html#returning-a-view-versus-a-copy\n",
      "  This is separate from the ipykernel package so we can avoid doing imports until\n",
      "C:\\Users\\NghiTram\\anaconda3\\envs\\kaggleEnv\\lib\\site-packages\\ipykernel_launcher.py:4: SettingWithCopyWarning: \n",
      "A value is trying to be set on a copy of a slice from a DataFrame.\n",
      "Try using .loc[row_indexer,col_indexer] = value instead\n",
      "\n",
      "See the caveats in the documentation: https://pandas.pydata.org/pandas-docs/stable/user_guide/indexing.html#returning-a-view-versus-a-copy\n",
      "  after removing the cwd from sys.path.\n"
     ]
    }
   ],
   "source": [
    "promo_group_dfs = [potentialUser_spent_gems,\n",
    "                potentialUser_earn_gems,\n",
    "                potentialUser_total_gems,\n",
    "                potentialUser_chapter_change,\n",
    "                potentialUser_session_change\n",
    "                ]         \n",
    "test_data_fts = feature_engineering_spend(NPU_active_users[[\"user_id\"]],\\\n",
    "                                          NPU_active_users_spending_ft, NPU_active_users_sessions_ft, promo_group_dfs)"
   ]
  },
  {
   "cell_type": "code",
   "execution_count": 84,
   "id": "e8974a33",
   "metadata": {},
   "outputs": [
    {
     "name": "stderr",
     "output_type": "stream",
     "text": [
      "C:\\Users\\NghiTram\\anaconda3\\envs\\kaggleEnv\\lib\\site-packages\\ipykernel_launcher.py:2: SettingWithCopyWarning: \n",
      "A value is trying to be set on a copy of a slice from a DataFrame.\n",
      "Try using .loc[row_indexer,col_indexer] = value instead\n",
      "\n",
      "See the caveats in the documentation: https://pandas.pydata.org/pandas-docs/stable/user_guide/indexing.html#returning-a-view-versus-a-copy\n",
      "  \n",
      "C:\\Users\\NghiTram\\anaconda3\\envs\\kaggleEnv\\lib\\site-packages\\ipykernel_launcher.py:3: SettingWithCopyWarning: \n",
      "A value is trying to be set on a copy of a slice from a DataFrame.\n",
      "Try using .loc[row_indexer,col_indexer] = value instead\n",
      "\n",
      "See the caveats in the documentation: https://pandas.pydata.org/pandas-docs/stable/user_guide/indexing.html#returning-a-view-versus-a-copy\n",
      "  This is separate from the ipykernel package so we can avoid doing imports until\n",
      "C:\\Users\\NghiTram\\anaconda3\\envs\\kaggleEnv\\lib\\site-packages\\ipykernel_launcher.py:4: SettingWithCopyWarning: \n",
      "A value is trying to be set on a copy of a slice from a DataFrame.\n",
      "Try using .loc[row_indexer,col_indexer] = value instead\n",
      "\n",
      "See the caveats in the documentation: https://pandas.pydata.org/pandas-docs/stable/user_guide/indexing.html#returning-a-view-versus-a-copy\n",
      "  after removing the cwd from sys.path.\n"
     ]
    }
   ],
   "source": [
    "label0_dfs = [label0_spent_gems,\n",
    "            label0_earn_gems,\n",
    "            label0_total_gems,\n",
    "            label0_chapter_change,\n",
    "            label0_session_change\n",
    "            ]   \n",
    "label0_fts = feature_engineering_spend(label0_users_df[[\"user_id\"]], \\\n",
    "                                       label0_users_spending_ft, label0_users_sessions_ft, label0_dfs)"
   ]
  },
  {
   "cell_type": "code",
   "execution_count": 85,
   "id": "4cb90f9b",
   "metadata": {},
   "outputs": [
    {
     "name": "stderr",
     "output_type": "stream",
     "text": [
      "C:\\Users\\NghiTram\\anaconda3\\envs\\kaggleEnv\\lib\\site-packages\\ipykernel_launcher.py:2: SettingWithCopyWarning: \n",
      "A value is trying to be set on a copy of a slice from a DataFrame.\n",
      "Try using .loc[row_indexer,col_indexer] = value instead\n",
      "\n",
      "See the caveats in the documentation: https://pandas.pydata.org/pandas-docs/stable/user_guide/indexing.html#returning-a-view-versus-a-copy\n",
      "  \n",
      "C:\\Users\\NghiTram\\anaconda3\\envs\\kaggleEnv\\lib\\site-packages\\ipykernel_launcher.py:3: SettingWithCopyWarning: \n",
      "A value is trying to be set on a copy of a slice from a DataFrame.\n",
      "Try using .loc[row_indexer,col_indexer] = value instead\n",
      "\n",
      "See the caveats in the documentation: https://pandas.pydata.org/pandas-docs/stable/user_guide/indexing.html#returning-a-view-versus-a-copy\n",
      "  This is separate from the ipykernel package so we can avoid doing imports until\n",
      "C:\\Users\\NghiTram\\anaconda3\\envs\\kaggleEnv\\lib\\site-packages\\ipykernel_launcher.py:4: SettingWithCopyWarning: \n",
      "A value is trying to be set on a copy of a slice from a DataFrame.\n",
      "Try using .loc[row_indexer,col_indexer] = value instead\n",
      "\n",
      "See the caveats in the documentation: https://pandas.pydata.org/pandas-docs/stable/user_guide/indexing.html#returning-a-view-versus-a-copy\n",
      "  after removing the cwd from sys.path.\n"
     ]
    }
   ],
   "source": [
    "label1_dfs = [label1_spent_gems,\n",
    "            label1_earn_gems,\n",
    "            label1_total_gems,\n",
    "            label1_chapter_change,\n",
    "            label1_session_change\n",
    "            ]  \n",
    "label1_fts = feature_engineering_spend(label1_users[[\"user_id\"]], \\\n",
    "                                       df_spend_ft, df_session_ft, label1_dfs)"
   ]
  },
  {
   "cell_type": "code",
   "execution_count": 86,
   "id": "6527ff9a",
   "metadata": {},
   "outputs": [],
   "source": [
    "label1_fts[\"label\"] = 1\n",
    "label0_fts[\"label\"] = 0"
   ]
  },
  {
   "cell_type": "code",
   "execution_count": 87,
   "id": "9fb9c417",
   "metadata": {},
   "outputs": [
    {
     "data": {
      "text/plain": [
       "6.351464435146443"
      ]
     },
     "execution_count": 87,
     "metadata": {},
     "output_type": "execute_result"
    }
   ],
   "source": [
    "### calculate class weight\n",
    "label0_fts.shape[0]/label1_fts.shape[0]"
   ]
  },
  {
   "cell_type": "code",
   "execution_count": 88,
   "id": "e31072c6",
   "metadata": {},
   "outputs": [
    {
     "data": {
      "text/html": [
       "<div>\n",
       "<style scoped>\n",
       "    .dataframe tbody tr th:only-of-type {\n",
       "        vertical-align: middle;\n",
       "    }\n",
       "\n",
       "    .dataframe tbody tr th {\n",
       "        vertical-align: top;\n",
       "    }\n",
       "\n",
       "    .dataframe thead th {\n",
       "        text-align: right;\n",
       "    }\n",
       "</style>\n",
       "<table border=\"1\" class=\"dataframe\">\n",
       "  <thead>\n",
       "    <tr style=\"text-align: right;\">\n",
       "      <th></th>\n",
       "      <th>user_id</th>\n",
       "      <th>gems_spent</th>\n",
       "      <th>gems_earn</th>\n",
       "      <th>total_gems</th>\n",
       "      <th>chapter_changes</th>\n",
       "      <th>changes_session</th>\n",
       "      <th>story</th>\n",
       "      <th>chapter</th>\n",
       "      <th>days_from_installed</th>\n",
       "      <th>0</th>\n",
       "      <th>1</th>\n",
       "      <th>2</th>\n",
       "      <th>3</th>\n",
       "      <th>4</th>\n",
       "      <th>5</th>\n",
       "      <th>6</th>\n",
       "      <th>label</th>\n",
       "    </tr>\n",
       "  </thead>\n",
       "  <tbody>\n",
       "    <tr>\n",
       "      <th>1462</th>\n",
       "      <td>21750</td>\n",
       "      <td>0.0</td>\n",
       "      <td>0.0</td>\n",
       "      <td>56.0</td>\n",
       "      <td>0.0</td>\n",
       "      <td>10.0</td>\n",
       "      <td>0.0</td>\n",
       "      <td>0.0</td>\n",
       "      <td>0.0</td>\n",
       "      <td>0.0</td>\n",
       "      <td>4.0</td>\n",
       "      <td>4.0</td>\n",
       "      <td>0.0</td>\n",
       "      <td>3.0</td>\n",
       "      <td>0.0</td>\n",
       "      <td>0.0</td>\n",
       "      <td>0</td>\n",
       "    </tr>\n",
       "    <tr>\n",
       "      <th>1479</th>\n",
       "      <td>22018</td>\n",
       "      <td>0.0</td>\n",
       "      <td>0.0</td>\n",
       "      <td>22.0</td>\n",
       "      <td>0.0</td>\n",
       "      <td>0.0</td>\n",
       "      <td>0.0</td>\n",
       "      <td>0.0</td>\n",
       "      <td>0.0</td>\n",
       "      <td>0.0</td>\n",
       "      <td>0.0</td>\n",
       "      <td>0.0</td>\n",
       "      <td>1.0</td>\n",
       "      <td>0.0</td>\n",
       "      <td>0.0</td>\n",
       "      <td>0.0</td>\n",
       "      <td>0</td>\n",
       "    </tr>\n",
       "    <tr>\n",
       "      <th>924</th>\n",
       "      <td>13418</td>\n",
       "      <td>0.0</td>\n",
       "      <td>0.0</td>\n",
       "      <td>64.0</td>\n",
       "      <td>0.0</td>\n",
       "      <td>1.0</td>\n",
       "      <td>0.0</td>\n",
       "      <td>0.0</td>\n",
       "      <td>0.0</td>\n",
       "      <td>0.0</td>\n",
       "      <td>1.0</td>\n",
       "      <td>1.0</td>\n",
       "      <td>0.0</td>\n",
       "      <td>0.0</td>\n",
       "      <td>0.0</td>\n",
       "      <td>0.0</td>\n",
       "      <td>0</td>\n",
       "    </tr>\n",
       "    <tr>\n",
       "      <th>811</th>\n",
       "      <td>11680</td>\n",
       "      <td>0.0</td>\n",
       "      <td>0.0</td>\n",
       "      <td>22.0</td>\n",
       "      <td>0.0</td>\n",
       "      <td>6.0</td>\n",
       "      <td>0.0</td>\n",
       "      <td>0.0</td>\n",
       "      <td>0.0</td>\n",
       "      <td>0.0</td>\n",
       "      <td>0.0</td>\n",
       "      <td>0.0</td>\n",
       "      <td>0.0</td>\n",
       "      <td>0.0</td>\n",
       "      <td>4.0</td>\n",
       "      <td>4.0</td>\n",
       "      <td>0</td>\n",
       "    </tr>\n",
       "    <tr>\n",
       "      <th>933</th>\n",
       "      <td>13625</td>\n",
       "      <td>0.0</td>\n",
       "      <td>0.0</td>\n",
       "      <td>78.0</td>\n",
       "      <td>0.0</td>\n",
       "      <td>3.0</td>\n",
       "      <td>0.0</td>\n",
       "      <td>0.0</td>\n",
       "      <td>0.0</td>\n",
       "      <td>0.0</td>\n",
       "      <td>0.0</td>\n",
       "      <td>1.0</td>\n",
       "      <td>0.0</td>\n",
       "      <td>1.0</td>\n",
       "      <td>0.0</td>\n",
       "      <td>2.0</td>\n",
       "      <td>0</td>\n",
       "    </tr>\n",
       "  </tbody>\n",
       "</table>\n",
       "</div>"
      ],
      "text/plain": [
       "      user_id  gems_spent  gems_earn  total_gems  chapter_changes  \\\n",
       "1462    21750         0.0        0.0        56.0              0.0   \n",
       "1479    22018         0.0        0.0        22.0              0.0   \n",
       "924     13418         0.0        0.0        64.0              0.0   \n",
       "811     11680         0.0        0.0        22.0              0.0   \n",
       "933     13625         0.0        0.0        78.0              0.0   \n",
       "\n",
       "      changes_session  story  chapter  days_from_installed    0    1    2  \\\n",
       "1462             10.0    0.0      0.0                  0.0  0.0  4.0  4.0   \n",
       "1479              0.0    0.0      0.0                  0.0  0.0  0.0  0.0   \n",
       "924               1.0    0.0      0.0                  0.0  0.0  1.0  1.0   \n",
       "811               6.0    0.0      0.0                  0.0  0.0  0.0  0.0   \n",
       "933               3.0    0.0      0.0                  0.0  0.0  0.0  1.0   \n",
       "\n",
       "        3    4    5    6  label  \n",
       "1462  0.0  3.0  0.0  0.0      0  \n",
       "1479  1.0  0.0  0.0  0.0      0  \n",
       "924   0.0  0.0  0.0  0.0      0  \n",
       "811   0.0  0.0  4.0  4.0      0  \n",
       "933   0.0  1.0  0.0  2.0      0  "
      ]
     },
     "execution_count": 88,
     "metadata": {},
     "output_type": "execute_result"
    }
   ],
   "source": [
    "df_data = pd.concat([label0_fts, label1_fts])\n",
    "df_data = df_data.sample(frac=1)\n",
    "df_data.head(5)"
   ]
  },
  {
   "cell_type": "code",
   "execution_count": 89,
   "id": "8337c9ef",
   "metadata": {},
   "outputs": [],
   "source": [
    "def evaluation(y_true, y_pred, title = \"\"):\n",
    "    \"\"\"\n",
    "    This function is used to compute the confusion matrix \n",
    "    and other evaluation metrics.\n",
    "    \"\"\"\n",
    "    cm = confusion_matrix(y_true, y_pred)\n",
    "    print('Confusion Matrix for {}: \\n'.format(title), cm)\n",
    "    total = sum(sum(cm))\n",
    "    \n",
    "    print('=============')\n",
    "    accuracy = (cm[0,0] + cm[1,1]) /total\n",
    "    print ('Accuracy    : {}'.format(accuracy))\n",
    "    Specificity = cm[0,0] / (cm[0,0] + cm[0,1])\n",
    "    print('Specificity :  {}'.format(Specificity))\n",
    "    sensitivity = cm[1,1] / (cm[1,0] + cm[1,1])\n",
    "    print('Sensitivity :  {}'.format(sensitivity))"
   ]
  },
  {
   "cell_type": "code",
   "execution_count": 90,
   "id": "1910282b",
   "metadata": {},
   "outputs": [
    {
     "name": "stderr",
     "output_type": "stream",
     "text": [
      "C:\\Users\\NghiTram\\anaconda3\\envs\\kaggleEnv\\lib\\site-packages\\sklearn\\linear_model\\_logistic.py:765: ConvergenceWarning: lbfgs failed to converge (status=1):\n",
      "STOP: TOTAL NO. of ITERATIONS REACHED LIMIT.\n",
      "\n",
      "Increase the number of iterations (max_iter) or scale the data as shown in:\n",
      "    https://scikit-learn.org/stable/modules/preprocessing.html\n",
      "Please also refer to the documentation for alternative solver options:\n",
      "    https://scikit-learn.org/stable/modules/linear_model.html#logistic-regression\n",
      "  extra_warning_msg=_LOGISTIC_SOLVER_CONVERGENCE_MSG)\n"
     ]
    }
   ],
   "source": [
    "### preparing data\n",
    "X = np.array(df_data.loc[:,~df_data.columns.isin([\"label\", \"user_id\"])])\n",
    "y = np.array(df_data[\"label\"])\n",
    "\n",
    "### spliting test and train dataset from lot 1\n",
    "X_train, X_test, y_train, y_test = train_test_split(X, y, test_size=0.1, random_state=42)\n",
    "\n",
    "### fit the model\n",
    "clf = LogisticRegression(random_state=0, class_weight={0:1, 1:7}).fit(X_train, y_train)"
   ]
  },
  {
   "cell_type": "code",
   "execution_count": 91,
   "id": "885dc026",
   "metadata": {},
   "outputs": [
    {
     "name": "stdout",
     "output_type": "stream",
     "text": [
      "Confusion Matrix for : \n",
      " [[144   8]\n",
      " [  9  15]]\n",
      "=============\n",
      "Accuracy    : 0.9034090909090909\n",
      "Specificity :  0.9473684210526315\n",
      "Sensitivity :  0.625\n"
     ]
    }
   ],
   "source": [
    "evaluation(y_test, clf.predict(X_test))"
   ]
  },
  {
   "cell_type": "code",
   "execution_count": 92,
   "id": "af104e6e",
   "metadata": {},
   "outputs": [
    {
     "data": {
      "text/plain": [
       "array([0, 1, 0, ..., 0, 0, 1], dtype=int64)"
      ]
     },
     "execution_count": 92,
     "metadata": {},
     "output_type": "execute_result"
    }
   ],
   "source": [
    "clf.predict(np.array(test_data_fts.loc[:,~test_data_fts.columns.isin([\"label\", \"user_id\"])])) ### test on potential users"
   ]
  },
  {
   "cell_type": "markdown",
   "id": "ed28692c",
   "metadata": {},
   "source": [
    "### Potential group "
   ]
  },
  {
   "cell_type": "code",
   "execution_count": 53,
   "id": "974527a6",
   "metadata": {},
   "outputs": [
    {
     "data": {
      "text/plain": [
       "(309, 16)"
      ]
     },
     "execution_count": 53,
     "metadata": {},
     "output_type": "execute_result"
    }
   ],
   "source": [
    "potential_users_for_promotion = test_data_fts[(test_data_fts.changes_session > 15)\\\n",
    "              & (test_data_fts.changes_session < 50)]\n",
    "potential_users_for_promotion.shape"
   ]
  },
  {
   "cell_type": "code",
   "execution_count": 54,
   "id": "5d7358e5",
   "metadata": {},
   "outputs": [
    {
     "data": {
      "text/plain": [
       "array([[0.92350377, 0.07649623],\n",
       "       [0.55440588, 0.44559412],\n",
       "       [0.88829504, 0.11170496],\n",
       "       ...,\n",
       "       [0.91385049, 0.08614951],\n",
       "       [0.9034045 , 0.0965955 ],\n",
       "       [0.71778615, 0.28221385]])"
      ]
     },
     "execution_count": 54,
     "metadata": {},
     "output_type": "execute_result"
    }
   ],
   "source": [
    "clf.predict_proba(np.array(test_data_fts.loc[:,~test_data_fts.columns.isin([\"label\", \"user_id\"])]))"
   ]
  },
  {
   "cell_type": "code",
   "execution_count": null,
   "id": "4aab2611",
   "metadata": {},
   "outputs": [],
   "source": []
  }
 ],
 "metadata": {
  "kernelspec": {
   "display_name": "Python 3",
   "language": "python",
   "name": "python3"
  },
  "language_info": {
   "codemirror_mode": {
    "name": "ipython",
    "version": 3
   },
   "file_extension": ".py",
   "mimetype": "text/x-python",
   "name": "python",
   "nbconvert_exporter": "python",
   "pygments_lexer": "ipython3",
   "version": "3.7.9"
  }
 },
 "nbformat": 4,
 "nbformat_minor": 5
}

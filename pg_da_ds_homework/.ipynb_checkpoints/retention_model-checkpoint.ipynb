{
 "cells": [
  {
   "cell_type": "code",
   "execution_count": 1,
   "id": "ea18cf96",
   "metadata": {},
   "outputs": [],
   "source": [
    "import pandas as pd\n",
    "\n",
    "### import extra package\n",
    "import matplotlib.pyplot as plt\n",
    "import seaborn as sns\n",
    "import numpy as np\n",
    "\n",
    "#### modelling package\n",
    "from statsmodels.graphics.mosaicplot import mosaic\n",
    "import statsmodels\n",
    "from statsmodels.formula.api import logit\n",
    "from sklearn.linear_model import LogisticRegression\n",
    "from sklearn.model_selection import train_test_split\n",
    "\n",
    "\n",
    "#### importing evaluation package \n",
    "from sklearn.metrics import f1_score, confusion_matrix, roc_auc_score, auc,\\\n",
    "precision_recall_curve, roc_curve, average_precision_score\n",
    "from sklearn import metrics"
   ]
  },
  {
   "cell_type": "markdown",
   "id": "cd1eab0c",
   "metadata": {},
   "source": [
    "### Helper functions"
   ]
  },
  {
   "cell_type": "code",
   "execution_count": 2,
   "id": "b513a41d",
   "metadata": {},
   "outputs": [],
   "source": [
    "def evaluation(y_true, y_pred, title = \"\"):\n",
    "    \"\"\"\n",
    "    This function is used to compute the confusion matrix \n",
    "    and other evaluation metrics.\n",
    "    \"\"\"\n",
    "    cm = confusion_matrix(y_true, y_pred)\n",
    "    print('Confusion Matrix for {}: \\n'.format(title), cm)\n",
    "    total = sum(sum(cm))\n",
    "    \n",
    "    print('=============')\n",
    "    accuracy = (cm[0,0] + cm[1,1]) /total\n",
    "    print ('Accuracy    : {}'.format(accuracy))\n",
    "    Specificity = cm[0,0] / (cm[0,0] + cm[0,1])\n",
    "    print('Specificity :  {}'.format(Specificity))\n",
    "    sensitivity = cm[1,1] / (cm[1,0] + cm[1,1])\n",
    "    print('Sensitivity :  {}'.format(sensitivity))\n",
    "    \n",
    "    \n",
    "def plot_swarm(x, y, df):\n",
    "    sns.set()\n",
    "    sns.swarmplot(x=x, y = y, data = df)\n",
    "    plt.xlabel(x)\n",
    "    plt.ylabel(y)\n",
    "    plt.show()\n",
    "    \n",
    "def ecdf(data):\n",
    "    n = len(data)\n",
    "    x = np.sort(data)\n",
    "    y = np.arange(1, n+1) / n\n",
    "    return x, y"
   ]
  },
  {
   "cell_type": "markdown",
   "id": "237b7fdf",
   "metadata": {},
   "source": [
    "### Global parameter "
   ]
  },
  {
   "cell_type": "code",
   "execution_count": 22,
   "id": "b0ef6143",
   "metadata": {},
   "outputs": [],
   "source": [
    "look_back_days = 7"
   ]
  },
  {
   "cell_type": "markdown",
   "id": "fedc299d",
   "metadata": {},
   "source": [
    "### Data Preparation "
   ]
  },
  {
   "cell_type": "code",
   "execution_count": 3,
   "id": "99319e14",
   "metadata": {},
   "outputs": [],
   "source": [
    "### load data \n",
    "user_df = pd.read_csv(\"users.csv\")\n",
    "sessions_df = pd.read_csv(\"sessions.csv\").drop_duplicates()\n",
    "iaps_df = pd.read_csv(\"iaps.csv\").drop_duplicates()\n",
    "spending_df = pd.read_csv(\"spendevents.csv\").drop_duplicates()\n",
    "\n",
    "### change to datetime format\n",
    "spending_df[\"date\"] = pd.to_datetime(spending_df[\"date\"])\n",
    "sessions_df[\"date\"] = pd.to_datetime(sessions_df[\"date\"])\n",
    "user_df[\"install_date\"] = pd.to_datetime(user_df[\"install_date\"])\n",
    "iaps_df[\"date\"] = pd.to_datetime(iaps_df[\"date\"])"
   ]
  },
  {
   "cell_type": "code",
   "execution_count": 4,
   "id": "0e352172",
   "metadata": {},
   "outputs": [],
   "source": [
    "sessions_df = pd.merge(sessions_df, user_df[[\"user_id\", \"install_date\"]])\n",
    "spending_df = pd.merge(spending_df, user_df[[\"user_id\", \"install_date\"]])"
   ]
  },
  {
   "cell_type": "code",
   "execution_count": 5,
   "id": "00bbb0ff",
   "metadata": {},
   "outputs": [
    {
     "data": {
      "text/html": [
       "<div>\n",
       "<style scoped>\n",
       "    .dataframe tbody tr th:only-of-type {\n",
       "        vertical-align: middle;\n",
       "    }\n",
       "\n",
       "    .dataframe tbody tr th {\n",
       "        vertical-align: top;\n",
       "    }\n",
       "\n",
       "    .dataframe thead th {\n",
       "        text-align: right;\n",
       "    }\n",
       "</style>\n",
       "<table border=\"1\" class=\"dataframe\">\n",
       "  <thead>\n",
       "    <tr style=\"text-align: right;\">\n",
       "      <th></th>\n",
       "      <th>user_id</th>\n",
       "      <th>ts</th>\n",
       "      <th>date</th>\n",
       "      <th>story</th>\n",
       "      <th>chapter</th>\n",
       "      <th>spendtype</th>\n",
       "      <th>currency</th>\n",
       "      <th>amount</th>\n",
       "      <th>install_date</th>\n",
       "    </tr>\n",
       "  </thead>\n",
       "  <tbody>\n",
       "    <tr>\n",
       "      <th>0</th>\n",
       "      <td>9829</td>\n",
       "      <td>2019-03-01 03:03:04</td>\n",
       "      <td>2019-03-01</td>\n",
       "      <td>story_1</td>\n",
       "      <td>0</td>\n",
       "      <td>earnGemsCounter</td>\n",
       "      <td>gems</td>\n",
       "      <td>-22</td>\n",
       "      <td>2019-03-01</td>\n",
       "    </tr>\n",
       "    <tr>\n",
       "      <th>1</th>\n",
       "      <td>13757</td>\n",
       "      <td>2019-03-01 03:35:53</td>\n",
       "      <td>2019-03-01</td>\n",
       "      <td>story_1</td>\n",
       "      <td>0</td>\n",
       "      <td>earnGemsCounter</td>\n",
       "      <td>gems</td>\n",
       "      <td>-22</td>\n",
       "      <td>2019-03-01</td>\n",
       "    </tr>\n",
       "    <tr>\n",
       "      <th>2</th>\n",
       "      <td>13757</td>\n",
       "      <td>2019-03-01 03:52:10</td>\n",
       "      <td>2019-03-01</td>\n",
       "      <td>story_2</td>\n",
       "      <td>0</td>\n",
       "      <td>earnGemsCounter</td>\n",
       "      <td>gems</td>\n",
       "      <td>-22</td>\n",
       "      <td>2019-03-01</td>\n",
       "    </tr>\n",
       "    <tr>\n",
       "      <th>3</th>\n",
       "      <td>13757</td>\n",
       "      <td>2019-04-16 04:29:18</td>\n",
       "      <td>2019-04-16</td>\n",
       "      <td>story_1</td>\n",
       "      <td>9</td>\n",
       "      <td>premiumChoice</td>\n",
       "      <td>gems</td>\n",
       "      <td>24</td>\n",
       "      <td>2019-03-01</td>\n",
       "    </tr>\n",
       "    <tr>\n",
       "      <th>4</th>\n",
       "      <td>13757</td>\n",
       "      <td>2019-04-17 04:41:31</td>\n",
       "      <td>2019-04-17</td>\n",
       "      <td>story_2</td>\n",
       "      <td>2</td>\n",
       "      <td>earnGemsCounter</td>\n",
       "      <td>gems</td>\n",
       "      <td>-10</td>\n",
       "      <td>2019-03-01</td>\n",
       "    </tr>\n",
       "  </tbody>\n",
       "</table>\n",
       "</div>"
      ],
      "text/plain": [
       "   user_id                   ts       date    story  chapter        spendtype  \\\n",
       "0     9829  2019-03-01 03:03:04 2019-03-01  story_1        0  earnGemsCounter   \n",
       "1    13757  2019-03-01 03:35:53 2019-03-01  story_1        0  earnGemsCounter   \n",
       "2    13757  2019-03-01 03:52:10 2019-03-01  story_2        0  earnGemsCounter   \n",
       "3    13757  2019-04-16 04:29:18 2019-04-16  story_1        9    premiumChoice   \n",
       "4    13757  2019-04-17 04:41:31 2019-04-17  story_2        2  earnGemsCounter   \n",
       "\n",
       "  currency  amount install_date  \n",
       "0     gems     -22   2019-03-01  \n",
       "1     gems     -22   2019-03-01  \n",
       "2     gems     -22   2019-03-01  \n",
       "3     gems      24   2019-03-01  \n",
       "4     gems     -10   2019-03-01  "
      ]
     },
     "execution_count": 5,
     "metadata": {},
     "output_type": "execute_result"
    }
   ],
   "source": [
    "spending_df.head()"
   ]
  },
  {
   "cell_type": "code",
   "execution_count": 6,
   "id": "97ead644",
   "metadata": {},
   "outputs": [],
   "source": [
    "def add_num_active_days_column(df):\n",
    "    df[\"days_from_installed\"] = df[\"date\"] - df[\"install_date\"]\n",
    "    df[\"days_from_installed\"] = df[\"days_from_installed\"].dt.days\n",
    "    idx = df.groupby(\"user_id\")[\"days_from_installed\"].transform(max)\\\n",
    "        == df[\"days_from_installed\"]\n",
    "    num_days_active_sessions = df[idx][[\"user_id\", \"days_from_installed\"]]\\\n",
    "                                .drop_duplicates().rename(columns={\"days_from_installed\": \"active_days_sessions\"})\n",
    "    df = pd.merge(df, num_days_active_sessions, on = \"user_id\")\n",
    "    return df\n",
    "sessions_df = add_num_active_days_column(sessions_df)\n",
    "spending_df = add_num_active_days_column(spending_df)"
   ]
  },
  {
   "cell_type": "code",
   "execution_count": 7,
   "id": "40908fdf",
   "metadata": {},
   "outputs": [],
   "source": [
    "def add_last_active_date_column(sessions, spending):\n",
    "    idx = sessions.groupby(\"user_id\")[\"ts\"].transform(max) == sessions[\"ts\"]\n",
    "    last_day_session = sessions[idx][[\"user_id\", \"ts\"]].rename(columns={\"ts\": \"last_active_date\"})\n",
    "    sessions = pd.merge(sessions, last_day_session, on = \"user_id\")\n",
    "    spending = pd.merge(spending, last_day_session, on = \"user_id\")\n",
    "    \n",
    "    return sessions, spending\n",
    "sessions_df, spending_df = add_last_active_date_column(sessions_df, spending_df)"
   ]
  },
  {
   "cell_type": "code",
   "execution_count": 9,
   "id": "606cc948",
   "metadata": {},
   "outputs": [
    {
     "data": {
      "text/html": [
       "<div>\n",
       "<style scoped>\n",
       "    .dataframe tbody tr th:only-of-type {\n",
       "        vertical-align: middle;\n",
       "    }\n",
       "\n",
       "    .dataframe tbody tr th {\n",
       "        vertical-align: top;\n",
       "    }\n",
       "\n",
       "    .dataframe thead th {\n",
       "        text-align: right;\n",
       "    }\n",
       "</style>\n",
       "<table border=\"1\" class=\"dataframe\">\n",
       "  <thead>\n",
       "    <tr style=\"text-align: right;\">\n",
       "      <th></th>\n",
       "      <th>user_id</th>\n",
       "      <th>ts</th>\n",
       "      <th>date</th>\n",
       "      <th>session_num</th>\n",
       "      <th>last_session_termination_type</th>\n",
       "      <th>install_date</th>\n",
       "      <th>days_from_installed</th>\n",
       "      <th>active_days_sessions</th>\n",
       "      <th>last_active_date</th>\n",
       "    </tr>\n",
       "  </thead>\n",
       "  <tbody>\n",
       "    <tr>\n",
       "      <th>0</th>\n",
       "      <td>14067</td>\n",
       "      <td>2019-03-01 00:06:50</td>\n",
       "      <td>2019-03-01</td>\n",
       "      <td>1</td>\n",
       "      <td>NaN</td>\n",
       "      <td>2019-03-01</td>\n",
       "      <td>0</td>\n",
       "      <td>22</td>\n",
       "      <td>2019-03-23 22:57:59</td>\n",
       "    </tr>\n",
       "    <tr>\n",
       "      <th>1</th>\n",
       "      <td>14067</td>\n",
       "      <td>2019-03-01 00:22:27</td>\n",
       "      <td>2019-03-01</td>\n",
       "      <td>2</td>\n",
       "      <td>NaN</td>\n",
       "      <td>2019-03-01</td>\n",
       "      <td>0</td>\n",
       "      <td>22</td>\n",
       "      <td>2019-03-23 22:57:59</td>\n",
       "    </tr>\n",
       "    <tr>\n",
       "      <th>2</th>\n",
       "      <td>14067</td>\n",
       "      <td>2019-03-01 09:42:32</td>\n",
       "      <td>2019-03-01</td>\n",
       "      <td>3</td>\n",
       "      <td>NaN</td>\n",
       "      <td>2019-03-01</td>\n",
       "      <td>0</td>\n",
       "      <td>22</td>\n",
       "      <td>2019-03-23 22:57:59</td>\n",
       "    </tr>\n",
       "    <tr>\n",
       "      <th>3</th>\n",
       "      <td>14067</td>\n",
       "      <td>2019-03-01 09:43:33</td>\n",
       "      <td>2019-03-01</td>\n",
       "      <td>4</td>\n",
       "      <td>NaN</td>\n",
       "      <td>2019-03-01</td>\n",
       "      <td>0</td>\n",
       "      <td>22</td>\n",
       "      <td>2019-03-23 22:57:59</td>\n",
       "    </tr>\n",
       "    <tr>\n",
       "      <th>4</th>\n",
       "      <td>14067</td>\n",
       "      <td>2019-03-01 09:55:33</td>\n",
       "      <td>2019-03-01</td>\n",
       "      <td>5</td>\n",
       "      <td>NaN</td>\n",
       "      <td>2019-03-01</td>\n",
       "      <td>0</td>\n",
       "      <td>22</td>\n",
       "      <td>2019-03-23 22:57:59</td>\n",
       "    </tr>\n",
       "  </tbody>\n",
       "</table>\n",
       "</div>"
      ],
      "text/plain": [
       "   user_id                   ts       date  session_num  \\\n",
       "0    14067  2019-03-01 00:06:50 2019-03-01            1   \n",
       "1    14067  2019-03-01 00:22:27 2019-03-01            2   \n",
       "2    14067  2019-03-01 09:42:32 2019-03-01            3   \n",
       "3    14067  2019-03-01 09:43:33 2019-03-01            4   \n",
       "4    14067  2019-03-01 09:55:33 2019-03-01            5   \n",
       "\n",
       "   last_session_termination_type install_date  days_from_installed  \\\n",
       "0                            NaN   2019-03-01                    0   \n",
       "1                            NaN   2019-03-01                    0   \n",
       "2                            NaN   2019-03-01                    0   \n",
       "3                            NaN   2019-03-01                    0   \n",
       "4                            NaN   2019-03-01                    0   \n",
       "\n",
       "   active_days_sessions     last_active_date  \n",
       "0                    22  2019-03-23 22:57:59  \n",
       "1                    22  2019-03-23 22:57:59  \n",
       "2                    22  2019-03-23 22:57:59  \n",
       "3                    22  2019-03-23 22:57:59  \n",
       "4                    22  2019-03-23 22:57:59  "
      ]
     },
     "execution_count": 9,
     "metadata": {},
     "output_type": "execute_result"
    }
   ],
   "source": [
    "sessions_df.head()"
   ]
  },
  {
   "cell_type": "code",
   "execution_count": 10,
   "id": "ac003605",
   "metadata": {},
   "outputs": [
    {
     "data": {
      "text/html": [
       "<div>\n",
       "<style scoped>\n",
       "    .dataframe tbody tr th:only-of-type {\n",
       "        vertical-align: middle;\n",
       "    }\n",
       "\n",
       "    .dataframe tbody tr th {\n",
       "        vertical-align: top;\n",
       "    }\n",
       "\n",
       "    .dataframe thead th {\n",
       "        text-align: right;\n",
       "    }\n",
       "</style>\n",
       "<table border=\"1\" class=\"dataframe\">\n",
       "  <thead>\n",
       "    <tr style=\"text-align: right;\">\n",
       "      <th></th>\n",
       "      <th>user_id</th>\n",
       "      <th>iap_date</th>\n",
       "      <th>days_to_first_purchase</th>\n",
       "      <th>install_date</th>\n",
       "    </tr>\n",
       "  </thead>\n",
       "  <tbody>\n",
       "    <tr>\n",
       "      <th>0</th>\n",
       "      <td>2</td>\n",
       "      <td>2019-03-07 11:50:37</td>\n",
       "      <td>1</td>\n",
       "      <td>2019-03-06</td>\n",
       "    </tr>\n",
       "    <tr>\n",
       "      <th>1</th>\n",
       "      <td>21</td>\n",
       "      <td>2019-03-09 10:18:32</td>\n",
       "      <td>2</td>\n",
       "      <td>2019-03-07</td>\n",
       "    </tr>\n",
       "    <tr>\n",
       "      <th>4</th>\n",
       "      <td>36</td>\n",
       "      <td>2019-03-02 23:34:17</td>\n",
       "      <td>0</td>\n",
       "      <td>2019-03-02</td>\n",
       "    </tr>\n",
       "    <tr>\n",
       "      <th>10</th>\n",
       "      <td>51</td>\n",
       "      <td>2019-03-02 21:19:39</td>\n",
       "      <td>0</td>\n",
       "      <td>2019-03-02</td>\n",
       "    </tr>\n",
       "    <tr>\n",
       "      <th>20</th>\n",
       "      <td>85</td>\n",
       "      <td>2019-04-17 18:26:44</td>\n",
       "      <td>41</td>\n",
       "      <td>2019-03-07</td>\n",
       "    </tr>\n",
       "  </tbody>\n",
       "</table>\n",
       "</div>"
      ],
      "text/plain": [
       "    user_id             iap_date  days_to_first_purchase install_date\n",
       "0         2  2019-03-07 11:50:37                       1   2019-03-06\n",
       "1        21  2019-03-09 10:18:32                       2   2019-03-07\n",
       "4        36  2019-03-02 23:34:17                       0   2019-03-02\n",
       "10       51  2019-03-02 21:19:39                       0   2019-03-02\n",
       "20       85  2019-04-17 18:26:44                      41   2019-03-07"
      ]
     },
     "execution_count": 10,
     "metadata": {},
     "output_type": "execute_result"
    }
   ],
   "source": [
    "### extract paying users and their info\n",
    "users_iaps = pd.merge(user_df, iaps_df, on = \"user_id\")\n",
    "users_iaps[\"days_to_first_purchase\"] = users_iaps[\"date\"] - users_iaps[\"install_date\"]\n",
    "users_iaps[\"days_to_first_purchase\"] = users_iaps[\"days_to_first_purchase\"].dt.days\n",
    "users_iaps[\"rank\"] = users_iaps.groupby([\"user_id\"])[\"days_to_first_purchase\"].rank(method=\"first\", ascending=True)\n",
    "users_iaps[\"rank\"] = users_iaps[\"rank\"].astype(int)\n",
    "paying_users_df = users_iaps[users_iaps[\"rank\"]==1]\n",
    "first_iap_day_df = paying_users_df[[\"user_id\", \"ts\", \"days_to_first_purchase\",\\\n",
    "                                    \"install_date\"]].rename(columns={\"ts\": \"iap_date\"}) #### 1526 paying users\n",
    "first_iap_day_df.head()"
   ]
  },
  {
   "cell_type": "code",
   "execution_count": 11,
   "id": "4259adec",
   "metadata": {},
   "outputs": [],
   "source": [
    "earnGemsCounter_df = spending_df[spending_df.spendtype=='earnGemsCounter']\n",
    "premiumChoice_df = spending_df[spending_df.spendtype=='premiumChoice']\n",
    "IAP_df = spending_df[spending_df.spendtype=='IAP']"
   ]
  },
  {
   "cell_type": "markdown",
   "id": "0936c09d",
   "metadata": {},
   "source": [
    "### extract non-paying users \n",
    "- Remove non-active players (those are not active within 7 days)\n",
    "- All users who haven’t converted after 45 days and still active will be labeled as 0.\n",
    "- In the label 0 group of 2463 non-paying users, 186 of them don't have record in spendevents. We will exclude them "
   ]
  },
  {
   "cell_type": "code",
   "execution_count": 12,
   "id": "864ea879",
   "metadata": {},
   "outputs": [
    {
     "data": {
      "text/html": [
       "<div>\n",
       "<style scoped>\n",
       "    .dataframe tbody tr th:only-of-type {\n",
       "        vertical-align: middle;\n",
       "    }\n",
       "\n",
       "    .dataframe tbody tr th {\n",
       "        vertical-align: top;\n",
       "    }\n",
       "\n",
       "    .dataframe thead th {\n",
       "        text-align: right;\n",
       "    }\n",
       "</style>\n",
       "<table border=\"1\" class=\"dataframe\">\n",
       "  <thead>\n",
       "    <tr style=\"text-align: right;\">\n",
       "      <th></th>\n",
       "      <th>user_id</th>\n",
       "      <th>install_date</th>\n",
       "      <th>lang</th>\n",
       "      <th>country</th>\n",
       "      <th>hw_ver</th>\n",
       "      <th>os_ver</th>\n",
       "    </tr>\n",
       "  </thead>\n",
       "  <tbody>\n",
       "    <tr>\n",
       "      <th>0</th>\n",
       "      <td>0</td>\n",
       "      <td>2019-03-01</td>\n",
       "      <td>en</td>\n",
       "      <td>US</td>\n",
       "      <td>iPhone4,1</td>\n",
       "      <td>9.1</td>\n",
       "    </tr>\n",
       "    <tr>\n",
       "      <th>1</th>\n",
       "      <td>1</td>\n",
       "      <td>2019-03-01</td>\n",
       "      <td>en</td>\n",
       "      <td>IN</td>\n",
       "      <td>iPod5,1</td>\n",
       "      <td>8.1.2</td>\n",
       "    </tr>\n",
       "  </tbody>\n",
       "</table>\n",
       "</div>"
      ],
      "text/plain": [
       "   user_id install_date lang country     hw_ver os_ver\n",
       "0        0   2019-03-01   en      US  iPhone4,1    9.1\n",
       "1        1   2019-03-01   en      IN    iPod5,1  8.1.2"
      ]
     },
     "execution_count": 12,
     "metadata": {},
     "output_type": "execute_result"
    }
   ],
   "source": [
    "non_payer_df = user_df[~user_df.user_id.isin(iaps_df[\"user_id\"].unique())]\n",
    "non_payer_df.head(2)"
   ]
  },
  {
   "cell_type": "code",
   "execution_count": 13,
   "id": "185ef464",
   "metadata": {},
   "outputs": [
    {
     "data": {
      "text/html": [
       "<div>\n",
       "<style scoped>\n",
       "    .dataframe tbody tr th:only-of-type {\n",
       "        vertical-align: middle;\n",
       "    }\n",
       "\n",
       "    .dataframe tbody tr th {\n",
       "        vertical-align: top;\n",
       "    }\n",
       "\n",
       "    .dataframe thead th {\n",
       "        text-align: right;\n",
       "    }\n",
       "</style>\n",
       "<table border=\"1\" class=\"dataframe\">\n",
       "  <thead>\n",
       "    <tr style=\"text-align: right;\">\n",
       "      <th></th>\n",
       "      <th>user_id</th>\n",
       "      <th>ts</th>\n",
       "      <th>date</th>\n",
       "      <th>session_num</th>\n",
       "      <th>last_session_termination_type</th>\n",
       "      <th>install_date</th>\n",
       "      <th>days_from_installed</th>\n",
       "      <th>active_days_sessions</th>\n",
       "      <th>last_active_date</th>\n",
       "    </tr>\n",
       "  </thead>\n",
       "  <tbody>\n",
       "    <tr>\n",
       "      <th>0</th>\n",
       "      <td>0</td>\n",
       "      <td>2019-03-01 12:39:19</td>\n",
       "      <td>2019-03-01</td>\n",
       "      <td>1</td>\n",
       "      <td>NaN</td>\n",
       "      <td>2019-03-01</td>\n",
       "      <td>0</td>\n",
       "      <td>4</td>\n",
       "      <td>2019-03-05 05:39:29</td>\n",
       "    </tr>\n",
       "    <tr>\n",
       "      <th>1</th>\n",
       "      <td>0</td>\n",
       "      <td>2019-03-01 12:45:47</td>\n",
       "      <td>2019-03-01</td>\n",
       "      <td>2</td>\n",
       "      <td>NaN</td>\n",
       "      <td>2019-03-01</td>\n",
       "      <td>0</td>\n",
       "      <td>4</td>\n",
       "      <td>2019-03-05 05:39:29</td>\n",
       "    </tr>\n",
       "  </tbody>\n",
       "</table>\n",
       "</div>"
      ],
      "text/plain": [
       "   user_id                   ts       date  session_num  \\\n",
       "0        0  2019-03-01 12:39:19 2019-03-01            1   \n",
       "1        0  2019-03-01 12:45:47 2019-03-01            2   \n",
       "\n",
       "   last_session_termination_type install_date  days_from_installed  \\\n",
       "0                            NaN   2019-03-01                    0   \n",
       "1                            NaN   2019-03-01                    0   \n",
       "\n",
       "   active_days_sessions     last_active_date  \n",
       "0                     4  2019-03-05 05:39:29  \n",
       "1                     4  2019-03-05 05:39:29  "
      ]
     },
     "execution_count": 13,
     "metadata": {},
     "output_type": "execute_result"
    }
   ],
   "source": [
    "non_payer_df = user_df[~user_df.user_id.isin(iaps_df[\"user_id\"].unique())][[\"user_id\"]] ## total of 21050 non-paying users\n",
    "session_non_payer_df = pd.merge(non_payer_df[[\"user_id\"]], sessions_df, on = \"user_id\")\n",
    "session_non_payer_df.head(2) #### 21018 unique users"
   ]
  },
  {
   "cell_type": "code",
   "execution_count": 14,
   "id": "ed67798d",
   "metadata": {},
   "outputs": [
    {
     "data": {
      "text/html": [
       "<div>\n",
       "<style scoped>\n",
       "    .dataframe tbody tr th:only-of-type {\n",
       "        vertical-align: middle;\n",
       "    }\n",
       "\n",
       "    .dataframe tbody tr th {\n",
       "        vertical-align: top;\n",
       "    }\n",
       "\n",
       "    .dataframe thead th {\n",
       "        text-align: right;\n",
       "    }\n",
       "</style>\n",
       "<table border=\"1\" class=\"dataframe\">\n",
       "  <thead>\n",
       "    <tr style=\"text-align: right;\">\n",
       "      <th></th>\n",
       "      <th>user_id</th>\n",
       "      <th>ts</th>\n",
       "      <th>date</th>\n",
       "      <th>session_num</th>\n",
       "      <th>last_session_termination_type</th>\n",
       "      <th>install_date</th>\n",
       "      <th>days_from_installed</th>\n",
       "      <th>active_days_sessions</th>\n",
       "      <th>last_active_date</th>\n",
       "      <th>most_recent_date</th>\n",
       "      <th>days_to_most_recent</th>\n",
       "    </tr>\n",
       "  </thead>\n",
       "  <tbody>\n",
       "    <tr>\n",
       "      <th>0</th>\n",
       "      <td>0</td>\n",
       "      <td>2019-03-01 12:39:19</td>\n",
       "      <td>2019-03-01</td>\n",
       "      <td>1</td>\n",
       "      <td>NaN</td>\n",
       "      <td>2019-03-01</td>\n",
       "      <td>0</td>\n",
       "      <td>4</td>\n",
       "      <td>2019-03-05 05:39:29</td>\n",
       "      <td>2019-05-06</td>\n",
       "      <td>66</td>\n",
       "    </tr>\n",
       "    <tr>\n",
       "      <th>1</th>\n",
       "      <td>0</td>\n",
       "      <td>2019-03-01 12:45:47</td>\n",
       "      <td>2019-03-01</td>\n",
       "      <td>2</td>\n",
       "      <td>NaN</td>\n",
       "      <td>2019-03-01</td>\n",
       "      <td>0</td>\n",
       "      <td>4</td>\n",
       "      <td>2019-03-05 05:39:29</td>\n",
       "      <td>2019-05-06</td>\n",
       "      <td>66</td>\n",
       "    </tr>\n",
       "  </tbody>\n",
       "</table>\n",
       "</div>"
      ],
      "text/plain": [
       "   user_id                   ts       date  session_num  \\\n",
       "0        0  2019-03-01 12:39:19 2019-03-01            1   \n",
       "1        0  2019-03-01 12:45:47 2019-03-01            2   \n",
       "\n",
       "   last_session_termination_type install_date  days_from_installed  \\\n",
       "0                            NaN   2019-03-01                    0   \n",
       "1                            NaN   2019-03-01                    0   \n",
       "\n",
       "   active_days_sessions     last_active_date most_recent_date  \\\n",
       "0                     4  2019-03-05 05:39:29       2019-05-06   \n",
       "1                     4  2019-03-05 05:39:29       2019-05-06   \n",
       "\n",
       "   days_to_most_recent  \n",
       "0                   66  \n",
       "1                   66  "
      ]
     },
     "execution_count": 14,
     "metadata": {},
     "output_type": "execute_result"
    }
   ],
   "source": [
    "session_non_payer_df[\"most_recent_date\"] = pd.to_datetime('2019-05-06')\n",
    "session_non_payer_df[\"days_to_most_recent\"] = session_non_payer_df[\"most_recent_date\"] - session_non_payer_df[\"date\"]\n",
    "session_non_payer_df[\"days_to_most_recent\"] = session_non_payer_df[\"days_to_most_recent\"].dt.days\n",
    "session_non_payer_df.head(2)"
   ]
  },
  {
   "cell_type": "markdown",
   "id": "877ab68b",
   "metadata": {},
   "source": [
    "### Test set"
   ]
  },
  {
   "cell_type": "code",
   "execution_count": 15,
   "id": "b59bd771",
   "metadata": {},
   "outputs": [
    {
     "data": {
      "text/html": [
       "<div>\n",
       "<style scoped>\n",
       "    .dataframe tbody tr th:only-of-type {\n",
       "        vertical-align: middle;\n",
       "    }\n",
       "\n",
       "    .dataframe tbody tr th {\n",
       "        vertical-align: top;\n",
       "    }\n",
       "\n",
       "    .dataframe thead th {\n",
       "        text-align: right;\n",
       "    }\n",
       "</style>\n",
       "<table border=\"1\" class=\"dataframe\">\n",
       "  <thead>\n",
       "    <tr style=\"text-align: right;\">\n",
       "      <th></th>\n",
       "      <th>user_id</th>\n",
       "      <th>install_date</th>\n",
       "    </tr>\n",
       "  </thead>\n",
       "  <tbody>\n",
       "    <tr>\n",
       "      <th>285</th>\n",
       "      <td>10</td>\n",
       "      <td>2019-03-05</td>\n",
       "    </tr>\n",
       "    <tr>\n",
       "      <th>337</th>\n",
       "      <td>11</td>\n",
       "      <td>2019-03-04</td>\n",
       "    </tr>\n",
       "  </tbody>\n",
       "</table>\n",
       "</div>"
      ],
      "text/plain": [
       "     user_id install_date\n",
       "285       10   2019-03-05\n",
       "337       11   2019-03-04"
      ]
     },
     "execution_count": 15,
     "metadata": {},
     "output_type": "execute_result"
    }
   ],
   "source": [
    "NPU_active_users = session_non_payer_df[session_non_payer_df[\"days_to_most_recent\"] <= 10]\n",
    "NPU_active_users = NPU_active_users[[\"user_id\", \"install_date\"]].drop_duplicates()\n",
    "NPU_active_users.head(2) ### 1733 users"
   ]
  },
  {
   "cell_type": "code",
   "execution_count": 17,
   "id": "afbcb86b",
   "metadata": {},
   "outputs": [
    {
     "data": {
      "text/html": [
       "<div>\n",
       "<style scoped>\n",
       "    .dataframe tbody tr th:only-of-type {\n",
       "        vertical-align: middle;\n",
       "    }\n",
       "\n",
       "    .dataframe tbody tr th {\n",
       "        vertical-align: top;\n",
       "    }\n",
       "\n",
       "    .dataframe thead th {\n",
       "        text-align: right;\n",
       "    }\n",
       "</style>\n",
       "<table border=\"1\" class=\"dataframe\">\n",
       "  <thead>\n",
       "    <tr style=\"text-align: right;\">\n",
       "      <th></th>\n",
       "      <th>user_id</th>\n",
       "      <th>install_date_x</th>\n",
       "      <th>ts</th>\n",
       "      <th>date</th>\n",
       "      <th>session_num</th>\n",
       "      <th>last_session_termination_type</th>\n",
       "      <th>install_date_y</th>\n",
       "      <th>days_from_installed</th>\n",
       "      <th>active_days_sessions</th>\n",
       "      <th>last_active_date</th>\n",
       "    </tr>\n",
       "  </thead>\n",
       "  <tbody>\n",
       "    <tr>\n",
       "      <th>0</th>\n",
       "      <td>10</td>\n",
       "      <td>2019-03-05</td>\n",
       "      <td>2019-03-05 05:56:59</td>\n",
       "      <td>2019-03-05</td>\n",
       "      <td>1</td>\n",
       "      <td>NaN</td>\n",
       "      <td>2019-03-05</td>\n",
       "      <td>0</td>\n",
       "      <td>60</td>\n",
       "      <td>2019-05-04 23:16:31</td>\n",
       "    </tr>\n",
       "    <tr>\n",
       "      <th>1</th>\n",
       "      <td>10</td>\n",
       "      <td>2019-03-05</td>\n",
       "      <td>2019-03-05 05:58:30</td>\n",
       "      <td>2019-03-05</td>\n",
       "      <td>2</td>\n",
       "      <td>NaN</td>\n",
       "      <td>2019-03-05</td>\n",
       "      <td>0</td>\n",
       "      <td>60</td>\n",
       "      <td>2019-05-04 23:16:31</td>\n",
       "    </tr>\n",
       "  </tbody>\n",
       "</table>\n",
       "</div>"
      ],
      "text/plain": [
       "   user_id install_date_x                   ts       date  session_num  \\\n",
       "0       10     2019-03-05  2019-03-05 05:56:59 2019-03-05            1   \n",
       "1       10     2019-03-05  2019-03-05 05:58:30 2019-03-05            2   \n",
       "\n",
       "   last_session_termination_type install_date_y  days_from_installed  \\\n",
       "0                            NaN     2019-03-05                    0   \n",
       "1                            NaN     2019-03-05                    0   \n",
       "\n",
       "   active_days_sessions     last_active_date  \n",
       "0                    60  2019-05-04 23:16:31  \n",
       "1                    60  2019-05-04 23:16:31  "
      ]
     },
     "execution_count": 17,
     "metadata": {},
     "output_type": "execute_result"
    }
   ],
   "source": [
    "### characteristics of churning users \n",
    "NPU_active_users_spending = pd.merge(NPU_active_users, spending_df, on=\"user_id\")\n",
    "NPU_active_users_spending.head(2) ### 1608 users\n",
    "\n",
    "NPU_active_users_sessions = pd.merge(NPU_active_users, sessions_df, on=\"user_id\")\n",
    "NPU_active_users_sessions.head(2) ### 1608 users"
   ]
  },
  {
   "cell_type": "code",
   "execution_count": 23,
   "id": "c8046461",
   "metadata": {},
   "outputs": [
    {
     "name": "stderr",
     "output_type": "stream",
     "text": [
      "C:\\Users\\NghiTram\\anaconda3\\envs\\kaggleEnv\\lib\\site-packages\\ipykernel_launcher.py:2: SettingWithCopyWarning: \n",
      "A value is trying to be set on a copy of a slice from a DataFrame.\n",
      "Try using .loc[row_indexer,col_indexer] = value instead\n",
      "\n",
      "See the caveats in the documentation: https://pandas.pydata.org/pandas-docs/stable/user_guide/indexing.html#returning-a-view-versus-a-copy\n",
      "  \n"
     ]
    }
   ],
   "source": [
    "NPU_active_users_sessions[\"n_days_before_iap\"] = pd.to_datetime(NPU_active_users_sessions[\"last_active_date\"]) \\\n",
    "                                                                    - pd.Timedelta(days=look_back_days)\n",
    "NPU_active_users_sessions = NPU_active_users_sessions[(NPU_active_users_sessions.ts\\\n",
    "                                                       > NPU_active_users_sessions.n_days_before_iap) \\\n",
    "                                                      & (NPU_active_users_sessions.ts < NPU_active_users_sessions.last_active_date)]\n",
    "\n",
    "NPU_active_users_spending[\"n_days_before_iap\"] = \\\n",
    "                                pd.to_datetime(NPU_active_users_spending[\"last_active_date\"]) - pd.Timedelta(days=look_back_days)\n",
    "NPU_active_users_spending = NPU_active_users_spending[(NPU_active_users_spending.ts\\\n",
    "                                                       > NPU_active_users_spending.n_days_before_iap) \\\n",
    "                                                      & (NPU_active_users_spending.ts < NPU_active_users_spending.last_active_date)]"
   ]
  },
  {
   "cell_type": "code",
   "execution_count": 29,
   "id": "f89f5008",
   "metadata": {},
   "outputs": [
    {
     "data": {
      "image/png": "[encoded data removed]",
      "text/plain": [
       "<Figure size 432x288 with 1 Axes>"
      ]
     },
     "metadata": {},
     "output_type": "display_data"
    }
   ],
   "source": [
    "def spent_gems_rate(df_user):\n",
    "    df_eargems = df_user[df_user.spendtype == 'premiumChoice']\n",
    "    df_eargems_sum = df_eargems.groupby(\"user_id\")['amount'].sum().reset_index()\n",
    "    df_eargems_sum = pd.merge(df_eargems_sum, sessions_df[[\"user_id\", \"active_days_sessions\"]].drop_duplicates())\n",
    "    df_eargems_sum[\"avg_gems_spent\"] = df_eargems_sum[\"amount\"]\n",
    "#     /look_back_days\n",
    "    df_eargems_sum = df_eargems_sum[df_eargems_sum.user_id != 12486]\n",
    "    sns.set()\n",
    "    x_ecdf, y_ecdf = ecdf(df_eargems_sum[\"avg_gems_spent\"])\n",
    "    sns.scatterplot(x=x_ecdf, y=y_ecdf)\n",
    "    plt.title(\"ECDF plot of avg_gems_spent\")\n",
    "    \n",
    "spent_gems_rate(NPU_active_users_spending)"
   ]
  },
  {
   "cell_type": "code",
   "execution_count": 30,
   "id": "632b147a",
   "metadata": {},
   "outputs": [
    {
     "data": {
      "image/png": "[encoded data removed]",
      "text/plain": [
       "<Figure size 432x288 with 1 Axes>"
      ]
     },
     "metadata": {},
     "output_type": "display_data"
    }
   ],
   "source": [
    "def earn_gems_rate(df_user):\n",
    "    df_eargems = df_user[df_user.spendtype == 'earnGemsCounter']\n",
    "    df_eargems_sum = df_eargems.groupby(\"user_id\")['amount'].sum().reset_index()\n",
    "    df_eargems_sum = pd.merge(df_eargems_sum, sessions_df[[\"user_id\", \"active_days_sessions\"]].drop_duplicates())\n",
    "    df_eargems_sum[\"avg_gems_earn\"] = df_eargems_sum[\"amount\"]*(-1)\n",
    "#     /look_back_days\n",
    "    df_eargems_sum = df_eargems_sum[df_eargems_sum.user_id != 12486]\n",
    "    sns.set()\n",
    "    x_ecdf, y_ecdf = ecdf(df_eargems_sum[\"avg_gems_earn\"])\n",
    "    sns.scatterplot(x=x_ecdf, y=y_ecdf)\n",
    "    plt.title(\"ECDF plot of avg_gems_earn\")\n",
    "earn_gems_rate(NPU_active_users_spending)"
   ]
  },
  {
   "cell_type": "code",
   "execution_count": 31,
   "id": "55cf64b3",
   "metadata": {},
   "outputs": [
    {
     "data": {
      "image/png": "[encoded data removed]",
      "text/plain": [
       "<Figure size 432x288 with 1 Axes>"
      ]
     },
     "metadata": {},
     "output_type": "display_data"
    }
   ],
   "source": [
    "def total_gems_left(df_user):\n",
    "    df_eargems_sum = df_user.groupby(\"user_id\")['amount'].sum().reset_index().rename(columns={'amount': 'gems_amount'})\n",
    "    df_eargems_sum = pd.merge(df_eargems_sum, sessions_df[[\"user_id\", \"active_days_sessions\"]].drop_duplicates())\n",
    "    df_eargems_sum[\"total_gems\"] = df_eargems_sum[\"gems_amount\"]*(-1)\n",
    "    df_eargems_sum = df_eargems_sum[df_eargems_sum.user_id != 12486]\n",
    "    sns.set()\n",
    "    x_ecdf, y_ecdf = ecdf(df_eargems_sum[\"total_gems\"])\n",
    "    sns.scatterplot(x=x_ecdf, y=y_ecdf)\n",
    "    plt.title(\"ECDF plot of total_gems\")\n",
    "total_gems_left(NPU_active_users_spending)    "
   ]
  },
  {
   "cell_type": "code",
   "execution_count": 35,
   "id": "ffb14f18",
   "metadata": {},
   "outputs": [
    {
     "data": {
      "image/png": "[encoded data removed]",
      "text/plain": [
       "<Figure size 432x288 with 1 Axes>"
      ]
     },
     "metadata": {},
     "output_type": "display_data"
    }
   ],
   "source": [
    "def change_in_chapter(df):\n",
    "    idx = df.groupby(\"user_id\")[\"chapter\"].transform(max) == df[\"chapter\"]\n",
    "    max_chapter = df[idx]\n",
    "    max_chapter = max_chapter[[\"user_id\", \"chapter\"]].drop_duplicates().rename(columns={\"chapter\": \"max_chapter\"})\n",
    "    \n",
    "    idx = df.groupby(\"user_id\")[\"chapter\"].transform(min) == df[\"chapter\"]\n",
    "    min_chapter = df[idx]\n",
    "    min_chapter = min_chapter[[\"user_id\", \"chapter\"]].drop_duplicates().rename(columns={\"chapter\": \"min_chapter\"})\n",
    "    \n",
    "    df_join = pd.merge(max_chapter, min_chapter, on = \"user_id\")\n",
    "    df_join[\"chapter_changes\"] = df_join[\"max_chapter\"] - df_join[\"min_chapter\"]\n",
    "    sns.set()\n",
    "    x_ecdf, y_ecdf = ecdf(df_join[\"chapter_changes\"])\n",
    "    sns.scatterplot(x=x_ecdf, y=y_ecdf)\n",
    "    plt.title(\"ECDF plot of changes in chapter\")\n",
    "    \n",
    "change_in_chapter(NPU_active_users_spending)"
   ]
  },
  {
   "cell_type": "code",
   "execution_count": 45,
   "id": "d725535d",
   "metadata": {},
   "outputs": [
    {
     "data": {
      "image/png": "[encoded data removed]",
      "text/plain": [
       "<Figure size 432x288 with 1 Axes>"
      ]
     },
     "metadata": {},
     "output_type": "display_data"
    }
   ],
   "source": [
    "def sessions_num_rate(df_user):\n",
    "    idx = df_user.groupby(\"user_id\")[\"session_num\"].transform(max) == df_user[\"session_num\"]\n",
    "    session_test = df_user[idx]\n",
    "    session_test = session_test[[\"user_id\", \"session_num\"]].drop_duplicates()\n",
    "    session_test = pd.merge(session_test, sessions_df[[\"user_id\", \"active_days_sessions\"]].drop_duplicates(), on = \"user_id\")\n",
    "    session_test[\"session_num\"] = session_test[\"session_num\"]/session_test[\"active_days_sessions\"]\n",
    "    sns.set()\n",
    "    x_ecdf, y_ecdf = ecdf(session_test[\"session_num\"])\n",
    "    sns.scatterplot(x=x_ecdf, y=y_ecdf)\n",
    "    plt.title(\"ECDF plot of session_num rate\")\n",
    "\n",
    "sessions_num_rate(NPU_active_users_sessions)    "
   ]
  },
  {
   "cell_type": "code",
   "execution_count": 23,
   "id": "7c8c49b9",
   "metadata": {},
   "outputs": [],
   "source": [
    "idx = NPU_active_users_spending.groupby(\"user_id\")[\"chapter\"].transform(max) == NPU_active_users_spending[\"chapter\"]\n",
    "chapter_NPU = NPU_active_users_spending[idx]\n",
    "chapter_NPU = chapter_NPU[[\"user_id\", \"chapter\"]].drop_duplicates()\n",
    "gems_NPU = NPU_active_users_spending.groupby(\"user_id\")[\"amount\"].sum().reset_index()\n",
    "gems_NPU[\"amount\"] = gems_NPU[\"amount\"]*(-1)\n",
    "\n",
    "df_temp = pd.merge(gems_NPU, chapter_NPU, on=\"user_id\")\n",
    "df_temp1 = pd.merge(df_temp, session_test, on=\"user_id\")\n",
    "df_temp1[(df_temp1.chapter <10) & (df_temp1.amount <=50)  & (df_temp1.session_num >= 100)][\"user_id\"].nunique()"
   ]
  },
  {
   "cell_type": "code",
   "execution_count": 18,
   "id": "5f4fbd3f",
   "metadata": {},
   "outputs": [
    {
     "data": {
      "text/html": [
       "<div>\n",
       "<style scoped>\n",
       "    .dataframe tbody tr th:only-of-type {\n",
       "        vertical-align: middle;\n",
       "    }\n",
       "\n",
       "    .dataframe tbody tr th {\n",
       "        vertical-align: top;\n",
       "    }\n",
       "\n",
       "    .dataframe thead th {\n",
       "        text-align: right;\n",
       "    }\n",
       "</style>\n",
       "<table border=\"1\" class=\"dataframe\">\n",
       "  <thead>\n",
       "    <tr style=\"text-align: right;\">\n",
       "      <th></th>\n",
       "      <th>user_id</th>\n",
       "      <th>amount</th>\n",
       "      <th>chapter</th>\n",
       "      <th>session_num</th>\n",
       "    </tr>\n",
       "  </thead>\n",
       "  <tbody>\n",
       "    <tr>\n",
       "      <th>0</th>\n",
       "      <td>10</td>\n",
       "      <td>64</td>\n",
       "      <td>3</td>\n",
       "      <td>147</td>\n",
       "    </tr>\n",
       "    <tr>\n",
       "      <th>1</th>\n",
       "      <td>11</td>\n",
       "      <td>23</td>\n",
       "      <td>9</td>\n",
       "      <td>65</td>\n",
       "    </tr>\n",
       "  </tbody>\n",
       "</table>\n",
       "</div>"
      ],
      "text/plain": [
       "   user_id  amount  chapter  session_num\n",
       "0       10      64        3          147\n",
       "1       11      23        9           65"
      ]
     },
     "execution_count": 18,
     "metadata": {},
     "output_type": "execute_result"
    }
   ],
   "source": [
    "df_temp1.head(2)"
   ]
  },
  {
   "cell_type": "code",
   "execution_count": 19,
   "id": "2260c683",
   "metadata": {},
   "outputs": [
    {
     "data": {
      "text/plain": [
       "1607"
      ]
     },
     "execution_count": 19,
     "metadata": {},
     "output_type": "execute_result"
    }
   ],
   "source": [
    "test_users = df_temp1[\"user_id\"].drop_duplicates()\n",
    "len(test_users)"
   ]
  },
  {
   "cell_type": "markdown",
   "id": "80a15eb7",
   "metadata": {},
   "source": [
    "### Extract label 0 class\n",
    "- churn users"
   ]
  },
  {
   "cell_type": "code",
   "execution_count": 37,
   "id": "4d8d8c9b",
   "metadata": {},
   "outputs": [
    {
     "data": {
      "text/html": [
       "<div>\n",
       "<style scoped>\n",
       "    .dataframe tbody tr th:only-of-type {\n",
       "        vertical-align: middle;\n",
       "    }\n",
       "\n",
       "    .dataframe tbody tr th {\n",
       "        vertical-align: top;\n",
       "    }\n",
       "\n",
       "    .dataframe thead th {\n",
       "        text-align: right;\n",
       "    }\n",
       "</style>\n",
       "<table border=\"1\" class=\"dataframe\">\n",
       "  <thead>\n",
       "    <tr style=\"text-align: right;\">\n",
       "      <th></th>\n",
       "      <th>user_id</th>\n",
       "      <th>install_date</th>\n",
       "    </tr>\n",
       "  </thead>\n",
       "  <tbody>\n",
       "    <tr>\n",
       "      <th>1870</th>\n",
       "      <td>76</td>\n",
       "      <td>2019-03-01</td>\n",
       "    </tr>\n",
       "    <tr>\n",
       "      <th>1900</th>\n",
       "      <td>81</td>\n",
       "      <td>2019-03-04</td>\n",
       "    </tr>\n",
       "  </tbody>\n",
       "</table>\n",
       "</div>"
      ],
      "text/plain": [
       "      user_id install_date\n",
       "1870       76   2019-03-01\n",
       "1900       81   2019-03-04"
      ]
     },
     "execution_count": 37,
     "metadata": {},
     "output_type": "execute_result"
    }
   ],
   "source": [
    "label0_users_df = session_non_payer_df[(session_non_payer_df[\"days_to_most_recent\"] <= 25)\\\n",
    "                                        & ((session_non_payer_df[\"days_to_most_recent\"] > 10))]\n",
    "label0_users_df = label0_users_df[[\"user_id\", \"install_date\"]].drop_duplicates()\n",
    "label0_users_df = label0_users_df[~label0_users_df[\"user_id\"].isin(set(NPU_active_users[\"user_id\"]))]\n",
    "label0_users_df.head(2)"
   ]
  },
  {
   "cell_type": "code",
   "execution_count": 38,
   "id": "ae4c271c",
   "metadata": {},
   "outputs": [
    {
     "data": {
      "text/plain": [
       "1518"
      ]
     },
     "execution_count": 38,
     "metadata": {},
     "output_type": "execute_result"
    }
   ],
   "source": [
    "label0_users_spending = pd.merge(label0_users_df, spending_df, on=\"user_id\")\n",
    "label0_users_spending[\"user_id\"].nunique()\n",
    "\n",
    "label0_users_sessions = pd.merge(label0_users_df, sessions_df, on=\"user_id\")\n",
    "label0_users_sessions[\"user_id\"].nunique()"
   ]
  },
  {
   "cell_type": "code",
   "execution_count": 39,
   "id": "9c703e9c",
   "metadata": {},
   "outputs": [],
   "source": [
    "label0_users_sessions[\"n_days_before_iap\"] = pd.to_datetime(label0_users_sessions[\"last_active_date\"]) \\\n",
    "                                                                    - pd.Timedelta(days=look_back_days)\n",
    "label0_users_sessions = label0_users_sessions[(label0_users_sessions.ts\\\n",
    "                                                       > label0_users_sessions.n_days_before_iap) \\\n",
    "                                                      & (label0_users_sessions.ts < label0_users_sessions.last_active_date)]\n",
    "\n",
    "label0_users_spending[\"n_days_before_iap\"] = \\\n",
    "                                pd.to_datetime(label0_users_spending[\"last_active_date\"]) - pd.Timedelta(days=look_back_days)\n",
    "label0_users_spending = label0_users_spending[(label0_users_spending.ts\\\n",
    "                                                       > label0_users_spending.n_days_before_iap) \\\n",
    "                                                      & (label0_users_spending.ts < label0_users_spending.last_active_date)]"
   ]
  },
  {
   "cell_type": "code",
   "execution_count": 40,
   "id": "d722d2fc",
   "metadata": {},
   "outputs": [
    {
     "data": {
      "text/html": [
       "<div>\n",
       "<style scoped>\n",
       "    .dataframe tbody tr th:only-of-type {\n",
       "        vertical-align: middle;\n",
       "    }\n",
       "\n",
       "    .dataframe tbody tr th {\n",
       "        vertical-align: top;\n",
       "    }\n",
       "\n",
       "    .dataframe thead th {\n",
       "        text-align: right;\n",
       "    }\n",
       "</style>\n",
       "<table border=\"1\" class=\"dataframe\">\n",
       "  <thead>\n",
       "    <tr style=\"text-align: right;\">\n",
       "      <th></th>\n",
       "      <th>user_id</th>\n",
       "      <th>install_date_x</th>\n",
       "      <th>ts</th>\n",
       "      <th>date</th>\n",
       "      <th>story</th>\n",
       "      <th>chapter</th>\n",
       "      <th>spendtype</th>\n",
       "      <th>currency</th>\n",
       "      <th>amount</th>\n",
       "      <th>install_date_y</th>\n",
       "      <th>days_from_installed</th>\n",
       "      <th>active_days_sessions</th>\n",
       "      <th>last_active_date</th>\n",
       "      <th>n_days_before_iap</th>\n",
       "    </tr>\n",
       "  </thead>\n",
       "  <tbody>\n",
       "    <tr>\n",
       "      <th>14</th>\n",
       "      <td>180</td>\n",
       "      <td>2019-03-06</td>\n",
       "      <td>2019-04-19 19:11:13</td>\n",
       "      <td>2019-04-19</td>\n",
       "      <td>story_12</td>\n",
       "      <td>0</td>\n",
       "      <td>premiumChoice</td>\n",
       "      <td>gems</td>\n",
       "      <td>14</td>\n",
       "      <td>2019-03-06</td>\n",
       "      <td>44</td>\n",
       "      <td>44</td>\n",
       "      <td>2019-04-20 17:48:52</td>\n",
       "      <td>2019-04-13 17:48:52</td>\n",
       "    </tr>\n",
       "    <tr>\n",
       "      <th>57</th>\n",
       "      <td>270</td>\n",
       "      <td>2019-03-01</td>\n",
       "      <td>2019-04-13 05:41:55</td>\n",
       "      <td>2019-04-13</td>\n",
       "      <td>story_3</td>\n",
       "      <td>0</td>\n",
       "      <td>earnGemsCounter</td>\n",
       "      <td>gems</td>\n",
       "      <td>0</td>\n",
       "      <td>2019-03-01</td>\n",
       "      <td>43</td>\n",
       "      <td>43</td>\n",
       "      <td>2019-04-20 03:32:17</td>\n",
       "      <td>2019-04-13 03:32:17</td>\n",
       "    </tr>\n",
       "  </tbody>\n",
       "</table>\n",
       "</div>"
      ],
      "text/plain": [
       "    user_id install_date_x                   ts       date     story  chapter  \\\n",
       "14      180     2019-03-06  2019-04-19 19:11:13 2019-04-19  story_12        0   \n",
       "57      270     2019-03-01  2019-04-13 05:41:55 2019-04-13   story_3        0   \n",
       "\n",
       "          spendtype currency  amount install_date_y  days_from_installed  \\\n",
       "14    premiumChoice     gems      14     2019-03-06                   44   \n",
       "57  earnGemsCounter     gems       0     2019-03-01                   43   \n",
       "\n",
       "    active_days_sessions     last_active_date   n_days_before_iap  \n",
       "14                    44  2019-04-20 17:48:52 2019-04-13 17:48:52  \n",
       "57                    43  2019-04-20 03:32:17 2019-04-13 03:32:17  "
      ]
     },
     "execution_count": 40,
     "metadata": {},
     "output_type": "execute_result"
    }
   ],
   "source": [
    "label0_users_spending.head(2)"
   ]
  },
  {
   "cell_type": "code",
   "execution_count": 41,
   "id": "d37db589",
   "metadata": {},
   "outputs": [
    {
     "data": {
      "image/png": "[encoded data removed]",
      "text/plain": [
       "<Figure size 432x288 with 1 Axes>"
      ]
     },
     "metadata": {},
     "output_type": "display_data"
    }
   ],
   "source": [
    "spent_gems_rate(label0_users_spending)"
   ]
  },
  {
   "cell_type": "code",
   "execution_count": 42,
   "id": "1b218a3d",
   "metadata": {},
   "outputs": [
    {
     "data": {
      "image/png": "[encoded data removed]",
      "text/plain": [
       "<Figure size 432x288 with 1 Axes>"
      ]
     },
     "metadata": {},
     "output_type": "display_data"
    }
   ],
   "source": [
    "earn_gems_rate(label0_users_spending)"
   ]
  },
  {
   "cell_type": "code",
   "execution_count": 43,
   "id": "dbb92e98",
   "metadata": {},
   "outputs": [
    {
     "data": {
      "image/png": "[encoded data removed]",
      "text/plain": [
       "<Figure size 432x288 with 1 Axes>"
      ]
     },
     "metadata": {},
     "output_type": "display_data"
    }
   ],
   "source": [
    "total_gems_left(label0_users_spending)"
   ]
  },
  {
   "cell_type": "code",
   "execution_count": 46,
   "id": "9129fb1d",
   "metadata": {},
   "outputs": [
    {
     "data": {
      "image/png": "[encoded data removed]",
      "text/plain": [
       "<Figure size 432x288 with 1 Axes>"
      ]
     },
     "metadata": {},
     "output_type": "display_data"
    }
   ],
   "source": [
    "sessions_num_rate(label0_users_sessions)  "
   ]
  },
  {
   "cell_type": "code",
   "execution_count": 47,
   "id": "ea670b68",
   "metadata": {},
   "outputs": [
    {
     "data": {
      "image/png": "[encoded data removed]",
      "text/plain": [
       "<Figure size 432x288 with 1 Axes>"
      ]
     },
     "metadata": {},
     "output_type": "display_data"
    }
   ],
   "source": [
    "change_in_chapter(label0_users_spending)"
   ]
  },
  {
   "cell_type": "code",
   "execution_count": 24,
   "id": "029df1df",
   "metadata": {},
   "outputs": [
    {
     "data": {
      "text/plain": [
       "Text(0.5, 1.0, 'ECDF plot of current chapter')"
      ]
     },
     "execution_count": 24,
     "metadata": {},
     "output_type": "execute_result"
    },
    {
     "data": {
      "image/png": "[encoded data removed]",
      "text/plain": [
       "<Figure size 432x288 with 1 Axes>"
      ]
     },
     "metadata": {},
     "output_type": "display_data"
    }
   ],
   "source": [
    "idx = label0_users_spending.groupby(\"user_id\")[\"chapter\"].transform(max) == label0_users_spending[\"chapter\"]\n",
    "chapter_label0 = label0_users_spending[idx]\n",
    "chapter_label0 = chapter_label0[[\"user_id\", \"chapter\"]].drop_duplicates()\n",
    "sns.set()\n",
    "x_ecdf, y_ecdf = ecdf(chapter_label0[\"chapter\"])\n",
    "sns.scatterplot(x=x_ecdf, y=y_ecdf)\n",
    "plt.title(\"ECDF plot of current chapter\")"
   ]
  },
  {
   "cell_type": "markdown",
   "id": "e2eb2d25",
   "metadata": {},
   "source": [
    "### Extract label 1 class\n",
    "- Users who already made their first in-app purchase within 45 days since the date they installed in the app \n",
    "- A user makes an in-app purchase, but that purchase is not recorded in the spendevent.csv (51 users have this issue, i.e spendevents file faliled to record iap and gems flow for 51 paying users). "
   ]
  },
  {
   "cell_type": "code",
   "execution_count": 70,
   "id": "1fb801d9",
   "metadata": {},
   "outputs": [
    {
     "data": {
      "text/plain": [
       "239"
      ]
     },
     "execution_count": 70,
     "metadata": {},
     "output_type": "execute_result"
    }
   ],
   "source": [
    "label1_users = first_iap_day_df[first_iap_day_df.days_to_first_purchase >= 7][[\"user_id\", \"iap_date\"]].drop_duplicates()\n",
    "label1_users[\"user_id\"].nunique()"
   ]
  },
  {
   "cell_type": "code",
   "execution_count": 73,
   "id": "28b6142d",
   "metadata": {},
   "outputs": [
    {
     "data": {
      "text/html": [
       "<div>\n",
       "<style scoped>\n",
       "    .dataframe tbody tr th:only-of-type {\n",
       "        vertical-align: middle;\n",
       "    }\n",
       "\n",
       "    .dataframe tbody tr th {\n",
       "        vertical-align: top;\n",
       "    }\n",
       "\n",
       "    .dataframe thead th {\n",
       "        text-align: right;\n",
       "    }\n",
       "</style>\n",
       "<table border=\"1\" class=\"dataframe\">\n",
       "  <thead>\n",
       "    <tr style=\"text-align: right;\">\n",
       "      <th></th>\n",
       "      <th>user_id</th>\n",
       "      <th>iap_date</th>\n",
       "    </tr>\n",
       "  </thead>\n",
       "  <tbody>\n",
       "    <tr>\n",
       "      <th>20</th>\n",
       "      <td>85</td>\n",
       "      <td>2019-04-17 18:26:44</td>\n",
       "    </tr>\n",
       "    <tr>\n",
       "      <th>21</th>\n",
       "      <td>93</td>\n",
       "      <td>2019-03-19 07:26:39</td>\n",
       "    </tr>\n",
       "    <tr>\n",
       "      <th>24</th>\n",
       "      <td>98</td>\n",
       "      <td>2019-03-11 12:33:16</td>\n",
       "    </tr>\n",
       "    <tr>\n",
       "      <th>60</th>\n",
       "      <td>185</td>\n",
       "      <td>2019-03-31 12:58:19</td>\n",
       "    </tr>\n",
       "    <tr>\n",
       "      <th>84</th>\n",
       "      <td>247</td>\n",
       "      <td>2019-04-01 11:42:20</td>\n",
       "    </tr>\n",
       "  </tbody>\n",
       "</table>\n",
       "</div>"
      ],
      "text/plain": [
       "    user_id             iap_date\n",
       "20       85  2019-04-17 18:26:44\n",
       "21       93  2019-03-19 07:26:39\n",
       "24       98  2019-03-11 12:33:16\n",
       "60      185  2019-03-31 12:58:19\n",
       "84      247  2019-04-01 11:42:20"
      ]
     },
     "execution_count": 73,
     "metadata": {},
     "output_type": "execute_result"
    }
   ],
   "source": [
    "label1_users.head()"
   ]
  },
  {
   "cell_type": "markdown",
   "id": "d329a1b4",
   "metadata": {},
   "source": [
    "### Extracting features for label 1 group"
   ]
  },
  {
   "cell_type": "code",
   "execution_count": 71,
   "id": "1a847cec",
   "metadata": {},
   "outputs": [
    {
     "data": {
      "text/html": [
       "<div>\n",
       "<style scoped>\n",
       "    .dataframe tbody tr th:only-of-type {\n",
       "        vertical-align: middle;\n",
       "    }\n",
       "\n",
       "    .dataframe tbody tr th {\n",
       "        vertical-align: top;\n",
       "    }\n",
       "\n",
       "    .dataframe thead th {\n",
       "        text-align: right;\n",
       "    }\n",
       "</style>\n",
       "<table border=\"1\" class=\"dataframe\">\n",
       "  <thead>\n",
       "    <tr style=\"text-align: right;\">\n",
       "      <th></th>\n",
       "      <th>user_id</th>\n",
       "      <th>iap_date</th>\n",
       "      <th>ts</th>\n",
       "      <th>date</th>\n",
       "      <th>session_num</th>\n",
       "      <th>last_session_termination_type</th>\n",
       "      <th>install_date</th>\n",
       "      <th>days_from_installed</th>\n",
       "      <th>active_days_sessions</th>\n",
       "      <th>n_days_before_iap</th>\n",
       "    </tr>\n",
       "  </thead>\n",
       "  <tbody>\n",
       "    <tr>\n",
       "      <th>12</th>\n",
       "      <td>85</td>\n",
       "      <td>2019-04-17 18:26:44</td>\n",
       "      <td>2019-04-17 18:09:05</td>\n",
       "      <td>2019-04-17</td>\n",
       "      <td>13</td>\n",
       "      <td>NaN</td>\n",
       "      <td>2019-03-07</td>\n",
       "      <td>41</td>\n",
       "      <td>41</td>\n",
       "      <td>2019-04-10 18:26:44</td>\n",
       "    </tr>\n",
       "    <tr>\n",
       "      <th>22</th>\n",
       "      <td>93</td>\n",
       "      <td>2019-03-19 07:26:39</td>\n",
       "      <td>2019-03-19 07:26:34</td>\n",
       "      <td>2019-03-19</td>\n",
       "      <td>11</td>\n",
       "      <td>NaN</td>\n",
       "      <td>2019-03-03</td>\n",
       "      <td>16</td>\n",
       "      <td>60</td>\n",
       "      <td>2019-03-12 07:26:39</td>\n",
       "    </tr>\n",
       "  </tbody>\n",
       "</table>\n",
       "</div>"
      ],
      "text/plain": [
       "    user_id             iap_date                   ts       date  session_num  \\\n",
       "12       85  2019-04-17 18:26:44  2019-04-17 18:09:05 2019-04-17           13   \n",
       "22       93  2019-03-19 07:26:39  2019-03-19 07:26:34 2019-03-19           11   \n",
       "\n",
       "    last_session_termination_type install_date  days_from_installed  \\\n",
       "12                            NaN   2019-03-07                   41   \n",
       "22                            NaN   2019-03-03                   16   \n",
       "\n",
       "    active_days_sessions   n_days_before_iap  \n",
       "12                    41 2019-04-10 18:26:44  \n",
       "22                    60 2019-03-12 07:26:39  "
      ]
     },
     "execution_count": 71,
     "metadata": {},
     "output_type": "execute_result"
    }
   ],
   "source": [
    "df1 = pd.merge(label1_users, sessions_df, on=\"user_id\")\n",
    "df1[\"n_days_before_iap\"] = pd.to_datetime(df1[\"iap_date\"]) - pd.Timedelta(days=7)\n",
    "df_session_ft = df1[(df1.ts > df1.n_days_before_iap) & (df1.ts < df1.iap_date)]\n",
    "df_session_ft.head(2)"
   ]
  },
  {
   "cell_type": "code",
   "execution_count": 72,
   "id": "5ce25df8",
   "metadata": {},
   "outputs": [
    {
     "data": {
      "image/png": "[encoded data removed]",
      "text/plain": [
       "<Figure size 432x288 with 1 Axes>"
      ]
     },
     "metadata": {},
     "output_type": "display_data"
    }
   ],
   "source": [
    "sessions_num_rate(df_session_ft)  "
   ]
  },
  {
   "cell_type": "code",
   "execution_count": 74,
   "id": "3cc7678c",
   "metadata": {},
   "outputs": [
    {
     "data": {
      "text/html": [
       "<div>\n",
       "<style scoped>\n",
       "    .dataframe tbody tr th:only-of-type {\n",
       "        vertical-align: middle;\n",
       "    }\n",
       "\n",
       "    .dataframe tbody tr th {\n",
       "        vertical-align: top;\n",
       "    }\n",
       "\n",
       "    .dataframe thead th {\n",
       "        text-align: right;\n",
       "    }\n",
       "</style>\n",
       "<table border=\"1\" class=\"dataframe\">\n",
       "  <thead>\n",
       "    <tr style=\"text-align: right;\">\n",
       "      <th></th>\n",
       "      <th>user_id</th>\n",
       "      <th>iap_date</th>\n",
       "      <th>ts</th>\n",
       "      <th>date</th>\n",
       "      <th>story</th>\n",
       "      <th>chapter</th>\n",
       "      <th>spendtype</th>\n",
       "      <th>currency</th>\n",
       "      <th>amount</th>\n",
       "      <th>install_date</th>\n",
       "      <th>days_from_installed</th>\n",
       "      <th>active_days_sessions</th>\n",
       "      <th>n_days_before_iap</th>\n",
       "    </tr>\n",
       "  </thead>\n",
       "  <tbody>\n",
       "    <tr>\n",
       "      <th>9</th>\n",
       "      <td>98</td>\n",
       "      <td>2019-03-11 12:33:16</td>\n",
       "      <td>2019-03-08 15:17:47</td>\n",
       "      <td>2019-03-08</td>\n",
       "      <td>story_1</td>\n",
       "      <td>9</td>\n",
       "      <td>premiumChoice</td>\n",
       "      <td>gems</td>\n",
       "      <td>25</td>\n",
       "      <td>2019-03-02</td>\n",
       "      <td>6</td>\n",
       "      <td>21</td>\n",
       "      <td>2019-03-04 12:33:16</td>\n",
       "    </tr>\n",
       "    <tr>\n",
       "      <th>15</th>\n",
       "      <td>185</td>\n",
       "      <td>2019-03-31 12:58:19</td>\n",
       "      <td>2019-03-31 12:53:13</td>\n",
       "      <td>2019-03-31</td>\n",
       "      <td>story_3</td>\n",
       "      <td>0</td>\n",
       "      <td>earnGemsCounter</td>\n",
       "      <td>gems</td>\n",
       "      <td>0</td>\n",
       "      <td>2019-03-05</td>\n",
       "      <td>26</td>\n",
       "      <td>46</td>\n",
       "      <td>2019-03-24 12:58:19</td>\n",
       "    </tr>\n",
       "  </tbody>\n",
       "</table>\n",
       "</div>"
      ],
      "text/plain": [
       "    user_id             iap_date                   ts       date    story  \\\n",
       "9        98  2019-03-11 12:33:16  2019-03-08 15:17:47 2019-03-08  story_1   \n",
       "15      185  2019-03-31 12:58:19  2019-03-31 12:53:13 2019-03-31  story_3   \n",
       "\n",
       "    chapter        spendtype currency  amount install_date  \\\n",
       "9         9    premiumChoice     gems      25   2019-03-02   \n",
       "15        0  earnGemsCounter     gems       0   2019-03-05   \n",
       "\n",
       "    days_from_installed  active_days_sessions   n_days_before_iap  \n",
       "9                     6                    21 2019-03-04 12:33:16  \n",
       "15                   26                    46 2019-03-24 12:58:19  "
      ]
     },
     "execution_count": 74,
     "metadata": {},
     "output_type": "execute_result"
    }
   ],
   "source": [
    "df2 = pd.merge(label1_users, spending_df, on=\"user_id\")\n",
    "df2[\"n_days_before_iap\"] = pd.to_datetime(df2[\"iap_date\"]) - pd.Timedelta(days=7)\n",
    "df_spend_ft = df2[(df2.ts > df2.n_days_before_iap) & (df2.ts < df2.iap_date)]\n",
    "df_spend_ft.head(2)"
   ]
  },
  {
   "cell_type": "code",
   "execution_count": 75,
   "id": "96d3ce50",
   "metadata": {},
   "outputs": [
    {
     "data": {
      "image/png": "[encoded data removed]",
      "text/plain": [
       "<Figure size 432x288 with 1 Axes>"
      ]
     },
     "metadata": {},
     "output_type": "display_data"
    }
   ],
   "source": [
    "spent_gems_rate(df_spend_ft)"
   ]
  },
  {
   "cell_type": "code",
   "execution_count": 76,
   "id": "68631fe6",
   "metadata": {},
   "outputs": [
    {
     "data": {
      "image/png": "[encoded data removed]",
      "text/plain": [
       "<Figure size 432x288 with 1 Axes>"
      ]
     },
     "metadata": {},
     "output_type": "display_data"
    }
   ],
   "source": [
    "earn_gems_rate(df_spend_ft)"
   ]
  },
  {
   "cell_type": "code",
   "execution_count": 77,
   "id": "441c148e",
   "metadata": {},
   "outputs": [
    {
     "data": {
      "image/png": "[encoded data removed]",
      "text/plain": [
       "<Figure size 432x288 with 1 Axes>"
      ]
     },
     "metadata": {},
     "output_type": "display_data"
    }
   ],
   "source": [
    "total_gems_left(df_spend_ft)"
   ]
  },
  {
   "cell_type": "code",
   "execution_count": 78,
   "id": "d58982d0",
   "metadata": {},
   "outputs": [],
   "source": [
    "### Extracting features for label 0 group"
   ]
  },
  {
   "cell_type": "markdown",
   "id": "8b640a22",
   "metadata": {},
   "source": [
    "find the last active days \n",
    "join with the sessions and spending table \n",
    "filter out relavent record \n",
    "calculate features\n",
    "run model"
   ]
  },
  {
   "cell_type": "code",
   "execution_count": null,
   "id": "73b183d6",
   "metadata": {},
   "outputs": [],
   "source": []
  }
 ],
 "metadata": {
  "kernelspec": {
   "display_name": "Python 3",
   "language": "python",
   "name": "python3"
  },
  "language_info": {
   "codemirror_mode": {
    "name": "ipython",
    "version": 3
   },
   "file_extension": ".py",
   "mimetype": "text/x-python",
   "name": "python",
   "nbconvert_exporter": "python",
   "pygments_lexer": "ipython3",
   "version": "3.7.9"
  }
 },
 "nbformat": 4,
 "nbformat_minor": 5
}

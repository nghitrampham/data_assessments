{
 "cells": [
  {
   "cell_type": "code",
   "execution_count": 1,
   "id": "c1dd809b",
   "metadata": {},
   "outputs": [],
   "source": [
    "### basic package for data science project\n",
    "import pandas as pd\n",
    "import matplotlib.pyplot as plt\n",
    "import seaborn as sns\n",
    "import numpy as np\n",
    "import helpers\n",
    "\n",
    "%matplotlib inline\n",
    "sns.set()"
   ]
  },
  {
   "cell_type": "code",
   "execution_count": 2,
   "id": "ee64aa08",
   "metadata": {},
   "outputs": [],
   "source": [
    "from sklearn.experimental import enable_iterative_imputer\n",
    "from sklearn.impute import IterativeImputer"
   ]
  },
  {
   "cell_type": "code",
   "execution_count": null,
   "id": "86079e46",
   "metadata": {},
   "outputs": [],
   "source": [
    "imp_mean = IterativeImputer(random_state=0)"
   ]
  },
  {
   "cell_type": "markdown",
   "id": "a626de6d",
   "metadata": {},
   "source": [
    "1. Remove columns with missing value more than 75% \n",
    "2. Remove col 'x39' and 'x99' since those two columns don't bring additional information \n",
    "3. Impute NAN for missing values in numerical methods \n",
    "4. We can use Catboost or Imputing categorical features is to replace missing values with the most common class. \n",
    "\n",
    "\n",
    "Alternative (if time permitted):\n",
    "    - Check each features to see if there exists outliers."
   ]
  },
  {
   "cell_type": "code",
   "execution_count": 2,
   "id": "a23dea62",
   "metadata": {},
   "outputs": [],
   "source": [
    "train_data = pd.read_csv('data/exercise_40_train.csv')"
   ]
  },
  {
   "cell_type": "code",
   "execution_count": null,
   "id": "eb2195e4",
   "metadata": {},
   "outputs": [],
   "source": [
    "most_missing_cols = set(train_data.columns[train_data.isnull().mean() > 0.4])\n",
    "cat_cols = train_data.select_dtypes(include=['object']).columns\n",
    "remove_cat_col = ['x39', 'x99']\n",
    "label_encoder_col = ['x33']"
   ]
  },
  {
   "cell_type": "code",
   "execution_count": null,
   "id": "2a39caea",
   "metadata": {},
   "outputs": [],
   "source": [
    "df = train_data.copy()\n",
    "df"
   ]
  },
  {
   "cell_type": "code",
   "execution_count": null,
   "id": "2ae2842a",
   "metadata": {},
   "outputs": [],
   "source": [
    "def clean_train_data(df):\n",
    "    pass\n",
    "    return\n",
    "\n",
    "\n",
    "def clean_test_data(df):\n",
    "    pass \n",
    "    return"
   ]
  },
  {
   "cell_type": "code",
   "execution_count": null,
   "id": "9ee0376f",
   "metadata": {},
   "outputs": [],
   "source": [
    "def extract_features(df):"
   ]
  },
  {
   "cell_type": "code",
   "execution_count": null,
   "id": "d0386f4a",
   "metadata": {},
   "outputs": [],
   "source": []
  },
  {
   "cell_type": "code",
   "execution_count": null,
   "id": "a3229cce",
   "metadata": {},
   "outputs": [],
   "source": [
    "def create_dummy_df(df, cat_cols, dummy_na):\n",
    "    for col in  cat_cols:\n",
    "        try:\n",
    "            # for each cat add dummy var, drop original column\n",
    "            df = pd.concat([df.drop(col, axis=1),\\\n",
    "                            pd.get_dummies(df[col], prefix=col, prefix_sep='_', drop_first=True, dummy_na=dummy_na)], axis=1)\n",
    "        except:\n",
    "            continue\n",
    "    return df\n",
    "\n",
    "def clean_day_x3_col(date):\n",
    "    if date.lower() == 'tue':\n",
    "        return 'Tuesday'\n",
    "    elif date.lower() == 'mon':\n",
    "        return 'Monday'\n",
    "    elif date.lower() == 'wed':\n",
    "        return 'Wednesday'\n",
    "    elif date.lower() == 'thur':\n",
    "        return 'Thursday'\n",
    "    elif date.lower() == 'fri':\n",
    "        return 'Friday'\n",
    "    elif date.lower() == 'sat':\n",
    "        return 'Saturday'\n",
    "    elif date.lower() == 'sun':\n",
    "        return 'Sunday'\n",
    "    else:\n",
    "        return date"
   ]
  }
 ],
 "metadata": {
  "kernelspec": {
   "display_name": "Python 3",
   "language": "python",
   "name": "python3"
  },
  "language_info": {
   "codemirror_mode": {
    "name": "ipython",
    "version": 3
   },
   "file_extension": ".py",
   "mimetype": "text/x-python",
   "name": "python",
   "nbconvert_exporter": "python",
   "pygments_lexer": "ipython3",
   "version": "3.7.9"
  }
 },
 "nbformat": 4,
 "nbformat_minor": 5
}

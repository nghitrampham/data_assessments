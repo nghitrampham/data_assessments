{
 "cells": [
  {
   "cell_type": "code",
   "execution_count": 103,
   "id": "8f08e214",
   "metadata": {},
   "outputs": [],
   "source": [
    "### basic package for data science project\n",
    "import pandas as pd\n",
    "import matplotlib.pyplot as plt\n",
    "import seaborn as sns\n",
    "import numpy as np\n",
    "\n",
    "import warnings\n",
    "warnings.filterwarnings(\"ignore\")\n",
    "%matplotlib inline\n",
    "sns.set()"
   ]
  },
  {
   "cell_type": "markdown",
   "id": "9d843455",
   "metadata": {},
   "source": [
    "#### Thoughts: \n",
    "    - Since data dictionary is not provided, it is hard to tell the meaning of numerical features\n",
    "    - Given a large amount of features,  I think it is best to first seperate the categorical fts and numerical fts. \n",
    "    \n",
    "#### For numerical features: \n",
    "    - Exclude columns with more than 75% of the values missing\n",
    "    - Impute missing values with mean/median/mode\n",
    "#### For categorical features: \n",
    "    - Focus on understand the features \n",
    "    - Creat dummy variable to represent the feature in an appropriate format for training data \n",
    "    - remove x39 since all variables have the same value\n",
    "    - remove x99 since 32% are missing values and the rest has the same value"
   ]
  },
  {
   "cell_type": "markdown",
   "id": "763b4ddd",
   "metadata": {},
   "source": [
    "### Helper function "
   ]
  },
  {
   "cell_type": "code",
   "execution_count": 174,
   "id": "6c7a553b",
   "metadata": {},
   "outputs": [],
   "source": [
    "def create_dummy_df(df, cat_cols, dummy_na):\n",
    "    '''\n",
    "    INPUT:\n",
    "    df - pandas dataframe with categorical variables you want to dummy\n",
    "    cat_cols - list of strings that are associated with names of the categorical columns\n",
    "    dummy_na - Bool holding whether you want to dummy NA vals of categorical columns or not\n",
    "    \n",
    "    OUTPUT:\n",
    "    df - a new dataframe that has the following characteristics:\n",
    "            1. contains all columns that were not specified as categorical\n",
    "            2. removes all the original columns in cat_cols\n",
    "            3. dummy columns for each of the categorical columns in cat_cols\n",
    "            4. if dummy_na is True - it also contains dummy co lumns for the NaN values\n",
    "            5. Use a prefix of the column name with an underscore (_) for separating \n",
    "    '''\n",
    "    for col in  cat_cols:\n",
    "        try:\n",
    "            # for each cat add dummy var, drop original column\n",
    "            df = pd.concat([df.drop(col, axis=1),\\\n",
    "                            pd.get_dummies(df[col], prefix=col, prefix_sep='_', drop_first=True, dummy_na=dummy_na)], axis=1)\n",
    "        except:\n",
    "            continue\n",
    "    return df\n",
    "\n",
    "def clean_day_x3_col(date):\n",
    "    if date.lower() == 'tue':\n",
    "        return 'Tuesday'\n",
    "    elif date.lower() == 'mon':\n",
    "        return 'Monday'\n",
    "    elif date.lower() == 'wed':\n",
    "        return 'Wednesday'\n",
    "    elif date.lower() == 'thur':\n",
    "        return 'Thursday'\n",
    "    elif date.lower() == 'fri':\n",
    "        return 'Friday'\n",
    "    elif date.lower() == 'sat':\n",
    "        return 'Saturday'\n",
    "    elif date.lower() == 'sun':\n",
    "        return 'Sunday'\n",
    "    else:\n",
    "        return date"
   ]
  },
  {
   "cell_type": "markdown",
   "id": "b446fb00",
   "metadata": {},
   "source": [
    "### Data summary "
   ]
  },
  {
   "cell_type": "code",
   "execution_count": 51,
   "id": "58b23315",
   "metadata": {},
   "outputs": [
    {
     "data": {
      "text/html": [
       "<div>\n",
       "<style scoped>\n",
       "    .dataframe tbody tr th:only-of-type {\n",
       "        vertical-align: middle;\n",
       "    }\n",
       "\n",
       "    .dataframe tbody tr th {\n",
       "        vertical-align: top;\n",
       "    }\n",
       "\n",
       "    .dataframe thead th {\n",
       "        text-align: right;\n",
       "    }\n",
       "</style>\n",
       "<table border=\"1\" class=\"dataframe\">\n",
       "  <thead>\n",
       "    <tr style=\"text-align: right;\">\n",
       "      <th></th>\n",
       "      <th>y</th>\n",
       "      <th>x1</th>\n",
       "      <th>x2</th>\n",
       "      <th>x4</th>\n",
       "      <th>x5</th>\n",
       "      <th>x6</th>\n",
       "      <th>x8</th>\n",
       "      <th>x9</th>\n",
       "      <th>x10</th>\n",
       "      <th>x11</th>\n",
       "      <th>...</th>\n",
       "      <th>x89</th>\n",
       "      <th>x90</th>\n",
       "      <th>x91</th>\n",
       "      <th>x92</th>\n",
       "      <th>x94</th>\n",
       "      <th>x95</th>\n",
       "      <th>x96</th>\n",
       "      <th>x97</th>\n",
       "      <th>x98</th>\n",
       "      <th>x100</th>\n",
       "    </tr>\n",
       "  </thead>\n",
       "  <tbody>\n",
       "    <tr>\n",
       "      <th>count</th>\n",
       "      <td>40000.000000</td>\n",
       "      <td>40000.000000</td>\n",
       "      <td>40000.000000</td>\n",
       "      <td>40000.000000</td>\n",
       "      <td>37572.000000</td>\n",
       "      <td>40000.000000</td>\n",
       "      <td>40000.000000</td>\n",
       "      <td>40000.000000</td>\n",
       "      <td>40000.000000</td>\n",
       "      <td>34890.000000</td>\n",
       "      <td>...</td>\n",
       "      <td>29309.000000</td>\n",
       "      <td>40000.000000</td>\n",
       "      <td>34741.000000</td>\n",
       "      <td>37565.000000</td>\n",
       "      <td>37660.000000</td>\n",
       "      <td>27396.000000</td>\n",
       "      <td>33362.000000</td>\n",
       "      <td>40000.000000</td>\n",
       "      <td>40000.000000</td>\n",
       "      <td>40000.000000</td>\n",
       "    </tr>\n",
       "    <tr>\n",
       "      <th>mean</th>\n",
       "      <td>0.145075</td>\n",
       "      <td>2.999958</td>\n",
       "      <td>20.004865</td>\n",
       "      <td>0.002950</td>\n",
       "      <td>0.005396</td>\n",
       "      <td>0.007234</td>\n",
       "      <td>0.004371</td>\n",
       "      <td>2.722334</td>\n",
       "      <td>0.490339</td>\n",
       "      <td>100.008988</td>\n",
       "      <td>...</td>\n",
       "      <td>10.767838</td>\n",
       "      <td>3.000166</td>\n",
       "      <td>0.001636</td>\n",
       "      <td>4.002896</td>\n",
       "      <td>3.969385</td>\n",
       "      <td>0.031886</td>\n",
       "      <td>10.525530</td>\n",
       "      <td>10.002814</td>\n",
       "      <td>0.497650</td>\n",
       "      <td>100.024743</td>\n",
       "    </tr>\n",
       "    <tr>\n",
       "      <th>std</th>\n",
       "      <td>0.352181</td>\n",
       "      <td>1.994490</td>\n",
       "      <td>1.604291</td>\n",
       "      <td>1.462185</td>\n",
       "      <td>1.297952</td>\n",
       "      <td>1.358551</td>\n",
       "      <td>1.447223</td>\n",
       "      <td>1.966828</td>\n",
       "      <td>1.029863</td>\n",
       "      <td>13.343010</td>\n",
       "      <td>...</td>\n",
       "      <td>3.732763</td>\n",
       "      <td>1.164411</td>\n",
       "      <td>1.468790</td>\n",
       "      <td>3.017420</td>\n",
       "      <td>1.473939</td>\n",
       "      <td>1.823091</td>\n",
       "      <td>1.437581</td>\n",
       "      <td>1.986984</td>\n",
       "      <td>0.500001</td>\n",
       "      <td>5.247514</td>\n",
       "    </tr>\n",
       "    <tr>\n",
       "      <th>min</th>\n",
       "      <td>0.000000</td>\n",
       "      <td>-3.648431</td>\n",
       "      <td>13.714945</td>\n",
       "      <td>-5.137161</td>\n",
       "      <td>-5.616412</td>\n",
       "      <td>-6.113153</td>\n",
       "      <td>-6.376810</td>\n",
       "      <td>-3.143438</td>\n",
       "      <td>-3.538129</td>\n",
       "      <td>50.526543</td>\n",
       "      <td>...</td>\n",
       "      <td>6.106024</td>\n",
       "      <td>-2.173310</td>\n",
       "      <td>-6.328126</td>\n",
       "      <td>-3.384399</td>\n",
       "      <td>-1.663063</td>\n",
       "      <td>-6.885150</td>\n",
       "      <td>8.210456</td>\n",
       "      <td>1.911272</td>\n",
       "      <td>0.000000</td>\n",
       "      <td>78.340735</td>\n",
       "    </tr>\n",
       "    <tr>\n",
       "      <th>25%</th>\n",
       "      <td>0.000000</td>\n",
       "      <td>1.592714</td>\n",
       "      <td>18.921388</td>\n",
       "      <td>-1.026798</td>\n",
       "      <td>-0.872354</td>\n",
       "      <td>-0.909831</td>\n",
       "      <td>-0.971167</td>\n",
       "      <td>1.340450</td>\n",
       "      <td>-0.207833</td>\n",
       "      <td>91.056682</td>\n",
       "      <td>...</td>\n",
       "      <td>7.927605</td>\n",
       "      <td>2.211125</td>\n",
       "      <td>-0.982679</td>\n",
       "      <td>1.610899</td>\n",
       "      <td>2.943758</td>\n",
       "      <td>-1.190682</td>\n",
       "      <td>9.397548</td>\n",
       "      <td>8.665103</td>\n",
       "      <td>0.000000</td>\n",
       "      <td>96.516856</td>\n",
       "    </tr>\n",
       "    <tr>\n",
       "      <th>50%</th>\n",
       "      <td>0.000000</td>\n",
       "      <td>2.875892</td>\n",
       "      <td>20.005944</td>\n",
       "      <td>0.002263</td>\n",
       "      <td>0.008822</td>\n",
       "      <td>0.007335</td>\n",
       "      <td>0.002226</td>\n",
       "      <td>2.498876</td>\n",
       "      <td>0.486926</td>\n",
       "      <td>100.020965</td>\n",
       "      <td>...</td>\n",
       "      <td>9.931831</td>\n",
       "      <td>2.998776</td>\n",
       "      <td>0.005664</td>\n",
       "      <td>4.099763</td>\n",
       "      <td>3.912526</td>\n",
       "      <td>0.001523</td>\n",
       "      <td>10.358355</td>\n",
       "      <td>9.994318</td>\n",
       "      <td>0.000000</td>\n",
       "      <td>100.024977</td>\n",
       "    </tr>\n",
       "    <tr>\n",
       "      <th>75%</th>\n",
       "      <td>0.000000</td>\n",
       "      <td>4.270295</td>\n",
       "      <td>21.083465</td>\n",
       "      <td>1.043354</td>\n",
       "      <td>0.892467</td>\n",
       "      <td>0.926222</td>\n",
       "      <td>0.985023</td>\n",
       "      <td>3.827712</td>\n",
       "      <td>1.182994</td>\n",
       "      <td>109.025025</td>\n",
       "      <td>...</td>\n",
       "      <td>12.710543</td>\n",
       "      <td>3.786751</td>\n",
       "      <td>0.989632</td>\n",
       "      <td>6.113157</td>\n",
       "      <td>4.930563</td>\n",
       "      <td>1.248742</td>\n",
       "      <td>11.448559</td>\n",
       "      <td>11.342574</td>\n",
       "      <td>1.000000</td>\n",
       "      <td>103.558762</td>\n",
       "    </tr>\n",
       "    <tr>\n",
       "      <th>max</th>\n",
       "      <td>1.000000</td>\n",
       "      <td>13.837591</td>\n",
       "      <td>27.086468</td>\n",
       "      <td>5.150153</td>\n",
       "      <td>5.698128</td>\n",
       "      <td>5.639372</td>\n",
       "      <td>5.869889</td>\n",
       "      <td>18.006669</td>\n",
       "      <td>4.724186</td>\n",
       "      <td>148.784484</td>\n",
       "      <td>...</td>\n",
       "      <td>38.566041</td>\n",
       "      <td>7.130058</td>\n",
       "      <td>6.868747</td>\n",
       "      <td>16.734658</td>\n",
       "      <td>11.669024</td>\n",
       "      <td>7.631773</td>\n",
       "      <td>18.725468</td>\n",
       "      <td>17.861580</td>\n",
       "      <td>1.000000</td>\n",
       "      <td>122.406809</td>\n",
       "    </tr>\n",
       "  </tbody>\n",
       "</table>\n",
       "<p>8 rows × 89 columns</p>\n",
       "</div>"
      ],
      "text/plain": [
       "                  y            x1            x2            x4            x5  \\\n",
       "count  40000.000000  40000.000000  40000.000000  40000.000000  37572.000000   \n",
       "mean       0.145075      2.999958     20.004865      0.002950      0.005396   \n",
       "std        0.352181      1.994490      1.604291      1.462185      1.297952   \n",
       "min        0.000000     -3.648431     13.714945     -5.137161     -5.616412   \n",
       "25%        0.000000      1.592714     18.921388     -1.026798     -0.872354   \n",
       "50%        0.000000      2.875892     20.005944      0.002263      0.008822   \n",
       "75%        0.000000      4.270295     21.083465      1.043354      0.892467   \n",
       "max        1.000000     13.837591     27.086468      5.150153      5.698128   \n",
       "\n",
       "                 x6            x8            x9           x10           x11  \\\n",
       "count  40000.000000  40000.000000  40000.000000  40000.000000  34890.000000   \n",
       "mean       0.007234      0.004371      2.722334      0.490339    100.008988   \n",
       "std        1.358551      1.447223      1.966828      1.029863     13.343010   \n",
       "min       -6.113153     -6.376810     -3.143438     -3.538129     50.526543   \n",
       "25%       -0.909831     -0.971167      1.340450     -0.207833     91.056682   \n",
       "50%        0.007335      0.002226      2.498876      0.486926    100.020965   \n",
       "75%        0.926222      0.985023      3.827712      1.182994    109.025025   \n",
       "max        5.639372      5.869889     18.006669      4.724186    148.784484   \n",
       "\n",
       "       ...           x89           x90           x91           x92  \\\n",
       "count  ...  29309.000000  40000.000000  34741.000000  37565.000000   \n",
       "mean   ...     10.767838      3.000166      0.001636      4.002896   \n",
       "std    ...      3.732763      1.164411      1.468790      3.017420   \n",
       "min    ...      6.106024     -2.173310     -6.328126     -3.384399   \n",
       "25%    ...      7.927605      2.211125     -0.982679      1.610899   \n",
       "50%    ...      9.931831      2.998776      0.005664      4.099763   \n",
       "75%    ...     12.710543      3.786751      0.989632      6.113157   \n",
       "max    ...     38.566041      7.130058      6.868747     16.734658   \n",
       "\n",
       "                x94           x95           x96           x97           x98  \\\n",
       "count  37660.000000  27396.000000  33362.000000  40000.000000  40000.000000   \n",
       "mean       3.969385      0.031886     10.525530     10.002814      0.497650   \n",
       "std        1.473939      1.823091      1.437581      1.986984      0.500001   \n",
       "min       -1.663063     -6.885150      8.210456      1.911272      0.000000   \n",
       "25%        2.943758     -1.190682      9.397548      8.665103      0.000000   \n",
       "50%        3.912526      0.001523     10.358355      9.994318      0.000000   \n",
       "75%        4.930563      1.248742     11.448559     11.342574      1.000000   \n",
       "max       11.669024      7.631773     18.725468     17.861580      1.000000   \n",
       "\n",
       "               x100  \n",
       "count  40000.000000  \n",
       "mean     100.024743  \n",
       "std        5.247514  \n",
       "min       78.340735  \n",
       "25%       96.516856  \n",
       "50%      100.024977  \n",
       "75%      103.558762  \n",
       "max      122.406809  \n",
       "\n",
       "[8 rows x 89 columns]"
      ]
     },
     "execution_count": 51,
     "metadata": {},
     "output_type": "execute_result"
    }
   ],
   "source": [
    "df = pd.read_csv(\"data/exercise_40_train.csv\")\n",
    "df.describe()"
   ]
  },
  {
   "cell_type": "code",
   "execution_count": 8,
   "id": "b25e73f1",
   "metadata": {},
   "outputs": [
    {
     "name": "stdout",
     "output_type": "stream",
     "text": [
      "<class 'pandas.core.frame.DataFrame'>\n",
      "RangeIndex: 40000 entries, 0 to 39999\n",
      "Columns: 101 entries, y to x100\n",
      "dtypes: float64(86), int64(3), object(12)\n",
      "memory usage: 30.8+ MB\n"
     ]
    },
    {
     "data": {
      "text/plain": [
       "None"
      ]
     },
     "metadata": {},
     "output_type": "display_data"
    }
   ],
   "source": [
    "display(df.info())"
   ]
  },
  {
   "cell_type": "code",
   "execution_count": 10,
   "id": "24ba6abc",
   "metadata": {},
   "outputs": [
    {
     "data": {
      "text/html": [
       "<div>\n",
       "<style scoped>\n",
       "    .dataframe tbody tr th:only-of-type {\n",
       "        vertical-align: middle;\n",
       "    }\n",
       "\n",
       "    .dataframe tbody tr th {\n",
       "        vertical-align: top;\n",
       "    }\n",
       "\n",
       "    .dataframe thead th {\n",
       "        text-align: right;\n",
       "    }\n",
       "</style>\n",
       "<table border=\"1\" class=\"dataframe\">\n",
       "  <thead>\n",
       "    <tr style=\"text-align: right;\">\n",
       "      <th></th>\n",
       "      <th>y</th>\n",
       "      <th>x1</th>\n",
       "      <th>x2</th>\n",
       "      <th>x3</th>\n",
       "      <th>x4</th>\n",
       "      <th>x5</th>\n",
       "      <th>x6</th>\n",
       "      <th>x7</th>\n",
       "      <th>x8</th>\n",
       "      <th>x9</th>\n",
       "      <th>...</th>\n",
       "      <th>x91</th>\n",
       "      <th>x92</th>\n",
       "      <th>x93</th>\n",
       "      <th>x94</th>\n",
       "      <th>x95</th>\n",
       "      <th>x96</th>\n",
       "      <th>x97</th>\n",
       "      <th>x98</th>\n",
       "      <th>x99</th>\n",
       "      <th>x100</th>\n",
       "    </tr>\n",
       "  </thead>\n",
       "  <tbody>\n",
       "    <tr>\n",
       "      <th>0</th>\n",
       "      <td>0</td>\n",
       "      <td>0.165254</td>\n",
       "      <td>18.060003</td>\n",
       "      <td>Wed</td>\n",
       "      <td>1.077380</td>\n",
       "      <td>-1.339233</td>\n",
       "      <td>-1.584341</td>\n",
       "      <td>0.0062%</td>\n",
       "      <td>0.220784</td>\n",
       "      <td>1.816481</td>\n",
       "      <td>...</td>\n",
       "      <td>-0.397427</td>\n",
       "      <td>0.909479</td>\n",
       "      <td>no</td>\n",
       "      <td>5.492487</td>\n",
       "      <td>NaN</td>\n",
       "      <td>10.255579</td>\n",
       "      <td>7.627730</td>\n",
       "      <td>0</td>\n",
       "      <td>yes</td>\n",
       "      <td>104.251338</td>\n",
       "    </tr>\n",
       "    <tr>\n",
       "      <th>1</th>\n",
       "      <td>1</td>\n",
       "      <td>2.441471</td>\n",
       "      <td>18.416307</td>\n",
       "      <td>Friday</td>\n",
       "      <td>1.482586</td>\n",
       "      <td>0.920817</td>\n",
       "      <td>-0.759931</td>\n",
       "      <td>0.0064%</td>\n",
       "      <td>1.192441</td>\n",
       "      <td>3.513950</td>\n",
       "      <td>...</td>\n",
       "      <td>0.656651</td>\n",
       "      <td>9.093466</td>\n",
       "      <td>no</td>\n",
       "      <td>3.346429</td>\n",
       "      <td>4.321172</td>\n",
       "      <td>NaN</td>\n",
       "      <td>10.505284</td>\n",
       "      <td>1</td>\n",
       "      <td>yes</td>\n",
       "      <td>101.230645</td>\n",
       "    </tr>\n",
       "    <tr>\n",
       "      <th>2</th>\n",
       "      <td>1</td>\n",
       "      <td>4.427278</td>\n",
       "      <td>19.188092</td>\n",
       "      <td>Thursday</td>\n",
       "      <td>0.145652</td>\n",
       "      <td>0.366093</td>\n",
       "      <td>0.709962</td>\n",
       "      <td>-8e-04%</td>\n",
       "      <td>0.952323</td>\n",
       "      <td>0.782974</td>\n",
       "      <td>...</td>\n",
       "      <td>2.059615</td>\n",
       "      <td>0.305170</td>\n",
       "      <td>no</td>\n",
       "      <td>4.456565</td>\n",
       "      <td>NaN</td>\n",
       "      <td>8.754572</td>\n",
       "      <td>7.810979</td>\n",
       "      <td>0</td>\n",
       "      <td>yes</td>\n",
       "      <td>109.345215</td>\n",
       "    </tr>\n",
       "    <tr>\n",
       "      <th>3</th>\n",
       "      <td>0</td>\n",
       "      <td>3.925235</td>\n",
       "      <td>19.901257</td>\n",
       "      <td>Tuesday</td>\n",
       "      <td>1.763602</td>\n",
       "      <td>-0.251926</td>\n",
       "      <td>-0.827461</td>\n",
       "      <td>-0.0057%</td>\n",
       "      <td>-0.520756</td>\n",
       "      <td>1.825586</td>\n",
       "      <td>...</td>\n",
       "      <td>0.899392</td>\n",
       "      <td>5.971782</td>\n",
       "      <td>no</td>\n",
       "      <td>4.100022</td>\n",
       "      <td>1.151085</td>\n",
       "      <td>NaN</td>\n",
       "      <td>9.178325</td>\n",
       "      <td>1</td>\n",
       "      <td>yes</td>\n",
       "      <td>103.021970</td>\n",
       "    </tr>\n",
       "    <tr>\n",
       "      <th>4</th>\n",
       "      <td>0</td>\n",
       "      <td>2.868802</td>\n",
       "      <td>22.202473</td>\n",
       "      <td>Sunday</td>\n",
       "      <td>3.405119</td>\n",
       "      <td>0.083162</td>\n",
       "      <td>1.381504</td>\n",
       "      <td>0.0109%</td>\n",
       "      <td>-0.732739</td>\n",
       "      <td>2.151990</td>\n",
       "      <td>...</td>\n",
       "      <td>3.003595</td>\n",
       "      <td>1.046096</td>\n",
       "      <td>yes</td>\n",
       "      <td>3.234033</td>\n",
       "      <td>2.074927</td>\n",
       "      <td>9.987006</td>\n",
       "      <td>11.702664</td>\n",
       "      <td>0</td>\n",
       "      <td>yes</td>\n",
       "      <td>92.925935</td>\n",
       "    </tr>\n",
       "  </tbody>\n",
       "</table>\n",
       "<p>5 rows × 101 columns</p>\n",
       "</div>"
      ],
      "text/plain": [
       "   y        x1         x2        x3        x4        x5        x6        x7  \\\n",
       "0  0  0.165254  18.060003       Wed  1.077380 -1.339233 -1.584341   0.0062%   \n",
       "1  1  2.441471  18.416307    Friday  1.482586  0.920817 -0.759931   0.0064%   \n",
       "2  1  4.427278  19.188092  Thursday  0.145652  0.366093  0.709962   -8e-04%   \n",
       "3  0  3.925235  19.901257   Tuesday  1.763602 -0.251926 -0.827461  -0.0057%   \n",
       "4  0  2.868802  22.202473    Sunday  3.405119  0.083162  1.381504   0.0109%   \n",
       "\n",
       "         x8        x9  ...       x91       x92  x93       x94       x95  \\\n",
       "0  0.220784  1.816481  ... -0.397427  0.909479   no  5.492487       NaN   \n",
       "1  1.192441  3.513950  ...  0.656651  9.093466   no  3.346429  4.321172   \n",
       "2  0.952323  0.782974  ...  2.059615  0.305170   no  4.456565       NaN   \n",
       "3 -0.520756  1.825586  ...  0.899392  5.971782   no  4.100022  1.151085   \n",
       "4 -0.732739  2.151990  ...  3.003595  1.046096  yes  3.234033  2.074927   \n",
       "\n",
       "         x96        x97  x98  x99        x100  \n",
       "0  10.255579   7.627730    0  yes  104.251338  \n",
       "1        NaN  10.505284    1  yes  101.230645  \n",
       "2   8.754572   7.810979    0  yes  109.345215  \n",
       "3        NaN   9.178325    1  yes  103.021970  \n",
       "4   9.987006  11.702664    0  yes   92.925935  \n",
       "\n",
       "[5 rows x 101 columns]"
      ]
     },
     "execution_count": 10,
     "metadata": {},
     "output_type": "execute_result"
    }
   ],
   "source": [
    "df.head()"
   ]
  },
  {
   "cell_type": "markdown",
   "id": "6e5c99eb",
   "metadata": {},
   "source": [
    "### Missing value "
   ]
  },
  {
   "cell_type": "code",
   "execution_count": 12,
   "id": "de4f8cce",
   "metadata": {},
   "outputs": [
    {
     "data": {
      "text/plain": [
       "59"
      ]
     },
     "execution_count": 12,
     "metadata": {},
     "output_type": "execute_result"
    }
   ],
   "source": [
    "no_nulls = set(df.columns[df.isnull().mean()==0])\n",
    "len(no_nulls)"
   ]
  },
  {
   "cell_type": "code",
   "execution_count": 50,
   "id": "37691bc6",
   "metadata": {},
   "outputs": [
    {
     "data": {
      "text/plain": [
       "42"
      ]
     },
     "execution_count": 50,
     "metadata": {},
     "output_type": "execute_result"
    }
   ],
   "source": [
    "null_cols = set(df.columns[df.isnull().mean()!=0])\n",
    "len(null_cols)"
   ]
  },
  {
   "cell_type": "code",
   "execution_count": 168,
   "id": "ded21d27",
   "metadata": {},
   "outputs": [
    {
     "data": {
      "text/plain": [
       "5"
      ]
     },
     "execution_count": 168,
     "metadata": {},
     "output_type": "execute_result"
    }
   ],
   "source": [
    "most_missing_cols = set(df.columns[df.isnull().mean() > 0.4])\n",
    "len(most_missing_cols)"
   ]
  },
  {
   "cell_type": "code",
   "execution_count": 171,
   "id": "9e1fb459",
   "metadata": {},
   "outputs": [
    {
     "data": {
      "text/plain": [
       "Index(['x30', 'x44', 'x52', 'x55', 'x57'], dtype='object')"
      ]
     },
     "execution_count": 171,
     "metadata": {},
     "output_type": "execute_result"
    }
   ],
   "source": [
    "df.columns[df.isnull().mean() > 0.4]"
   ]
  },
  {
   "cell_type": "code",
   "execution_count": 65,
   "id": "0eb57c90",
   "metadata": {},
   "outputs": [
    {
     "data": {
      "text/plain": [
       "(30136, 101)"
      ]
     },
     "execution_count": 65,
     "metadata": {},
     "output_type": "execute_result"
    }
   ],
   "source": [
    "drop_sal_df = df.dropna(subset=['x14'], axis=0)\n",
    "drop_sal_df.shape"
   ]
  },
  {
   "cell_type": "markdown",
   "id": "d9c8e173",
   "metadata": {},
   "source": [
    "### Numerical features"
   ]
  },
  {
   "cell_type": "code",
   "execution_count": 172,
   "id": "4d9d370e",
   "metadata": {},
   "outputs": [
    {
     "data": {
      "text/html": [
       "<div>\n",
       "<style scoped>\n",
       "    .dataframe tbody tr th:only-of-type {\n",
       "        vertical-align: middle;\n",
       "    }\n",
       "\n",
       "    .dataframe tbody tr th {\n",
       "        vertical-align: top;\n",
       "    }\n",
       "\n",
       "    .dataframe thead th {\n",
       "        text-align: right;\n",
       "    }\n",
       "</style>\n",
       "<table border=\"1\" class=\"dataframe\">\n",
       "  <thead>\n",
       "    <tr style=\"text-align: right;\">\n",
       "      <th></th>\n",
       "      <th>y</th>\n",
       "      <th>x1</th>\n",
       "      <th>x2</th>\n",
       "      <th>x3</th>\n",
       "      <th>x4</th>\n",
       "      <th>x5</th>\n",
       "      <th>x6</th>\n",
       "      <th>x7</th>\n",
       "      <th>x8</th>\n",
       "      <th>x9</th>\n",
       "      <th>...</th>\n",
       "      <th>x91</th>\n",
       "      <th>x92</th>\n",
       "      <th>x93</th>\n",
       "      <th>x94</th>\n",
       "      <th>x95</th>\n",
       "      <th>x96</th>\n",
       "      <th>x97</th>\n",
       "      <th>x98</th>\n",
       "      <th>x99</th>\n",
       "      <th>x100</th>\n",
       "    </tr>\n",
       "  </thead>\n",
       "  <tbody>\n",
       "    <tr>\n",
       "      <th>0</th>\n",
       "      <td>0</td>\n",
       "      <td>0.165254</td>\n",
       "      <td>18.060003</td>\n",
       "      <td>Wed</td>\n",
       "      <td>1.077380</td>\n",
       "      <td>-1.339233</td>\n",
       "      <td>-1.584341</td>\n",
       "      <td>0.0062%</td>\n",
       "      <td>0.220784</td>\n",
       "      <td>1.816481</td>\n",
       "      <td>...</td>\n",
       "      <td>-0.397427</td>\n",
       "      <td>0.909479</td>\n",
       "      <td>no</td>\n",
       "      <td>5.492487</td>\n",
       "      <td>NaN</td>\n",
       "      <td>10.255579</td>\n",
       "      <td>7.627730</td>\n",
       "      <td>0</td>\n",
       "      <td>yes</td>\n",
       "      <td>104.251338</td>\n",
       "    </tr>\n",
       "    <tr>\n",
       "      <th>1</th>\n",
       "      <td>1</td>\n",
       "      <td>2.441471</td>\n",
       "      <td>18.416307</td>\n",
       "      <td>Friday</td>\n",
       "      <td>1.482586</td>\n",
       "      <td>0.920817</td>\n",
       "      <td>-0.759931</td>\n",
       "      <td>0.0064%</td>\n",
       "      <td>1.192441</td>\n",
       "      <td>3.513950</td>\n",
       "      <td>...</td>\n",
       "      <td>0.656651</td>\n",
       "      <td>9.093466</td>\n",
       "      <td>no</td>\n",
       "      <td>3.346429</td>\n",
       "      <td>4.321172</td>\n",
       "      <td>NaN</td>\n",
       "      <td>10.505284</td>\n",
       "      <td>1</td>\n",
       "      <td>yes</td>\n",
       "      <td>101.230645</td>\n",
       "    </tr>\n",
       "    <tr>\n",
       "      <th>2</th>\n",
       "      <td>1</td>\n",
       "      <td>4.427278</td>\n",
       "      <td>19.188092</td>\n",
       "      <td>Thursday</td>\n",
       "      <td>0.145652</td>\n",
       "      <td>0.366093</td>\n",
       "      <td>0.709962</td>\n",
       "      <td>-8e-04%</td>\n",
       "      <td>0.952323</td>\n",
       "      <td>0.782974</td>\n",
       "      <td>...</td>\n",
       "      <td>2.059615</td>\n",
       "      <td>0.305170</td>\n",
       "      <td>no</td>\n",
       "      <td>4.456565</td>\n",
       "      <td>NaN</td>\n",
       "      <td>8.754572</td>\n",
       "      <td>7.810979</td>\n",
       "      <td>0</td>\n",
       "      <td>yes</td>\n",
       "      <td>109.345215</td>\n",
       "    </tr>\n",
       "    <tr>\n",
       "      <th>3</th>\n",
       "      <td>0</td>\n",
       "      <td>3.925235</td>\n",
       "      <td>19.901257</td>\n",
       "      <td>Tuesday</td>\n",
       "      <td>1.763602</td>\n",
       "      <td>-0.251926</td>\n",
       "      <td>-0.827461</td>\n",
       "      <td>-0.0057%</td>\n",
       "      <td>-0.520756</td>\n",
       "      <td>1.825586</td>\n",
       "      <td>...</td>\n",
       "      <td>0.899392</td>\n",
       "      <td>5.971782</td>\n",
       "      <td>no</td>\n",
       "      <td>4.100022</td>\n",
       "      <td>1.151085</td>\n",
       "      <td>NaN</td>\n",
       "      <td>9.178325</td>\n",
       "      <td>1</td>\n",
       "      <td>yes</td>\n",
       "      <td>103.021970</td>\n",
       "    </tr>\n",
       "    <tr>\n",
       "      <th>4</th>\n",
       "      <td>0</td>\n",
       "      <td>2.868802</td>\n",
       "      <td>22.202473</td>\n",
       "      <td>Sunday</td>\n",
       "      <td>3.405119</td>\n",
       "      <td>0.083162</td>\n",
       "      <td>1.381504</td>\n",
       "      <td>0.0109%</td>\n",
       "      <td>-0.732739</td>\n",
       "      <td>2.151990</td>\n",
       "      <td>...</td>\n",
       "      <td>3.003595</td>\n",
       "      <td>1.046096</td>\n",
       "      <td>yes</td>\n",
       "      <td>3.234033</td>\n",
       "      <td>2.074927</td>\n",
       "      <td>9.987006</td>\n",
       "      <td>11.702664</td>\n",
       "      <td>0</td>\n",
       "      <td>yes</td>\n",
       "      <td>92.925935</td>\n",
       "    </tr>\n",
       "  </tbody>\n",
       "</table>\n",
       "<p>5 rows × 96 columns</p>\n",
       "</div>"
      ],
      "text/plain": [
       "   y        x1         x2        x3        x4        x5        x6        x7  \\\n",
       "0  0  0.165254  18.060003       Wed  1.077380 -1.339233 -1.584341   0.0062%   \n",
       "1  1  2.441471  18.416307    Friday  1.482586  0.920817 -0.759931   0.0064%   \n",
       "2  1  4.427278  19.188092  Thursday  0.145652  0.366093  0.709962   -8e-04%   \n",
       "3  0  3.925235  19.901257   Tuesday  1.763602 -0.251926 -0.827461  -0.0057%   \n",
       "4  0  2.868802  22.202473    Sunday  3.405119  0.083162  1.381504   0.0109%   \n",
       "\n",
       "         x8        x9  ...       x91       x92  x93       x94       x95  \\\n",
       "0  0.220784  1.816481  ... -0.397427  0.909479   no  5.492487       NaN   \n",
       "1  1.192441  3.513950  ...  0.656651  9.093466   no  3.346429  4.321172   \n",
       "2  0.952323  0.782974  ...  2.059615  0.305170   no  4.456565       NaN   \n",
       "3 -0.520756  1.825586  ...  0.899392  5.971782   no  4.100022  1.151085   \n",
       "4 -0.732739  2.151990  ...  3.003595  1.046096  yes  3.234033  2.074927   \n",
       "\n",
       "         x96        x97  x98  x99        x100  \n",
       "0  10.255579   7.627730    0  yes  104.251338  \n",
       "1        NaN  10.505284    1  yes  101.230645  \n",
       "2   8.754572   7.810979    0  yes  109.345215  \n",
       "3        NaN   9.178325    1  yes  103.021970  \n",
       "4   9.987006  11.702664    0  yes   92.925935  \n",
       "\n",
       "[5 rows x 96 columns]"
      ]
     },
     "execution_count": 172,
     "metadata": {},
     "output_type": "execute_result"
    }
   ],
   "source": [
    "non_null_df = df.loc[:, (~df.columns.isin(most_missing_cols))]\n",
    "non_null_df.head()"
   ]
  },
  {
   "cell_type": "markdown",
   "id": "ae39bd68",
   "metadata": {},
   "source": [
    "### Categorial features EDA "
   ]
  },
  {
   "cell_type": "code",
   "execution_count": 104,
   "id": "5043d861",
   "metadata": {},
   "outputs": [
    {
     "data": {
      "text/html": [
       "<div>\n",
       "<style scoped>\n",
       "    .dataframe tbody tr th:only-of-type {\n",
       "        vertical-align: middle;\n",
       "    }\n",
       "\n",
       "    .dataframe tbody tr th {\n",
       "        vertical-align: top;\n",
       "    }\n",
       "\n",
       "    .dataframe thead th {\n",
       "        text-align: right;\n",
       "    }\n",
       "</style>\n",
       "<table border=\"1\" class=\"dataframe\">\n",
       "  <thead>\n",
       "    <tr style=\"text-align: right;\">\n",
       "      <th></th>\n",
       "      <th>x3</th>\n",
       "      <th>x7</th>\n",
       "      <th>x19</th>\n",
       "      <th>x24</th>\n",
       "      <th>x31</th>\n",
       "      <th>x33</th>\n",
       "      <th>x39</th>\n",
       "      <th>x60</th>\n",
       "      <th>x65</th>\n",
       "      <th>x77</th>\n",
       "      <th>x93</th>\n",
       "      <th>x99</th>\n",
       "      <th>y</th>\n",
       "    </tr>\n",
       "  </thead>\n",
       "  <tbody>\n",
       "    <tr>\n",
       "      <th>0</th>\n",
       "      <td>Wed</td>\n",
       "      <td>0.0062</td>\n",
       "      <td>-908.650758</td>\n",
       "      <td>female</td>\n",
       "      <td>no</td>\n",
       "      <td>Colorado</td>\n",
       "      <td>5-10 miles</td>\n",
       "      <td>August</td>\n",
       "      <td>farmers</td>\n",
       "      <td>mercedes</td>\n",
       "      <td>no</td>\n",
       "      <td>yes</td>\n",
       "      <td>0</td>\n",
       "    </tr>\n",
       "    <tr>\n",
       "      <th>1</th>\n",
       "      <td>Friday</td>\n",
       "      <td>0.0064</td>\n",
       "      <td>-1864.962288</td>\n",
       "      <td>male</td>\n",
       "      <td>no</td>\n",
       "      <td>Tennessee</td>\n",
       "      <td>5-10 miles</td>\n",
       "      <td>April</td>\n",
       "      <td>allstate</td>\n",
       "      <td>mercedes</td>\n",
       "      <td>no</td>\n",
       "      <td>yes</td>\n",
       "      <td>1</td>\n",
       "    </tr>\n",
       "    <tr>\n",
       "      <th>2</th>\n",
       "      <td>Thursday</td>\n",
       "      <td>-0.0008</td>\n",
       "      <td>-543.187403</td>\n",
       "      <td>male</td>\n",
       "      <td>no</td>\n",
       "      <td>Texas</td>\n",
       "      <td>5-10 miles</td>\n",
       "      <td>September</td>\n",
       "      <td>geico</td>\n",
       "      <td>subaru</td>\n",
       "      <td>no</td>\n",
       "      <td>yes</td>\n",
       "      <td>1</td>\n",
       "    </tr>\n",
       "    <tr>\n",
       "      <th>3</th>\n",
       "      <td>Tuesday</td>\n",
       "      <td>-0.0057</td>\n",
       "      <td>-182.626381</td>\n",
       "      <td>male</td>\n",
       "      <td>no</td>\n",
       "      <td>Minnesota</td>\n",
       "      <td>5-10 miles</td>\n",
       "      <td>September</td>\n",
       "      <td>geico</td>\n",
       "      <td>nissan</td>\n",
       "      <td>no</td>\n",
       "      <td>yes</td>\n",
       "      <td>0</td>\n",
       "    </tr>\n",
       "    <tr>\n",
       "      <th>4</th>\n",
       "      <td>Sunday</td>\n",
       "      <td>0.0109</td>\n",
       "      <td>967.007091</td>\n",
       "      <td>male</td>\n",
       "      <td>yes</td>\n",
       "      <td>New York</td>\n",
       "      <td>5-10 miles</td>\n",
       "      <td>January</td>\n",
       "      <td>geico</td>\n",
       "      <td>toyota</td>\n",
       "      <td>yes</td>\n",
       "      <td>yes</td>\n",
       "      <td>0</td>\n",
       "    </tr>\n",
       "  </tbody>\n",
       "</table>\n",
       "</div>"
      ],
      "text/plain": [
       "         x3      x7          x19     x24  x31        x33         x39  \\\n",
       "0       Wed  0.0062  -908.650758  female   no   Colorado  5-10 miles   \n",
       "1    Friday  0.0064 -1864.962288    male   no  Tennessee  5-10 miles   \n",
       "2  Thursday -0.0008  -543.187403    male   no      Texas  5-10 miles   \n",
       "3   Tuesday -0.0057  -182.626381    male   no  Minnesota  5-10 miles   \n",
       "4    Sunday  0.0109   967.007091    male  yes   New York  5-10 miles   \n",
       "\n",
       "         x60       x65       x77  x93  x99  y  \n",
       "0     August   farmers  mercedes   no  yes  0  \n",
       "1      April  allstate  mercedes   no  yes  1  \n",
       "2  September     geico    subaru   no  yes  1  \n",
       "3  September     geico    nissan   no  yes  0  \n",
       "4    January     geico    toyota  yes  yes  0  "
      ]
     },
     "execution_count": 104,
     "metadata": {},
     "output_type": "execute_result"
    }
   ],
   "source": [
    "#### find catergorical features\n",
    "cat_cols = df.select_dtypes(include=['object']).columns\n",
    "cat_df = df.select_dtypes(include=['object'])\n",
    "cat_df['y'] = df['y']\n",
    "\n",
    "#### clean col x7 and x19\n",
    "cat_df['x7'] = cat_df['x7'].str.replace('%','')\n",
    "cat_df[\"x19\"] = cat_df['x19'].str.replace('$','')\n",
    "cat_df = cat_df.astype({'x7': 'float', 'x19': 'float'})\n",
    "\n",
    "#### clean x3 col\n",
    "cat_df['x3'] = cat_df.apply(lambda x: clean_day_x3_col(x['x3']), axis = 1)\n",
    "\n",
    "cat_df.head()"
   ]
  },
  {
   "cell_type": "code",
   "execution_count": null,
   "id": "021b47e7",
   "metadata": {},
   "outputs": [],
   "source": []
  },
  {
   "cell_type": "code",
   "execution_count": 138,
   "id": "650c3938",
   "metadata": {},
   "outputs": [
    {
     "data": {
      "text/plain": [
       "12"
      ]
     },
     "execution_count": 138,
     "metadata": {},
     "output_type": "execute_result"
    }
   ],
   "source": [
    "len(cat_cols)"
   ]
  },
  {
   "cell_type": "code",
   "execution_count": 99,
   "id": "16cfd1ab",
   "metadata": {},
   "outputs": [
    {
     "data": {
      "text/plain": [
       "{'x24', 'x33', 'x77', 'x99'}"
      ]
     },
     "execution_count": 99,
     "metadata": {},
     "output_type": "execute_result"
    }
   ],
   "source": [
    "### cat columns with missing values\n",
    "set(cat_df.columns[cat_df.isnull().mean()!=0])"
   ]
  },
  {
   "cell_type": "code",
   "execution_count": 70,
   "id": "62099997",
   "metadata": {},
   "outputs": [
    {
     "data": {
      "text/plain": [
       "x3     0.000000\n",
       "x7     0.000000\n",
       "x19    0.000000\n",
       "x24    0.096400\n",
       "x31    0.000000\n",
       "x33    0.179275\n",
       "x39    0.000000\n",
       "x60    0.000000\n",
       "x65    0.000000\n",
       "x77    0.231425\n",
       "x93    0.000000\n",
       "x99    0.320900\n",
       "dtype: float64"
      ]
     },
     "execution_count": 70,
     "metadata": {},
     "output_type": "execute_result"
    }
   ],
   "source": [
    "cat_df.isnull().mean()"
   ]
  },
  {
   "cell_type": "code",
   "execution_count": 118,
   "id": "63606c52",
   "metadata": {},
   "outputs": [
    {
     "data": {
      "image/png": "[encoded data removed]",
      "text/plain": [
       "<Figure size 720x360 with 2 Axes>"
      ]
     },
     "metadata": {},
     "output_type": "display_data"
    }
   ],
   "source": [
    "sns.factorplot(x='y', col='x31', kind='count', data=cat_df);"
   ]
  },
  {
   "cell_type": "code",
   "execution_count": 119,
   "id": "902005d2",
   "metadata": {},
   "outputs": [
    {
     "data": {
      "image/png": "[encoded data removed]",
      "text/plain": [
       "<Figure size 720x360 with 2 Axes>"
      ]
     },
     "metadata": {},
     "output_type": "display_data"
    }
   ],
   "source": [
    "sns.factorplot(x='y', col='x24', kind='count', data=cat_df);"
   ]
  },
  {
   "cell_type": "code",
   "execution_count": 115,
   "id": "b8d21de7",
   "metadata": {},
   "outputs": [
    {
     "data": {
      "image/png": "[encoded data removed]",
      "text/plain": [
       "<Figure size 432x288 with 1 Axes>"
      ]
     },
     "metadata": {},
     "output_type": "display_data"
    }
   ],
   "source": [
    "sns.countplot(x='x3', data=cat_df);"
   ]
  },
  {
   "cell_type": "code",
   "execution_count": 137,
   "id": "1a96570e",
   "metadata": {},
   "outputs": [
    {
     "data": {
      "text/plain": [
       "[Text(0, 0, 'Colorado'),\n",
       " Text(1, 0, 'Tennessee'),\n",
       " Text(2, 0, 'Texas'),\n",
       " Text(3, 0, 'Minnesota'),\n",
       " Text(4, 0, 'New York'),\n",
       " Text(5, 0, 'Florida'),\n",
       " Text(6, 0, 'Nebraska'),\n",
       " Text(7, 0, 'California'),\n",
       " Text(8, 0, 'North Dakota'),\n",
       " Text(9, 0, 'Arizona'),\n",
       " Text(10, 0, 'Alabama'),\n",
       " Text(11, 0, 'Ohio'),\n",
       " Text(12, 0, 'Pennsylvania'),\n",
       " Text(13, 0, 'Iowa'),\n",
       " Text(14, 0, 'Indiana'),\n",
       " Text(15, 0, 'Vermont'),\n",
       " Text(16, 0, 'Arkansas'),\n",
       " Text(17, 0, 'Massachusetts'),\n",
       " Text(18, 0, 'Illinois'),\n",
       " Text(19, 0, 'Georgia'),\n",
       " Text(20, 0, 'West Virginia'),\n",
       " Text(21, 0, 'Connecticut'),\n",
       " Text(22, 0, 'Virginia'),\n",
       " Text(23, 0, 'North Carolina'),\n",
       " Text(24, 0, 'Montana'),\n",
       " Text(25, 0, 'New Mexico'),\n",
       " Text(26, 0, 'New Hampshire'),\n",
       " Text(27, 0, 'Michigan'),\n",
       " Text(28, 0, 'DC'),\n",
       " Text(29, 0, 'Washington'),\n",
       " Text(30, 0, 'Louisiana'),\n",
       " Text(31, 0, 'Kentucky'),\n",
       " Text(32, 0, 'Utah'),\n",
       " Text(33, 0, 'Missouri'),\n",
       " Text(34, 0, 'Oregon'),\n",
       " Text(35, 0, 'Oklahoma'),\n",
       " Text(36, 0, 'Nevada'),\n",
       " Text(37, 0, 'Wisconsin'),\n",
       " Text(38, 0, 'New Jersey'),\n",
       " Text(39, 0, 'Maryland'),\n",
       " Text(40, 0, 'Maine'),\n",
       " Text(41, 0, 'Alaska'),\n",
       " Text(42, 0, 'Idaho'),\n",
       " Text(43, 0, 'Wyoming'),\n",
       " Text(44, 0, 'Rhode Island'),\n",
       " Text(45, 0, 'South Dakota'),\n",
       " Text(46, 0, 'Mississippi'),\n",
       " Text(47, 0, 'Kansas'),\n",
       " Text(48, 0, 'Delaware'),\n",
       " Text(49, 0, 'Hawaii'),\n",
       " Text(50, 0, 'South Carolina')]"
      ]
     },
     "execution_count": 137,
     "metadata": {},
     "output_type": "execute_result"
    },
    {
     "data": {
      "image/png": "[encoded data removed]",
      "text/plain": [
       "<Figure size 432x288 with 1 Axes>"
      ]
     },
     "metadata": {},
     "output_type": "display_data"
    }
   ],
   "source": [
    "chart = sns.countplot(x='x33', data=cat_df);\n",
    "chart.set_xticklabels(chart.get_xticklabels(), rotation=90)"
   ]
  },
  {
   "cell_type": "code",
   "execution_count": 126,
   "id": "66d219a9",
   "metadata": {},
   "outputs": [
    {
     "data": {
      "text/plain": [
       "[Text(0, 0, 'August'),\n",
       " Text(1, 0, 'April'),\n",
       " Text(2, 0, 'September'),\n",
       " Text(3, 0, 'January'),\n",
       " Text(4, 0, 'December'),\n",
       " Text(5, 0, 'March'),\n",
       " Text(6, 0, 'July'),\n",
       " Text(7, 0, 'November'),\n",
       " Text(8, 0, 'June'),\n",
       " Text(9, 0, 'February'),\n",
       " Text(10, 0, 'October'),\n",
       " Text(11, 0, 'May')]"
      ]
     },
     "execution_count": 126,
     "metadata": {},
     "output_type": "execute_result"
    },
    {
     "data": {
      "image/png": "[encoded data removed]",
      "text/plain": [
       "<Figure size 432x288 with 1 Axes>"
      ]
     },
     "metadata": {},
     "output_type": "display_data"
    }
   ],
   "source": [
    "chart = sns.countplot(x='x60', data=cat_df);\n",
    "chart.set_xticklabels(chart.get_xticklabels(), rotation=45)"
   ]
  },
  {
   "cell_type": "code",
   "execution_count": 127,
   "id": "9d74e211",
   "metadata": {},
   "outputs": [
    {
     "data": {
      "image/png": "[encoded data removed]",
      "text/plain": [
       "<Figure size 4320x360 with 12 Axes>"
      ]
     },
     "metadata": {},
     "output_type": "display_data"
    }
   ],
   "source": [
    "sns.factorplot(x='y', col='x60', kind='count', data=cat_df);"
   ]
  },
  {
   "cell_type": "code",
   "execution_count": 129,
   "id": "672497dd",
   "metadata": {},
   "outputs": [
    {
     "data": {
      "text/plain": [
       "[Text(0, 0, 'farmers'),\n",
       " Text(1, 0, 'allstate'),\n",
       " Text(2, 0, 'geico'),\n",
       " Text(3, 0, 'progressive'),\n",
       " Text(4, 0, 'esurance')]"
      ]
     },
     "execution_count": 129,
     "metadata": {},
     "output_type": "execute_result"
    },
    {
     "data": {
      "image/png": "[encoded data removed]",
      "text/plain": [
       "<Figure size 432x288 with 1 Axes>"
      ]
     },
     "metadata": {},
     "output_type": "display_data"
    }
   ],
   "source": [
    "chart = sns.countplot(x='x65', data=cat_df);\n",
    "chart.set_xticklabels(chart.get_xticklabels(), rotation=45)"
   ]
  },
  {
   "cell_type": "code",
   "execution_count": 128,
   "id": "475887f4",
   "metadata": {},
   "outputs": [
    {
     "data": {
      "image/png": "[encoded data removed]",
      "text/plain": [
       "<Figure size 1800x360 with 5 Axes>"
      ]
     },
     "metadata": {},
     "output_type": "display_data"
    }
   ],
   "source": [
    "sns.factorplot(x='y', col='x65', kind='count', data=cat_df);"
   ]
  },
  {
   "cell_type": "code",
   "execution_count": 130,
   "id": "2fd6922c",
   "metadata": {},
   "outputs": [
    {
     "data": {
      "text/plain": [
       "[Text(0, 0, 'mercedes'),\n",
       " Text(1, 0, 'subaru'),\n",
       " Text(2, 0, 'nissan'),\n",
       " Text(3, 0, 'toyota'),\n",
       " Text(4, 0, 'chevrolet'),\n",
       " Text(5, 0, 'buick'),\n",
       " Text(6, 0, 'ford')]"
      ]
     },
     "execution_count": 130,
     "metadata": {},
     "output_type": "execute_result"
    },
    {
     "data": {
      "image/png": "[encoded data removed]",
      "text/plain": [
       "<Figure size 432x288 with 1 Axes>"
      ]
     },
     "metadata": {},
     "output_type": "display_data"
    }
   ],
   "source": [
    "chart = sns.countplot(x='x77', data=cat_df);\n",
    "chart.set_xticklabels(chart.get_xticklabels(), rotation=45)"
   ]
  },
  {
   "cell_type": "code",
   "execution_count": 131,
   "id": "cd629944",
   "metadata": {},
   "outputs": [
    {
     "data": {
      "image/png": "[encoded data removed]",
      "text/plain": [
       "<Figure size 2520x360 with 7 Axes>"
      ]
     },
     "metadata": {},
     "output_type": "display_data"
    }
   ],
   "source": [
    "sns.factorplot(x='y', col='x77', kind='count', data=cat_df);"
   ]
  },
  {
   "cell_type": "code",
   "execution_count": 132,
   "id": "7bc17c2e",
   "metadata": {},
   "outputs": [
    {
     "data": {
      "text/plain": [
       "[Text(0, 0, 'no'), Text(1, 0, 'yes')]"
      ]
     },
     "execution_count": 132,
     "metadata": {},
     "output_type": "execute_result"
    },
    {
     "data": {
      "image/png": "[encoded data removed]",
      "text/plain": [
       "<Figure size 432x288 with 1 Axes>"
      ]
     },
     "metadata": {},
     "output_type": "display_data"
    }
   ],
   "source": [
    "chart = sns.countplot(x='x93', data=cat_df);\n",
    "chart.set_xticklabels(chart.get_xticklabels(), rotation=45)"
   ]
  },
  {
   "cell_type": "code",
   "execution_count": 133,
   "id": "dabd8696",
   "metadata": {},
   "outputs": [
    {
     "data": {
      "text/plain": [
       "[Text(0, 0, 'yes')]"
      ]
     },
     "execution_count": 133,
     "metadata": {},
     "output_type": "execute_result"
    },
    {
     "data": {
      "image/png": "[encoded data removed]",
      "text/plain": [
       "<Figure size 432x288 with 1 Axes>"
      ]
     },
     "metadata": {},
     "output_type": "display_data"
    }
   ],
   "source": [
    "chart = sns.countplot(x='x99', data=cat_df);\n",
    "chart.set_xticklabels(chart.get_xticklabels(), rotation=45)"
   ]
  },
  {
   "cell_type": "code",
   "execution_count": 123,
   "id": "380da0be",
   "metadata": {},
   "outputs": [
    {
     "data": {
      "text/plain": [
       "5-10 miles    40000\n",
       "Name: x39, dtype: int64"
      ]
     },
     "execution_count": 123,
     "metadata": {},
     "output_type": "execute_result"
    }
   ],
   "source": [
    "cat_df['x39'].value_counts()"
   ]
  },
  {
   "cell_type": "code",
   "execution_count": 124,
   "id": "93791f59",
   "metadata": {},
   "outputs": [
    {
     "data": {
      "text/plain": [
       "December     8136\n",
       "January      7922\n",
       "July         7912\n",
       "August       7907\n",
       "June         1272\n",
       "September    1245\n",
       "February     1213\n",
       "November     1043\n",
       "April         951\n",
       "March         807\n",
       "May           799\n",
       "October       793\n",
       "Name: x60, dtype: int64"
      ]
     },
     "execution_count": 124,
     "metadata": {},
     "output_type": "execute_result"
    }
   ],
   "source": [
    "cat_df['x60'].value_counts()"
   ]
  },
  {
   "cell_type": "code",
   "execution_count": 175,
   "id": "b189696a",
   "metadata": {},
   "outputs": [
    {
     "data": {
      "text/html": [
       "<div>\n",
       "<style scoped>\n",
       "    .dataframe tbody tr th:only-of-type {\n",
       "        vertical-align: middle;\n",
       "    }\n",
       "\n",
       "    .dataframe tbody tr th {\n",
       "        vertical-align: top;\n",
       "    }\n",
       "\n",
       "    .dataframe thead th {\n",
       "        text-align: right;\n",
       "    }\n",
       "</style>\n",
       "<table border=\"1\" class=\"dataframe\">\n",
       "  <thead>\n",
       "    <tr style=\"text-align: right;\">\n",
       "      <th></th>\n",
       "      <th>y</th>\n",
       "      <th>x1</th>\n",
       "      <th>x2</th>\n",
       "      <th>x4</th>\n",
       "      <th>x5</th>\n",
       "      <th>x6</th>\n",
       "      <th>x8</th>\n",
       "      <th>x9</th>\n",
       "      <th>x10</th>\n",
       "      <th>x11</th>\n",
       "      <th>...</th>\n",
       "      <th>x77_chevrolet</th>\n",
       "      <th>x77_ford</th>\n",
       "      <th>x77_mercedes</th>\n",
       "      <th>x77_nissan</th>\n",
       "      <th>x77_subaru</th>\n",
       "      <th>x77_toyota</th>\n",
       "      <th>x77_nan</th>\n",
       "      <th>x93_yes</th>\n",
       "      <th>x93_nan</th>\n",
       "      <th>x99_nan</th>\n",
       "    </tr>\n",
       "  </thead>\n",
       "  <tbody>\n",
       "    <tr>\n",
       "      <th>0</th>\n",
       "      <td>0</td>\n",
       "      <td>0.165254</td>\n",
       "      <td>18.060003</td>\n",
       "      <td>1.077380</td>\n",
       "      <td>-1.339233</td>\n",
       "      <td>-1.584341</td>\n",
       "      <td>0.220784</td>\n",
       "      <td>1.816481</td>\n",
       "      <td>1.171788</td>\n",
       "      <td>109.626841</td>\n",
       "      <td>...</td>\n",
       "      <td>0</td>\n",
       "      <td>0</td>\n",
       "      <td>1</td>\n",
       "      <td>0</td>\n",
       "      <td>0</td>\n",
       "      <td>0</td>\n",
       "      <td>0</td>\n",
       "      <td>0</td>\n",
       "      <td>0</td>\n",
       "      <td>0</td>\n",
       "    </tr>\n",
       "    <tr>\n",
       "      <th>1</th>\n",
       "      <td>1</td>\n",
       "      <td>2.441471</td>\n",
       "      <td>18.416307</td>\n",
       "      <td>1.482586</td>\n",
       "      <td>0.920817</td>\n",
       "      <td>-0.759931</td>\n",
       "      <td>1.192441</td>\n",
       "      <td>3.513950</td>\n",
       "      <td>1.419900</td>\n",
       "      <td>84.079367</td>\n",
       "      <td>...</td>\n",
       "      <td>0</td>\n",
       "      <td>0</td>\n",
       "      <td>1</td>\n",
       "      <td>0</td>\n",
       "      <td>0</td>\n",
       "      <td>0</td>\n",
       "      <td>0</td>\n",
       "      <td>0</td>\n",
       "      <td>0</td>\n",
       "      <td>0</td>\n",
       "    </tr>\n",
       "    <tr>\n",
       "      <th>2</th>\n",
       "      <td>1</td>\n",
       "      <td>4.427278</td>\n",
       "      <td>19.188092</td>\n",
       "      <td>0.145652</td>\n",
       "      <td>0.366093</td>\n",
       "      <td>0.709962</td>\n",
       "      <td>0.952323</td>\n",
       "      <td>0.782974</td>\n",
       "      <td>-1.247022</td>\n",
       "      <td>95.375221</td>\n",
       "      <td>...</td>\n",
       "      <td>0</td>\n",
       "      <td>0</td>\n",
       "      <td>0</td>\n",
       "      <td>0</td>\n",
       "      <td>1</td>\n",
       "      <td>0</td>\n",
       "      <td>0</td>\n",
       "      <td>0</td>\n",
       "      <td>0</td>\n",
       "      <td>0</td>\n",
       "    </tr>\n",
       "    <tr>\n",
       "      <th>3</th>\n",
       "      <td>0</td>\n",
       "      <td>3.925235</td>\n",
       "      <td>19.901257</td>\n",
       "      <td>1.763602</td>\n",
       "      <td>-0.251926</td>\n",
       "      <td>-0.827461</td>\n",
       "      <td>-0.520756</td>\n",
       "      <td>1.825586</td>\n",
       "      <td>2.223038</td>\n",
       "      <td>96.420382</td>\n",
       "      <td>...</td>\n",
       "      <td>0</td>\n",
       "      <td>0</td>\n",
       "      <td>0</td>\n",
       "      <td>1</td>\n",
       "      <td>0</td>\n",
       "      <td>0</td>\n",
       "      <td>0</td>\n",
       "      <td>0</td>\n",
       "      <td>0</td>\n",
       "      <td>0</td>\n",
       "    </tr>\n",
       "    <tr>\n",
       "      <th>4</th>\n",
       "      <td>0</td>\n",
       "      <td>2.868802</td>\n",
       "      <td>22.202473</td>\n",
       "      <td>3.405119</td>\n",
       "      <td>0.083162</td>\n",
       "      <td>1.381504</td>\n",
       "      <td>-0.732739</td>\n",
       "      <td>2.151990</td>\n",
       "      <td>-0.275406</td>\n",
       "      <td>90.769952</td>\n",
       "      <td>...</td>\n",
       "      <td>0</td>\n",
       "      <td>0</td>\n",
       "      <td>0</td>\n",
       "      <td>0</td>\n",
       "      <td>0</td>\n",
       "      <td>1</td>\n",
       "      <td>0</td>\n",
       "      <td>1</td>\n",
       "      <td>0</td>\n",
       "      <td>0</td>\n",
       "    </tr>\n",
       "    <tr>\n",
       "      <th>...</th>\n",
       "      <td>...</td>\n",
       "      <td>...</td>\n",
       "      <td>...</td>\n",
       "      <td>...</td>\n",
       "      <td>...</td>\n",
       "      <td>...</td>\n",
       "      <td>...</td>\n",
       "      <td>...</td>\n",
       "      <td>...</td>\n",
       "      <td>...</td>\n",
       "      <td>...</td>\n",
       "      <td>...</td>\n",
       "      <td>...</td>\n",
       "      <td>...</td>\n",
       "      <td>...</td>\n",
       "      <td>...</td>\n",
       "      <td>...</td>\n",
       "      <td>...</td>\n",
       "      <td>...</td>\n",
       "      <td>...</td>\n",
       "      <td>...</td>\n",
       "    </tr>\n",
       "    <tr>\n",
       "      <th>39995</th>\n",
       "      <td>0</td>\n",
       "      <td>1.593480</td>\n",
       "      <td>19.628352</td>\n",
       "      <td>0.794697</td>\n",
       "      <td>-0.825849</td>\n",
       "      <td>0.608774</td>\n",
       "      <td>2.183834</td>\n",
       "      <td>3.202119</td>\n",
       "      <td>-0.723356</td>\n",
       "      <td>94.820410</td>\n",
       "      <td>...</td>\n",
       "      <td>0</td>\n",
       "      <td>0</td>\n",
       "      <td>0</td>\n",
       "      <td>0</td>\n",
       "      <td>0</td>\n",
       "      <td>0</td>\n",
       "      <td>1</td>\n",
       "      <td>0</td>\n",
       "      <td>0</td>\n",
       "      <td>0</td>\n",
       "    </tr>\n",
       "    <tr>\n",
       "      <th>39996</th>\n",
       "      <td>0</td>\n",
       "      <td>1.708685</td>\n",
       "      <td>17.132638</td>\n",
       "      <td>-2.676659</td>\n",
       "      <td>1.153851</td>\n",
       "      <td>0.465905</td>\n",
       "      <td>-0.048613</td>\n",
       "      <td>3.989567</td>\n",
       "      <td>1.468074</td>\n",
       "      <td>115.785563</td>\n",
       "      <td>...</td>\n",
       "      <td>0</td>\n",
       "      <td>1</td>\n",
       "      <td>0</td>\n",
       "      <td>0</td>\n",
       "      <td>0</td>\n",
       "      <td>0</td>\n",
       "      <td>0</td>\n",
       "      <td>0</td>\n",
       "      <td>0</td>\n",
       "      <td>0</td>\n",
       "    </tr>\n",
       "    <tr>\n",
       "      <th>39997</th>\n",
       "      <td>0</td>\n",
       "      <td>1.704132</td>\n",
       "      <td>17.824399</td>\n",
       "      <td>-0.581360</td>\n",
       "      <td>NaN</td>\n",
       "      <td>0.467339</td>\n",
       "      <td>0.904643</td>\n",
       "      <td>2.975563</td>\n",
       "      <td>0.228908</td>\n",
       "      <td>107.939412</td>\n",
       "      <td>...</td>\n",
       "      <td>0</td>\n",
       "      <td>1</td>\n",
       "      <td>0</td>\n",
       "      <td>0</td>\n",
       "      <td>0</td>\n",
       "      <td>0</td>\n",
       "      <td>0</td>\n",
       "      <td>0</td>\n",
       "      <td>0</td>\n",
       "      <td>0</td>\n",
       "    </tr>\n",
       "    <tr>\n",
       "      <th>39998</th>\n",
       "      <td>0</td>\n",
       "      <td>3.963408</td>\n",
       "      <td>20.285597</td>\n",
       "      <td>0.430116</td>\n",
       "      <td>0.050189</td>\n",
       "      <td>1.821565</td>\n",
       "      <td>-0.401259</td>\n",
       "      <td>-0.247649</td>\n",
       "      <td>-0.499294</td>\n",
       "      <td>93.314126</td>\n",
       "      <td>...</td>\n",
       "      <td>0</td>\n",
       "      <td>0</td>\n",
       "      <td>0</td>\n",
       "      <td>0</td>\n",
       "      <td>0</td>\n",
       "      <td>0</td>\n",
       "      <td>1</td>\n",
       "      <td>0</td>\n",
       "      <td>0</td>\n",
       "      <td>0</td>\n",
       "    </tr>\n",
       "    <tr>\n",
       "      <th>39999</th>\n",
       "      <td>0</td>\n",
       "      <td>2.574164</td>\n",
       "      <td>16.442850</td>\n",
       "      <td>-1.166067</td>\n",
       "      <td>-1.198482</td>\n",
       "      <td>0.180549</td>\n",
       "      <td>-0.273818</td>\n",
       "      <td>10.333122</td>\n",
       "      <td>1.648048</td>\n",
       "      <td>107.167219</td>\n",
       "      <td>...</td>\n",
       "      <td>0</td>\n",
       "      <td>0</td>\n",
       "      <td>0</td>\n",
       "      <td>0</td>\n",
       "      <td>0</td>\n",
       "      <td>1</td>\n",
       "      <td>0</td>\n",
       "      <td>0</td>\n",
       "      <td>0</td>\n",
       "      <td>1</td>\n",
       "    </tr>\n",
       "  </tbody>\n",
       "</table>\n",
       "<p>40000 rows × 40788 columns</p>\n",
       "</div>"
      ],
      "text/plain": [
       "       y        x1         x2        x4        x5        x6        x8  \\\n",
       "0      0  0.165254  18.060003  1.077380 -1.339233 -1.584341  0.220784   \n",
       "1      1  2.441471  18.416307  1.482586  0.920817 -0.759931  1.192441   \n",
       "2      1  4.427278  19.188092  0.145652  0.366093  0.709962  0.952323   \n",
       "3      0  3.925235  19.901257  1.763602 -0.251926 -0.827461 -0.520756   \n",
       "4      0  2.868802  22.202473  3.405119  0.083162  1.381504 -0.732739   \n",
       "...   ..       ...        ...       ...       ...       ...       ...   \n",
       "39995  0  1.593480  19.628352  0.794697 -0.825849  0.608774  2.183834   \n",
       "39996  0  1.708685  17.132638 -2.676659  1.153851  0.465905 -0.048613   \n",
       "39997  0  1.704132  17.824399 -0.581360       NaN  0.467339  0.904643   \n",
       "39998  0  3.963408  20.285597  0.430116  0.050189  1.821565 -0.401259   \n",
       "39999  0  2.574164  16.442850 -1.166067 -1.198482  0.180549 -0.273818   \n",
       "\n",
       "              x9       x10         x11  ...  x77_chevrolet  x77_ford  \\\n",
       "0       1.816481  1.171788  109.626841  ...              0         0   \n",
       "1       3.513950  1.419900   84.079367  ...              0         0   \n",
       "2       0.782974 -1.247022   95.375221  ...              0         0   \n",
       "3       1.825586  2.223038   96.420382  ...              0         0   \n",
       "4       2.151990 -0.275406   90.769952  ...              0         0   \n",
       "...          ...       ...         ...  ...            ...       ...   \n",
       "39995   3.202119 -0.723356   94.820410  ...              0         0   \n",
       "39996   3.989567  1.468074  115.785563  ...              0         1   \n",
       "39997   2.975563  0.228908  107.939412  ...              0         1   \n",
       "39998  -0.247649 -0.499294   93.314126  ...              0         0   \n",
       "39999  10.333122  1.648048  107.167219  ...              0         0   \n",
       "\n",
       "       x77_mercedes  x77_nissan  x77_subaru  x77_toyota  x77_nan  x93_yes  \\\n",
       "0                 1           0           0           0        0        0   \n",
       "1                 1           0           0           0        0        0   \n",
       "2                 0           0           1           0        0        0   \n",
       "3                 0           1           0           0        0        0   \n",
       "4                 0           0           0           1        0        1   \n",
       "...             ...         ...         ...         ...      ...      ...   \n",
       "39995             0           0           0           0        1        0   \n",
       "39996             0           0           0           0        0        0   \n",
       "39997             0           0           0           0        0        0   \n",
       "39998             0           0           0           0        1        0   \n",
       "39999             0           0           0           1        0        0   \n",
       "\n",
       "       x93_nan  x99_nan  \n",
       "0            0        0  \n",
       "1            0        0  \n",
       "2            0        0  \n",
       "3            0        0  \n",
       "4            0        0  \n",
       "...        ...      ...  \n",
       "39995        0        0  \n",
       "39996        0        0  \n",
       "39997        0        0  \n",
       "39998        0        0  \n",
       "39999        0        1  \n",
       "\n",
       "[40000 rows x 40788 columns]"
      ]
     },
     "execution_count": 175,
     "metadata": {},
     "output_type": "execute_result"
    }
   ],
   "source": [
    "clean_df = create_dummy_df(df, cat_cols, dummy_na=True)\n",
    "clean_df"
   ]
  },
  {
   "cell_type": "code",
   "execution_count": null,
   "id": "f7bc40ce",
   "metadata": {},
   "outputs": [],
   "source": []
  }
 ],
 "metadata": {
  "kernelspec": {
   "display_name": "Python 3",
   "language": "python",
   "name": "python3"
  },
  "language_info": {
   "codemirror_mode": {
    "name": "ipython",
    "version": 3
   },
   "file_extension": ".py",
   "mimetype": "text/x-python",
   "name": "python",
   "nbconvert_exporter": "python",
   "pygments_lexer": "ipython3",
   "version": "3.7.9"
  }
 },
 "nbformat": 4,
 "nbformat_minor": 5
}

{
 "cells": [
  {
   "cell_type": "code",
   "execution_count": null,
   "id": "79f1f9b7",
   "metadata": {},
   "outputs": [],
   "source": [
    "import numpy as np\n",
    "from scipy.stats import randint\n",
    "from catboost import CatBoostClassifier\n",
    "from sklearn.model_selection import RandomizedSearchCV\n",
    "\n",
    "# load data\n",
    "cancer = datasets.load_breast_cancer()\n",
    "\n",
    "# target\n",
    "y = cancer.target\n",
    "\n",
    "# features\n",
    "X = cancer.data\n",
    "\n",
    "#Instantiate CatBoostClassifier\n",
    "cbc = CatBoostClassifier()\n",
    "\n",
    "# Creating the hyperparameter grid\n",
    "param_dist = { \"learning_rate\": np.linspace(0,0.2,5)\n",
    "               \"max_depth\": randint(3, 10)}\n",
    "               \n",
    "#Instantiate RandomSearchCV object\n",
    "rscv = RandomizedSearchCV(cbc , param_dist, scoring='accuracy', cv =5)\n",
    "\n",
    "#Fit the model\n",
    "rscv.fit(X,y)\n",
    "\n",
    "# Print the tuned parameters and score\n",
    "print(rscv.best_params_)\n",
    "print(rscv.best_score_)"
   ]
  }
 ],
 "metadata": {
  "kernelspec": {
   "display_name": "Python 3",
   "language": "python",
   "name": "python3"
  },
  "language_info": {
   "codemirror_mode": {
    "name": "ipython",
    "version": 3
   },
   "file_extension": ".py",
   "mimetype": "text/x-python",
   "name": "python",
   "nbconvert_exporter": "python",
   "pygments_lexer": "ipython3",
   "version": "3.7.9"
  }
 },
 "nbformat": 4,
 "nbformat_minor": 5
}
